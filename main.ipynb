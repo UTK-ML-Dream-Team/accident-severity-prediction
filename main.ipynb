{
  "nbformat": 4,
  "nbformat_minor": 0,
  "metadata": {
    "colab": {
      "name": "main.ipynb",
      "provenance": [],
      "collapsed_sections": [
        "aKazCmez_R4v"
      ]
    },
    "kernelspec": {
      "display_name": "Python 3",
      "language": "python",
      "name": "python3"
    },
    "language_info": {
      "codemirror_mode": {
        "name": "ipython",
        "version": 3
      },
      "file_extension": ".py",
      "mimetype": "text/x-python",
      "name": "python",
      "nbconvert_exporter": "python",
      "pygments_lexer": "ipython3",
      "version": "3.8.5"
    },
    "widgets": {
      "application/vnd.jupyter.widget-state+json": {
        "4e9d2f9a46b243b0a1456d42e11f4fd3": {
          "model_module": "@jupyter-widgets/controls",
          "model_name": "ButtonModel",
          "model_module_version": "1.5.0",
          "state": {
            "_view_name": "ButtonView",
            "style": "IPY_MODEL_d2969618a7404586a8f0af2918d0810f",
            "_dom_classes": [],
            "description": "Yes, clone",
            "_model_name": "ButtonModel",
            "button_style": "",
            "_view_module": "@jupyter-widgets/controls",
            "_model_module_version": "1.5.0",
            "tooltip": "",
            "_view_count": null,
            "disabled": false,
            "_view_module_version": "1.5.0",
            "layout": "IPY_MODEL_0cd02d53c0e144799b710e29332c2f7b",
            "_model_module": "@jupyter-widgets/controls",
            "icon": ""
          }
        },
        "d2969618a7404586a8f0af2918d0810f": {
          "model_module": "@jupyter-widgets/controls",
          "model_name": "ButtonStyleModel",
          "model_module_version": "1.5.0",
          "state": {
            "_view_name": "StyleView",
            "_model_name": "ButtonStyleModel",
            "_view_module": "@jupyter-widgets/base",
            "_model_module_version": "1.5.0",
            "_view_count": null,
            "button_color": null,
            "font_weight": "",
            "_view_module_version": "1.2.0",
            "_model_module": "@jupyter-widgets/controls"
          }
        },
        "0cd02d53c0e144799b710e29332c2f7b": {
          "model_module": "@jupyter-widgets/base",
          "model_name": "LayoutModel",
          "model_module_version": "1.2.0",
          "state": {
            "_view_name": "LayoutView",
            "grid_template_rows": null,
            "right": null,
            "justify_content": null,
            "_view_module": "@jupyter-widgets/base",
            "overflow": null,
            "_model_module_version": "1.2.0",
            "_view_count": null,
            "flex_flow": null,
            "width": null,
            "min_width": null,
            "border": null,
            "align_items": null,
            "bottom": null,
            "_model_module": "@jupyter-widgets/base",
            "top": null,
            "grid_column": null,
            "overflow_y": null,
            "overflow_x": null,
            "grid_auto_flow": null,
            "grid_area": null,
            "grid_template_columns": null,
            "flex": null,
            "_model_name": "LayoutModel",
            "justify_items": null,
            "grid_row": null,
            "max_height": null,
            "align_content": null,
            "visibility": null,
            "align_self": null,
            "height": null,
            "min_height": null,
            "padding": null,
            "grid_auto_rows": null,
            "grid_gap": null,
            "max_width": null,
            "order": null,
            "_view_module_version": "1.2.0",
            "grid_template_areas": null,
            "object_position": null,
            "object_fit": null,
            "grid_auto_columns": null,
            "margin": null,
            "display": null,
            "left": null
          }
        },
        "03c291d92a85442d99189ca331ece5e4": {
          "model_module": "@jupyter-widgets/controls",
          "model_name": "ButtonModel",
          "model_module_version": "1.5.0",
          "state": {
            "_view_name": "ButtonView",
            "style": "IPY_MODEL_6754b860dcea4b15b762add1c97278ce",
            "_dom_classes": [],
            "description": "Yes",
            "_model_name": "ButtonModel",
            "button_style": "",
            "_view_module": "@jupyter-widgets/controls",
            "_model_module_version": "1.5.0",
            "tooltip": "",
            "_view_count": null,
            "disabled": false,
            "_view_module_version": "1.5.0",
            "layout": "IPY_MODEL_d4a84f30f7464677a2da3a4498a13aa2",
            "_model_module": "@jupyter-widgets/controls",
            "icon": ""
          }
        },
        "6754b860dcea4b15b762add1c97278ce": {
          "model_module": "@jupyter-widgets/controls",
          "model_name": "ButtonStyleModel",
          "model_module_version": "1.5.0",
          "state": {
            "_view_name": "StyleView",
            "_model_name": "ButtonStyleModel",
            "_view_module": "@jupyter-widgets/base",
            "_model_module_version": "1.5.0",
            "_view_count": null,
            "button_color": null,
            "font_weight": "",
            "_view_module_version": "1.2.0",
            "_model_module": "@jupyter-widgets/controls"
          }
        },
        "d4a84f30f7464677a2da3a4498a13aa2": {
          "model_module": "@jupyter-widgets/base",
          "model_name": "LayoutModel",
          "model_module_version": "1.2.0",
          "state": {
            "_view_name": "LayoutView",
            "grid_template_rows": null,
            "right": null,
            "justify_content": null,
            "_view_module": "@jupyter-widgets/base",
            "overflow": null,
            "_model_module_version": "1.2.0",
            "_view_count": null,
            "flex_flow": null,
            "width": null,
            "min_width": null,
            "border": null,
            "align_items": null,
            "bottom": null,
            "_model_module": "@jupyter-widgets/base",
            "top": null,
            "grid_column": null,
            "overflow_y": null,
            "overflow_x": null,
            "grid_auto_flow": null,
            "grid_area": null,
            "grid_template_columns": null,
            "flex": null,
            "_model_name": "LayoutModel",
            "justify_items": null,
            "grid_row": null,
            "max_height": null,
            "align_content": null,
            "visibility": null,
            "align_self": null,
            "height": null,
            "min_height": null,
            "padding": null,
            "grid_auto_rows": null,
            "grid_gap": null,
            "max_width": null,
            "order": null,
            "_view_module_version": "1.2.0",
            "grid_template_areas": null,
            "object_position": null,
            "object_fit": null,
            "grid_auto_columns": null,
            "margin": null,
            "display": null,
            "left": null
          }
        }
      }
    }
  },
  "cells": [
    {
      "cell_type": "markdown",
      "metadata": {
        "collapsed": true,
        "id": "Vt9t7-fVi8At"
      },
      "source": [
        "# Machine Learning - Final Project\n",
        "## Accident Severity Prediction\n",
        "**Team**: *Jennifer Lord, Konstantinos Georgiou, Russ Limber, Sanjeev Singh, Sara Howard*"
      ]
    },
    {
      "cell_type": "markdown",
      "metadata": {
        "id": "eiRSeV6fi8A0"
      },
      "source": [
        "## Where to put the code\n",
        "- Place the preprocessing functions/classes in [\\<project root\\>/project_libs/project/preprocessing.py](https://github.com/UTK-ML-Dream-Team/accident-severity-prediction/blob/master/project_libs/project/preprocessing.py)\n",
        "- The models in [\\<project root\\>/project_libs/project/models.py](https://github.com/UTK-ML-Dream-Team/accident-severity-prediction/blob/master/project_libs/project/models.py)\n",
        "- Any plotting related functions in [\\<project root\\>/project_libs/project/plotter.py](https://github.com/UTK-ML-Dream-Team/accident-severity-prediction/blob/master/project_libs/project/plotter.py)\n",
        "\n",
        "\n",
        "**The code is reloaded automatically. Any class object needs to reinitialized though.** \n",
        "\n",
        "## Config file\n",
        "The yml/config file is located at: [confs/prototype1.yml](https://github.com/UTK-ML-Dream-Team/accident-severity-prediction/blob/master/confs/prototype1.yml)<br>\n",
        "To load it run:\n",
        "```python\n",
        "config_path='confs/prototype1.yml'\n",
        "conf = Configuration(config_src=config_path)\n",
        "# Get the dataset loader config\n",
        "loader_config = conf.get_config('data_loader')['config']['dataset'] # type = Dict\n",
        "print(books.keys())\n",
        "print(loader_config['url'])\n",
        "```\n",
        "To reload the config just run the 2nd and 3rd command.\n",
        "\n",
        "## Libraries Overview:\n",
        "All the libraries are located under *\"\\<project root>/project_libs\"*\n",
        "- project_libs/**project**: This project's code (imported later)\n",
        "- project_libs/**configuration**: Class that creates config objects from yml files\n",
        "- project_libs/**fancy_logger**: Logger that can be used instead of prints for text formatting (color, bold, underline etc)\n",
        "\n",
        "## For more info check out:\n",
        "- the **[Project Board](https://github.com/UTK-ML-Dream-Team/accident-severity-prediction/projects/1)**\n",
        "- and the **[Current Issues](https://github.com/UTK-ML-Dream-Team/accident-severity-prediction/issues)**"
      ]
    },
    {
      "cell_type": "markdown",
      "metadata": {
        "id": "1gmuUzi6gSdg"
      },
      "source": [
        "# ------------------------------------------------------------------"
      ]
    },
    {
      "cell_type": "markdown",
      "metadata": {
        "id": "1Nl39AXjgSdg"
      },
      "source": [
        "## On Google Collab?\n",
        "- **If yes, run the two cells and press the two buttons below:**\n",
        "- Otherwise go to \"***Import the base Libraries***\""
      ]
    },
    {
      "cell_type": "code",
      "metadata": {
        "colab": {
          "base_uri": "https://localhost:8080/",
          "height": 268,
          "referenced_widgets": [
            "4e9d2f9a46b243b0a1456d42e11f4fd3",
            "d2969618a7404586a8f0af2918d0810f",
            "0cd02d53c0e144799b710e29332c2f7b"
          ]
        },
        "id": "1SQIWYWmi8A4",
        "outputId": "66fdab2d-8d71-4ead-ecda-a4ec2682d195"
      },
      "source": [
        "# Import Jupyter Widgets\n",
        "import os\n",
        "import ipywidgets as widgets\n",
        "from ipywidgets import interact, interact_manual\n",
        "from IPython.display import display\n",
        "# Clone the repository if you're in Google Collab\n",
        "def clone_project(is_collab: bool = False):\n",
        "    print(\"Cloning Project..\")\n",
        "    !git clone https://github.com/UTK-ML-Dream-Team/accident-severity-prediction.git\n",
        "    print(\"Project cloned.\")\n",
        "       \n",
        "print(\"Clone project?\")\n",
        "print(\"(If you do this you will ovewrite local changes on other files e.g. configs)\")\n",
        "print(\"Not needed if you're not on Google Collab\")\n",
        "btn = widgets.Button(description=\"Yes, clone\")\n",
        "btn.on_click(clone_project)\n",
        "display(btn)"
      ],
      "execution_count": 24,
      "outputs": [
        {
          "output_type": "stream",
          "name": "stdout",
          "text": [
            "Clone project?\n",
            "(If you do this you will ovewrite local changes on other files e.g. configs)\n",
            "Not needed if you're not on Google Collab\n"
          ]
        },
        {
          "output_type": "display_data",
          "data": {
            "application/vnd.jupyter.widget-view+json": {
              "model_id": "4e9d2f9a46b243b0a1456d42e11f4fd3",
              "version_minor": 0,
              "version_major": 2
            },
            "text/plain": [
              "Button(description='Yes, clone', style=ButtonStyle())"
            ]
          },
          "metadata": {}
        },
        {
          "output_type": "stream",
          "name": "stdout",
          "text": [
            "Cloning Project..\n",
            "Cloning into 'accident-severity-prediction'...\n",
            "remote: Enumerating objects: 186, done.\u001b[K\n",
            "remote: Counting objects: 100% (186/186), done.\u001b[K\n",
            "remote: Compressing objects: 100% (136/136), done.\u001b[K\n",
            "remote: Total 186 (delta 103), reused 118 (delta 46), pack-reused 0\u001b[K\n",
            "Receiving objects: 100% (186/186), 294.05 KiB | 3.77 MiB/s, done.\n",
            "Resolving deltas: 100% (103/103), done.\n",
            "Project cloned.\n"
          ]
        }
      ]
    },
    {
      "cell_type": "code",
      "metadata": {
        "id": "F_l8p4H1i8A5",
        "colab": {
          "base_uri": "https://localhost:8080/",
          "height": 1000,
          "referenced_widgets": [
            "03c291d92a85442d99189ca331ece5e4",
            "6754b860dcea4b15b762add1c97278ce",
            "d4a84f30f7464677a2da3a4498a13aa2"
          ]
        },
        "outputId": "25569239-f58d-4ac5-e940-071a75e342bf"
      },
      "source": [
        "# Clone the repository if you're in Google Collab\n",
        "def change_dir(is_collab: bool = False):\n",
        "    try:\n",
        "        print(\"Changing dir..\")\n",
        "        os.chdir('/content/accident-severity-prediction')\n",
        "        print('done')\n",
        "        print(\"Current dir:\")\n",
        "        print(os.getcwd())\n",
        "        print(\"Dir Contents:\")\n",
        "        print(os.listdir())\n",
        "        print(\"\\nInstalling Requirements\")\n",
        "        !pip install -r requirements.txt\n",
        "    except Exception:\n",
        "        print(\"Error: Project not cloned\")\n",
        "       \n",
        "print(\"Are you on Google Collab?\")\n",
        "btn = widgets.Button(description=\"Yes\")\n",
        "btn.on_click(change_dir)\n",
        "display(btn)"
      ],
      "execution_count": 25,
      "outputs": [
        {
          "output_type": "stream",
          "name": "stdout",
          "text": [
            "Are you on Google Collab?\n"
          ]
        },
        {
          "output_type": "display_data",
          "data": {
            "application/vnd.jupyter.widget-view+json": {
              "model_id": "03c291d92a85442d99189ca331ece5e4",
              "version_minor": 0,
              "version_major": 2
            },
            "text/plain": [
              "Button(description='Yes', style=ButtonStyle())"
            ]
          },
          "metadata": {}
        },
        {
          "output_type": "stream",
          "name": "stdout",
          "text": [
            "Changing dir..\n",
            "done\n",
            "Current dir:\n",
            "/content/accident-severity-prediction\n",
            "Dir Contents:\n",
            "['setup.py', 'README.md', 'project_libs', 'main.ipynb', '.gitattributes', 'confs', 'Makefile', 'old_files', '.git', '.gitignore', 'accident-severity-prediction', 'data', 'requirements.txt']\n",
            "\n",
            "Installing Requirements\n",
            "Requirement already satisfied: jsonschema>=3.2.0 in /usr/local/lib/python3.7/dist-packages (from -r requirements.txt (line 1)) (4.2.1)\n",
            "Requirement already satisfied: jupyter>=1.0.0 in /usr/local/lib/python3.7/dist-packages (from -r requirements.txt (line 2)) (1.0.0)\n",
            "Requirement already satisfied: jupyterthemes>=0.20.0 in /usr/local/lib/python3.7/dist-packages (from -r requirements.txt (line 3)) (0.20.0)\n",
            "Requirement already satisfied: kaggle>=1.5.12 in /usr/local/lib/python3.7/dist-packages (from -r requirements.txt (line 4)) (1.5.12)\n",
            "Requirement already satisfied: matplotlib>=3.4.3 in /usr/local/lib/python3.7/dist-packages (from -r requirements.txt (line 5)) (3.5.0)\n",
            "Requirement already satisfied: nbstripout>=0.3.10 in /usr/local/lib/python3.7/dist-packages (from -r requirements.txt (line 6)) (0.5.0)\n",
            "Requirement already satisfied: numpy>=1.20.3 in /usr/local/lib/python3.7/dist-packages (from -r requirements.txt (line 7)) (1.21.4)\n",
            "Requirement already satisfied: pyparsing<3,>=2.0.2 in /usr/local/lib/python3.7/dist-packages (from -r requirements.txt (line 8)) (2.4.7)\n",
            "Requirement already satisfied: pandas>=1.3.3 in /usr/local/lib/python3.7/dist-packages (from -r requirements.txt (line 9)) (1.3.4)\n",
            "Requirement already satisfied: PyYAML>=5.4.1 in /usr/local/lib/python3.7/dist-packages (from -r requirements.txt (line 10)) (6.0)\n",
            "Requirement already satisfied: seaborn>=0.11.2 in /usr/local/lib/python3.7/dist-packages (from -r requirements.txt (line 11)) (0.11.2)\n",
            "Requirement already satisfied: setuptools>=52.0.0 in /usr/local/lib/python3.7/dist-packages (from -r requirements.txt (line 12)) (57.4.0)\n",
            "Requirement already satisfied: scikit-learn>=0.0 in /usr/local/lib/python3.7/dist-packages (from -r requirements.txt (line 13)) (1.0.1)\n",
            "Requirement already satisfied: scipy>=1.7.1 in /usr/local/lib/python3.7/dist-packages (from -r requirements.txt (line 14)) (1.7.2)\n",
            "Requirement already satisfied: statsmodels in /usr/local/lib/python3.7/dist-packages (from -r requirements.txt (line 15)) (0.10.2)\n",
            "Requirement already satisfied: termcolor>=1.1.0 in /usr/local/lib/python3.7/dist-packages (from -r requirements.txt (line 16)) (1.1.0)\n",
            "Requirement already satisfied: typer>=0.3.2 in /usr/local/lib/python3.7/dist-packages (from -r requirements.txt (line 17)) (0.4.0)\n",
            "Requirement already satisfied: tqdm>=4.62.3 in /usr/local/lib/python3.7/dist-packages (from -r requirements.txt (line 18)) (4.62.3)\n",
            "Requirement already satisfied: attrs>=17.4.0 in /usr/local/lib/python3.7/dist-packages (from jsonschema>=3.2.0->-r requirements.txt (line 1)) (21.2.0)\n",
            "Requirement already satisfied: importlib-metadata in /usr/local/lib/python3.7/dist-packages (from jsonschema>=3.2.0->-r requirements.txt (line 1)) (4.8.2)\n",
            "Requirement already satisfied: pyrsistent!=0.17.0,!=0.17.1,!=0.17.2,>=0.14.0 in /usr/local/lib/python3.7/dist-packages (from jsonschema>=3.2.0->-r requirements.txt (line 1)) (0.18.0)\n",
            "Requirement already satisfied: importlib-resources>=1.4.0 in /usr/local/lib/python3.7/dist-packages (from jsonschema>=3.2.0->-r requirements.txt (line 1)) (5.4.0)\n",
            "Requirement already satisfied: nbconvert in /usr/local/lib/python3.7/dist-packages (from jupyter>=1.0.0->-r requirements.txt (line 2)) (5.6.1)\n",
            "Requirement already satisfied: ipywidgets in /usr/local/lib/python3.7/dist-packages (from jupyter>=1.0.0->-r requirements.txt (line 2)) (7.6.5)\n",
            "Requirement already satisfied: qtconsole in /usr/local/lib/python3.7/dist-packages (from jupyter>=1.0.0->-r requirements.txt (line 2)) (5.2.0)\n",
            "Requirement already satisfied: jupyter-console in /usr/local/lib/python3.7/dist-packages (from jupyter>=1.0.0->-r requirements.txt (line 2)) (5.2.0)\n",
            "Requirement already satisfied: ipykernel in /usr/local/lib/python3.7/dist-packages (from jupyter>=1.0.0->-r requirements.txt (line 2)) (4.10.1)\n",
            "Requirement already satisfied: notebook in /usr/local/lib/python3.7/dist-packages (from jupyter>=1.0.0->-r requirements.txt (line 2)) (6.4.6)\n",
            "Requirement already satisfied: lesscpy>=0.11.2 in /usr/local/lib/python3.7/dist-packages (from jupyterthemes>=0.20.0->-r requirements.txt (line 3)) (0.15.0)\n",
            "Requirement already satisfied: jupyter-core in /usr/local/lib/python3.7/dist-packages (from jupyterthemes>=0.20.0->-r requirements.txt (line 3)) (4.9.1)\n",
            "Requirement already satisfied: ipython>=5.4.1 in /usr/local/lib/python3.7/dist-packages (from jupyterthemes>=0.20.0->-r requirements.txt (line 3)) (5.5.0)\n",
            "Requirement already satisfied: urllib3 in /usr/local/lib/python3.7/dist-packages (from kaggle>=1.5.12->-r requirements.txt (line 4)) (1.24.3)\n",
            "Requirement already satisfied: python-dateutil in /usr/local/lib/python3.7/dist-packages (from kaggle>=1.5.12->-r requirements.txt (line 4)) (2.8.2)\n",
            "Requirement already satisfied: requests in /usr/local/lib/python3.7/dist-packages (from kaggle>=1.5.12->-r requirements.txt (line 4)) (2.23.0)\n",
            "Requirement already satisfied: certifi in /usr/local/lib/python3.7/dist-packages (from kaggle>=1.5.12->-r requirements.txt (line 4)) (2021.10.8)\n",
            "Requirement already satisfied: python-slugify in /usr/local/lib/python3.7/dist-packages (from kaggle>=1.5.12->-r requirements.txt (line 4)) (5.0.2)\n",
            "Requirement already satisfied: six>=1.10 in /usr/local/lib/python3.7/dist-packages (from kaggle>=1.5.12->-r requirements.txt (line 4)) (1.15.0)\n",
            "Requirement already satisfied: kiwisolver>=1.0.1 in /usr/local/lib/python3.7/dist-packages (from matplotlib>=3.4.3->-r requirements.txt (line 5)) (1.3.2)\n",
            "Requirement already satisfied: fonttools>=4.22.0 in /usr/local/lib/python3.7/dist-packages (from matplotlib>=3.4.3->-r requirements.txt (line 5)) (4.28.1)\n",
            "Requirement already satisfied: pillow>=6.2.0 in /usr/local/lib/python3.7/dist-packages (from matplotlib>=3.4.3->-r requirements.txt (line 5)) (7.1.2)\n",
            "Requirement already satisfied: setuptools-scm>=4 in /usr/local/lib/python3.7/dist-packages (from matplotlib>=3.4.3->-r requirements.txt (line 5)) (6.3.2)\n",
            "Requirement already satisfied: packaging>=20.0 in /usr/local/lib/python3.7/dist-packages (from matplotlib>=3.4.3->-r requirements.txt (line 5)) (21.2)\n",
            "Requirement already satisfied: cycler>=0.10 in /usr/local/lib/python3.7/dist-packages (from matplotlib>=3.4.3->-r requirements.txt (line 5)) (0.11.0)\n",
            "Requirement already satisfied: nbformat in /usr/local/lib/python3.7/dist-packages (from nbstripout>=0.3.10->-r requirements.txt (line 6)) (5.1.3)\n",
            "Requirement already satisfied: pytz>=2017.3 in /usr/local/lib/python3.7/dist-packages (from pandas>=1.3.3->-r requirements.txt (line 9)) (2018.9)\n",
            "Requirement already satisfied: threadpoolctl>=2.0.0 in /usr/local/lib/python3.7/dist-packages (from scikit-learn>=0.0->-r requirements.txt (line 13)) (3.0.0)\n",
            "Requirement already satisfied: joblib>=0.11 in /usr/local/lib/python3.7/dist-packages (from scikit-learn>=0.0->-r requirements.txt (line 13)) (1.1.0)\n",
            "Requirement already satisfied: click<9.0.0,>=7.1.1 in /usr/local/lib/python3.7/dist-packages (from typer>=0.3.2->-r requirements.txt (line 17)) (7.1.2)\n",
            "Requirement already satisfied: zipp>=3.1.0 in /usr/local/lib/python3.7/dist-packages (from importlib-resources>=1.4.0->jsonschema>=3.2.0->-r requirements.txt (line 1)) (3.6.0)\n",
            "Requirement already satisfied: pygments in /usr/local/lib/python3.7/dist-packages (from ipython>=5.4.1->jupyterthemes>=0.20.0->-r requirements.txt (line 3)) (2.6.1)\n",
            "Requirement already satisfied: pexpect in /usr/local/lib/python3.7/dist-packages (from ipython>=5.4.1->jupyterthemes>=0.20.0->-r requirements.txt (line 3)) (4.8.0)\n",
            "Requirement already satisfied: prompt-toolkit<2.0.0,>=1.0.4 in /usr/local/lib/python3.7/dist-packages (from ipython>=5.4.1->jupyterthemes>=0.20.0->-r requirements.txt (line 3)) (1.0.18)\n",
            "Requirement already satisfied: pickleshare in /usr/local/lib/python3.7/dist-packages (from ipython>=5.4.1->jupyterthemes>=0.20.0->-r requirements.txt (line 3)) (0.7.5)\n",
            "Requirement already satisfied: decorator in /usr/local/lib/python3.7/dist-packages (from ipython>=5.4.1->jupyterthemes>=0.20.0->-r requirements.txt (line 3)) (4.4.2)\n",
            "Requirement already satisfied: traitlets>=4.2 in /usr/local/lib/python3.7/dist-packages (from ipython>=5.4.1->jupyterthemes>=0.20.0->-r requirements.txt (line 3)) (5.1.1)\n",
            "Requirement already satisfied: simplegeneric>0.8 in /usr/local/lib/python3.7/dist-packages (from ipython>=5.4.1->jupyterthemes>=0.20.0->-r requirements.txt (line 3)) (0.8.1)\n",
            "Requirement already satisfied: ply in /usr/local/lib/python3.7/dist-packages (from lesscpy>=0.11.2->jupyterthemes>=0.20.0->-r requirements.txt (line 3)) (3.11)\n",
            "Requirement already satisfied: pyzmq>=17 in /usr/local/lib/python3.7/dist-packages (from notebook->jupyter>=1.0.0->-r requirements.txt (line 2)) (22.3.0)\n",
            "Requirement already satisfied: argon2-cffi in /usr/local/lib/python3.7/dist-packages (from notebook->jupyter>=1.0.0->-r requirements.txt (line 2)) (21.1.0)\n",
            "Requirement already satisfied: jinja2 in /usr/local/lib/python3.7/dist-packages (from notebook->jupyter>=1.0.0->-r requirements.txt (line 2)) (2.11.3)\n",
            "Requirement already satisfied: Send2Trash>=1.8.0 in /usr/local/lib/python3.7/dist-packages (from notebook->jupyter>=1.0.0->-r requirements.txt (line 2)) (1.8.0)\n",
            "Requirement already satisfied: ipython-genutils in /usr/local/lib/python3.7/dist-packages (from notebook->jupyter>=1.0.0->-r requirements.txt (line 2)) (0.2.0)\n",
            "Requirement already satisfied: nest-asyncio>=1.5 in /usr/local/lib/python3.7/dist-packages (from notebook->jupyter>=1.0.0->-r requirements.txt (line 2)) (1.5.1)\n",
            "Requirement already satisfied: tornado>=6.1 in /usr/local/lib/python3.7/dist-packages (from notebook->jupyter>=1.0.0->-r requirements.txt (line 2)) (6.1)\n",
            "Requirement already satisfied: terminado>=0.8.3 in /usr/local/lib/python3.7/dist-packages (from notebook->jupyter>=1.0.0->-r requirements.txt (line 2)) (0.12.1)\n",
            "Requirement already satisfied: jupyter-client>=5.3.4 in /usr/local/lib/python3.7/dist-packages (from notebook->jupyter>=1.0.0->-r requirements.txt (line 2)) (5.3.5)\n",
            "Requirement already satisfied: prometheus-client in /usr/local/lib/python3.7/dist-packages (from notebook->jupyter>=1.0.0->-r requirements.txt (line 2)) (0.12.0)\n",
            "Requirement already satisfied: wcwidth in /usr/local/lib/python3.7/dist-packages (from prompt-toolkit<2.0.0,>=1.0.4->ipython>=5.4.1->jupyterthemes>=0.20.0->-r requirements.txt (line 3)) (0.2.5)\n",
            "Requirement already satisfied: tomli>=1.0.0 in /usr/local/lib/python3.7/dist-packages (from setuptools-scm>=4->matplotlib>=3.4.3->-r requirements.txt (line 5)) (1.2.2)\n",
            "Requirement already satisfied: ptyprocess in /usr/local/lib/python3.7/dist-packages (from terminado>=0.8.3->notebook->jupyter>=1.0.0->-r requirements.txt (line 2)) (0.7.0)\n",
            "Requirement already satisfied: patsy>=0.4.0 in /usr/local/lib/python3.7/dist-packages (from statsmodels->-r requirements.txt (line 15)) (0.5.2)\n",
            "Requirement already satisfied: cffi>=1.0.0 in /usr/local/lib/python3.7/dist-packages (from argon2-cffi->notebook->jupyter>=1.0.0->-r requirements.txt (line 2)) (1.15.0)\n",
            "Requirement already satisfied: pycparser in /usr/local/lib/python3.7/dist-packages (from cffi>=1.0.0->argon2-cffi->notebook->jupyter>=1.0.0->-r requirements.txt (line 2)) (2.21)\n",
            "Requirement already satisfied: typing-extensions>=3.6.4 in /usr/local/lib/python3.7/dist-packages (from importlib-metadata->jsonschema>=3.2.0->-r requirements.txt (line 1)) (3.10.0.2)\n",
            "Requirement already satisfied: widgetsnbextension~=3.5.0 in /usr/local/lib/python3.7/dist-packages (from ipywidgets->jupyter>=1.0.0->-r requirements.txt (line 2)) (3.5.2)\n",
            "Requirement already satisfied: jupyterlab-widgets>=1.0.0 in /usr/local/lib/python3.7/dist-packages (from ipywidgets->jupyter>=1.0.0->-r requirements.txt (line 2)) (1.0.2)\n",
            "Requirement already satisfied: MarkupSafe>=0.23 in /usr/local/lib/python3.7/dist-packages (from jinja2->notebook->jupyter>=1.0.0->-r requirements.txt (line 2)) (2.0.1)\n",
            "Requirement already satisfied: entrypoints>=0.2.2 in /usr/local/lib/python3.7/dist-packages (from nbconvert->jupyter>=1.0.0->-r requirements.txt (line 2)) (0.3)\n",
            "Requirement already satisfied: defusedxml in /usr/local/lib/python3.7/dist-packages (from nbconvert->jupyter>=1.0.0->-r requirements.txt (line 2)) (0.7.1)\n",
            "Requirement already satisfied: mistune<2,>=0.8.1 in /usr/local/lib/python3.7/dist-packages (from nbconvert->jupyter>=1.0.0->-r requirements.txt (line 2)) (0.8.4)\n",
            "Requirement already satisfied: bleach in /usr/local/lib/python3.7/dist-packages (from nbconvert->jupyter>=1.0.0->-r requirements.txt (line 2)) (4.1.0)\n",
            "Requirement already satisfied: pandocfilters>=1.4.1 in /usr/local/lib/python3.7/dist-packages (from nbconvert->jupyter>=1.0.0->-r requirements.txt (line 2)) (1.5.0)\n",
            "Requirement already satisfied: testpath in /usr/local/lib/python3.7/dist-packages (from nbconvert->jupyter>=1.0.0->-r requirements.txt (line 2)) (0.5.0)\n",
            "Requirement already satisfied: webencodings in /usr/local/lib/python3.7/dist-packages (from bleach->nbconvert->jupyter>=1.0.0->-r requirements.txt (line 2)) (0.5.1)\n",
            "Requirement already satisfied: text-unidecode>=1.3 in /usr/local/lib/python3.7/dist-packages (from python-slugify->kaggle>=1.5.12->-r requirements.txt (line 4)) (1.3)\n",
            "Requirement already satisfied: qtpy in /usr/local/lib/python3.7/dist-packages (from qtconsole->jupyter>=1.0.0->-r requirements.txt (line 2)) (1.11.2)\n",
            "Requirement already satisfied: chardet<4,>=3.0.2 in /usr/local/lib/python3.7/dist-packages (from requests->kaggle>=1.5.12->-r requirements.txt (line 4)) (3.0.4)\n",
            "Requirement already satisfied: idna<3,>=2.5 in /usr/local/lib/python3.7/dist-packages (from requests->kaggle>=1.5.12->-r requirements.txt (line 4)) (2.10)\n"
          ]
        }
      ]
    },
    {
      "cell_type": "markdown",
      "metadata": {
        "id": "6CpeQfTli8A6"
      },
      "source": [
        "### To commit and push Google Collab notebook to Github\n",
        "Click **File > Save a copy on Gihtub**"
      ]
    },
    {
      "cell_type": "markdown",
      "metadata": {
        "id": "reFZW6B8gSdj"
      },
      "source": [
        "# ------------------------------------------------------------------"
      ]
    },
    {
      "cell_type": "markdown",
      "metadata": {
        "id": "h54edY45gSdj"
      },
      "source": [
        "# Initializations"
      ]
    },
    {
      "cell_type": "markdown",
      "metadata": {
        "id": "H1RHGfh1i8A8",
        "pycharm": {
          "name": "#%%\n"
        }
      },
      "source": [
        "## Import the base Libraries"
      ]
    },
    {
      "cell_type": "code",
      "metadata": {
        "colab": {
          "base_uri": "https://localhost:8080/"
        },
        "id": "j_xtr-tMEYd_",
        "outputId": "2fb5a04c-7b2c-4883-875d-19d2fc17b251"
      },
      "source": [
        "!git init"
      ],
      "execution_count": 26,
      "outputs": [
        {
          "output_type": "stream",
          "name": "stdout",
          "text": [
            "Reinitialized existing Git repository in /content/accident-severity-prediction/.git/\n"
          ]
        }
      ]
    },
    {
      "cell_type": "code",
      "metadata": {
        "colab": {
          "base_uri": "https://localhost:8080/"
        },
        "id": "wjKYGxzYi8A9",
        "outputId": "2b3c3672-17ee-47f4-b2ef-28081edf10c9"
      },
      "source": [
        "# Imports\n",
        "%load_ext autoreload\n",
        "%autoreload 2\n",
        "from importlib import reload as reload_lib\n",
        "from typing import *\n",
        "import os\n",
        "import re\n",
        "from pprint import pprint\n",
        "import datetime \n",
        "# Numpy\n",
        "import numpy as np\n",
        "import pandas as pd\n",
        "\n",
        "# Import preprocessing lib\n",
        "from project_libs.project import *"
      ],
      "execution_count": 27,
      "outputs": [
        {
          "output_type": "stream",
          "name": "stdout",
          "text": [
            "The autoreload extension is already loaded. To reload it, use:\n",
            "  %reload_ext autoreload\n"
          ]
        }
      ]
    },
    {
      "cell_type": "markdown",
      "metadata": {
        "id": "PYBmLhFZgSdk"
      },
      "source": [
        "## Load the YML file"
      ]
    },
    {
      "cell_type": "code",
      "metadata": {
        "id": "-z773EjNgSdk"
      },
      "source": [
        "from project_libs import Configuration"
      ],
      "execution_count": 28,
      "outputs": []
    },
    {
      "cell_type": "code",
      "metadata": {
        "colab": {
          "base_uri": "https://localhost:8080/"
        },
        "id": "XYH2o7w3i8A-",
        "outputId": "39ab58db-be99-4ff8-95db-d6365411e5d6"
      },
      "source": [
        "# The path of configuration and log save path\n",
        "config_path = \"confs/prototype1.yml\"\n",
        "# !cat \"$config_path\"\n",
        "# Load the configuratåion\n",
        "conf = Configuration(config_src=config_path)\n",
        "# Get the books dict\n",
        "loader_config = conf.get_config('data_loader')['config']['dataset']\n",
        "preprocessing_config = conf.get_config('data_loader')['config']['preprocessing']\n",
        "# print(books.keys())\n",
        "# pprint(books)  # Pretty print the books dict"
      ],
      "execution_count": 29,
      "outputs": [
        {
          "output_type": "stream",
          "name": "stderr",
          "text": [
            "2021-11-18 17:44:34 Config       INFO     \u001b[1m\u001b[37mConfiguration file loaded successfully from path: /content/accident-severity-prediction/confs/prototype1.yml\u001b[0m\n",
            "2021-11-18 17:44:34 Config       INFO     \u001b[1m\u001b[37mConfiguration Tag: prototype_1\u001b[0m\n"
          ]
        }
      ]
    },
    {
      "cell_type": "markdown",
      "metadata": {
        "id": "ztSC5oWsgSdl"
      },
      "source": [
        "# ------------------------------------------------------------------"
      ]
    },
    {
      "cell_type": "markdown",
      "metadata": {
        "id": "ZyM4avEli8A_"
      },
      "source": [
        "# Start of Project Code"
      ]
    },
    {
      "cell_type": "code",
      "metadata": {
        "id": "CuYpT_rqgSdl"
      },
      "source": [
        "from project_libs import project as proj"
      ],
      "execution_count": 30,
      "outputs": []
    },
    {
      "cell_type": "markdown",
      "metadata": {
        "id": "OhlCQKWpg4Et"
      },
      "source": [
        "## Data Loading"
      ]
    },
    {
      "cell_type": "code",
      "metadata": {
        "colab": {
          "base_uri": "https://localhost:8080/"
        },
        "id": "MVRVJ0-6_R4t",
        "outputId": "4f782923-d473-464e-d539-71587af61934"
      },
      "source": [
        "# Download Dataset again if requested\n",
        "should_download = loader_config['download']\n",
        "if should_download:\n",
        "    kaggle_dataset_name = loader_config['kaggle_dataset_name']\n",
        "    !mkdir ~/.kaggle\n",
        "    !cp confs/kaggle.json ~/.kaggle/\n",
        "    !chmod 600 ~/.kaggle/kaggle.json\n",
        "    !mkdir data\n",
        "    !cd data && kaggle datasets download -d $kaggle_dataset_name && unzip -o us-accidents.zip && rm us-accidents.zip"
      ],
      "execution_count": 31,
      "outputs": [
        {
          "output_type": "stream",
          "name": "stdout",
          "text": [
            "mkdir: cannot create directory ‘/root/.kaggle’: File exists\n",
            "mkdir: cannot create directory ‘data’: File exists\n",
            "Downloading us-accidents.zip to /content/accident-severity-prediction/data\n",
            " 89% 104M/117M [00:00<00:00, 172MB/s] \n",
            "100% 117M/117M [00:00<00:00, 172MB/s]\n",
            "Archive:  us-accidents.zip\n",
            "  inflating: US_Accidents_Dec20_updated.csv  \n"
          ]
        }
      ]
    },
    {
      "cell_type": "code",
      "metadata": {
        "id": "qpxXezwmgSdm"
      },
      "source": [
        "# Load Dataset\n",
        "accidents_df_original = pd.read_csv(loader_config['local_dataset_name'])\n",
        "accidents_df = accidents_df_original.copy()"
      ],
      "execution_count": 32,
      "outputs": []
    },
    {
      "cell_type": "markdown",
      "metadata": {
        "id": "NZ9xyLsV_R4v"
      },
      "source": [
        "## Exploration"
      ]
    },
    {
      "cell_type": "markdown",
      "metadata": {
        "id": "aKazCmez_R4v"
      },
      "source": [
        "### Sampling Tests"
      ]
    },
    {
      "cell_type": "code",
      "metadata": {
        "id": "FUhRKjPO_R4v"
      },
      "source": [
        "# Print Basic Info\n",
        "print(f\"Number of rows: {accidents_df.shape[0]}\")\n",
        "print(f\"Number of Columns: {accidents_df.shape[1]}\")\n",
        "print(f\"Columns: {accidents_df.columns}\")"
      ],
      "execution_count": null,
      "outputs": []
    },
    {
      "cell_type": "code",
      "metadata": {
        "id": "WXFdXiqz_R4w"
      },
      "source": [
        "# -- Filter By Cities -- #\n",
        "print(\"Unique Cities: \")\n",
        "cities = accidents_df.City.unique().tolist()\n",
        "print(f\"{cities[:10]}, ..\")\n",
        "print(f\"Number of cities: {len(cities)}\")\n",
        "print(\"----------------------------------------------------\")\n",
        "\n",
        "# Try different number of cities filters\n",
        "for num_cities in [20, 50, 100, 500, 1000, 1500, 2000]:\n",
        "    current_num = accidents_df[accidents_df.City.isin(cities[:num_cities])].shape[0]\n",
        "    print(f\"Number of rows when only FIRST {num_cities} were included: {current_num}\")"
      ],
      "execution_count": null,
      "outputs": []
    },
    {
      "cell_type": "code",
      "metadata": {
        "id": "x6vKUXk-_R4x"
      },
      "source": [
        "# -- Filter By Date -- #\n",
        "accidents_df.loc[:, 'Start_Time_dt'] = pd.to_datetime(accidents_df.Start_Time)\n",
        "print(f\"Earliest date: {accidents_df.Start_Time_dt.min()}\")\n",
        "print(f\"Most Recent date: {accidents_df.Start_Time_dt.max()}\")\n",
        "print(\"----------------------------------------------------\")\n",
        "\n",
        "# Try different date filters\n",
        "dates = [(2017, 1), (2018, 1), (2019, 1), (2020, 1), (2020, 6), (2020, 9)]\n",
        "for year, month in dates:\n",
        "    condition = accidents_df.Start_Time_dt.dt.date>=datetime.date(year=year,month=month,day=1)\n",
        "    current_num = accidents_df.Start_Time_dt[condition].shape[0]\n",
        "    print(f\"Number of rows when only dates STARTED FROM {month}/{year} were included: {current_num}\")\n"
      ],
      "execution_count": null,
      "outputs": []
    },
    {
      "cell_type": "code",
      "metadata": {
        "id": "N9uVOifl_R4x"
      },
      "source": [
        "# -- Filter By States and Date -- #\n",
        "print(\"Unique States: \")\n",
        "states = accidents_df.State.unique().tolist()\n",
        "print(states[:10])\n",
        "print(f\"Number of states: {len(states)}\")\n",
        "print(\"----------------------------------------------------\")\n",
        "\n",
        "# Filter By NE States\n",
        "staes_of_choice =  ['PA', 'NY', 'VY', 'ME', 'NH', 'MA', 'RI', 'CT', 'NJ', 'DE', 'DC', 'MD']\n",
        "accidents_df_filtered = accidents_df[accidents_df.State.isin(staes_of_choice)].copy()\n",
        "print(f\"Number of rows when only North Eastern states were included: {accidents_df_filtered.shape[0]}\")\n",
        "\n",
        "# By Date\n",
        "year, month = 2020, 1\n",
        "condition = accidents_df_filtered.Start_Time_dt.dt.date>=datetime.date(year=year,month=month,day=1)\n",
        "current_num = accidents_df_filtered.Start_Time_dt[condition].shape[0]\n",
        "print(f\"Number of rows when only dates STARTED FROM {month}/{year} for the North Easter States were included: {current_num}\")"
      ],
      "execution_count": null,
      "outputs": []
    },
    {
      "cell_type": "markdown",
      "metadata": {
        "id": "SJhWGaFO_R4y"
      },
      "source": [
        "### Correlation between features"
      ]
    },
    {
      "cell_type": "code",
      "metadata": {
        "id": "VEwL6ac2_R4y"
      },
      "source": [
        "from project_libs.project import plotter as pl"
      ],
      "execution_count": 33,
      "outputs": []
    },
    {
      "cell_type": "code",
      "metadata": {
        "id": "0A9_ORtr_R4y",
        "colab": {
          "base_uri": "https://localhost:8080/",
          "height": 606
        },
        "outputId": "2c10c210-3011-4cbd-843c-12c9f613905d"
      },
      "source": [
        "# Find Correlations between columns\n",
        "cols_to_visualize = list(accidents_df_original.describe().columns)\n",
        "print(cols_to_visualize)\n",
        "pl.viz_columns_corr(accidents_df_original, cols_to_visualize)"
      ],
      "execution_count": 34,
      "outputs": [
        {
          "output_type": "stream",
          "name": "stdout",
          "text": [
            "['Severity', 'Start_Lat', 'Start_Lng', 'End_Lat', 'End_Lng', 'Distance(mi)', 'Number', 'Temperature(F)', 'Wind_Chill(F)', 'Humidity(%)', 'Pressure(in)', 'Visibility(mi)', 'Wind_Speed(mph)', 'Precipitation(in)']\n"
          ]
        },
        {
          "output_type": "display_data",
          "data": {
            "image/png": "[encoded data removed]",
            "text/plain": [
              "<Figure size 648x504 with 2 Axes>"
            ]
          },
          "metadata": {}
        }
      ]
    },
    {
      "cell_type": "markdown",
      "metadata": {
        "id": "i_R2mcmqgSdq"
      },
      "source": [
        "## Preprocessing"
      ]
    },
    {
      "cell_type": "code",
      "metadata": {
        "id": "gRUrrWe7gSdq"
      },
      "source": [
        "from project_libs.project import preprocessing as pre"
      ],
      "execution_count": 35,
      "outputs": []
    },
    {
      "cell_type": "code",
      "metadata": {
        "id": "jidzZ38HgSds",
        "colab": {
          "base_uri": "https://localhost:8080/",
          "height": 929
        },
        "outputId": "2f3b51b3-54f6-465f-afd3-855e154d58aa"
      },
      "source": [
        "# Create a copy of the df\n",
        "accidents_df_isolated = accidents_df_original.copy()\n",
        "\n",
        "# Isolate city state\n",
        "city_list = preprocessing_config['city_list']\n",
        "state_list = preprocessing_config['state_list']\n",
        "accidents_df_isolated = pre.isolate_city_state(accidents_df_isolated, city_list, state_list)\n",
        "display(accidents_df_isolated)"
      ],
      "execution_count": 36,
      "outputs": [
        {
          "output_type": "display_data",
          "data": {
            "text/html": [
              "<div>\n",
              "<style scoped>\n",
              "    .dataframe tbody tr th:only-of-type {\n",
              "        vertical-align: middle;\n",
              "    }\n",
              "\n",
              "    .dataframe tbody tr th {\n",
              "        vertical-align: top;\n",
              "    }\n",
              "\n",
              "    .dataframe thead th {\n",
              "        text-align: right;\n",
              "    }\n",
              "</style>\n",
              "<table border=\"1\" class=\"dataframe\">\n",
              "  <thead>\n",
              "    <tr style=\"text-align: right;\">\n",
              "      <th></th>\n",
              "      <th>ID</th>\n",
              "      <th>Severity</th>\n",
              "      <th>Start_Time</th>\n",
              "      <th>End_Time</th>\n",
              "      <th>Start_Lat</th>\n",
              "      <th>Start_Lng</th>\n",
              "      <th>End_Lat</th>\n",
              "      <th>End_Lng</th>\n",
              "      <th>Distance(mi)</th>\n",
              "      <th>Description</th>\n",
              "      <th>Number</th>\n",
              "      <th>Street</th>\n",
              "      <th>Side</th>\n",
              "      <th>City</th>\n",
              "      <th>County</th>\n",
              "      <th>State</th>\n",
              "      <th>Zipcode</th>\n",
              "      <th>Country</th>\n",
              "      <th>Timezone</th>\n",
              "      <th>Airport_Code</th>\n",
              "      <th>Weather_Timestamp</th>\n",
              "      <th>Temperature(F)</th>\n",
              "      <th>Wind_Chill(F)</th>\n",
              "      <th>Humidity(%)</th>\n",
              "      <th>Pressure(in)</th>\n",
              "      <th>Visibility(mi)</th>\n",
              "      <th>Wind_Direction</th>\n",
              "      <th>Wind_Speed(mph)</th>\n",
              "      <th>Precipitation(in)</th>\n",
              "      <th>Weather_Condition</th>\n",
              "      <th>Amenity</th>\n",
              "      <th>Bump</th>\n",
              "      <th>Crossing</th>\n",
              "      <th>Give_Way</th>\n",
              "      <th>Junction</th>\n",
              "      <th>No_Exit</th>\n",
              "      <th>Railway</th>\n",
              "      <th>Roundabout</th>\n",
              "      <th>Station</th>\n",
              "      <th>Stop</th>\n",
              "      <th>Traffic_Calming</th>\n",
              "      <th>Traffic_Signal</th>\n",
              "      <th>Turning_Loop</th>\n",
              "      <th>Sunrise_Sunset</th>\n",
              "      <th>Civil_Twilight</th>\n",
              "      <th>Nautical_Twilight</th>\n",
              "      <th>Astronomical_Twilight</th>\n",
              "    </tr>\n",
              "  </thead>\n",
              "  <tbody>\n",
              "    <tr>\n",
              "      <th>98138</th>\n",
              "      <td>A-2814738</td>\n",
              "      <td>3</td>\n",
              "      <td>2016-11-30 15:01:56</td>\n",
              "      <td>2016-11-30 21:01:56</td>\n",
              "      <td>33.662770</td>\n",
              "      <td>-111.999580</td>\n",
              "      <td>33.66622</td>\n",
              "      <td>-111.99952</td>\n",
              "      <td>0.238</td>\n",
              "      <td>At AZ-101-LOOP/Exit 15 - Accident.</td>\n",
              "      <td>NaN</td>\n",
              "      <td>Piestewa Fwy N</td>\n",
              "      <td>R</td>\n",
              "      <td>Phoenix</td>\n",
              "      <td>Maricopa</td>\n",
              "      <td>AZ</td>\n",
              "      <td>85050</td>\n",
              "      <td>US</td>\n",
              "      <td>US/Mountain</td>\n",
              "      <td>KDVT</td>\n",
              "      <td>2016-11-30 14:53:00</td>\n",
              "      <td>59.0</td>\n",
              "      <td>NaN</td>\n",
              "      <td>20.0</td>\n",
              "      <td>29.99</td>\n",
              "      <td>10.0</td>\n",
              "      <td>West</td>\n",
              "      <td>3.5</td>\n",
              "      <td>NaN</td>\n",
              "      <td>Clear</td>\n",
              "      <td>False</td>\n",
              "      <td>False</td>\n",
              "      <td>False</td>\n",
              "      <td>False</td>\n",
              "      <td>False</td>\n",
              "      <td>False</td>\n",
              "      <td>False</td>\n",
              "      <td>False</td>\n",
              "      <td>False</td>\n",
              "      <td>False</td>\n",
              "      <td>False</td>\n",
              "      <td>False</td>\n",
              "      <td>False</td>\n",
              "      <td>Day</td>\n",
              "      <td>Day</td>\n",
              "      <td>Day</td>\n",
              "      <td>Day</td>\n",
              "    </tr>\n",
              "    <tr>\n",
              "      <th>98139</th>\n",
              "      <td>A-2814739</td>\n",
              "      <td>2</td>\n",
              "      <td>2016-11-30 15:19:52</td>\n",
              "      <td>2016-11-30 21:19:52</td>\n",
              "      <td>33.668760</td>\n",
              "      <td>-112.072750</td>\n",
              "      <td>33.66898</td>\n",
              "      <td>-112.05849</td>\n",
              "      <td>0.820</td>\n",
              "      <td>At 7th St/Exit 26 - Accident.</td>\n",
              "      <td>NaN</td>\n",
              "      <td>Loop 101 E</td>\n",
              "      <td>R</td>\n",
              "      <td>Phoenix</td>\n",
              "      <td>Maricopa</td>\n",
              "      <td>AZ</td>\n",
              "      <td>85024</td>\n",
              "      <td>US</td>\n",
              "      <td>US/Mountain</td>\n",
              "      <td>KDVT</td>\n",
              "      <td>2016-11-30 14:53:00</td>\n",
              "      <td>59.0</td>\n",
              "      <td>NaN</td>\n",
              "      <td>20.0</td>\n",
              "      <td>29.99</td>\n",
              "      <td>10.0</td>\n",
              "      <td>West</td>\n",
              "      <td>3.5</td>\n",
              "      <td>NaN</td>\n",
              "      <td>Clear</td>\n",
              "      <td>False</td>\n",
              "      <td>False</td>\n",
              "      <td>False</td>\n",
              "      <td>False</td>\n",
              "      <td>False</td>\n",
              "      <td>False</td>\n",
              "      <td>False</td>\n",
              "      <td>False</td>\n",
              "      <td>False</td>\n",
              "      <td>False</td>\n",
              "      <td>False</td>\n",
              "      <td>False</td>\n",
              "      <td>False</td>\n",
              "      <td>Day</td>\n",
              "      <td>Day</td>\n",
              "      <td>Day</td>\n",
              "      <td>Day</td>\n",
              "    </tr>\n",
              "    <tr>\n",
              "      <th>98141</th>\n",
              "      <td>A-2814741</td>\n",
              "      <td>2</td>\n",
              "      <td>2016-11-30 17:05:39</td>\n",
              "      <td>2016-11-30 23:05:39</td>\n",
              "      <td>33.484250</td>\n",
              "      <td>-112.113190</td>\n",
              "      <td>33.47491</td>\n",
              "      <td>-112.11320</td>\n",
              "      <td>0.645</td>\n",
              "      <td>At Thomas Rd/Exit 201 - Accident.</td>\n",
              "      <td>NaN</td>\n",
              "      <td>Black Canyon Fwy S</td>\n",
              "      <td>R</td>\n",
              "      <td>Phoenix</td>\n",
              "      <td>Maricopa</td>\n",
              "      <td>AZ</td>\n",
              "      <td>85015</td>\n",
              "      <td>US</td>\n",
              "      <td>US/Mountain</td>\n",
              "      <td>KPHX</td>\n",
              "      <td>2016-11-30 16:51:00</td>\n",
              "      <td>60.1</td>\n",
              "      <td>NaN</td>\n",
              "      <td>20.0</td>\n",
              "      <td>29.96</td>\n",
              "      <td>10.0</td>\n",
              "      <td>NW</td>\n",
              "      <td>4.6</td>\n",
              "      <td>NaN</td>\n",
              "      <td>Partly Cloudy</td>\n",
              "      <td>False</td>\n",
              "      <td>False</td>\n",
              "      <td>False</td>\n",
              "      <td>False</td>\n",
              "      <td>False</td>\n",
              "      <td>False</td>\n",
              "      <td>False</td>\n",
              "      <td>False</td>\n",
              "      <td>False</td>\n",
              "      <td>False</td>\n",
              "      <td>False</td>\n",
              "      <td>False</td>\n",
              "      <td>False</td>\n",
              "      <td>Day</td>\n",
              "      <td>Day</td>\n",
              "      <td>Day</td>\n",
              "      <td>Day</td>\n",
              "    </tr>\n",
              "    <tr>\n",
              "      <th>98142</th>\n",
              "      <td>A-2814742</td>\n",
              "      <td>2</td>\n",
              "      <td>2016-11-30 17:10:37</td>\n",
              "      <td>2016-11-30 23:10:37</td>\n",
              "      <td>33.295215</td>\n",
              "      <td>-111.972420</td>\n",
              "      <td>33.28853</td>\n",
              "      <td>-111.97132</td>\n",
              "      <td>0.466</td>\n",
              "      <td>At Chandler Blvd/Exit 160 - Accident.</td>\n",
              "      <td>NaN</td>\n",
              "      <td>Pearl Harbor Memorial Highway</td>\n",
              "      <td>R</td>\n",
              "      <td>Phoenix</td>\n",
              "      <td>Maricopa</td>\n",
              "      <td>AZ</td>\n",
              "      <td>85048</td>\n",
              "      <td>US</td>\n",
              "      <td>US/Mountain</td>\n",
              "      <td>KPHX</td>\n",
              "      <td>2016-11-30 16:51:00</td>\n",
              "      <td>60.1</td>\n",
              "      <td>NaN</td>\n",
              "      <td>20.0</td>\n",
              "      <td>29.96</td>\n",
              "      <td>10.0</td>\n",
              "      <td>NW</td>\n",
              "      <td>4.6</td>\n",
              "      <td>NaN</td>\n",
              "      <td>Partly Cloudy</td>\n",
              "      <td>False</td>\n",
              "      <td>False</td>\n",
              "      <td>False</td>\n",
              "      <td>False</td>\n",
              "      <td>False</td>\n",
              "      <td>False</td>\n",
              "      <td>False</td>\n",
              "      <td>False</td>\n",
              "      <td>False</td>\n",
              "      <td>False</td>\n",
              "      <td>False</td>\n",
              "      <td>False</td>\n",
              "      <td>False</td>\n",
              "      <td>Day</td>\n",
              "      <td>Day</td>\n",
              "      <td>Day</td>\n",
              "      <td>Day</td>\n",
              "    </tr>\n",
              "    <tr>\n",
              "      <th>98146</th>\n",
              "      <td>A-2814746</td>\n",
              "      <td>2</td>\n",
              "      <td>2016-11-30 18:28:58</td>\n",
              "      <td>2016-12-01 00:28:58</td>\n",
              "      <td>33.461900</td>\n",
              "      <td>-112.092145</td>\n",
              "      <td>33.46190</td>\n",
              "      <td>-112.09904</td>\n",
              "      <td>0.397</td>\n",
              "      <td>At 19th Ave/Exit 143C - Accident.</td>\n",
              "      <td>1241.0</td>\n",
              "      <td>N Laurel Ave</td>\n",
              "      <td>R</td>\n",
              "      <td>Phoenix</td>\n",
              "      <td>Maricopa</td>\n",
              "      <td>AZ</td>\n",
              "      <td>85007-2021</td>\n",
              "      <td>US</td>\n",
              "      <td>US/Mountain</td>\n",
              "      <td>KPHX</td>\n",
              "      <td>2016-11-30 18:51:00</td>\n",
              "      <td>57.9</td>\n",
              "      <td>NaN</td>\n",
              "      <td>22.0</td>\n",
              "      <td>29.95</td>\n",
              "      <td>10.0</td>\n",
              "      <td>NW</td>\n",
              "      <td>5.8</td>\n",
              "      <td>NaN</td>\n",
              "      <td>Clear</td>\n",
              "      <td>False</td>\n",
              "      <td>False</td>\n",
              "      <td>False</td>\n",
              "      <td>False</td>\n",
              "      <td>False</td>\n",
              "      <td>False</td>\n",
              "      <td>False</td>\n",
              "      <td>False</td>\n",
              "      <td>False</td>\n",
              "      <td>False</td>\n",
              "      <td>False</td>\n",
              "      <td>False</td>\n",
              "      <td>False</td>\n",
              "      <td>Night</td>\n",
              "      <td>Night</td>\n",
              "      <td>Night</td>\n",
              "      <td>Day</td>\n",
              "    </tr>\n",
              "    <tr>\n",
              "      <th>...</th>\n",
              "      <td>...</td>\n",
              "      <td>...</td>\n",
              "      <td>...</td>\n",
              "      <td>...</td>\n",
              "      <td>...</td>\n",
              "      <td>...</td>\n",
              "      <td>...</td>\n",
              "      <td>...</td>\n",
              "      <td>...</td>\n",
              "      <td>...</td>\n",
              "      <td>...</td>\n",
              "      <td>...</td>\n",
              "      <td>...</td>\n",
              "      <td>...</td>\n",
              "      <td>...</td>\n",
              "      <td>...</td>\n",
              "      <td>...</td>\n",
              "      <td>...</td>\n",
              "      <td>...</td>\n",
              "      <td>...</td>\n",
              "      <td>...</td>\n",
              "      <td>...</td>\n",
              "      <td>...</td>\n",
              "      <td>...</td>\n",
              "      <td>...</td>\n",
              "      <td>...</td>\n",
              "      <td>...</td>\n",
              "      <td>...</td>\n",
              "      <td>...</td>\n",
              "      <td>...</td>\n",
              "      <td>...</td>\n",
              "      <td>...</td>\n",
              "      <td>...</td>\n",
              "      <td>...</td>\n",
              "      <td>...</td>\n",
              "      <td>...</td>\n",
              "      <td>...</td>\n",
              "      <td>...</td>\n",
              "      <td>...</td>\n",
              "      <td>...</td>\n",
              "      <td>...</td>\n",
              "      <td>...</td>\n",
              "      <td>...</td>\n",
              "      <td>...</td>\n",
              "      <td>...</td>\n",
              "      <td>...</td>\n",
              "      <td>...</td>\n",
              "    </tr>\n",
              "    <tr>\n",
              "      <th>1515761</th>\n",
              "      <td>A-4239104</td>\n",
              "      <td>3</td>\n",
              "      <td>2019-08-23 16:58:31</td>\n",
              "      <td>2019-08-23 17:26:11</td>\n",
              "      <td>41.815300</td>\n",
              "      <td>-87.630480</td>\n",
              "      <td>41.81212</td>\n",
              "      <td>-87.63042</td>\n",
              "      <td>0.220</td>\n",
              "      <td>At 47th St/Exit 56B - Accident.</td>\n",
              "      <td>NaN</td>\n",
              "      <td>I-90 E</td>\n",
              "      <td>R</td>\n",
              "      <td>Chicago</td>\n",
              "      <td>Cook</td>\n",
              "      <td>IL</td>\n",
              "      <td>60609</td>\n",
              "      <td>US</td>\n",
              "      <td>US/Central</td>\n",
              "      <td>KMDW</td>\n",
              "      <td>2019-08-23 16:53:00</td>\n",
              "      <td>73.0</td>\n",
              "      <td>73.0</td>\n",
              "      <td>49.0</td>\n",
              "      <td>29.53</td>\n",
              "      <td>10.0</td>\n",
              "      <td>NNE</td>\n",
              "      <td>15.0</td>\n",
              "      <td>0.0</td>\n",
              "      <td>Partly Cloudy</td>\n",
              "      <td>False</td>\n",
              "      <td>False</td>\n",
              "      <td>False</td>\n",
              "      <td>False</td>\n",
              "      <td>True</td>\n",
              "      <td>False</td>\n",
              "      <td>True</td>\n",
              "      <td>False</td>\n",
              "      <td>False</td>\n",
              "      <td>False</td>\n",
              "      <td>False</td>\n",
              "      <td>False</td>\n",
              "      <td>False</td>\n",
              "      <td>Day</td>\n",
              "      <td>Day</td>\n",
              "      <td>Day</td>\n",
              "      <td>Day</td>\n",
              "    </tr>\n",
              "    <tr>\n",
              "      <th>1515762</th>\n",
              "      <td>A-4239105</td>\n",
              "      <td>3</td>\n",
              "      <td>2019-08-23 16:03:57</td>\n",
              "      <td>2019-08-23 16:33:31</td>\n",
              "      <td>41.715130</td>\n",
              "      <td>-87.630040</td>\n",
              "      <td>41.71499</td>\n",
              "      <td>-87.63090</td>\n",
              "      <td>0.045</td>\n",
              "      <td>At I-57/Exit 63 - Accident. unconfirmed report.</td>\n",
              "      <td>NaN</td>\n",
              "      <td>I-57 S</td>\n",
              "      <td>R</td>\n",
              "      <td>Chicago</td>\n",
              "      <td>Cook</td>\n",
              "      <td>IL</td>\n",
              "      <td>60628</td>\n",
              "      <td>US</td>\n",
              "      <td>US/Central</td>\n",
              "      <td>KMDW</td>\n",
              "      <td>2019-08-23 15:53:00</td>\n",
              "      <td>73.0</td>\n",
              "      <td>73.0</td>\n",
              "      <td>49.0</td>\n",
              "      <td>29.53</td>\n",
              "      <td>10.0</td>\n",
              "      <td>ENE</td>\n",
              "      <td>15.0</td>\n",
              "      <td>0.0</td>\n",
              "      <td>Partly Cloudy</td>\n",
              "      <td>False</td>\n",
              "      <td>False</td>\n",
              "      <td>False</td>\n",
              "      <td>False</td>\n",
              "      <td>False</td>\n",
              "      <td>False</td>\n",
              "      <td>False</td>\n",
              "      <td>False</td>\n",
              "      <td>False</td>\n",
              "      <td>False</td>\n",
              "      <td>False</td>\n",
              "      <td>False</td>\n",
              "      <td>False</td>\n",
              "      <td>Day</td>\n",
              "      <td>Day</td>\n",
              "      <td>Day</td>\n",
              "      <td>Day</td>\n",
              "    </tr>\n",
              "    <tr>\n",
              "      <th>1515763</th>\n",
              "      <td>A-4239106</td>\n",
              "      <td>3</td>\n",
              "      <td>2019-08-23 16:03:57</td>\n",
              "      <td>2019-08-23 16:33:31</td>\n",
              "      <td>41.943350</td>\n",
              "      <td>-87.716690</td>\n",
              "      <td>41.94859</td>\n",
              "      <td>-87.72162</td>\n",
              "      <td>0.442</td>\n",
              "      <td>At Addison St/Exit 45A - Accident.</td>\n",
              "      <td>NaN</td>\n",
              "      <td>I-94 W</td>\n",
              "      <td>R</td>\n",
              "      <td>Chicago</td>\n",
              "      <td>Cook</td>\n",
              "      <td>IL</td>\n",
              "      <td>60618</td>\n",
              "      <td>US</td>\n",
              "      <td>US/Central</td>\n",
              "      <td>KORD</td>\n",
              "      <td>2019-08-23 15:51:00</td>\n",
              "      <td>72.0</td>\n",
              "      <td>72.0</td>\n",
              "      <td>51.0</td>\n",
              "      <td>29.49</td>\n",
              "      <td>10.0</td>\n",
              "      <td>NNE</td>\n",
              "      <td>12.0</td>\n",
              "      <td>0.0</td>\n",
              "      <td>Partly Cloudy</td>\n",
              "      <td>False</td>\n",
              "      <td>False</td>\n",
              "      <td>False</td>\n",
              "      <td>False</td>\n",
              "      <td>False</td>\n",
              "      <td>False</td>\n",
              "      <td>False</td>\n",
              "      <td>False</td>\n",
              "      <td>False</td>\n",
              "      <td>False</td>\n",
              "      <td>False</td>\n",
              "      <td>False</td>\n",
              "      <td>False</td>\n",
              "      <td>Day</td>\n",
              "      <td>Day</td>\n",
              "      <td>Day</td>\n",
              "      <td>Day</td>\n",
              "    </tr>\n",
              "    <tr>\n",
              "      <th>1515764</th>\n",
              "      <td>A-4239107</td>\n",
              "      <td>3</td>\n",
              "      <td>2019-08-23 16:03:57</td>\n",
              "      <td>2019-08-23 16:33:31</td>\n",
              "      <td>41.718620</td>\n",
              "      <td>-87.625210</td>\n",
              "      <td>41.71513</td>\n",
              "      <td>-87.63004</td>\n",
              "      <td>0.347</td>\n",
              "      <td>Ramp to I-57 Southbound - Accident. unconfirme...</td>\n",
              "      <td>NaN</td>\n",
              "      <td>I-57 S</td>\n",
              "      <td>R</td>\n",
              "      <td>Chicago</td>\n",
              "      <td>Cook</td>\n",
              "      <td>IL</td>\n",
              "      <td>60628</td>\n",
              "      <td>US</td>\n",
              "      <td>US/Central</td>\n",
              "      <td>KMDW</td>\n",
              "      <td>2019-08-23 15:53:00</td>\n",
              "      <td>73.0</td>\n",
              "      <td>73.0</td>\n",
              "      <td>49.0</td>\n",
              "      <td>29.53</td>\n",
              "      <td>10.0</td>\n",
              "      <td>ENE</td>\n",
              "      <td>15.0</td>\n",
              "      <td>0.0</td>\n",
              "      <td>Partly Cloudy</td>\n",
              "      <td>False</td>\n",
              "      <td>False</td>\n",
              "      <td>False</td>\n",
              "      <td>False</td>\n",
              "      <td>True</td>\n",
              "      <td>False</td>\n",
              "      <td>False</td>\n",
              "      <td>False</td>\n",
              "      <td>False</td>\n",
              "      <td>False</td>\n",
              "      <td>False</td>\n",
              "      <td>False</td>\n",
              "      <td>False</td>\n",
              "      <td>Day</td>\n",
              "      <td>Day</td>\n",
              "      <td>Day</td>\n",
              "      <td>Day</td>\n",
              "    </tr>\n",
              "    <tr>\n",
              "      <th>1515776</th>\n",
              "      <td>A-4239119</td>\n",
              "      <td>3</td>\n",
              "      <td>2019-08-23 20:54:19</td>\n",
              "      <td>2019-08-23 21:23:54</td>\n",
              "      <td>41.783460</td>\n",
              "      <td>-87.630600</td>\n",
              "      <td>41.79887</td>\n",
              "      <td>-87.63087</td>\n",
              "      <td>1.065</td>\n",
              "      <td>Between 59th St/Exit 58A and Garfield Blvd/Exi...</td>\n",
              "      <td>6110.0</td>\n",
              "      <td>S Wentworth Ave</td>\n",
              "      <td>R</td>\n",
              "      <td>Chicago</td>\n",
              "      <td>Cook</td>\n",
              "      <td>IL</td>\n",
              "      <td>60621</td>\n",
              "      <td>US</td>\n",
              "      <td>US/Central</td>\n",
              "      <td>KMDW</td>\n",
              "      <td>2019-08-23 20:53:00</td>\n",
              "      <td>67.0</td>\n",
              "      <td>67.0</td>\n",
              "      <td>61.0</td>\n",
              "      <td>29.54</td>\n",
              "      <td>10.0</td>\n",
              "      <td>NE</td>\n",
              "      <td>7.0</td>\n",
              "      <td>0.0</td>\n",
              "      <td>Fair</td>\n",
              "      <td>False</td>\n",
              "      <td>False</td>\n",
              "      <td>False</td>\n",
              "      <td>False</td>\n",
              "      <td>True</td>\n",
              "      <td>False</td>\n",
              "      <td>False</td>\n",
              "      <td>False</td>\n",
              "      <td>False</td>\n",
              "      <td>False</td>\n",
              "      <td>False</td>\n",
              "      <td>False</td>\n",
              "      <td>False</td>\n",
              "      <td>Night</td>\n",
              "      <td>Night</td>\n",
              "      <td>Night</td>\n",
              "      <td>Day</td>\n",
              "    </tr>\n",
              "  </tbody>\n",
              "</table>\n",
              "<p>90421 rows × 47 columns</p>\n",
              "</div>"
            ],
            "text/plain": [
              "                ID  Severity  ... Nautical_Twilight Astronomical_Twilight\n",
              "98138    A-2814738         3  ...               Day                   Day\n",
              "98139    A-2814739         2  ...               Day                   Day\n",
              "98141    A-2814741         2  ...               Day                   Day\n",
              "98142    A-2814742         2  ...               Day                   Day\n",
              "98146    A-2814746         2  ...             Night                   Day\n",
              "...            ...       ...  ...               ...                   ...\n",
              "1515761  A-4239104         3  ...               Day                   Day\n",
              "1515762  A-4239105         3  ...               Day                   Day\n",
              "1515763  A-4239106         3  ...               Day                   Day\n",
              "1515764  A-4239107         3  ...               Day                   Day\n",
              "1515776  A-4239119         3  ...             Night                   Day\n",
              "\n",
              "[90421 rows x 47 columns]"
            ]
          },
          "metadata": {}
        }
      ]
    },
    {
      "cell_type": "code",
      "metadata": {
        "scrolled": true,
        "id": "iRzRvtxY_R40"
      },
      "source": [
        "### --- Russ's Code --- ###\n",
        "\n",
        "# Create a copy of the df\n",
        "accidents_df_russ = accidents_df_isolated.copy()\n",
        "\n",
        "env_vars = preprocessing_config['env_vars']\n",
        "accidents_df_russ = pre.subset_df(accidents_df_russ, env_vars)\n",
        "\n",
        "print('Percent of missing rows by column', '\\n\\n', accidents_df_russ.isnull().sum()/len(accidents_df_russ))\n",
        "\n",
        "temp_wind = pre.subset_df(accidents_df_russ, ['Temperature(F)', 'Wind_Speed(mph)'])\n",
        "pre.OLS(temp_wind, np.array(accidents_df_russ['Wind_Chill(F)']))\n",
        "\n",
        "accidents_df_russ[\"Wind_Temp\"] = accidents_df_russ['Wind_Chill(F)'].fillna((accidents_df_russ['Temperature(F)']*1.0178 - accidents_df_russ['Wind_Speed(mph)']*0.3023))\n",
        "\n",
        "print('Percent of missing rows by column', '\\n\\n', accidents_df_russ.isnull().sum()/len(accidents_df_russ))\n",
        "accidents_df_russ.drop(\"Wind_Chill(F)\", axis=1)\n",
        "\n",
        "accidents_df_russ = pre.knn_imputer(accidents_df_russ, 3)\n",
        "accidents_df_russ = pre.basic_impute(accidents_df_russ)\n",
        "\n",
        "#print('Percent of missing rows by column', '\\n\\n', accidents_df_russ.isnull().sum()/len(accidents_df_russ))\n"
      ],
      "execution_count": null,
      "outputs": []
    },
    {
      "cell_type": "code",
      "metadata": {
        "id": "1GHd-p-6_R40"
      },
      "source": [
        "### --- Sanjeev's Code --- ###\n",
        "\n",
        "# Create a copy of the df\n",
        "accidents_df_sanjeev = accidents_df_isolated.copy()\n",
        "\n",
        "# Filter the infra variables\n",
        "infra_vars = preprocessing_config['infra_vars']\n",
        "accidents_df_infra = accidents_df_isolated[infra_vars].copy()\n",
        "\n",
        "# Filter location and basic variables\n",
        "accidents_df_sanjeev = pre.filter_loc_basic_var(accidents_df_sanjeev)\n",
        "\n",
        "# Combine all Russ, Sanjeev, and Infra DF\n",
        "X_raw = pd.concat([accidents_df_russ, accidents_df_sanjeev, accidents_df_infra], axis=1)\n",
        "print('X_raw: Number of missing rows by column', '\\n', X_raw.isnull().sum())\n",
        "\n",
        "# Standardize, Encode, Extract and Split Train/Test\n",
        "X_train, X_test, y_train, y_test = encode_std_extract_split(X_raw)"
      ],
      "execution_count": null,
      "outputs": []
    },
    {
      "cell_type": "markdown",
      "metadata": {
        "id": "lI2avh0G_R41"
      },
      "source": [
        "### PCA"
      ]
    },
    {
      "cell_type": "code",
      "metadata": {
        "id": "dWT86ui6_R42"
      },
      "source": [
        "### --- Kostas's Code --- ###\n",
        "\n",
        "# Create a copy of the df\n",
        "X_train_PCA = X_train.copy()\n",
        "X_test_PCA = X_test.copy()\n",
        "\n",
        "# Retrieve Numerical Columns\n",
        "numerical_cols = X_train_PCA.describe().columns\n",
        "print(\"Number of columns to reduce using PCA (only numerical ones): \", len(numerical_cols))\n",
        "\n",
        "# Check for Nulls\n",
        "print(\"\\nNull values per column:\")\n",
        "print(X_train_PCA[numerical_cols].isna().sum())\n",
        "\n",
        "# Export to Numpy\n",
        "X_train_PCA_np = X_train_PCA[numerical_cols].to_numpy()\n",
        "X_test_PCA_np = X_test_PCA[numerical_cols].to_numpy()\n",
        "print(\"\\nType of exported Numpy array: \", X_train_PCA_np.dtype)\n",
        "\n",
        "# Run PCA\n",
        "pca = pre.PCA()\n",
        "pca.fit(data=X_train_PCA_np, max_error=0.01)\n",
        "X_train_PCA_np = pca.transform(data=X_train_PCA_np)\n",
        "X_test_PCA_np = pca.transform(data=X_test_PCA_np)\n",
        "\n",
        "# Drop the reduces columns from DF\n",
        "X_train_PCA = X_train_PCA.drop(numerical_cols, axis=1)\n",
        "X_test_PCA = X_test_PCA.drop(numerical_cols, axis=1)\n",
        "\n",
        "# Add the new (reduced) columns to the Dataframe\n",
        "num_new_cols = X_train_PCA_np.shape[1]\n",
        "new_col_names = [f\"PCA_{ind}\" for ind in range(num_new_cols)]\n",
        "X_train_PCA[new_col_names] = X_train_PCA_np\n",
        "X_test_PCA[new_col_names] = X_test_PCA_np\n",
        "\n",
        "# Print New columns\n",
        "print(\"\\nNumber of columns (after PCA): \", len(X_train_PCA.describe().columns))\n",
        "print(\"\\nColumns: \", X_train_PCA.columns)"
      ],
      "execution_count": null,
      "outputs": []
    },
    {
      "cell_type": "markdown",
      "metadata": {
        "id": "LF2TpLm6_R43"
      },
      "source": [
        "## Create Model"
      ]
    },
    {
      "cell_type": "code",
      "metadata": {
        "id": "q3FaU-mm_R43"
      },
      "source": [
        "from project_libs.project import models"
      ],
      "execution_count": null,
      "outputs": []
    },
    {
      "cell_type": "code",
      "metadata": {
        "id": "C6UZLcfT_R44"
      },
      "source": [
        ""
      ],
      "execution_count": null,
      "outputs": []
    },
    {
      "cell_type": "markdown",
      "metadata": {
        "id": "wu9ePfp3_R44"
      },
      "source": [
        "## Hyperparameter Tuning"
      ]
    },
    {
      "cell_type": "code",
      "metadata": {
        "id": "77oc9Fts_R45"
      },
      "source": [
        ""
      ],
      "execution_count": null,
      "outputs": []
    },
    {
      "cell_type": "code",
      "metadata": {
        "id": "c-m9AC65_R45"
      },
      "source": [
        ""
      ],
      "execution_count": null,
      "outputs": []
    },
    {
      "cell_type": "markdown",
      "metadata": {
        "id": "ftG2GlOD_R45"
      },
      "source": [
        "## Training"
      ]
    },
    {
      "cell_type": "code",
      "metadata": {
        "id": "DbiMCPxv_R45"
      },
      "source": [
        ""
      ],
      "execution_count": null,
      "outputs": []
    },
    {
      "cell_type": "code",
      "metadata": {
        "id": "4e7XVFjU_R45"
      },
      "source": [
        ""
      ],
      "execution_count": null,
      "outputs": []
    },
    {
      "cell_type": "markdown",
      "metadata": {
        "id": "rvKmuDdz_R45"
      },
      "source": [
        "## Testing"
      ]
    },
    {
      "cell_type": "code",
      "metadata": {
        "id": "6o4JiRvk_R46"
      },
      "source": [
        ""
      ],
      "execution_count": null,
      "outputs": []
    },
    {
      "cell_type": "code",
      "metadata": {
        "id": "Gq_xEG2k_R46"
      },
      "source": [
        ""
      ],
      "execution_count": null,
      "outputs": []
    },
    {
      "cell_type": "markdown",
      "metadata": {
        "id": "JEE1AbzV_R46"
      },
      "source": [
        "## Evaluation"
      ]
    },
    {
      "cell_type": "code",
      "metadata": {
        "id": "3Ke-n6PF_R46"
      },
      "source": [
        ""
      ],
      "execution_count": null,
      "outputs": []
    },
    {
      "cell_type": "code",
      "metadata": {
        "id": "sO3j0tXh_R46"
      },
      "source": [
        ""
      ],
      "execution_count": null,
      "outputs": []
    },
    {
      "cell_type": "markdown",
      "metadata": {
        "id": "GESxdsoM_R47"
      },
      "source": [
        "## Plots"
      ]
    },
    {
      "cell_type": "code",
      "metadata": {
        "id": "u0puX5EV_R47"
      },
      "source": [
        "from project_libs.project import plotter as pl"
      ],
      "execution_count": null,
      "outputs": []
    },
    {
      "cell_type": "code",
      "metadata": {
        "id": "wbJIRBHY_R47"
      },
      "source": [
        ""
      ],
      "execution_count": null,
      "outputs": []
    }
  ]
}