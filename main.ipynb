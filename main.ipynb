{
 "cells": [
  {
   "cell_type": "markdown",
   "metadata": {
    "collapsed": true,
    "id": "Vt9t7-fVi8At"
   },
   "source": [
    "# Machine Learning - Final Project\n",
    "## Accident Severity Prediction\n",
    "**Team**: *Jennifer Lord, Konstantinos Georgiou, Russ Limber, Sanjeev Singh, Sara Howard*"
   ]
  },
  {
   "cell_type": "markdown",
   "metadata": {
    "id": "eiRSeV6fi8A0"
   },
   "source": [
    "## Where to put the code\n",
    "- Place the preprocessing functions/classes in [\\<project root\\>/project_libs/project/preprocessing.py](https://github.com/UTK-ML-Dream-Team/accident-severity-prediction/blob/master/project_libs/project/preprocessing.py)\n",
    "- The models in [\\<project root\\>/project_libs/project/models.py](https://github.com/UTK-ML-Dream-Team/accident-severity-prediction/blob/master/project_libs/project/models.py)\n",
    "- Any plotting related functions in [\\<project root\\>/project_libs/project/plotter.py](https://github.com/UTK-ML-Dream-Team/accident-severity-prediction/blob/master/project_libs/project/plotter.py)\n",
    "\n",
    "\n",
    "**The code is reloaded automatically. Any class object needs to reinitialized though.** \n",
    "\n",
    "## Config file\n",
    "The yml/config file is located at: [confs/prototype1.yml](https://github.com/UTK-ML-Dream-Team/accident-severity-prediction/blob/master/confs/prototype1.yml)<br>\n",
    "To load it run:\n",
    "```python\n",
    "config_path='confs/prototype1.yml'\n",
    "conf = Configuration(config_src=config_path)\n",
    "# Get the dataset loader config\n",
    "loader_config = conf.get_config('data_loader')['config']['dataset'] # type = Dict\n",
    "print(books.keys())\n",
    "print(loader_config['url'])\n",
    "```\n",
    "To reload the config just run the 2nd and 3rd command.\n",
    "\n",
    "## Libraries Overview:\n",
    "All the libraries are located under *\"\\<project root>/project_libs\"*\n",
    "- project_libs/**project**: This project's code (imported later)\n",
    "- project_libs/**configuration**: Class that creates config objects from yml files\n",
    "- project_libs/**fancy_logger**: Logger that can be used instead of prints for text formatting (color, bold, underline etc)\n",
    "\n",
    "## For more info check out:\n",
    "- the **[Project Board](https://github.com/UTK-ML-Dream-Team/accident-severity-prediction/projects/1)**\n",
    "- and the **[Current Issues](https://github.com/UTK-ML-Dream-Team/accident-severity-prediction/issues)**"
   ]
  },
  {
   "cell_type": "markdown",
   "metadata": {
    "id": "1gmuUzi6gSdg"
   },
   "source": [
    "# ------------------------------------------------------------------"
   ]
  },
  {
   "cell_type": "markdown",
   "metadata": {
    "id": "1Nl39AXjgSdg"
   },
   "source": [
    "## On Google Collab?\n",
    "- **If yes, run the two cells and press the two buttons below:**\n",
    "- Otherwise go to \"***Import the base Libraries***\""
   ]
  },
  {
   "cell_type": "code",
   "execution_count": 24,
   "metadata": {
    "colab": {
     "base_uri": "https://localhost:8080/",
     "height": 268,
     "referenced_widgets": [
      "4e9d2f9a46b243b0a1456d42e11f4fd3",
      "d2969618a7404586a8f0af2918d0810f",
      "0cd02d53c0e144799b710e29332c2f7b"
     ]
    },
    "id": "1SQIWYWmi8A4",
    "outputId": "66fdab2d-8d71-4ead-ecda-a4ec2682d195"
   },
   "outputs": [
    {
     "name": "stdout",
     "output_type": "stream",
     "text": [
      "Clone project?\n",
      "(If you do this you will ovewrite local changes on other files e.g. configs)\n",
      "Not needed if you're not on Google Collab\n"
     ]
    },
    {
     "data": {
      "application/vnd.jupyter.widget-view+json": {
       "model_id": "4e9d2f9a46b243b0a1456d42e11f4fd3",
       "version_major": 2,
       "version_minor": 0
      },
      "text/plain": [
       "Button(description='Yes, clone', style=ButtonStyle())"
      ]
     },
     "metadata": {},
     "output_type": "display_data"
    },
    {
     "name": "stdout",
     "output_type": "stream",
     "text": [
      "Cloning Project..\n",
      "Cloning into 'accident-severity-prediction'...\n",
      "remote: Enumerating objects: 186, done.\u001b[K\n",
      "remote: Counting objects: 100% (186/186), done.\u001b[K\n",
      "remote: Compressing objects: 100% (136/136), done.\u001b[K\n",
      "remote: Total 186 (delta 103), reused 118 (delta 46), pack-reused 0\u001b[K\n",
      "Receiving objects: 100% (186/186), 294.05 KiB | 3.77 MiB/s, done.\n",
      "Resolving deltas: 100% (103/103), done.\n",
      "Project cloned.\n"
     ]
    }
   ],
   "source": [
    "# Import Jupyter Widgets\n",
    "import os\n",
    "import ipywidgets as widgets\n",
    "from ipywidgets import interact, interact_manual\n",
    "from IPython.display import display\n",
    "# Clone the repository if you're in Google Collab\n",
    "def clone_project(is_collab: bool = False):\n",
    "    print(\"Cloning Project..\")\n",
    "    !git clone https://github.com/UTK-ML-Dream-Team/accident-severity-prediction.git\n",
    "    print(\"Project cloned.\")\n",
    "       \n",
    "print(\"Clone project?\")\n",
    "print(\"(If you do this you will ovewrite local changes on other files e.g. configs)\")\n",
    "print(\"Not needed if you're not on Google Collab\")\n",
    "btn = widgets.Button(description=\"Yes, clone\")\n",
    "btn.on_click(clone_project)\n",
    "display(btn)"
   ]
  },
  {
   "cell_type": "code",
   "execution_count": 25,
   "metadata": {
    "colab": {
     "base_uri": "https://localhost:8080/",
     "height": 1000,
     "referenced_widgets": [
      "03c291d92a85442d99189ca331ece5e4",
      "6754b860dcea4b15b762add1c97278ce",
      "d4a84f30f7464677a2da3a4498a13aa2"
     ]
    },
    "id": "F_l8p4H1i8A5",
    "outputId": "25569239-f58d-4ac5-e940-071a75e342bf"
   },
   "outputs": [
    {
     "name": "stdout",
     "output_type": "stream",
     "text": [
      "Are you on Google Collab?\n"
     ]
    },
    {
     "data": {
      "application/vnd.jupyter.widget-view+json": {
       "model_id": "03c291d92a85442d99189ca331ece5e4",
       "version_major": 2,
       "version_minor": 0
      },
      "text/plain": [
       "Button(description='Yes', style=ButtonStyle())"
      ]
     },
     "metadata": {},
     "output_type": "display_data"
    },
    {
     "name": "stdout",
     "output_type": "stream",
     "text": [
      "Changing dir..\n",
      "done\n",
      "Current dir:\n",
      "/content/accident-severity-prediction\n",
      "Dir Contents:\n",
      "['setup.py', 'README.md', 'project_libs', 'main.ipynb', '.gitattributes', 'confs', 'Makefile', 'old_files', '.git', '.gitignore', 'accident-severity-prediction', 'data', 'requirements.txt']\n",
      "\n",
      "Installing Requirements\n",
      "Requirement already satisfied: jsonschema>=3.2.0 in /usr/local/lib/python3.7/dist-packages (from -r requirements.txt (line 1)) (4.2.1)\n",
      "Requirement already satisfied: jupyter>=1.0.0 in /usr/local/lib/python3.7/dist-packages (from -r requirements.txt (line 2)) (1.0.0)\n",
      "Requirement already satisfied: jupyterthemes>=0.20.0 in /usr/local/lib/python3.7/dist-packages (from -r requirements.txt (line 3)) (0.20.0)\n",
      "Requirement already satisfied: kaggle>=1.5.12 in /usr/local/lib/python3.7/dist-packages (from -r requirements.txt (line 4)) (1.5.12)\n",
      "Requirement already satisfied: matplotlib>=3.4.3 in /usr/local/lib/python3.7/dist-packages (from -r requirements.txt (line 5)) (3.5.0)\n",
      "Requirement already satisfied: nbstripout>=0.3.10 in /usr/local/lib/python3.7/dist-packages (from -r requirements.txt (line 6)) (0.5.0)\n",
      "Requirement already satisfied: numpy>=1.20.3 in /usr/local/lib/python3.7/dist-packages (from -r requirements.txt (line 7)) (1.21.4)\n",
      "Requirement already satisfied: pyparsing<3,>=2.0.2 in /usr/local/lib/python3.7/dist-packages (from -r requirements.txt (line 8)) (2.4.7)\n",
      "Requirement already satisfied: pandas>=1.3.3 in /usr/local/lib/python3.7/dist-packages (from -r requirements.txt (line 9)) (1.3.4)\n",
      "Requirement already satisfied: PyYAML>=5.4.1 in /usr/local/lib/python3.7/dist-packages (from -r requirements.txt (line 10)) (6.0)\n",
      "Requirement already satisfied: seaborn>=0.11.2 in /usr/local/lib/python3.7/dist-packages (from -r requirements.txt (line 11)) (0.11.2)\n",
      "Requirement already satisfied: setuptools>=52.0.0 in /usr/local/lib/python3.7/dist-packages (from -r requirements.txt (line 12)) (57.4.0)\n",
      "Requirement already satisfied: scikit-learn>=0.0 in /usr/local/lib/python3.7/dist-packages (from -r requirements.txt (line 13)) (1.0.1)\n",
      "Requirement already satisfied: scipy>=1.7.1 in /usr/local/lib/python3.7/dist-packages (from -r requirements.txt (line 14)) (1.7.2)\n",
      "Requirement already satisfied: statsmodels in /usr/local/lib/python3.7/dist-packages (from -r requirements.txt (line 15)) (0.10.2)\n",
      "Requirement already satisfied: termcolor>=1.1.0 in /usr/local/lib/python3.7/dist-packages (from -r requirements.txt (line 16)) (1.1.0)\n",
      "Requirement already satisfied: typer>=0.3.2 in /usr/local/lib/python3.7/dist-packages (from -r requirements.txt (line 17)) (0.4.0)\n",
      "Requirement already satisfied: tqdm>=4.62.3 in /usr/local/lib/python3.7/dist-packages (from -r requirements.txt (line 18)) (4.62.3)\n",
      "Requirement already satisfied: attrs>=17.4.0 in /usr/local/lib/python3.7/dist-packages (from jsonschema>=3.2.0->-r requirements.txt (line 1)) (21.2.0)\n",
      "Requirement already satisfied: importlib-metadata in /usr/local/lib/python3.7/dist-packages (from jsonschema>=3.2.0->-r requirements.txt (line 1)) (4.8.2)\n",
      "Requirement already satisfied: pyrsistent!=0.17.0,!=0.17.1,!=0.17.2,>=0.14.0 in /usr/local/lib/python3.7/dist-packages (from jsonschema>=3.2.0->-r requirements.txt (line 1)) (0.18.0)\n",
      "Requirement already satisfied: importlib-resources>=1.4.0 in /usr/local/lib/python3.7/dist-packages (from jsonschema>=3.2.0->-r requirements.txt (line 1)) (5.4.0)\n",
      "Requirement already satisfied: nbconvert in /usr/local/lib/python3.7/dist-packages (from jupyter>=1.0.0->-r requirements.txt (line 2)) (5.6.1)\n",
      "Requirement already satisfied: ipywidgets in /usr/local/lib/python3.7/dist-packages (from jupyter>=1.0.0->-r requirements.txt (line 2)) (7.6.5)\n",
      "Requirement already satisfied: qtconsole in /usr/local/lib/python3.7/dist-packages (from jupyter>=1.0.0->-r requirements.txt (line 2)) (5.2.0)\n",
      "Requirement already satisfied: jupyter-console in /usr/local/lib/python3.7/dist-packages (from jupyter>=1.0.0->-r requirements.txt (line 2)) (5.2.0)\n",
      "Requirement already satisfied: ipykernel in /usr/local/lib/python3.7/dist-packages (from jupyter>=1.0.0->-r requirements.txt (line 2)) (4.10.1)\n",
      "Requirement already satisfied: notebook in /usr/local/lib/python3.7/dist-packages (from jupyter>=1.0.0->-r requirements.txt (line 2)) (6.4.6)\n",
      "Requirement already satisfied: lesscpy>=0.11.2 in /usr/local/lib/python3.7/dist-packages (from jupyterthemes>=0.20.0->-r requirements.txt (line 3)) (0.15.0)\n",
      "Requirement already satisfied: jupyter-core in /usr/local/lib/python3.7/dist-packages (from jupyterthemes>=0.20.0->-r requirements.txt (line 3)) (4.9.1)\n",
      "Requirement already satisfied: ipython>=5.4.1 in /usr/local/lib/python3.7/dist-packages (from jupyterthemes>=0.20.0->-r requirements.txt (line 3)) (5.5.0)\n",
      "Requirement already satisfied: urllib3 in /usr/local/lib/python3.7/dist-packages (from kaggle>=1.5.12->-r requirements.txt (line 4)) (1.24.3)\n",
      "Requirement already satisfied: python-dateutil in /usr/local/lib/python3.7/dist-packages (from kaggle>=1.5.12->-r requirements.txt (line 4)) (2.8.2)\n",
      "Requirement already satisfied: requests in /usr/local/lib/python3.7/dist-packages (from kaggle>=1.5.12->-r requirements.txt (line 4)) (2.23.0)\n",
      "Requirement already satisfied: certifi in /usr/local/lib/python3.7/dist-packages (from kaggle>=1.5.12->-r requirements.txt (line 4)) (2021.10.8)\n",
      "Requirement already satisfied: python-slugify in /usr/local/lib/python3.7/dist-packages (from kaggle>=1.5.12->-r requirements.txt (line 4)) (5.0.2)\n",
      "Requirement already satisfied: six>=1.10 in /usr/local/lib/python3.7/dist-packages (from kaggle>=1.5.12->-r requirements.txt (line 4)) (1.15.0)\n",
      "Requirement already satisfied: kiwisolver>=1.0.1 in /usr/local/lib/python3.7/dist-packages (from matplotlib>=3.4.3->-r requirements.txt (line 5)) (1.3.2)\n",
      "Requirement already satisfied: fonttools>=4.22.0 in /usr/local/lib/python3.7/dist-packages (from matplotlib>=3.4.3->-r requirements.txt (line 5)) (4.28.1)\n",
      "Requirement already satisfied: pillow>=6.2.0 in /usr/local/lib/python3.7/dist-packages (from matplotlib>=3.4.3->-r requirements.txt (line 5)) (7.1.2)\n",
      "Requirement already satisfied: setuptools-scm>=4 in /usr/local/lib/python3.7/dist-packages (from matplotlib>=3.4.3->-r requirements.txt (line 5)) (6.3.2)\n",
      "Requirement already satisfied: packaging>=20.0 in /usr/local/lib/python3.7/dist-packages (from matplotlib>=3.4.3->-r requirements.txt (line 5)) (21.2)\n",
      "Requirement already satisfied: cycler>=0.10 in /usr/local/lib/python3.7/dist-packages (from matplotlib>=3.4.3->-r requirements.txt (line 5)) (0.11.0)\n",
      "Requirement already satisfied: nbformat in /usr/local/lib/python3.7/dist-packages (from nbstripout>=0.3.10->-r requirements.txt (line 6)) (5.1.3)\n",
      "Requirement already satisfied: pytz>=2017.3 in /usr/local/lib/python3.7/dist-packages (from pandas>=1.3.3->-r requirements.txt (line 9)) (2018.9)\n",
      "Requirement already satisfied: threadpoolctl>=2.0.0 in /usr/local/lib/python3.7/dist-packages (from scikit-learn>=0.0->-r requirements.txt (line 13)) (3.0.0)\n",
      "Requirement already satisfied: joblib>=0.11 in /usr/local/lib/python3.7/dist-packages (from scikit-learn>=0.0->-r requirements.txt (line 13)) (1.1.0)\n",
      "Requirement already satisfied: click<9.0.0,>=7.1.1 in /usr/local/lib/python3.7/dist-packages (from typer>=0.3.2->-r requirements.txt (line 17)) (7.1.2)\n",
      "Requirement already satisfied: zipp>=3.1.0 in /usr/local/lib/python3.7/dist-packages (from importlib-resources>=1.4.0->jsonschema>=3.2.0->-r requirements.txt (line 1)) (3.6.0)\n",
      "Requirement already satisfied: pygments in /usr/local/lib/python3.7/dist-packages (from ipython>=5.4.1->jupyterthemes>=0.20.0->-r requirements.txt (line 3)) (2.6.1)\n",
      "Requirement already satisfied: pexpect in /usr/local/lib/python3.7/dist-packages (from ipython>=5.4.1->jupyterthemes>=0.20.0->-r requirements.txt (line 3)) (4.8.0)\n",
      "Requirement already satisfied: prompt-toolkit<2.0.0,>=1.0.4 in /usr/local/lib/python3.7/dist-packages (from ipython>=5.4.1->jupyterthemes>=0.20.0->-r requirements.txt (line 3)) (1.0.18)\n",
      "Requirement already satisfied: pickleshare in /usr/local/lib/python3.7/dist-packages (from ipython>=5.4.1->jupyterthemes>=0.20.0->-r requirements.txt (line 3)) (0.7.5)\n",
      "Requirement already satisfied: decorator in /usr/local/lib/python3.7/dist-packages (from ipython>=5.4.1->jupyterthemes>=0.20.0->-r requirements.txt (line 3)) (4.4.2)\n",
      "Requirement already satisfied: traitlets>=4.2 in /usr/local/lib/python3.7/dist-packages (from ipython>=5.4.1->jupyterthemes>=0.20.0->-r requirements.txt (line 3)) (5.1.1)\n",
      "Requirement already satisfied: simplegeneric>0.8 in /usr/local/lib/python3.7/dist-packages (from ipython>=5.4.1->jupyterthemes>=0.20.0->-r requirements.txt (line 3)) (0.8.1)\n",
      "Requirement already satisfied: ply in /usr/local/lib/python3.7/dist-packages (from lesscpy>=0.11.2->jupyterthemes>=0.20.0->-r requirements.txt (line 3)) (3.11)\n",
      "Requirement already satisfied: pyzmq>=17 in /usr/local/lib/python3.7/dist-packages (from notebook->jupyter>=1.0.0->-r requirements.txt (line 2)) (22.3.0)\n",
      "Requirement already satisfied: argon2-cffi in /usr/local/lib/python3.7/dist-packages (from notebook->jupyter>=1.0.0->-r requirements.txt (line 2)) (21.1.0)\n",
      "Requirement already satisfied: jinja2 in /usr/local/lib/python3.7/dist-packages (from notebook->jupyter>=1.0.0->-r requirements.txt (line 2)) (2.11.3)\n",
      "Requirement already satisfied: Send2Trash>=1.8.0 in /usr/local/lib/python3.7/dist-packages (from notebook->jupyter>=1.0.0->-r requirements.txt (line 2)) (1.8.0)\n",
      "Requirement already satisfied: ipython-genutils in /usr/local/lib/python3.7/dist-packages (from notebook->jupyter>=1.0.0->-r requirements.txt (line 2)) (0.2.0)\n",
      "Requirement already satisfied: nest-asyncio>=1.5 in /usr/local/lib/python3.7/dist-packages (from notebook->jupyter>=1.0.0->-r requirements.txt (line 2)) (1.5.1)\n",
      "Requirement already satisfied: tornado>=6.1 in /usr/local/lib/python3.7/dist-packages (from notebook->jupyter>=1.0.0->-r requirements.txt (line 2)) (6.1)\n",
      "Requirement already satisfied: terminado>=0.8.3 in /usr/local/lib/python3.7/dist-packages (from notebook->jupyter>=1.0.0->-r requirements.txt (line 2)) (0.12.1)\n",
      "Requirement already satisfied: jupyter-client>=5.3.4 in /usr/local/lib/python3.7/dist-packages (from notebook->jupyter>=1.0.0->-r requirements.txt (line 2)) (5.3.5)\n",
      "Requirement already satisfied: prometheus-client in /usr/local/lib/python3.7/dist-packages (from notebook->jupyter>=1.0.0->-r requirements.txt (line 2)) (0.12.0)\n",
      "Requirement already satisfied: wcwidth in /usr/local/lib/python3.7/dist-packages (from prompt-toolkit<2.0.0,>=1.0.4->ipython>=5.4.1->jupyterthemes>=0.20.0->-r requirements.txt (line 3)) (0.2.5)\n",
      "Requirement already satisfied: tomli>=1.0.0 in /usr/local/lib/python3.7/dist-packages (from setuptools-scm>=4->matplotlib>=3.4.3->-r requirements.txt (line 5)) (1.2.2)\n",
      "Requirement already satisfied: ptyprocess in /usr/local/lib/python3.7/dist-packages (from terminado>=0.8.3->notebook->jupyter>=1.0.0->-r requirements.txt (line 2)) (0.7.0)\n",
      "Requirement already satisfied: patsy>=0.4.0 in /usr/local/lib/python3.7/dist-packages (from statsmodels->-r requirements.txt (line 15)) (0.5.2)\n",
      "Requirement already satisfied: cffi>=1.0.0 in /usr/local/lib/python3.7/dist-packages (from argon2-cffi->notebook->jupyter>=1.0.0->-r requirements.txt (line 2)) (1.15.0)\n",
      "Requirement already satisfied: pycparser in /usr/local/lib/python3.7/dist-packages (from cffi>=1.0.0->argon2-cffi->notebook->jupyter>=1.0.0->-r requirements.txt (line 2)) (2.21)\n",
      "Requirement already satisfied: typing-extensions>=3.6.4 in /usr/local/lib/python3.7/dist-packages (from importlib-metadata->jsonschema>=3.2.0->-r requirements.txt (line 1)) (3.10.0.2)\n",
      "Requirement already satisfied: widgetsnbextension~=3.5.0 in /usr/local/lib/python3.7/dist-packages (from ipywidgets->jupyter>=1.0.0->-r requirements.txt (line 2)) (3.5.2)\n",
      "Requirement already satisfied: jupyterlab-widgets>=1.0.0 in /usr/local/lib/python3.7/dist-packages (from ipywidgets->jupyter>=1.0.0->-r requirements.txt (line 2)) (1.0.2)\n",
      "Requirement already satisfied: MarkupSafe>=0.23 in /usr/local/lib/python3.7/dist-packages (from jinja2->notebook->jupyter>=1.0.0->-r requirements.txt (line 2)) (2.0.1)\n",
      "Requirement already satisfied: entrypoints>=0.2.2 in /usr/local/lib/python3.7/dist-packages (from nbconvert->jupyter>=1.0.0->-r requirements.txt (line 2)) (0.3)\n",
      "Requirement already satisfied: defusedxml in /usr/local/lib/python3.7/dist-packages (from nbconvert->jupyter>=1.0.0->-r requirements.txt (line 2)) (0.7.1)\n",
      "Requirement already satisfied: mistune<2,>=0.8.1 in /usr/local/lib/python3.7/dist-packages (from nbconvert->jupyter>=1.0.0->-r requirements.txt (line 2)) (0.8.4)\n",
      "Requirement already satisfied: bleach in /usr/local/lib/python3.7/dist-packages (from nbconvert->jupyter>=1.0.0->-r requirements.txt (line 2)) (4.1.0)\n",
      "Requirement already satisfied: pandocfilters>=1.4.1 in /usr/local/lib/python3.7/dist-packages (from nbconvert->jupyter>=1.0.0->-r requirements.txt (line 2)) (1.5.0)\n",
      "Requirement already satisfied: testpath in /usr/local/lib/python3.7/dist-packages (from nbconvert->jupyter>=1.0.0->-r requirements.txt (line 2)) (0.5.0)\n",
      "Requirement already satisfied: webencodings in /usr/local/lib/python3.7/dist-packages (from bleach->nbconvert->jupyter>=1.0.0->-r requirements.txt (line 2)) (0.5.1)\n",
      "Requirement already satisfied: text-unidecode>=1.3 in /usr/local/lib/python3.7/dist-packages (from python-slugify->kaggle>=1.5.12->-r requirements.txt (line 4)) (1.3)\n",
      "Requirement already satisfied: qtpy in /usr/local/lib/python3.7/dist-packages (from qtconsole->jupyter>=1.0.0->-r requirements.txt (line 2)) (1.11.2)\n",
      "Requirement already satisfied: chardet<4,>=3.0.2 in /usr/local/lib/python3.7/dist-packages (from requests->kaggle>=1.5.12->-r requirements.txt (line 4)) (3.0.4)\n",
      "Requirement already satisfied: idna<3,>=2.5 in /usr/local/lib/python3.7/dist-packages (from requests->kaggle>=1.5.12->-r requirements.txt (line 4)) (2.10)\n"
     ]
    }
   ],
   "source": [
    "# Clone the repository if you're in Google Collab\n",
    "def change_dir(is_collab: bool = False):\n",
    "    try:\n",
    "        print(\"Changing dir..\")\n",
    "        os.chdir('/content/accident-severity-prediction')\n",
    "        print('done')\n",
    "        print(\"Current dir:\")\n",
    "        print(os.getcwd())\n",
    "        print(\"Dir Contents:\")\n",
    "        print(os.listdir())\n",
    "        print(\"\\nInstalling Requirements\")\n",
    "        !pip install -r requirements.txt\n",
    "    except Exception:\n",
    "        print(\"Error: Project not cloned\")\n",
    "       \n",
    "print(\"Are you on Google Collab?\")\n",
    "btn = widgets.Button(description=\"Yes\")\n",
    "btn.on_click(change_dir)\n",
    "display(btn)"
   ]
  },
  {
   "cell_type": "markdown",
   "metadata": {
    "id": "6CpeQfTli8A6"
   },
   "source": [
    "### To commit and push Google Collab notebook to Github\n",
    "Click **File > Save a copy on Gihtub**"
   ]
  },
  {
   "cell_type": "markdown",
   "metadata": {
    "id": "reFZW6B8gSdj"
   },
   "source": [
    "# ------------------------------------------------------------------"
   ]
  },
  {
   "cell_type": "markdown",
   "metadata": {
    "id": "h54edY45gSdj"
   },
   "source": [
    "# Initializations"
   ]
  },
  {
   "cell_type": "markdown",
   "metadata": {
    "id": "H1RHGfh1i8A8",
    "pycharm": {
     "name": "#%%\n"
    }
   },
   "source": [
    "## Import the base Libraries"
   ]
  },
  {
   "cell_type": "code",
   "execution_count": 131,
   "metadata": {
    "colab": {
     "base_uri": "https://localhost:8080/"
    },
    "id": "wjKYGxzYi8A9",
    "outputId": "2b3c3672-17ee-47f4-b2ef-28081edf10c9"
   },
   "outputs": [
    {
     "name": "stdout",
     "output_type": "stream",
     "text": [
      "The autoreload extension is already loaded. To reload it, use:\n",
      "  %reload_ext autoreload\n"
     ]
    }
   ],
   "source": [
    "# Imports\n",
    "%load_ext autoreload\n",
    "%autoreload 2\n",
    "%config InlineBackend.figure_formats = ['png']\n",
    "from importlib import reload as reload_lib\n",
    "from typing import *\n",
    "import os\n",
    "import re\n",
    "from pprint import pprint\n",
    "import datetime \n",
    "import time\n",
    "# Numpy\n",
    "import numpy as np\n",
    "import pandas as pd\n",
    "\n",
    "# Import preprocessing lib\n",
    "from project_libs.project import *"
   ]
  },
  {
   "cell_type": "markdown",
   "metadata": {
    "id": "PYBmLhFZgSdk"
   },
   "source": [
    "## Load the YML file"
   ]
  },
  {
   "cell_type": "code",
   "execution_count": 2,
   "metadata": {
    "id": "-z773EjNgSdk"
   },
   "outputs": [],
   "source": [
    "from project_libs import Configuration"
   ]
  },
  {
   "cell_type": "code",
   "execution_count": 3,
   "metadata": {
    "colab": {
     "base_uri": "https://localhost:8080/"
    },
    "id": "XYH2o7w3i8A-",
    "outputId": "39ab58db-be99-4ff8-95db-d6365411e5d6"
   },
   "outputs": [
    {
     "name": "stderr",
     "output_type": "stream",
     "text": [
      "2021-11-29 17:31:46 Config       INFO     \u001b[1m\u001b[37mConfiguration file loaded successfully from path: /Users/sanjeevsingh/Dropbox/Courses/COSC522/FinalProject/accident-severity-prediction/confs/prototype1.yml\u001b[0m\n",
      "2021-11-29 17:31:46 Config       INFO     \u001b[1m\u001b[37mConfiguration Tag: prototype_1\u001b[0m\n"
     ]
    }
   ],
   "source": [
    "# The path of configuration and log save path\n",
    "config_path = \"confs/prototype1.yml\"\n",
    "# !cat \"$config_path\"\n",
    "# Load the configuratåion\n",
    "conf = Configuration(config_src=config_path)\n",
    "# Get the books dict\n",
    "loader_config = conf.get_config('data_loader')['config']['dataset']\n",
    "preprocessing_config = conf.get_config('data_loader')['config']['preprocessing']\n",
    "# print(books.keys())\n",
    "# pprint(books)  # Pretty print the books dict"
   ]
  },
  {
   "cell_type": "markdown",
   "metadata": {
    "id": "ztSC5oWsgSdl"
   },
   "source": [
    "# ------------------------------------------------------------------"
   ]
  },
  {
   "cell_type": "markdown",
   "metadata": {
    "id": "ZyM4avEli8A_"
   },
   "source": [
    "# Start of Project Code"
   ]
  },
  {
   "cell_type": "code",
   "execution_count": 4,
   "metadata": {
    "id": "CuYpT_rqgSdl"
   },
   "outputs": [],
   "source": [
    "from project_libs import project as proj"
   ]
  },
  {
   "cell_type": "markdown",
   "metadata": {
    "id": "OhlCQKWpg4Et"
   },
   "source": [
    "## Data Loading"
   ]
  },
  {
   "cell_type": "code",
   "execution_count": 5,
   "metadata": {
    "colab": {
     "base_uri": "https://localhost:8080/"
    },
    "id": "MVRVJ0-6_R4t",
    "outputId": "4f782923-d473-464e-d539-71587af61934"
   },
   "outputs": [
    {
     "name": "stdout",
     "output_type": "stream",
     "text": [
      "mkdir: /Users/sanjeevsingh/.kaggle: File exists\n",
      "mkdir: data: File exists\n",
      "zsh:1: command not found: kaggle\n"
     ]
    }
   ],
   "source": [
    "# Download Dataset again if requested\n",
    "should_download = loader_config['download']\n",
    "if should_download:\n",
    "    kaggle_dataset_name = loader_config['kaggle_dataset_name']\n",
    "    !mkdir ~/.kaggle\n",
    "    !cp confs/kaggle.json ~/.kaggle/\n",
    "    !chmod 600 ~/.kaggle/kaggle.json\n",
    "    !mkdir data\n",
    "    !cd data && kaggle datasets download -d $kaggle_dataset_name && unzip -o us-accidents.zip && rm us-accidents.zip"
   ]
  },
  {
   "cell_type": "code",
   "execution_count": 6,
   "metadata": {
    "id": "qpxXezwmgSdm"
   },
   "outputs": [],
   "source": [
    "# Load Dataset\n",
    "accidents_df_original = pd.read_csv(loader_config['local_dataset_name'])\n",
    "accidents_df = accidents_df_original.copy()"
   ]
  },
  {
   "cell_type": "markdown",
   "metadata": {
    "id": "NZ9xyLsV_R4v"
   },
   "source": [
    "## Exploration"
   ]
  },
  {
   "cell_type": "markdown",
   "metadata": {
    "id": "aKazCmez_R4v"
   },
   "source": [
    "### Sampling Tests"
   ]
  },
  {
   "cell_type": "code",
   "execution_count": 7,
   "metadata": {
    "id": "FUhRKjPO_R4v"
   },
   "outputs": [
    {
     "name": "stdout",
     "output_type": "stream",
     "text": [
      "Number of rows: 1516064\n",
      "Number of Columns: 47\n",
      "Columns: Index(['ID', 'Severity', 'Start_Time', 'End_Time', 'Start_Lat', 'Start_Lng',\n",
      "       'End_Lat', 'End_Lng', 'Distance(mi)', 'Description', 'Number', 'Street',\n",
      "       'Side', 'City', 'County', 'State', 'Zipcode', 'Country', 'Timezone',\n",
      "       'Airport_Code', 'Weather_Timestamp', 'Temperature(F)', 'Wind_Chill(F)',\n",
      "       'Humidity(%)', 'Pressure(in)', 'Visibility(mi)', 'Wind_Direction',\n",
      "       'Wind_Speed(mph)', 'Precipitation(in)', 'Weather_Condition', 'Amenity',\n",
      "       'Bump', 'Crossing', 'Give_Way', 'Junction', 'No_Exit', 'Railway',\n",
      "       'Roundabout', 'Station', 'Stop', 'Traffic_Calming', 'Traffic_Signal',\n",
      "       'Turning_Loop', 'Sunrise_Sunset', 'Civil_Twilight', 'Nautical_Twilight',\n",
      "       'Astronomical_Twilight'],\n",
      "      dtype='object')\n"
     ]
    }
   ],
   "source": [
    "# Print Basic Info\n",
    "print(f\"Number of rows: {accidents_df.shape[0]}\")\n",
    "print(f\"Number of Columns: {accidents_df.shape[1]}\")\n",
    "print(f\"Columns: {accidents_df.columns}\")"
   ]
  },
  {
   "cell_type": "code",
   "execution_count": 8,
   "metadata": {
    "id": "WXFdXiqz_R4w"
   },
   "outputs": [
    {
     "name": "stdout",
     "output_type": "stream",
     "text": [
      "Unique Cities: \n",
      "['Dublin', 'Dayton', 'Cincinnati', 'Akron', 'Williamsburg', 'Batavia', 'Cleveland', 'Lima', 'Westerville', 'Jamestown'], ..\n",
      "Number of cities: 10658\n",
      "----------------------------------------------------\n",
      "Number of rows when only FIRST 20 were included: 28208\n",
      "Number of rows when only FIRST 50 were included: 49824\n",
      "Number of rows when only FIRST 100 were included: 62172\n",
      "Number of rows when only FIRST 500 were included: 279012\n",
      "Number of rows when only FIRST 1000 were included: 693738\n",
      "Number of rows when only FIRST 1500 were included: 775703\n",
      "Number of rows when only FIRST 2000 were included: 1037886\n"
     ]
    }
   ],
   "source": [
    "# -- Filter By Cities -- #\n",
    "print(\"Unique Cities: \")\n",
    "cities = accidents_df.City.unique().tolist()\n",
    "print(f\"{cities[:10]}, ..\")\n",
    "print(f\"Number of cities: {len(cities)}\")\n",
    "print(\"----------------------------------------------------\")\n",
    "\n",
    "# Try different number of cities filters\n",
    "for num_cities in [20, 50, 100, 500, 1000, 1500, 2000]:\n",
    "    current_num = accidents_df[accidents_df.City.isin(cities[:num_cities])].shape[0]\n",
    "    print(f\"Number of rows when only FIRST {num_cities} were included: {current_num}\")"
   ]
  },
  {
   "cell_type": "code",
   "execution_count": 9,
   "metadata": {
    "id": "x6vKUXk-_R4x"
   },
   "outputs": [
    {
     "name": "stdout",
     "output_type": "stream",
     "text": [
      "Earliest date: 2016-02-08 00:37:08\n",
      "Most Recent date: 2020-12-31 23:28:56\n",
      "----------------------------------------------------\n",
      "Number of rows when only dates STARTED FROM 1/2017 were included: 1386739\n",
      "Number of rows when only dates STARTED FROM 1/2018 were included: 1216640\n",
      "Number of rows when only dates STARTED FROM 1/2019 were included: 1049704\n",
      "Number of rows when only dates STARTED FROM 1/2020 were included: 787932\n",
      "Number of rows when only dates STARTED FROM 6/2020 were included: 546313\n",
      "Number of rows when only dates STARTED FROM 9/2020 were included: 480503\n"
     ]
    }
   ],
   "source": [
    "# -- Filter By Date -- #\n",
    "accidents_df.loc[:, 'Start_Time_dt'] = pd.to_datetime(accidents_df.Start_Time)\n",
    "print(f\"Earliest date: {accidents_df.Start_Time_dt.min()}\")\n",
    "print(f\"Most Recent date: {accidents_df.Start_Time_dt.max()}\")\n",
    "print(\"----------------------------------------------------\")\n",
    "\n",
    "# Try different date filters\n",
    "dates = [(2017, 1), (2018, 1), (2019, 1), (2020, 1), (2020, 6), (2020, 9)]\n",
    "for year, month in dates:\n",
    "    condition = accidents_df.Start_Time_dt.dt.date>=datetime.date(year=year,month=month,day=1)\n",
    "    current_num = accidents_df.Start_Time_dt[condition].shape[0]\n",
    "    print(f\"Number of rows when only dates STARTED FROM {month}/{year} were included: {current_num}\")\n"
   ]
  },
  {
   "cell_type": "code",
   "execution_count": 10,
   "metadata": {
    "id": "N9uVOifl_R4x"
   },
   "outputs": [
    {
     "name": "stdout",
     "output_type": "stream",
     "text": [
      "Unique States: \n",
      "['OH', 'IN', 'KY', 'WV', 'MI', 'PA', 'CA', 'NV', 'MN', 'TX']\n",
      "Number of states: 49\n",
      "----------------------------------------------------\n",
      "Number of rows when only North Eastern states were included: 206216\n",
      "Number of rows when only dates STARTED FROM 1/2020 for the North Easter States were included: 114565\n"
     ]
    }
   ],
   "source": [
    "# -- Filter By States and Date -- #\n",
    "print(\"Unique States: \")\n",
    "states = accidents_df.State.unique().tolist()\n",
    "print(states[:10])\n",
    "print(f\"Number of states: {len(states)}\")\n",
    "print(\"----------------------------------------------------\")\n",
    "\n",
    "# Filter By NE States\n",
    "staes_of_choice =  ['PA', 'NY', 'VY', 'ME', 'NH', 'MA', 'RI', 'CT', 'NJ', 'DE', 'DC', 'MD']\n",
    "accidents_df_filtered = accidents_df[accidents_df.State.isin(staes_of_choice)].copy()\n",
    "print(f\"Number of rows when only North Eastern states were included: {accidents_df_filtered.shape[0]}\")\n",
    "\n",
    "# By Date\n",
    "year, month = 2020, 1\n",
    "condition = accidents_df_filtered.Start_Time_dt.dt.date>=datetime.date(year=year,month=month,day=1)\n",
    "current_num = accidents_df_filtered.Start_Time_dt[condition].shape[0]\n",
    "print(f\"Number of rows when only dates STARTED FROM {month}/{year} for the North Easter States were included: {current_num}\")"
   ]
  },
  {
   "cell_type": "markdown",
   "metadata": {
    "id": "SJhWGaFO_R4y"
   },
   "source": [
    "### Correlation between features"
   ]
  },
  {
   "cell_type": "code",
   "execution_count": 11,
   "metadata": {
    "id": "VEwL6ac2_R4y"
   },
   "outputs": [],
   "source": [
    "from project_libs.project import plotter as pl"
   ]
  },
  {
   "cell_type": "code",
   "execution_count": 12,
   "metadata": {
    "colab": {
     "base_uri": "https://localhost:8080/",
     "height": 606
    },
    "id": "0A9_ORtr_R4y",
    "outputId": "2c10c210-3011-4cbd-843c-12c9f613905d"
   },
   "outputs": [
    {
     "name": "stdout",
     "output_type": "stream",
     "text": [
      "['Severity', 'Start_Lat', 'Start_Lng', 'End_Lat', 'End_Lng', 'Distance(mi)', 'Number', 'Temperature(F)', 'Wind_Chill(F)', 'Humidity(%)', 'Pressure(in)', 'Visibility(mi)', 'Wind_Speed(mph)', 'Precipitation(in)']\n"
     ]
    },
    {
     "data": {
      "image/png": "[encoded data removed]",
      "text/plain": [
       "<Figure size 648x504 with 2 Axes>"
      ]
     },
     "metadata": {
      "needs_background": "light"
     },
     "output_type": "display_data"
    }
   ],
   "source": [
    "# Find Correlations between columns\n",
    "cols_to_visualize = list(accidents_df_original.describe().columns)\n",
    "print(cols_to_visualize)\n",
    "pl.viz_columns_corr(accidents_df_original, cols_to_visualize)"
   ]
  },
  {
   "cell_type": "markdown",
   "metadata": {
    "id": "i_R2mcmqgSdq"
   },
   "source": [
    "## Preprocessing"
   ]
  },
  {
   "cell_type": "code",
   "execution_count": 13,
   "metadata": {
    "id": "gRUrrWe7gSdq"
   },
   "outputs": [],
   "source": [
    "from project_libs.project import preprocessing as pre"
   ]
  },
  {
   "cell_type": "code",
   "execution_count": 14,
   "metadata": {
    "colab": {
     "base_uri": "https://localhost:8080/",
     "height": 929
    },
    "id": "jidzZ38HgSds",
    "outputId": "2f3b51b3-54f6-465f-afd3-855e154d58aa"
   },
   "outputs": [
    {
     "data": {
      "text/html": [
       "<div>\n",
       "<style scoped>\n",
       "    .dataframe tbody tr th:only-of-type {\n",
       "        vertical-align: middle;\n",
       "    }\n",
       "\n",
       "    .dataframe tbody tr th {\n",
       "        vertical-align: top;\n",
       "    }\n",
       "\n",
       "    .dataframe thead th {\n",
       "        text-align: right;\n",
       "    }\n",
       "</style>\n",
       "<table border=\"1\" class=\"dataframe\">\n",
       "  <thead>\n",
       "    <tr style=\"text-align: right;\">\n",
       "      <th></th>\n",
       "      <th>ID</th>\n",
       "      <th>Severity</th>\n",
       "      <th>Start_Time</th>\n",
       "      <th>End_Time</th>\n",
       "      <th>Start_Lat</th>\n",
       "      <th>Start_Lng</th>\n",
       "      <th>End_Lat</th>\n",
       "      <th>End_Lng</th>\n",
       "      <th>Distance(mi)</th>\n",
       "      <th>Description</th>\n",
       "      <th>...</th>\n",
       "      <th>Roundabout</th>\n",
       "      <th>Station</th>\n",
       "      <th>Stop</th>\n",
       "      <th>Traffic_Calming</th>\n",
       "      <th>Traffic_Signal</th>\n",
       "      <th>Turning_Loop</th>\n",
       "      <th>Sunrise_Sunset</th>\n",
       "      <th>Civil_Twilight</th>\n",
       "      <th>Nautical_Twilight</th>\n",
       "      <th>Astronomical_Twilight</th>\n",
       "    </tr>\n",
       "  </thead>\n",
       "  <tbody>\n",
       "    <tr>\n",
       "      <th>98138</th>\n",
       "      <td>A-2814738</td>\n",
       "      <td>3</td>\n",
       "      <td>2016-11-30 15:01:56</td>\n",
       "      <td>2016-11-30 21:01:56</td>\n",
       "      <td>33.662770</td>\n",
       "      <td>-111.999580</td>\n",
       "      <td>33.66622</td>\n",
       "      <td>-111.99952</td>\n",
       "      <td>0.238</td>\n",
       "      <td>At AZ-101-LOOP/Exit 15 - Accident.</td>\n",
       "      <td>...</td>\n",
       "      <td>False</td>\n",
       "      <td>False</td>\n",
       "      <td>False</td>\n",
       "      <td>False</td>\n",
       "      <td>False</td>\n",
       "      <td>False</td>\n",
       "      <td>Day</td>\n",
       "      <td>Day</td>\n",
       "      <td>Day</td>\n",
       "      <td>Day</td>\n",
       "    </tr>\n",
       "    <tr>\n",
       "      <th>98139</th>\n",
       "      <td>A-2814739</td>\n",
       "      <td>2</td>\n",
       "      <td>2016-11-30 15:19:52</td>\n",
       "      <td>2016-11-30 21:19:52</td>\n",
       "      <td>33.668760</td>\n",
       "      <td>-112.072750</td>\n",
       "      <td>33.66898</td>\n",
       "      <td>-112.05849</td>\n",
       "      <td>0.820</td>\n",
       "      <td>At 7th St/Exit 26 - Accident.</td>\n",
       "      <td>...</td>\n",
       "      <td>False</td>\n",
       "      <td>False</td>\n",
       "      <td>False</td>\n",
       "      <td>False</td>\n",
       "      <td>False</td>\n",
       "      <td>False</td>\n",
       "      <td>Day</td>\n",
       "      <td>Day</td>\n",
       "      <td>Day</td>\n",
       "      <td>Day</td>\n",
       "    </tr>\n",
       "    <tr>\n",
       "      <th>98141</th>\n",
       "      <td>A-2814741</td>\n",
       "      <td>2</td>\n",
       "      <td>2016-11-30 17:05:39</td>\n",
       "      <td>2016-11-30 23:05:39</td>\n",
       "      <td>33.484250</td>\n",
       "      <td>-112.113190</td>\n",
       "      <td>33.47491</td>\n",
       "      <td>-112.11320</td>\n",
       "      <td>0.645</td>\n",
       "      <td>At Thomas Rd/Exit 201 - Accident.</td>\n",
       "      <td>...</td>\n",
       "      <td>False</td>\n",
       "      <td>False</td>\n",
       "      <td>False</td>\n",
       "      <td>False</td>\n",
       "      <td>False</td>\n",
       "      <td>False</td>\n",
       "      <td>Day</td>\n",
       "      <td>Day</td>\n",
       "      <td>Day</td>\n",
       "      <td>Day</td>\n",
       "    </tr>\n",
       "    <tr>\n",
       "      <th>98142</th>\n",
       "      <td>A-2814742</td>\n",
       "      <td>2</td>\n",
       "      <td>2016-11-30 17:10:37</td>\n",
       "      <td>2016-11-30 23:10:37</td>\n",
       "      <td>33.295215</td>\n",
       "      <td>-111.972420</td>\n",
       "      <td>33.28853</td>\n",
       "      <td>-111.97132</td>\n",
       "      <td>0.466</td>\n",
       "      <td>At Chandler Blvd/Exit 160 - Accident.</td>\n",
       "      <td>...</td>\n",
       "      <td>False</td>\n",
       "      <td>False</td>\n",
       "      <td>False</td>\n",
       "      <td>False</td>\n",
       "      <td>False</td>\n",
       "      <td>False</td>\n",
       "      <td>Day</td>\n",
       "      <td>Day</td>\n",
       "      <td>Day</td>\n",
       "      <td>Day</td>\n",
       "    </tr>\n",
       "    <tr>\n",
       "      <th>98146</th>\n",
       "      <td>A-2814746</td>\n",
       "      <td>2</td>\n",
       "      <td>2016-11-30 18:28:58</td>\n",
       "      <td>2016-12-01 00:28:58</td>\n",
       "      <td>33.461900</td>\n",
       "      <td>-112.092145</td>\n",
       "      <td>33.46190</td>\n",
       "      <td>-112.09904</td>\n",
       "      <td>0.397</td>\n",
       "      <td>At 19th Ave/Exit 143C - Accident.</td>\n",
       "      <td>...</td>\n",
       "      <td>False</td>\n",
       "      <td>False</td>\n",
       "      <td>False</td>\n",
       "      <td>False</td>\n",
       "      <td>False</td>\n",
       "      <td>False</td>\n",
       "      <td>Night</td>\n",
       "      <td>Night</td>\n",
       "      <td>Night</td>\n",
       "      <td>Day</td>\n",
       "    </tr>\n",
       "    <tr>\n",
       "      <th>...</th>\n",
       "      <td>...</td>\n",
       "      <td>...</td>\n",
       "      <td>...</td>\n",
       "      <td>...</td>\n",
       "      <td>...</td>\n",
       "      <td>...</td>\n",
       "      <td>...</td>\n",
       "      <td>...</td>\n",
       "      <td>...</td>\n",
       "      <td>...</td>\n",
       "      <td>...</td>\n",
       "      <td>...</td>\n",
       "      <td>...</td>\n",
       "      <td>...</td>\n",
       "      <td>...</td>\n",
       "      <td>...</td>\n",
       "      <td>...</td>\n",
       "      <td>...</td>\n",
       "      <td>...</td>\n",
       "      <td>...</td>\n",
       "      <td>...</td>\n",
       "    </tr>\n",
       "    <tr>\n",
       "      <th>1515761</th>\n",
       "      <td>A-4239104</td>\n",
       "      <td>3</td>\n",
       "      <td>2019-08-23 16:58:31</td>\n",
       "      <td>2019-08-23 17:26:11</td>\n",
       "      <td>41.815300</td>\n",
       "      <td>-87.630480</td>\n",
       "      <td>41.81212</td>\n",
       "      <td>-87.63042</td>\n",
       "      <td>0.220</td>\n",
       "      <td>At 47th St/Exit 56B - Accident.</td>\n",
       "      <td>...</td>\n",
       "      <td>False</td>\n",
       "      <td>False</td>\n",
       "      <td>False</td>\n",
       "      <td>False</td>\n",
       "      <td>False</td>\n",
       "      <td>False</td>\n",
       "      <td>Day</td>\n",
       "      <td>Day</td>\n",
       "      <td>Day</td>\n",
       "      <td>Day</td>\n",
       "    </tr>\n",
       "    <tr>\n",
       "      <th>1515762</th>\n",
       "      <td>A-4239105</td>\n",
       "      <td>3</td>\n",
       "      <td>2019-08-23 16:03:57</td>\n",
       "      <td>2019-08-23 16:33:31</td>\n",
       "      <td>41.715130</td>\n",
       "      <td>-87.630040</td>\n",
       "      <td>41.71499</td>\n",
       "      <td>-87.63090</td>\n",
       "      <td>0.045</td>\n",
       "      <td>At I-57/Exit 63 - Accident. unconfirmed report.</td>\n",
       "      <td>...</td>\n",
       "      <td>False</td>\n",
       "      <td>False</td>\n",
       "      <td>False</td>\n",
       "      <td>False</td>\n",
       "      <td>False</td>\n",
       "      <td>False</td>\n",
       "      <td>Day</td>\n",
       "      <td>Day</td>\n",
       "      <td>Day</td>\n",
       "      <td>Day</td>\n",
       "    </tr>\n",
       "    <tr>\n",
       "      <th>1515763</th>\n",
       "      <td>A-4239106</td>\n",
       "      <td>3</td>\n",
       "      <td>2019-08-23 16:03:57</td>\n",
       "      <td>2019-08-23 16:33:31</td>\n",
       "      <td>41.943350</td>\n",
       "      <td>-87.716690</td>\n",
       "      <td>41.94859</td>\n",
       "      <td>-87.72162</td>\n",
       "      <td>0.442</td>\n",
       "      <td>At Addison St/Exit 45A - Accident.</td>\n",
       "      <td>...</td>\n",
       "      <td>False</td>\n",
       "      <td>False</td>\n",
       "      <td>False</td>\n",
       "      <td>False</td>\n",
       "      <td>False</td>\n",
       "      <td>False</td>\n",
       "      <td>Day</td>\n",
       "      <td>Day</td>\n",
       "      <td>Day</td>\n",
       "      <td>Day</td>\n",
       "    </tr>\n",
       "    <tr>\n",
       "      <th>1515764</th>\n",
       "      <td>A-4239107</td>\n",
       "      <td>3</td>\n",
       "      <td>2019-08-23 16:03:57</td>\n",
       "      <td>2019-08-23 16:33:31</td>\n",
       "      <td>41.718620</td>\n",
       "      <td>-87.625210</td>\n",
       "      <td>41.71513</td>\n",
       "      <td>-87.63004</td>\n",
       "      <td>0.347</td>\n",
       "      <td>Ramp to I-57 Southbound - Accident. unconfirme...</td>\n",
       "      <td>...</td>\n",
       "      <td>False</td>\n",
       "      <td>False</td>\n",
       "      <td>False</td>\n",
       "      <td>False</td>\n",
       "      <td>False</td>\n",
       "      <td>False</td>\n",
       "      <td>Day</td>\n",
       "      <td>Day</td>\n",
       "      <td>Day</td>\n",
       "      <td>Day</td>\n",
       "    </tr>\n",
       "    <tr>\n",
       "      <th>1515776</th>\n",
       "      <td>A-4239119</td>\n",
       "      <td>3</td>\n",
       "      <td>2019-08-23 20:54:19</td>\n",
       "      <td>2019-08-23 21:23:54</td>\n",
       "      <td>41.783460</td>\n",
       "      <td>-87.630600</td>\n",
       "      <td>41.79887</td>\n",
       "      <td>-87.63087</td>\n",
       "      <td>1.065</td>\n",
       "      <td>Between 59th St/Exit 58A and Garfield Blvd/Exi...</td>\n",
       "      <td>...</td>\n",
       "      <td>False</td>\n",
       "      <td>False</td>\n",
       "      <td>False</td>\n",
       "      <td>False</td>\n",
       "      <td>False</td>\n",
       "      <td>False</td>\n",
       "      <td>Night</td>\n",
       "      <td>Night</td>\n",
       "      <td>Night</td>\n",
       "      <td>Day</td>\n",
       "    </tr>\n",
       "  </tbody>\n",
       "</table>\n",
       "<p>90421 rows × 47 columns</p>\n",
       "</div>"
      ],
      "text/plain": [
       "                ID  Severity           Start_Time             End_Time  \\\n",
       "98138    A-2814738         3  2016-11-30 15:01:56  2016-11-30 21:01:56   \n",
       "98139    A-2814739         2  2016-11-30 15:19:52  2016-11-30 21:19:52   \n",
       "98141    A-2814741         2  2016-11-30 17:05:39  2016-11-30 23:05:39   \n",
       "98142    A-2814742         2  2016-11-30 17:10:37  2016-11-30 23:10:37   \n",
       "98146    A-2814746         2  2016-11-30 18:28:58  2016-12-01 00:28:58   \n",
       "...            ...       ...                  ...                  ...   \n",
       "1515761  A-4239104         3  2019-08-23 16:58:31  2019-08-23 17:26:11   \n",
       "1515762  A-4239105         3  2019-08-23 16:03:57  2019-08-23 16:33:31   \n",
       "1515763  A-4239106         3  2019-08-23 16:03:57  2019-08-23 16:33:31   \n",
       "1515764  A-4239107         3  2019-08-23 16:03:57  2019-08-23 16:33:31   \n",
       "1515776  A-4239119         3  2019-08-23 20:54:19  2019-08-23 21:23:54   \n",
       "\n",
       "         Start_Lat   Start_Lng   End_Lat    End_Lng  Distance(mi)  \\\n",
       "98138    33.662770 -111.999580  33.66622 -111.99952         0.238   \n",
       "98139    33.668760 -112.072750  33.66898 -112.05849         0.820   \n",
       "98141    33.484250 -112.113190  33.47491 -112.11320         0.645   \n",
       "98142    33.295215 -111.972420  33.28853 -111.97132         0.466   \n",
       "98146    33.461900 -112.092145  33.46190 -112.09904         0.397   \n",
       "...            ...         ...       ...        ...           ...   \n",
       "1515761  41.815300  -87.630480  41.81212  -87.63042         0.220   \n",
       "1515762  41.715130  -87.630040  41.71499  -87.63090         0.045   \n",
       "1515763  41.943350  -87.716690  41.94859  -87.72162         0.442   \n",
       "1515764  41.718620  -87.625210  41.71513  -87.63004         0.347   \n",
       "1515776  41.783460  -87.630600  41.79887  -87.63087         1.065   \n",
       "\n",
       "                                               Description  ...  Roundabout  \\\n",
       "98138                   At AZ-101-LOOP/Exit 15 - Accident.  ...       False   \n",
       "98139                        At 7th St/Exit 26 - Accident.  ...       False   \n",
       "98141                    At Thomas Rd/Exit 201 - Accident.  ...       False   \n",
       "98142                At Chandler Blvd/Exit 160 - Accident.  ...       False   \n",
       "98146                    At 19th Ave/Exit 143C - Accident.  ...       False   \n",
       "...                                                    ...  ...         ...   \n",
       "1515761                    At 47th St/Exit 56B - Accident.  ...       False   \n",
       "1515762    At I-57/Exit 63 - Accident. unconfirmed report.  ...       False   \n",
       "1515763                 At Addison St/Exit 45A - Accident.  ...       False   \n",
       "1515764  Ramp to I-57 Southbound - Accident. unconfirme...  ...       False   \n",
       "1515776  Between 59th St/Exit 58A and Garfield Blvd/Exi...  ...       False   \n",
       "\n",
       "        Station   Stop Traffic_Calming Traffic_Signal Turning_Loop  \\\n",
       "98138     False  False           False          False        False   \n",
       "98139     False  False           False          False        False   \n",
       "98141     False  False           False          False        False   \n",
       "98142     False  False           False          False        False   \n",
       "98146     False  False           False          False        False   \n",
       "...         ...    ...             ...            ...          ...   \n",
       "1515761   False  False           False          False        False   \n",
       "1515762   False  False           False          False        False   \n",
       "1515763   False  False           False          False        False   \n",
       "1515764   False  False           False          False        False   \n",
       "1515776   False  False           False          False        False   \n",
       "\n",
       "        Sunrise_Sunset Civil_Twilight Nautical_Twilight Astronomical_Twilight  \n",
       "98138              Day            Day               Day                   Day  \n",
       "98139              Day            Day               Day                   Day  \n",
       "98141              Day            Day               Day                   Day  \n",
       "98142              Day            Day               Day                   Day  \n",
       "98146            Night          Night             Night                   Day  \n",
       "...                ...            ...               ...                   ...  \n",
       "1515761            Day            Day               Day                   Day  \n",
       "1515762            Day            Day               Day                   Day  \n",
       "1515763            Day            Day               Day                   Day  \n",
       "1515764            Day            Day               Day                   Day  \n",
       "1515776          Night          Night             Night                   Day  \n",
       "\n",
       "[90421 rows x 47 columns]"
      ]
     },
     "metadata": {},
     "output_type": "display_data"
    }
   ],
   "source": [
    "# Create a copy of the df\n",
    "accidents_df_isolated = accidents_df_original.copy()\n",
    "\n",
    "# Isolate city state\n",
    "city_list = preprocessing_config['city_list']\n",
    "state_list = preprocessing_config['state_list']\n",
    "accidents_df_isolated = pre.isolate_city_state(accidents_df_isolated, city_list, state_list)\n",
    "display(accidents_df_isolated)"
   ]
  },
  {
   "cell_type": "code",
   "execution_count": 15,
   "metadata": {
    "id": "iRzRvtxY_R40",
    "scrolled": true
   },
   "outputs": [
    {
     "name": "stderr",
     "output_type": "stream",
     "text": [
      "2021-11-29 17:36:32 Preprocessing INFO     \u001b[1m\u001b[32m                                 OLS Regression Results                                \n",
      "=======================================================================================\n",
      "Dep. Variable:                      y   R-squared (uncentered):                   0.999\n",
      "Model:                            OLS   Adj. R-squared (uncentered):              0.999\n",
      "Method:                 Least Squares   F-statistic:                          2.042e+07\n",
      "Date:                Mon, 29 Nov 2021   Prob (F-statistic):                        0.00\n",
      "Time:                        17:36:32   Log-Likelihood:                     -1.2984e+05\n",
      "No. Observations:               56661   AIC:                                  2.597e+05\n",
      "Df Residuals:                   56659   BIC:                                  2.597e+05\n",
      "Df Model:                           2                                                  \n",
      "Covariance Type:            nonrobust                                                  \n",
      "===================================================================================\n",
      "                      coef    std err          t      P>|t|      [0.025      0.975]\n",
      "-----------------------------------------------------------------------------------\n",
      "Temperature(F)      1.0178      0.000   4644.886      0.000       1.017       1.018\n",
      "Wind_Speed(mph)    -0.3023      0.002   -164.445      0.000      -0.306      -0.299\n",
      "==============================================================================\n",
      "Omnibus:                    19081.525   Durbin-Watson:                   0.497\n",
      "Prob(Omnibus):                  0.000   Jarque-Bera (JB):           103607.354\n",
      "Skew:                          -1.528   Prob(JB):                         0.00\n",
      "Kurtosis:                       8.877   Cond. No.                         11.9\n",
      "==============================================================================\n",
      "\n",
      "Notes:\n",
      "[1] R² is computed without centering (uncentered) since the model does not contain a constant.\n",
      "[2] Standard Errors assume that the covariance matrix of the errors is correctly specified.\u001b[0m\n"
     ]
    },
    {
     "name": "stdout",
     "output_type": "stream",
     "text": [
      "Percent of missing rows by column \n",
      "\n",
      " Weather_Timestamp        0.007985\n",
      "Temperature(F)           0.010175\n",
      "Wind_Chill(F)            0.373365\n",
      "Humidity(%)              0.010639\n",
      "Pressure(in)             0.010352\n",
      "Visibility(mi)           0.009920\n",
      "Wind_Direction           0.017584\n",
      "Wind_Speed(mph)          0.103427\n",
      "Precipitation(in)        0.376229\n",
      "Weather_Condition        0.009721\n",
      "Sunrise_Sunset           0.000000\n",
      "Civil_Twilight           0.000000\n",
      "Nautical_Twilight        0.000000\n",
      "Astronomical_Twilight    0.000000\n",
      "dtype: float64\n",
      "Percent of missing rows by column \n",
      "\n",
      " Weather_Timestamp        0.007985\n",
      "Temperature(F)           0.010175\n",
      "Wind_Chill(F)            0.373365\n",
      "Humidity(%)              0.010639\n",
      "Pressure(in)             0.010352\n",
      "Visibility(mi)           0.009920\n",
      "Wind_Direction           0.017584\n",
      "Wind_Speed(mph)          0.103427\n",
      "Precipitation(in)        0.376229\n",
      "Weather_Condition        0.009721\n",
      "Sunrise_Sunset           0.000000\n",
      "Civil_Twilight           0.000000\n",
      "Nautical_Twilight        0.000000\n",
      "Astronomical_Twilight    0.000000\n",
      "Wind_Temp                0.103969\n",
      "dtype: float64\n"
     ]
    }
   ],
   "source": [
    "### --- Russ's Code --- ###\n",
    "\n",
    "# Create a copy of the df\n",
    "accidents_df_russ = accidents_df_isolated.copy()\n",
    "\n",
    "env_vars = preprocessing_config['env_vars']\n",
    "accidents_df_russ = pre.subset_df(accidents_df_russ, env_vars)\n",
    "\n",
    "print('Percent of missing rows by column', '\\n\\n', accidents_df_russ.isnull().sum()/len(accidents_df_russ))\n",
    "\n",
    "temp_wind = pre.subset_df(accidents_df_russ, ['Temperature(F)', 'Wind_Speed(mph)'])\n",
    "pre.OLS(temp_wind, np.array(accidents_df_russ['Wind_Chill(F)']))\n",
    "\n",
    "accidents_df_russ[\"Wind_Temp\"] = accidents_df_russ['Wind_Chill(F)'].fillna((accidents_df_russ['Temperature(F)']*1.0178 - accidents_df_russ['Wind_Speed(mph)']*0.3023))\n",
    "\n",
    "print('Percent of missing rows by column', '\\n\\n', accidents_df_russ.isnull().sum()/len(accidents_df_russ))\n",
    "accidents_df_russ.drop(\"Wind_Chill(F)\", axis=1)\n",
    "\n",
    "accidents_df_russ = pre.knn_imputer(accidents_df_russ, 3)\n",
    "accidents_df_russ = pre.basic_impute(accidents_df_russ)\n",
    "\n",
    "#print('Percent of missing rows by column', '\\n\\n', accidents_df_russ.isnull().sum()/len(accidents_df_russ))\n"
   ]
  },
  {
   "cell_type": "code",
   "execution_count": 89,
   "metadata": {
    "id": "1GHd-p-6_R40"
   },
   "outputs": [
    {
     "name": "stdout",
     "output_type": "stream",
     "text": [
      "X_raw: Number of missing rows by column \n",
      " Weather_Timestamp          722\n",
      "Temperature(F)               0\n",
      "Wind_Chill(F)                0\n",
      "Humidity(%)                  0\n",
      "Pressure(in)                 0\n",
      "Visibility(mi)               0\n",
      "Wind_Direction            1590\n",
      "Wind_Speed(mph)              0\n",
      "Precipitation(in)            0\n",
      "Weather_Condition          879\n",
      "Sunrise_Sunset               0\n",
      "Civil_Twilight               0\n",
      "Nautical_Twilight            0\n",
      "Astronomical_Twilight        0\n",
      "Wind_Temp                    0\n",
      "ID                           0\n",
      "Severity                     0\n",
      "Start_Time                   0\n",
      "End_Time                     0\n",
      "Distance(mi)                 0\n",
      "Description                  0\n",
      "Start_Lat                    0\n",
      "Start_Lng                    0\n",
      "End_Lat                      0\n",
      "End_Lng                      0\n",
      "Number                   67960\n",
      "Street                       0\n",
      "Side                         0\n",
      "City                         0\n",
      "County                       0\n",
      "State                        0\n",
      "Zipcode                      0\n",
      "Country                      0\n",
      "Timezone                     0\n",
      "Airport_Code                 0\n",
      "Traffic_Signal               0\n",
      "Crossing                     0\n",
      "Station                      0\n",
      "Amenity                      0\n",
      "Bump                         0\n",
      "Give_Way                     0\n",
      "Junction                     0\n",
      "No_Exit                      0\n",
      "Railway                      0\n",
      "Roundabout                   0\n",
      "Stop                         0\n",
      "Traffic_Calming              0\n",
      "Turning_Loop                 0\n",
      "dtype: int64\n"
     ]
    },
    {
     "name": "stderr",
     "output_type": "stream",
     "text": [
      "/Users/sanjeevsingh/Dropbox/Courses/COSC522/FinalProject/accident-severity-prediction/project_libs/project/preprocessing.py:164: SettingWithCopyWarning: \n",
      "A value is trying to be set on a copy of a slice from a DataFrame.\n",
      "Try using .loc[row_indexer,col_indexer] = value instead\n",
      "\n",
      "See the caveats in the documentation: https://pandas.pydata.org/pandas-docs/stable/user_guide/indexing.html#returning-a-view-versus-a-copy\n",
      "  \n"
     ]
    }
   ],
   "source": [
    "### --- Sanjeev's Code --- ###\n",
    "\n",
    "# Create a copy of the df\n",
    "accidents_df_sanjeev = accidents_df_isolated.copy()\n",
    "\n",
    "# Filter the infra variables\n",
    "infra_vars = preprocessing_config['infra_vars']\n",
    "accidents_df_infra = accidents_df_isolated[infra_vars].copy()\n",
    "\n",
    "# Filter location and basic variables\n",
    "accidents_df_sanjeev = pre.filter_loc_basic_var(accidents_df_sanjeev)\n",
    "\n",
    "# Combine all Russ, Sanjeev, and Infra DF\n",
    "X_raw = pd.concat([accidents_df_russ, accidents_df_sanjeev, accidents_df_infra], axis=1)\n",
    "print('X_raw: Number of missing rows by column', '\\n', X_raw.isnull().sum())\n",
    "\n",
    "# Standardize, Encode, Extract and Split Train/Test\n",
    "X_train, X_val, X_test, y_train, y_val, y_test = encode_std_extract_split(X_raw)"
   ]
  },
  {
   "cell_type": "markdown",
   "metadata": {
    "id": "lI2avh0G_R41"
   },
   "source": [
    "### PCA"
   ]
  },
  {
   "cell_type": "code",
   "execution_count": 90,
   "metadata": {
    "id": "dWT86ui6_R42"
   },
   "outputs": [
    {
     "name": "stderr",
     "output_type": "stream",
     "text": [
      "2021-11-30 17:43:20 Preprocessing INFO     \u001b[1m\u001b[32mFor # dims=15 error=0.009648033344375362 <= 0.01\u001b[0m\n"
     ]
    },
    {
     "name": "stdout",
     "output_type": "stream",
     "text": [
      "Number of columns to reduce using PCA (only numerical ones):  142\n",
      "\n",
      "Null values per column:\n",
      "Temperature(F)                              0\n",
      "Wind_Chill(F)                               0\n",
      "Humidity(%)                                 0\n",
      "Pressure(in)                                0\n",
      "Visibility(mi)                              0\n",
      "                                           ..\n",
      "Weather_Condition_Thunderstorm              0\n",
      "Weather_Condition_Thunderstorms and Rain    0\n",
      "Weather_Condition_Widespread Dust           0\n",
      "Weather_Condition_Wintry Mix                0\n",
      "Weather_Condition_Wintry Mix / Windy        0\n",
      "Length: 142, dtype: int64\n",
      "\n",
      "Type of exported Numpy array:  float64\n",
      "\n",
      "Number of columns (after PCA):  16\n",
      "\n",
      "Columns:  Index(['PCA_0', 'PCA_1', 'PCA_2', 'PCA_3', 'PCA_4', 'PCA_5', 'PCA_6', 'PCA_7',\n",
      "       'PCA_8', 'PCA_9', 'PCA_10', 'PCA_11', 'PCA_12', 'PCA_13', 'PCA_14',\n",
      "       'PCA_15'],\n",
      "      dtype='object')\n"
     ]
    }
   ],
   "source": [
    "### --- Kostas's Code --- ###\n",
    "\n",
    "# Create a copy of the dfs\n",
    "X_train_PCA = X_train.copy()\n",
    "X_val_PCA = X_val.copy()\n",
    "X_test_PCA = X_test.copy()\n",
    "\n",
    "# Retrieve Numerical Columns\n",
    "numerical_cols = X_train_PCA.describe().columns\n",
    "print(\"Number of columns to reduce using PCA (only numerical ones): \", len(numerical_cols))\n",
    "\n",
    "# Check for Nulls\n",
    "print(\"\\nNull values per column:\")\n",
    "print(X_train_PCA[numerical_cols].isna().sum())\n",
    "\n",
    "# Export to Numpy\n",
    "X_train_PCA_np = X_train_PCA[numerical_cols].to_numpy()\n",
    "X_val_PCA_np = X_val_PCA[numerical_cols].to_numpy()\n",
    "X_test_PCA_np = X_test_PCA[numerical_cols].to_numpy()\n",
    "print(\"\\nType of exported Numpy array: \", X_train_PCA_np.dtype)\n",
    "\n",
    "# Run PCA\n",
    "pca = pre.PCA()\n",
    "pca.fit(data=X_train_PCA_np, max_error=0.01)\n",
    "X_train_PCA_np = pca.transform(data=X_train_PCA_np)\n",
    "X_val_PCA_np = pca.transform(data=X_val_PCA_np)\n",
    "X_test_PCA_np = pca.transform(data=X_test_PCA_np)\n",
    "\n",
    "# Drop the reduces columns from DF\n",
    "X_train_PCA = X_train_PCA.drop(numerical_cols, axis=1)\n",
    "X_val_PCA = X_val_PCA.drop(numerical_cols, axis=1)\n",
    "X_test_PCA = X_test_PCA.drop(numerical_cols, axis=1)\n",
    "\n",
    "# Add the new (reduced) columns to the Dataframe\n",
    "num_new_cols = X_train_PCA_np.shape[1]\n",
    "new_col_names = [f\"PCA_{ind}\" for ind in range(num_new_cols)]\n",
    "X_train_PCA[new_col_names] = X_train_PCA_np\n",
    "X_val_PCA[new_col_names] = X_val_PCA_np\n",
    "X_test_PCA[new_col_names] = X_test_PCA_np\n",
    "\n",
    "# Print New columns\n",
    "print(\"\\nNumber of columns (after PCA): \", len(X_train_PCA.describe().columns))\n",
    "print(\"\\nColumns: \", X_train_PCA.columns)"
   ]
  },
  {
   "cell_type": "markdown",
   "metadata": {
    "id": "LF2TpLm6_R43"
   },
   "source": [
    "## Create Model"
   ]
  },
  {
   "cell_type": "code",
   "execution_count": 104,
   "metadata": {
    "id": "q3FaU-mm_R43"
   },
   "outputs": [],
   "source": [
    "from project_libs.project import models"
   ]
  },
  {
   "cell_type": "code",
   "execution_count": 91,
   "metadata": {
    "scrolled": true
   },
   "outputs": [
    {
     "name": "stderr",
     "output_type": "stream",
     "text": [
      "2021-11-30 17:43:35 Models       INFO     \u001b[1m\u001b[32mParametric Model (case: euclidean) for the PCA data dataset\u001b[0m\n",
      "2021-11-30 17:43:35 Models       INFO     \u001b[1m\u001b[32mThe overall accuracy is: 0.5443\u001b[0m\n",
      "2021-11-30 17:43:35 Models       INFO     \u001b[1m\u001b[32mThe classwise accuracies are: [0.5714900947459087, 0.45305729417428986]\u001b[0m\n",
      "2021-11-30 17:43:35 Models       INFO     \u001b[1m\u001b[32mTotal time: 0.0916 sec(s)\u001b[0m\n",
      "2021-11-30 17:43:35 Models       INFO     \u001b[1m\u001b[31m|               |   Positive    |   Negative    |\u001b[0m\n",
      "2021-11-30 17:43:35 Models       INFO     \u001b[1m\u001b[31m|   Positive    |     3981      |     2985      |\u001b[0m\n",
      "2021-11-30 17:43:35 Models       INFO     \u001b[1m\u001b[31m|   Negative    |     1136      |      941      |\u001b[0m\n",
      "2021-11-30 17:43:35 Models       INFO     \u001b[1m\u001b[32mParametric Model (case: mahalanobis) for the PCA data dataset\u001b[0m\n",
      "2021-11-30 17:43:35 Models       INFO     \u001b[1m\u001b[32mThe overall accuracy is: 0.7399\u001b[0m\n",
      "2021-11-30 17:43:35 Models       INFO     \u001b[1m\u001b[32mThe classwise accuracies are: [0.7354292276772897, 0.7549350024073183]\u001b[0m\n",
      "2021-11-30 17:43:35 Models       INFO     \u001b[1m\u001b[32mTotal time: 0.4374 sec(s)\u001b[0m\n",
      "2021-11-30 17:43:35 Models       INFO     \u001b[1m\u001b[31m|               |   Positive    |   Negative    |\u001b[0m\n",
      "2021-11-30 17:43:35 Models       INFO     \u001b[1m\u001b[31m|   Positive    |     5123      |     1843      |\u001b[0m\n",
      "2021-11-30 17:43:35 Models       INFO     \u001b[1m\u001b[31m|   Negative    |      509      |     1568      |\u001b[0m\n",
      "2021-11-30 17:43:36 Models       INFO     \u001b[1m\u001b[32mParametric Model (case: quadratic) for the PCA data dataset\u001b[0m\n",
      "2021-11-30 17:43:36 Models       INFO     \u001b[1m\u001b[32mThe overall accuracy is: 0.8003\u001b[0m\n",
      "2021-11-30 17:43:36 Models       INFO     \u001b[1m\u001b[32mThe classwise accuracies are: [0.9234855010048808, 0.3870967741935484]\u001b[0m\n",
      "2021-11-30 17:43:36 Models       INFO     \u001b[1m\u001b[32mTotal time: 0.5004 sec(s)\u001b[0m\n",
      "2021-11-30 17:43:36 Models       INFO     \u001b[1m\u001b[31m|               |   Positive    |   Negative    |\u001b[0m\n",
      "2021-11-30 17:43:36 Models       INFO     \u001b[1m\u001b[31m|   Positive    |     6433      |      533      |\u001b[0m\n",
      "2021-11-30 17:43:36 Models       INFO     \u001b[1m\u001b[31m|   Negative    |     1273      |      804      |\u001b[0m\n"
     ]
    }
   ],
   "source": [
    "# Export to Numpy\n",
    "X_train_PCA_np = X_train_PCA.to_numpy()\n",
    "y_train_np = y_train.to_numpy()\n",
    "X_test_PCA_np = X_test_PCA.to_numpy()\n",
    "y_test_np = y_test.to_numpy()\n",
    "\n",
    "# Initialize\n",
    "priors = [0.25, 0.25, 0.25, 0.25]\n",
    "bayesian_case = models.BayesianCase(train_x=X_train_PCA_np, train_y=y_train_np, \n",
    "                                    test_x=X_test_PCA_np, test_y=y_test_np)\n",
    "bayesian_case.fit()\n",
    "\n",
    "# Evaluate\n",
    "for case in (\"euclidean\", \"mahalanobis\", \"quadratic\"):\n",
    "    bayesian_case.predict(mtype=case, priors=priors)\n",
    "    accuracy, classwise_accuracy, prediction_time = bayesian_case.get_statistics(case)\n",
    "    tp, fn, fp, tn = bayesian_case.get_confusion_matrix(case)\n",
    "    bayesian_case.print_statistics(name='PCA data', mtype=case)"
   ]
  },
  {
   "cell_type": "markdown",
   "metadata": {
    "id": "wu9ePfp3_R44"
   },
   "source": [
    "## Hyperparameter Tuning"
   ]
  },
  {
   "cell_type": "markdown",
   "metadata": {
    "id": "77oc9Fts_R45"
   },
   "source": [
    "### 1. Tune KMeans"
   ]
  },
  {
   "cell_type": "code",
   "execution_count": 150,
   "metadata": {},
   "outputs": [
    {
     "name": "stdout",
     "output_type": "stream",
     "text": [
      "======================================\n",
      "\u001b[1mKMeans Tuning Results \u001b[0m\n",
      "======================================\n",
      "Distance Function: cityblock \t Overall Accuracy: 57.45 %\n",
      "Distance Function: correlation \t Overall Accuracy: 60.74 %\n",
      "Distance Function: cosine \t Overall Accuracy: 60.76 %\n",
      "Distance Function: euclidean \t Overall Accuracy: 58.94 %\n"
     ]
    }
   ],
   "source": [
    "distances = ['cityblock', 'correlation', 'cosine','euclidean']\n",
    "\n",
    "# Prepare Training Data\n",
    "X_train_PCA_TVT = X_train_PCA.loc[:, X_train_PCA.columns!='PCA_15'].copy()\n",
    "X_train_PCA_TVT.reset_index(drop=True)\n",
    "X_train_PCA_TVT = X_train_PCA_TVT.to_numpy()\n",
    "\n",
    "# Prepare Validation Data\n",
    "X_val_PCA_TVT = X_val_PCA.loc[:, X_val_PCA.columns!='PCA_15'].copy()\n",
    "X_val_PCA_TVT.reset_index(drop=True)\n",
    "X_val_PCA_TVT = X_val_PCA_TVT.to_numpy()\n",
    "\n",
    "print(\"======================================\")\n",
    "print(f\"\\033[1mKMeans Tuning Results \\033[0m\")\n",
    "print(\"======================================\")\n",
    "# Compute overall accuracy on validation dataset\n",
    "for d in distances:\n",
    "    km = models.kmeans(X_train_PCA_TVT, dist=d)\n",
    "    km.fit()\n",
    "    y_pred = km.predict(X_val_PCA_TVT, y_val)\n",
    "    score = models.accuracy_score(y_pred, y_val)\n",
    "    print(f\"Distance Function: {d} \\t Overall Accuracy: {round(100*score, 2)} %\")\n",
    "    \n",
    "# Cosine is giving the highest overall accuracy"
   ]
  },
  {
   "cell_type": "markdown",
   "metadata": {},
   "source": [
    "### 2. Tune SVM"
   ]
  },
  {
   "cell_type": "code",
   "execution_count": null,
   "metadata": {},
   "outputs": [
    {
     "name": "stdout",
     "output_type": "stream",
     "text": [
      "======================================\n",
      "\u001b[1mSVM Tuning Results \u001b[0m\n",
      "======================================\n"
     ]
    }
   ],
   "source": [
    "# parameters = [{'kernel': ['rbf'], 'gamma': [1e-3, 1e-4],\n",
    "#                      'C': [1, 10, 100, 1000]},\n",
    "#               {'kernel': ['linear'], 'C': [1, 10, 100, 1000]}]\n",
    "\n",
    "parameters = [{'kernel': ['linear'], 'C': [1, 10, 100, 1000], 'gamma':['NA']}]\n",
    "\n",
    "print(\"======================================\")\n",
    "print(f\"\\033[1mSVM Tuning Results \\033[0m\")\n",
    "print(\"======================================\")\n",
    "for param in parameters:\n",
    "    for k in param['kernel']:\n",
    "        for g in param['gamma']:\n",
    "            for c in param['C']:\n",
    "                if g != 'NA':\n",
    "                    clf = models.SVC(C=c, kernel=k, gamma=g)\n",
    "                else:\n",
    "                    clf = models.SVC(C=c, kernel=k)\n",
    "                    \n",
    "                clf.fit(X_train_PCA_TVT, y_train)\n",
    "                y_pred = clf.predict(X_val_PCA_TVT)\n",
    "                score = models.accuracy_score(y_pred, y_val)\n",
    "                f1_s = models.f1_score(y_true, y_val)\n",
    "                print(f\"Kernel: {k} \\t Gamma: {g} \\t C: {c} \\t Accuracy: {round(100*score, 2)}% F1 Score: {f1_s}\")\n",
    "                \n",
    "\"\"\"\n",
    "Kernel: rbf \t Gamma: 0.001 \t C: 1      Accuracy: 81.49 *\n",
    "Kernel: rbf \t Gamma: 0.001 \t C: 10     Accuracy: 81.61 *\n",
    "Kernel: rbf \t Gamma: 0.001 \t C: 100    Accuracy: 81.70 *\n",
    "Kernel: rbf \t Gamma: 0.001 \t C: 1000   Accuracy: 82.16 *\n",
    "Kernel: rbf \t Gamma: 0.0001 \t C: 1      Accuracy: 81.51 *\n",
    "Kernel: rbf \t Gamma: 0.0001 \t C: 10     Accuracy: 81.51 *\n",
    "Kernel: rbf \t Gamma: 0.0001 \t C: 100    Accuracy: 81.56 *\n",
    "Kernel: rbf \t Gamma: 0.0001 \t C: 1000   Accuracy: 81.62 *\n",
    "\"\"\"\n",
    "\n",
    "## Need to update results for Linear kernel which is taking a lot of time"
   ]
  },
  {
   "cell_type": "markdown",
   "metadata": {
    "id": "ftG2GlOD_R45"
   },
   "source": [
    "## Training"
   ]
  },
  {
   "cell_type": "markdown",
   "metadata": {},
   "source": [
    "### 1. Train KMeans"
   ]
  },
  {
   "cell_type": "code",
   "execution_count": 152,
   "metadata": {
    "id": "DbiMCPxv_R45"
   },
   "outputs": [
    {
     "name": "stdout",
     "output_type": "stream",
     "text": [
      "======================================\n",
      "\u001b[1m1. Kmeans Train Results \u001b[0m\n",
      "======================================\n",
      "Training size 72336\n",
      "Kmeans training time 1.7221200466156006 secs\n",
      "Overall Accuracy: 61.3 %\n",
      "F1-Score: 0.311\n",
      "Class 0 accuracy: 68.26 %\n",
      "Class 1 accuracy: 37.95 %\n",
      "Confusion Matrix:\n",
      "+----------+-------------+-------------+-------+\n",
      "|          | Predicted 0 | Predicted 1 | Total |\n",
      "+----------+-------------+-------------+-------+\n",
      "| Actual 0 |    38038    |    17686    | 55724 |\n",
      "| Actual 1 |    10308    |     6304    | 16612 |\n",
      "|  Total   |    48346    |    23990    | 72336 |\n",
      "+----------+-------------+-------------+-------+\n",
      " \n",
      "======================================\n",
      "\u001b[1m2. Kmeans Validation Results \u001b[0m\n",
      "======================================\n",
      "Validation size 9042\n",
      "Overall Accuracy: 60.76 %\n",
      "F1-Score: 0.299\n",
      "Class 0 accuracy: 68.0 %\n",
      "Class 1 accuracy: 36.46 %\n",
      "Confusion Matrix:\n",
      "+----------+-------------+-------------+-------+\n",
      "|          | Predicted 0 | Predicted 1 | Total |\n",
      "+----------+-------------+-------------+-------+\n",
      "| Actual 0 |     4737    |     2229    |  6966 |\n",
      "| Actual 1 |     1319    |     757     |  2076 |\n",
      "|  Total   |     6056    |     2986    |  9042 |\n",
      "+----------+-------------+-------------+-------+\n"
     ]
    },
    {
     "data": {
      "image/png": "[encoded data removed]",
      "text/plain": [
       "<Figure size 720x576 with 1 Axes>"
      ]
     },
     "metadata": {},
     "output_type": "display_data"
    }
   ],
   "source": [
    "start_time = time()\n",
    "km = models.kmeans(X_train_PCA_TVT, dist='cosine')\n",
    "km.fit()\n",
    "train_time = time() - start_time\n",
    "\n",
    "\n",
    "print(\"======================================\")\n",
    "print(f\"\\033[1m1. Kmeans Train Results \\033[0m\")\n",
    "print(\"======================================\")\n",
    "print(f\"Training size {X_train_PCA_TVT.shape[0]}\")\n",
    "print(f\"Kmeans training time {train_time} secs\")\n",
    "y_pred = km.predict(X_train_PCA_TVT, y_train)\n",
    "models.kmeans.classification_report(y_train, y_pred)\n",
    "\n",
    "print(\" \")\n",
    "print(\"======================================\")\n",
    "print(f\"\\033[1m2. Kmeans Validation Results \\033[0m\")\n",
    "print(\"======================================\")\n",
    "print(f\"Validation size {X_val_PCA_TVT.shape[0]}\")\n",
    "y_pred = km.predict(X_val_PCA_TVT, y_val)\n",
    "models.kmeans.classification_report(y_val, y_pred)\n",
    "km.plot_membership_switches()"
   ]
  },
  {
   "cell_type": "markdown",
   "metadata": {
    "id": "4e7XVFjU_R45"
   },
   "source": [
    "### 2. Train SVM"
   ]
  },
  {
   "cell_type": "code",
   "execution_count": 149,
   "metadata": {},
   "outputs": [
    {
     "name": "stdout",
     "output_type": "stream",
     "text": [
      "======================================\n",
      "\u001b[1m1. SVM Train Results \u001b[0m\n",
      "======================================\n",
      "Training size 72336\n",
      "SVM training time 994.0718257427216 secs\n",
      "Overall Accuracy: 82.13 %\n",
      "F1-Score: 0.476\n",
      "Class 0 accuracy: 96.08 %\n",
      "Class 1 accuracy: 35.34 %\n",
      "Confusion Matrix:\n",
      "+----------+-------------+-------------+-------+\n",
      "|          | Predicted 0 | Predicted 1 | Total |\n",
      "+----------+-------------+-------------+-------+\n",
      "| Actual 0 |    53538    |     2186    | 55724 |\n",
      "| Actual 1 |    10742    |     5870    | 16612 |\n",
      "|  Total   |    64280    |     8056    | 72336 |\n",
      "+----------+-------------+-------------+-------+\n",
      " \n",
      "======================================\n",
      "\u001b[1m2. SVM Validation Results \u001b[0m\n",
      "======================================\n",
      "Overall Accuracy: 82.16 %\n",
      "F1-Score: 0.471\n",
      "Class 0 accuracy: 96.33 %\n",
      "Class 1 accuracy: 34.63 %\n",
      "Confusion Matrix:\n",
      "+----------+-------------+-------------+-------+\n",
      "|          | Predicted 0 | Predicted 1 | Total |\n",
      "+----------+-------------+-------------+-------+\n",
      "| Actual 0 |     6710    |     256     |  6966 |\n",
      "| Actual 1 |     1357    |     719     |  2076 |\n",
      "|  Total   |     8067    |     975     |  9042 |\n",
      "+----------+-------------+-------------+-------+\n"
     ]
    }
   ],
   "source": [
    "start_time = time()\n",
    "clf = models.SVC(C=1000, kernel='rbf', gamma=0.001)\n",
    "clf.fit(X_train_PCA_TVT, y_train)\n",
    "train_time = time() - start_time\n",
    "\n",
    "print(\"======================================\")\n",
    "print(f\"\\033[1m1. SVM Train Results \\033[0m\")\n",
    "print(\"======================================\")\n",
    "print(f\"Training size {X_train_PCA_TVT.shape[0]}\")\n",
    "print(f\"SVM training time {train_time} secs\")\n",
    "y_pred = clf.predict(X_train_PCA_TVT)\n",
    "models.kmeans.classification_report(y_train, y_pred)\n",
    "\n",
    "print(\" \")\n",
    "print(\"======================================\")\n",
    "print(f\"\\033[1m2. SVM Validation Results \\033[0m\")\n",
    "print(\"======================================\")\n",
    "y_pred = clf.predict(X_val_PCA_TVT)\n",
    "models.kmeans.classification_report(y_val, y_pred)"
   ]
  },
  {
   "cell_type": "markdown",
   "metadata": {
    "id": "rvKmuDdz_R45"
   },
   "source": [
    "## Testing"
   ]
  },
  {
   "cell_type": "markdown",
   "metadata": {
    "id": "6o4JiRvk_R46"
   },
   "source": [
    "### 1. Test KMeans"
   ]
  },
  {
   "cell_type": "code",
   "execution_count": 153,
   "metadata": {
    "id": "Gq_xEG2k_R46"
   },
   "outputs": [
    {
     "name": "stdout",
     "output_type": "stream",
     "text": [
      "======================================\n",
      "\u001b[1m1. Kmeans Test Results \u001b[0m\n",
      "======================================\n",
      "Test data size 9043\n",
      "Kmeans prediction time 0.001194000244140625 secs\n",
      "Overall Accuracy: 60.96 %\n",
      "F1-Score: 0.305\n",
      "Class 0 accuracy: 68.02 %\n",
      "Class 1 accuracy: 37.31 %\n",
      "Confusion Matrix:\n",
      "+----------+-------------+-------------+-------+\n",
      "|          | Predicted 0 | Predicted 1 | Total |\n",
      "+----------+-------------+-------------+-------+\n",
      "| Actual 0 |     4738    |     2228    |  6966 |\n",
      "| Actual 1 |     1302    |     775     |  2077 |\n",
      "|  Total   |     6040    |     3003    |  9043 |\n",
      "+----------+-------------+-------------+-------+\n",
      "\n",
      "======================================\n",
      "\u001b[1m2. Sklearn Kmeans Test Results \u001b[0m\n",
      "======================================\n",
      "Overall Accuracy: 57.56 %\n",
      "F1-Score: 0.308\n",
      "Class 0 accuracy: 62.47 %\n",
      "Class 1 accuracy: 41.07 %\n",
      "Confusion Matrix:\n",
      "+----------+-------------+-------------+-------+\n",
      "|          | Predicted 0 | Predicted 1 | Total |\n",
      "+----------+-------------+-------------+-------+\n",
      "| Actual 0 |     4352    |     2614    |  6966 |\n",
      "| Actual 1 |     1224    |     853     |  2077 |\n",
      "|  Total   |     5576    |     3467    |  9043 |\n",
      "+----------+-------------+-------------+-------+\n"
     ]
    }
   ],
   "source": [
    "# Prepare Test Data\n",
    "X_test_PCA_TVT = X_test_PCA.loc[:, X_test_PCA.columns!='PCA_15'].copy()\n",
    "X_test_PCA_TVT.reset_index(drop=True)\n",
    "X_test_PCA_TVT = X_test_PCA_TVT.to_numpy()\n",
    "\n",
    "print(\"======================================\")\n",
    "print(f\"\\033[1m1. Kmeans Test Results \\033[0m\")\n",
    "print(\"======================================\")\n",
    "start_time = time()\n",
    "y_pred = km.predict(X_test_PCA_TVT, y_test)\n",
    "test_time = time() - start_time\n",
    "print(f\"Test data size {X_test_PCA_TVT.shape[0]}\")\n",
    "print(f\"Kmeans prediction time {test_time} secs\")\n",
    "models.kmeans.classification_report(y_test, y_pred)\n",
    "\n",
    "print(\"\")\n",
    "## Compare results from SKLearn's Kmeans\n",
    "print(\"======================================\")\n",
    "print(f\"\\033[1m2. Sklearn Kmeans Test Results \\033[0m\")\n",
    "print(\"======================================\")\n",
    "sk_km = models.KMeans(n_clusters=2, random_state=0).fit(X_train_PCA_TVT)\n",
    "y_pred = sk_km.predict(X_test_PCA_TVT)\n",
    "models.kmeans.classification_report(y_test, y_pred)"
   ]
  },
  {
   "cell_type": "markdown",
   "metadata": {},
   "source": [
    "### 2. Test SVM"
   ]
  },
  {
   "cell_type": "code",
   "execution_count": 154,
   "metadata": {},
   "outputs": [
    {
     "name": "stdout",
     "output_type": "stream",
     "text": [
      "======================================\n",
      "\u001b[1mSVM Test Results \u001b[0m\n",
      "======================================\n",
      "Test data size 9043\n",
      "SVM prediction time 27.223992109298706 secs\n",
      "Overall Accuracy: 81.58 %\n",
      "F1-Score: 0.454\n",
      "Class 0 accuracy: 95.95 %\n",
      "Class 1 accuracy: 33.37 %\n",
      "Confusion Matrix:\n",
      "+----------+-------------+-------------+-------+\n",
      "|          | Predicted 0 | Predicted 1 | Total |\n",
      "+----------+-------------+-------------+-------+\n",
      "| Actual 0 |     6684    |     282     |  6966 |\n",
      "| Actual 1 |     1384    |     693     |  2077 |\n",
      "|  Total   |     8068    |     975     |  9043 |\n",
      "+----------+-------------+-------------+-------+\n"
     ]
    }
   ],
   "source": [
    "print(\"======================================\")\n",
    "print(f\"\\033[1mSVM Test Results \\033[0m\")\n",
    "print(\"======================================\")\n",
    "start_time = time()\n",
    "y_pred = clf.predict(X_test_PCA_TVT)\n",
    "test_time = time() - start_time\n",
    "print(f\"Test data size {X_test_PCA_TVT.shape[0]}\")\n",
    "print(f\"SVM prediction time {test_time} secs\")\n",
    "models.kmeans.classification_report(y_test, y_pred)"
   ]
  },
  {
   "cell_type": "markdown",
   "metadata": {
    "id": "JEE1AbzV_R46"
   },
   "source": [
    "## Evaluation"
   ]
  },
  {
   "cell_type": "code",
   "execution_count": null,
   "metadata": {
    "id": "3Ke-n6PF_R46"
   },
   "outputs": [],
   "source": []
  },
  {
   "cell_type": "code",
   "execution_count": null,
   "metadata": {
    "id": "sO3j0tXh_R46"
   },
   "outputs": [],
   "source": []
  },
  {
   "cell_type": "markdown",
   "metadata": {
    "id": "GESxdsoM_R47"
   },
   "source": [
    "## Plots"
   ]
  },
  {
   "cell_type": "code",
   "execution_count": null,
   "metadata": {
    "id": "u0puX5EV_R47"
   },
   "outputs": [],
   "source": [
    "from project_libs.project import plotter as pl"
   ]
  },
  {
   "cell_type": "code",
   "execution_count": null,
   "metadata": {
    "id": "wbJIRBHY_R47"
   },
   "outputs": [],
   "source": []
  }
 ],
 "metadata": {
  "colab": {
   "collapsed_sections": [
    "aKazCmez_R4v"
   ],
   "name": "main.ipynb",
   "provenance": []
  },
  "kernelspec": {
   "display_name": "Python 3",
   "language": "python",
   "name": "python3"
  },
  "language_info": {
   "codemirror_mode": {
    "name": "ipython",
    "version": 3
   },
   "file_extension": ".py",
   "mimetype": "text/x-python",
   "name": "python",
   "nbconvert_exporter": "python",
   "pygments_lexer": "ipython3",
   "version": "3.9.4"
  },
  "widgets": {
   "application/vnd.jupyter.widget-state+json": {
    "03c291d92a85442d99189ca331ece5e4": {
     "model_module": "@jupyter-widgets/controls",
     "model_module_version": "1.5.0",
     "model_name": "ButtonModel",
     "state": {
      "_dom_classes": [],
      "_model_module": "@jupyter-widgets/controls",
      "_model_module_version": "1.5.0",
      "_model_name": "ButtonModel",
      "_view_count": null,
      "_view_module": "@jupyter-widgets/controls",
      "_view_module_version": "1.5.0",
      "_view_name": "ButtonView",
      "button_style": "",
      "description": "Yes",
      "disabled": false,
      "icon": "",
      "layout": "IPY_MODEL_d4a84f30f7464677a2da3a4498a13aa2",
      "style": "IPY_MODEL_6754b860dcea4b15b762add1c97278ce",
      "tooltip": ""
     }
    },
    "0cd02d53c0e144799b710e29332c2f7b": {
     "model_module": "@jupyter-widgets/base",
     "model_module_version": "1.2.0",
     "model_name": "LayoutModel",
     "state": {
      "_model_module": "@jupyter-widgets/base",
      "_model_module_version": "1.2.0",
      "_model_name": "LayoutModel",
      "_view_count": null,
      "_view_module": "@jupyter-widgets/base",
      "_view_module_version": "1.2.0",
      "_view_name": "LayoutView",
      "align_content": null,
      "align_items": null,
      "align_self": null,
      "border": null,
      "bottom": null,
      "display": null,
      "flex": null,
      "flex_flow": null,
      "grid_area": null,
      "grid_auto_columns": null,
      "grid_auto_flow": null,
      "grid_auto_rows": null,
      "grid_column": null,
      "grid_gap": null,
      "grid_row": null,
      "grid_template_areas": null,
      "grid_template_columns": null,
      "grid_template_rows": null,
      "height": null,
      "justify_content": null,
      "justify_items": null,
      "left": null,
      "margin": null,
      "max_height": null,
      "max_width": null,
      "min_height": null,
      "min_width": null,
      "object_fit": null,
      "object_position": null,
      "order": null,
      "overflow": null,
      "overflow_x": null,
      "overflow_y": null,
      "padding": null,
      "right": null,
      "top": null,
      "visibility": null,
      "width": null
     }
    },
    "4e9d2f9a46b243b0a1456d42e11f4fd3": {
     "model_module": "@jupyter-widgets/controls",
     "model_module_version": "1.5.0",
     "model_name": "ButtonModel",
     "state": {
      "_dom_classes": [],
      "_model_module": "@jupyter-widgets/controls",
      "_model_module_version": "1.5.0",
      "_model_name": "ButtonModel",
      "_view_count": null,
      "_view_module": "@jupyter-widgets/controls",
      "_view_module_version": "1.5.0",
      "_view_name": "ButtonView",
      "button_style": "",
      "description": "Yes, clone",
      "disabled": false,
      "icon": "",
      "layout": "IPY_MODEL_0cd02d53c0e144799b710e29332c2f7b",
      "style": "IPY_MODEL_d2969618a7404586a8f0af2918d0810f",
      "tooltip": ""
     }
    },
    "6754b860dcea4b15b762add1c97278ce": {
     "model_module": "@jupyter-widgets/controls",
     "model_module_version": "1.5.0",
     "model_name": "ButtonStyleModel",
     "state": {
      "_model_module": "@jupyter-widgets/controls",
      "_model_module_version": "1.5.0",
      "_model_name": "ButtonStyleModel",
      "_view_count": null,
      "_view_module": "@jupyter-widgets/base",
      "_view_module_version": "1.2.0",
      "_view_name": "StyleView",
      "button_color": null,
      "font_weight": ""
     }
    },
    "d2969618a7404586a8f0af2918d0810f": {
     "model_module": "@jupyter-widgets/controls",
     "model_module_version": "1.5.0",
     "model_name": "ButtonStyleModel",
     "state": {
      "_model_module": "@jupyter-widgets/controls",
      "_model_module_version": "1.5.0",
      "_model_name": "ButtonStyleModel",
      "_view_count": null,
      "_view_module": "@jupyter-widgets/base",
      "_view_module_version": "1.2.0",
      "_view_name": "StyleView",
      "button_color": null,
      "font_weight": ""
     }
    },
    "d4a84f30f7464677a2da3a4498a13aa2": {
     "model_module": "@jupyter-widgets/base",
     "model_module_version": "1.2.0",
     "model_name": "LayoutModel",
     "state": {
      "_model_module": "@jupyter-widgets/base",
      "_model_module_version": "1.2.0",
      "_model_name": "LayoutModel",
      "_view_count": null,
      "_view_module": "@jupyter-widgets/base",
      "_view_module_version": "1.2.0",
      "_view_name": "LayoutView",
      "align_content": null,
      "align_items": null,
      "align_self": null,
      "border": null,
      "bottom": null,
      "display": null,
      "flex": null,
      "flex_flow": null,
      "grid_area": null,
      "grid_auto_columns": null,
      "grid_auto_flow": null,
      "grid_auto_rows": null,
      "grid_column": null,
      "grid_gap": null,
      "grid_row": null,
      "grid_template_areas": null,
      "grid_template_columns": null,
      "grid_template_rows": null,
      "height": null,
      "justify_content": null,
      "justify_items": null,
      "left": null,
      "margin": null,
      "max_height": null,
      "max_width": null,
      "min_height": null,
      "min_width": null,
      "object_fit": null,
      "object_position": null,
      "order": null,
      "overflow": null,
      "overflow_x": null,
      "overflow_y": null,
      "padding": null,
      "right": null,
      "top": null,
      "visibility": null,
      "width": null
     }
    }
   }
  }
 },
 "nbformat": 4,
 "nbformat_minor": 1
}
