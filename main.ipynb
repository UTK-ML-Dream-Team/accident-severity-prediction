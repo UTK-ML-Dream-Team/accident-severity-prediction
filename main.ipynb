{
 "cells": [
  {
   "cell_type": "markdown",
   "metadata": {
    "collapsed": true,
    "id": "Vt9t7-fVi8At"
   },
   "source": [
    "# Machine Learning - Final Project\n",
    "## Accident Severity Prediction\n",
    "**Team**: *Jennifer Lord, Konstantinos Georgiou, Russ Limber, Sanjeev Singh, Sara Howard*"
   ]
  },
  {
   "cell_type": "markdown",
   "metadata": {
    "id": "eiRSeV6fi8A0"
   },
   "source": [
    "## Where to put the code\n",
    "- Place the preprocessing functions/classes in [\\<project root\\>/project_libs/project/preprocessing.py](https://github.com/UTK-ML-Dream-Team/accident-severity-prediction/blob/master/project_libs/project/preprocessing.py)\n",
    "- The models in [\\<project root\\>/project_libs/project/models.py](https://github.com/UTK-ML-Dream-Team/accident-severity-prediction/blob/master/project_libs/project/models.py)\n",
    "- Any plotting related functions in [\\<project root\\>/project_libs/project/plotter.py](https://github.com/UTK-ML-Dream-Team/accident-severity-prediction/blob/master/project_libs/project/plotter.py)\n",
    "\n",
    "\n",
    "**The code is reloaded automatically. Any class object needs to reinitialized though.** \n",
    "\n",
    "## Config file\n",
    "The yml/config file is located at: [confs/prototype1.yml](https://github.com/UTK-ML-Dream-Team/accident-severity-prediction/blob/master/confs/prototype1.yml)<br>\n",
    "To load it run:\n",
    "```python\n",
    "config_path='confs/prototype1.yml'\n",
    "conf = Configuration(config_src=config_path)\n",
    "# Get the dataset loader config\n",
    "loader_config = conf.get_config('data_loader')['config']['dataset'] # type = Dict\n",
    "print(books.keys())\n",
    "print(loader_config['url'])\n",
    "```\n",
    "To reload the config just run the 2nd and 3rd command.\n",
    "\n",
    "## Libraries Overview:\n",
    "All the libraries are located under *\"\\<project root>/project_libs\"*\n",
    "- project_libs/**project**: This project's code (imported later)\n",
    "- project_libs/**configuration**: Class that creates config objects from yml files\n",
    "- project_libs/**fancy_logger**: Logger that can be used instead of prints for text formatting (color, bold, underline etc)\n",
    "\n",
    "## For more info check out:\n",
    "- the **[Project Board](https://github.com/UTK-ML-Dream-Team/accident-severity-prediction/projects/1)**\n",
    "- and the **[Current Issues](https://github.com/UTK-ML-Dream-Team/accident-severity-prediction/issues)**"
   ]
  },
  {
   "cell_type": "markdown",
   "metadata": {
    "id": "1gmuUzi6gSdg"
   },
   "source": [
    "# ------------------------------------------------------------------"
   ]
  },
  {
   "cell_type": "markdown",
   "metadata": {
    "id": "1Nl39AXjgSdg"
   },
   "source": [
    "## On Google Collab?\n",
    "- **If yes, run the two cells and press the two buttons below:**\n",
    "- Otherwise go to \"***Import the base Libraries***\""
   ]
  },
  {
   "cell_type": "code",
   "execution_count": 12,
   "metadata": {
    "colab": {
     "base_uri": "https://localhost:8080/",
     "height": 104,
     "referenced_widgets": [
      "e7b4d0dcb1f24d998063f877d1efbca7",
      "f7b19456e9b94ee09f8ed14cc1ba960b",
      "1731d42a04634fee89c2f80c12a29c88",
      "c2de90b9bdf54f6e933b76a703061497"
     ]
    },
    "id": "1SQIWYWmi8A4",
    "outputId": "9832cee7-6841-41cc-ef30-3bbf97b720d3"
   },
   "outputs": [
    {
     "name": "stdout",
     "output_type": "stream",
     "text": [
      "Clone project?\n",
      "(If you do this you will ovewrite local changes on other files e.g. configs)\n",
      "Not needed if you're not on Google Collab\n"
     ]
    },
    {
     "data": {
      "application/vnd.jupyter.widget-view+json": {
       "model_id": "7e32ede8de6a40f4a39abb7618682f0d",
       "version_major": 2,
       "version_minor": 0
      },
      "text/plain": [
       "Button(description='Yes, clone', style=ButtonStyle())"
      ]
     },
     "metadata": {},
     "output_type": "display_data"
    }
   ],
   "source": [
    "# Import Jupyter Widgets\n",
    "import os\n",
    "import ipywidgets as widgets\n",
    "from ipywidgets import interact, interact_manual\n",
    "from IPython.display import display\n",
    "# Clone the repository if you're in Google Collab\n",
    "def clone_project(is_collab: bool = False):\n",
    "    print(\"Cloning Project..\")\n",
    "    !git clone https://github.com/UTK-ML-Dream-Team/accident-severity-prediction.git\n",
    "    print(\"Project cloned.\")\n",
    "       \n",
    "print(\"Clone project?\")\n",
    "print(\"(If you do this you will ovewrite local changes on other files e.g. configs)\")\n",
    "print(\"Not needed if you're not on Google Collab\")\n",
    "btn = widgets.Button(description=\"Yes, clone\")\n",
    "btn.on_click(clone_project)\n",
    "display(btn)"
   ]
  },
  {
   "cell_type": "code",
   "execution_count": 13,
   "metadata": {
    "colab": {
     "base_uri": "https://localhost:8080/",
     "height": 67,
     "referenced_widgets": [
      "c55ebd5855ca490791c5d6b9308b6d4e",
      "5f7a290065d24765a0bc5fa9801fd815",
      "a5b00bcabdfc42c480043de40a36c486",
      "35d1878f3f4849a0975e8ffabf5d9a6d"
     ]
    },
    "id": "F_l8p4H1i8A5",
    "outputId": "8e4174bb-ba13-4f22-b2d6-f5045de58d9e"
   },
   "outputs": [
    {
     "name": "stdout",
     "output_type": "stream",
     "text": [
      "Are you on Google Collab?\n"
     ]
    },
    {
     "data": {
      "application/vnd.jupyter.widget-view+json": {
       "model_id": "8b2253ba56bb44929077bd88652d97bb",
       "version_major": 2,
       "version_minor": 0
      },
      "text/plain": [
       "Button(description='Yes', style=ButtonStyle())"
      ]
     },
     "metadata": {},
     "output_type": "display_data"
    }
   ],
   "source": [
    "# Clone the repository if you're in Google Collab\n",
    "def change_dir(is_collab: bool = False):\n",
    "    try:\n",
    "        print(\"Changing dir..\")\n",
    "        os.chdir('/content/accident-severity-prediction')\n",
    "        print('done')\n",
    "        print(\"Current dir:\")\n",
    "        print(os.getcwd())\n",
    "        print(\"Dir Contents:\")\n",
    "        print(os.listdir())\n",
    "        print(\"\\nInstalling Requirements\")\n",
    "        !pip install -r requirements.txt\n",
    "    except Exception:\n",
    "        print(\"Error: Project not cloned\")\n",
    "       \n",
    "print(\"Are you on Google Collab?\")\n",
    "btn = widgets.Button(description=\"Yes\")\n",
    "btn.on_click(change_dir)\n",
    "display(btn)"
   ]
  },
  {
   "cell_type": "markdown",
   "metadata": {
    "id": "6CpeQfTli8A6"
   },
   "source": [
    "### To commit and push Google Collab notebook to Github\n",
    "Click **File > Save a copy on Gihtub**"
   ]
  },
  {
   "cell_type": "markdown",
   "metadata": {
    "id": "reFZW6B8gSdj"
   },
   "source": [
    "# ------------------------------------------------------------------"
   ]
  },
  {
   "cell_type": "markdown",
   "metadata": {
    "id": "h54edY45gSdj"
   },
   "source": [
    "# Initializations"
   ]
  },
  {
   "cell_type": "markdown",
   "metadata": {
    "id": "H1RHGfh1i8A8",
    "pycharm": {
     "name": "#%%\n"
    }
   },
   "source": [
    "## Import the base Libraries"
   ]
  },
  {
   "cell_type": "code",
   "execution_count": 14,
   "metadata": {
    "colab": {
     "base_uri": "https://localhost:8080/"
    },
    "id": "wjKYGxzYi8A9",
    "outputId": "185d3c02-7723-4c5d-a58a-69a2eff4462f"
   },
   "outputs": [
    {
     "name": "stdout",
     "output_type": "stream",
     "text": [
      "The autoreload extension is already loaded. To reload it, use:\n",
      "  %reload_ext autoreload\n"
     ]
    }
   ],
   "source": [
    "# Imports\n",
    "%load_ext autoreload\n",
    "%autoreload 2\n",
    "from importlib import reload as reload_lib\n",
    "from typing import *\n",
    "import os\n",
    "import re\n",
    "from pprint import pprint\n",
    "import datetime \n",
    "# Numpy\n",
    "import numpy as np\n",
    "import pandas as pd\n",
    "\n",
    "# Import preprocessing lib\n",
    "from project_libs.project import *"
   ]
  },
  {
   "cell_type": "markdown",
   "metadata": {
    "id": "PYBmLhFZgSdk"
   },
   "source": [
    "## Load the YML file"
   ]
  },
  {
   "cell_type": "code",
   "execution_count": 15,
   "metadata": {
    "id": "-z773EjNgSdk"
   },
   "outputs": [],
   "source": [
    "from project_libs import Configuration"
   ]
  },
  {
   "cell_type": "code",
   "execution_count": 42,
   "metadata": {
    "colab": {
     "base_uri": "https://localhost:8080/"
    },
    "id": "XYH2o7w3i8A-",
    "outputId": "48016d05-91df-462d-9f73-87d98d66a375"
   },
   "outputs": [
    {
     "name": "stderr",
     "output_type": "stream",
     "text": [
      "2021-11-16 19:31:13 Config       INFO     \u001b[1m\u001b[37mConfiguration file loaded successfully from path: /Users/gkos/Insync/delfinas7kostas@gmail.com/Google Drive/Projects/UTK/accident-severity-detection-prediction/confs/prototype1.yml\u001b[0m\n",
      "2021-11-16 19:31:13 Config       INFO     \u001b[1m\u001b[37mConfiguration Tag: prototype_1\u001b[0m\n"
     ]
    }
   ],
   "source": [
    "# The path of configuration and log save path\n",
    "config_path = \"confs/prototype1.yml\"\n",
    "# !cat \"$config_path\"\n",
    "# Load the configuratåion\n",
    "conf = Configuration(config_src=config_path)\n",
    "# Get the books dict\n",
    "loader_config = conf.get_config('data_loader')['config']['dataset']\n",
    "preprocessing_config = conf.get_config('data_loader')['config']['preprocessing']\n",
    "# print(books.keys())\n",
    "# pprint(books)  # Pretty print the books dict"
   ]
  },
  {
   "cell_type": "markdown",
   "metadata": {
    "id": "ztSC5oWsgSdl"
   },
   "source": [
    "# ------------------------------------------------------------------"
   ]
  },
  {
   "cell_type": "markdown",
   "metadata": {
    "id": "ZyM4avEli8A_"
   },
   "source": [
    "# Start of Project Code"
   ]
  },
  {
   "cell_type": "code",
   "execution_count": 17,
   "metadata": {
    "id": "CuYpT_rqgSdl"
   },
   "outputs": [],
   "source": [
    "from project_libs import project as proj"
   ]
  },
  {
   "cell_type": "markdown",
   "metadata": {
    "id": "OhlCQKWpg4Et"
   },
   "source": [
    "## Data Loading"
   ]
  },
  {
   "cell_type": "code",
   "execution_count": 18,
   "metadata": {},
   "outputs": [
    {
     "name": "stdout",
     "output_type": "stream",
     "text": [
      "mkdir: /Users/gkos/.kaggle: File exists\n",
      "mkdir: data: File exists\n",
      "Downloading us-accidents.zip to /Users/gkos/Insync/delfinas7kostas@gmail.com/Google Drive/Projects/UTK/accident-severity-detection-prediction/data\n",
      " 99%|███████████████████████████████████████▌| 116M/117M [00:07<00:00, 18.5MB/s]\n",
      "100%|████████████████████████████████████████| 117M/117M [00:07<00:00, 16.2MB/s]\n",
      "Archive:  us-accidents.zip\n",
      "  inflating: US_Accidents_Dec20_updated.csv  \n"
     ]
    }
   ],
   "source": [
    "# Download Dataset again if requested\n",
    "should_download = loader_config['download']\n",
    "if should_download:\n",
    "    kaggle_dataset_name = loader_config['kaggle_dataset_name']\n",
    "    !mkdir ~/.kaggle\n",
    "    !cp confs/kaggle.json ~/.kaggle/\n",
    "    !chmod 600 ~/.kaggle/kaggle.json\n",
    "    !mkdir data\n",
    "    !cd data && kaggle datasets download -d $kaggle_dataset_name && unzip -o us-accidents.zip && rm us-accidents.zip"
   ]
  },
  {
   "cell_type": "code",
   "execution_count": 49,
   "metadata": {
    "id": "qpxXezwmgSdm"
   },
   "outputs": [],
   "source": [
    "# Load Dataset\n",
    "accidents_df_original = pd.read_csv (loader_config['local_dataset_name'])\n",
    "accidents_df = accidents_df_original.copy()"
   ]
  },
  {
   "cell_type": "markdown",
   "metadata": {},
   "source": [
    "## Exploration - Sampling Tests"
   ]
  },
  {
   "cell_type": "code",
   "execution_count": 20,
   "metadata": {},
   "outputs": [
    {
     "name": "stdout",
     "output_type": "stream",
     "text": [
      "Number of rows: 1516064\n",
      "Number of Columns: 47\n",
      "Columns: Index(['ID', 'Severity', 'Start_Time', 'End_Time', 'Start_Lat', 'Start_Lng',\n",
      "       'End_Lat', 'End_Lng', 'Distance(mi)', 'Description', 'Number', 'Street',\n",
      "       'Side', 'City', 'County', 'State', 'Zipcode', 'Country', 'Timezone',\n",
      "       'Airport_Code', 'Weather_Timestamp', 'Temperature(F)', 'Wind_Chill(F)',\n",
      "       'Humidity(%)', 'Pressure(in)', 'Visibility(mi)', 'Wind_Direction',\n",
      "       'Wind_Speed(mph)', 'Precipitation(in)', 'Weather_Condition', 'Amenity',\n",
      "       'Bump', 'Crossing', 'Give_Way', 'Junction', 'No_Exit', 'Railway',\n",
      "       'Roundabout', 'Station', 'Stop', 'Traffic_Calming', 'Traffic_Signal',\n",
      "       'Turning_Loop', 'Sunrise_Sunset', 'Civil_Twilight', 'Nautical_Twilight',\n",
      "       'Astronomical_Twilight'],\n",
      "      dtype='object')\n"
     ]
    }
   ],
   "source": [
    "# Print Basic Info\n",
    "print(f\"Number of rows: {accidents_df.shape[0]}\")\n",
    "print(f\"Number of Columns: {accidents_df.shape[1]}\")\n",
    "print(f\"Columns: {accidents_df.columns}\")"
   ]
  },
  {
   "cell_type": "code",
   "execution_count": 23,
   "metadata": {},
   "outputs": [
    {
     "name": "stdout",
     "output_type": "stream",
     "text": [
      "Unique Cities: \n",
      "['Dublin', 'Dayton', 'Cincinnati', 'Akron', 'Williamsburg', 'Batavia', 'Cleveland', 'Lima', 'Westerville', 'Jamestown'], ..\n",
      "Number of cities: 10658\n",
      "----------------------------------------------------\n",
      "Number of rows when only FIRST 20 were included: 28208\n",
      "Number of rows when only FIRST 50 were included: 49824\n",
      "Number of rows when only FIRST 100 were included: 62172\n",
      "Number of rows when only FIRST 500 were included: 279012\n",
      "Number of rows when only FIRST 1000 were included: 693738\n",
      "Number of rows when only FIRST 1500 were included: 775703\n",
      "Number of rows when only FIRST 2000 were included: 1037886\n"
     ]
    }
   ],
   "source": [
    "# -- Filter By Cities -- #\n",
    "print(\"Unique Cities: \")\n",
    "cities = accidents_df.City.unique().tolist()\n",
    "print(f\"{cities[:10]}, ..\")\n",
    "print(f\"Number of cities: {len(cities)}\")\n",
    "print(\"----------------------------------------------------\")\n",
    "\n",
    "# Try different number of cities filters\n",
    "for num_cities in [20, 50, 100, 500, 1000, 1500, 2000]:\n",
    "    current_num = accidents_df[accidents_df.City.isin(cities[:num_cities])].shape[0]\n",
    "    print(f\"Number of rows when only FIRST {num_cities} were included: {current_num}\")"
   ]
  },
  {
   "cell_type": "code",
   "execution_count": 25,
   "metadata": {},
   "outputs": [
    {
     "name": "stdout",
     "output_type": "stream",
     "text": [
      "Earliest date: 2016-02-08 00:37:08\n",
      "Most Recent date: 2020-12-31 23:28:56\n",
      "----------------------------------------------------\n",
      "Number of rows when only dates STARTED FROM 1/2017 were included: 1386739\n",
      "Number of rows when only dates STARTED FROM 1/2018 were included: 1216640\n",
      "Number of rows when only dates STARTED FROM 1/2019 were included: 1049704\n",
      "Number of rows when only dates STARTED FROM 1/2020 were included: 787932\n",
      "Number of rows when only dates STARTED FROM 6/2020 were included: 546313\n",
      "Number of rows when only dates STARTED FROM 9/2020 were included: 480503\n"
     ]
    }
   ],
   "source": [
    "# -- Filter By Date -- #\n",
    "accidents_df.loc[:, 'Start_Time_dt'] = pd.to_datetime(accidents_df.Start_Time)\n",
    "print(f\"Earliest date: {accidents_df.Start_Time_dt.min()}\")\n",
    "print(f\"Most Recent date: {accidents_df.Start_Time_dt.max()}\")\n",
    "print(\"----------------------------------------------------\")\n",
    "\n",
    "# Try different date filters\n",
    "dates = [(2017, 1), (2018, 1), (2019, 1), (2020, 1), (2020, 6), (2020, 9)]\n",
    "for year, month in dates:\n",
    "    condition = accidents_df.Start_Time_dt.dt.date>=datetime.date(year=year,month=month,day=1)\n",
    "    current_num = accidents_df.Start_Time_dt[condition].shape[0]\n",
    "    print(f\"Number of rows when only dates STARTED FROM {month}/{year} were included: {current_num}\")\n"
   ]
  },
  {
   "cell_type": "code",
   "execution_count": 26,
   "metadata": {},
   "outputs": [
    {
     "name": "stdout",
     "output_type": "stream",
     "text": [
      "Unique States: \n",
      "['OH', 'IN', 'KY', 'WV', 'MI', 'PA', 'CA', 'NV', 'MN', 'TX']\n",
      "Number of states: 49\n",
      "----------------------------------------------------\n",
      "Number of rows when only North Eastern states were included: 206216\n",
      "Number of rows when only dates STARTED FROM 1/2020 for the North Easter States were included: 114565\n"
     ]
    }
   ],
   "source": [
    "# -- Filter By States and Date -- #\n",
    "print(\"Unique States: \")\n",
    "states = accidents_df.State.unique().tolist()\n",
    "print(states[:10])\n",
    "print(f\"Number of states: {len(states)}\")\n",
    "print(\"----------------------------------------------------\")\n",
    "\n",
    "# Filter By NE States\n",
    "staes_of_choice =  ['PA', 'NY', 'VY', 'ME', 'NH', 'MA', 'RI', 'CT', 'NJ', 'DE', 'DC', 'MD']\n",
    "accidents_df_filtered = accidents_df[accidents_df.State.isin(staes_of_choice)].copy()\n",
    "print(f\"Number of rows when only North Eastern states were included: {accidents_df_filtered.shape[0]}\")\n",
    "\n",
    "# By Date\n",
    "year, month = 2020, 1\n",
    "condition = accidents_df_filtered.Start_Time_dt.dt.date>=datetime.date(year=year,month=month,day=1)\n",
    "current_num = accidents_df_filtered.Start_Time_dt[condition].shape[0]\n",
    "print(f\"Number of rows when only dates STARTED FROM {month}/{year} for the North Easter States were included: {current_num}\")"
   ]
  },
  {
   "cell_type": "markdown",
   "metadata": {
    "id": "i_R2mcmqgSdq"
   },
   "source": [
    "## Preprocessing"
   ]
  },
  {
   "cell_type": "code",
   "execution_count": 82,
   "metadata": {
    "id": "gRUrrWe7gSdq"
   },
   "outputs": [],
   "source": [
    "from project_libs.project import preprocessing as pre"
   ]
  },
  {
   "cell_type": "code",
   "execution_count": 86,
   "metadata": {
    "id": "jidzZ38HgSds"
   },
   "outputs": [
    {
     "data": {
      "text/html": [
       "<div>\n",
       "<style scoped>\n",
       "    .dataframe tbody tr th:only-of-type {\n",
       "        vertical-align: middle;\n",
       "    }\n",
       "\n",
       "    .dataframe tbody tr th {\n",
       "        vertical-align: top;\n",
       "    }\n",
       "\n",
       "    .dataframe thead th {\n",
       "        text-align: right;\n",
       "    }\n",
       "</style>\n",
       "<table border=\"1\" class=\"dataframe\">\n",
       "  <thead>\n",
       "    <tr style=\"text-align: right;\">\n",
       "      <th></th>\n",
       "      <th>ID</th>\n",
       "      <th>Severity</th>\n",
       "      <th>Start_Time</th>\n",
       "      <th>End_Time</th>\n",
       "      <th>Start_Lat</th>\n",
       "      <th>Start_Lng</th>\n",
       "      <th>End_Lat</th>\n",
       "      <th>End_Lng</th>\n",
       "      <th>Distance(mi)</th>\n",
       "      <th>Description</th>\n",
       "      <th>...</th>\n",
       "      <th>Roundabout</th>\n",
       "      <th>Station</th>\n",
       "      <th>Stop</th>\n",
       "      <th>Traffic_Calming</th>\n",
       "      <th>Traffic_Signal</th>\n",
       "      <th>Turning_Loop</th>\n",
       "      <th>Sunrise_Sunset</th>\n",
       "      <th>Civil_Twilight</th>\n",
       "      <th>Nautical_Twilight</th>\n",
       "      <th>Astronomical_Twilight</th>\n",
       "    </tr>\n",
       "  </thead>\n",
       "  <tbody>\n",
       "    <tr>\n",
       "      <th>98138</th>\n",
       "      <td>A-2814738</td>\n",
       "      <td>3</td>\n",
       "      <td>2016-11-30 15:01:56</td>\n",
       "      <td>2016-11-30 21:01:56</td>\n",
       "      <td>33.662770</td>\n",
       "      <td>-111.999580</td>\n",
       "      <td>33.66622</td>\n",
       "      <td>-111.99952</td>\n",
       "      <td>0.238</td>\n",
       "      <td>At AZ-101-LOOP/Exit 15 - Accident.</td>\n",
       "      <td>...</td>\n",
       "      <td>False</td>\n",
       "      <td>False</td>\n",
       "      <td>False</td>\n",
       "      <td>False</td>\n",
       "      <td>False</td>\n",
       "      <td>False</td>\n",
       "      <td>Day</td>\n",
       "      <td>Day</td>\n",
       "      <td>Day</td>\n",
       "      <td>Day</td>\n",
       "    </tr>\n",
       "    <tr>\n",
       "      <th>98139</th>\n",
       "      <td>A-2814739</td>\n",
       "      <td>2</td>\n",
       "      <td>2016-11-30 15:19:52</td>\n",
       "      <td>2016-11-30 21:19:52</td>\n",
       "      <td>33.668760</td>\n",
       "      <td>-112.072750</td>\n",
       "      <td>33.66898</td>\n",
       "      <td>-112.05849</td>\n",
       "      <td>0.820</td>\n",
       "      <td>At 7th St/Exit 26 - Accident.</td>\n",
       "      <td>...</td>\n",
       "      <td>False</td>\n",
       "      <td>False</td>\n",
       "      <td>False</td>\n",
       "      <td>False</td>\n",
       "      <td>False</td>\n",
       "      <td>False</td>\n",
       "      <td>Day</td>\n",
       "      <td>Day</td>\n",
       "      <td>Day</td>\n",
       "      <td>Day</td>\n",
       "    </tr>\n",
       "    <tr>\n",
       "      <th>98141</th>\n",
       "      <td>A-2814741</td>\n",
       "      <td>2</td>\n",
       "      <td>2016-11-30 17:05:39</td>\n",
       "      <td>2016-11-30 23:05:39</td>\n",
       "      <td>33.484250</td>\n",
       "      <td>-112.113190</td>\n",
       "      <td>33.47491</td>\n",
       "      <td>-112.11320</td>\n",
       "      <td>0.645</td>\n",
       "      <td>At Thomas Rd/Exit 201 - Accident.</td>\n",
       "      <td>...</td>\n",
       "      <td>False</td>\n",
       "      <td>False</td>\n",
       "      <td>False</td>\n",
       "      <td>False</td>\n",
       "      <td>False</td>\n",
       "      <td>False</td>\n",
       "      <td>Day</td>\n",
       "      <td>Day</td>\n",
       "      <td>Day</td>\n",
       "      <td>Day</td>\n",
       "    </tr>\n",
       "    <tr>\n",
       "      <th>98142</th>\n",
       "      <td>A-2814742</td>\n",
       "      <td>2</td>\n",
       "      <td>2016-11-30 17:10:37</td>\n",
       "      <td>2016-11-30 23:10:37</td>\n",
       "      <td>33.295215</td>\n",
       "      <td>-111.972420</td>\n",
       "      <td>33.28853</td>\n",
       "      <td>-111.97132</td>\n",
       "      <td>0.466</td>\n",
       "      <td>At Chandler Blvd/Exit 160 - Accident.</td>\n",
       "      <td>...</td>\n",
       "      <td>False</td>\n",
       "      <td>False</td>\n",
       "      <td>False</td>\n",
       "      <td>False</td>\n",
       "      <td>False</td>\n",
       "      <td>False</td>\n",
       "      <td>Day</td>\n",
       "      <td>Day</td>\n",
       "      <td>Day</td>\n",
       "      <td>Day</td>\n",
       "    </tr>\n",
       "    <tr>\n",
       "      <th>98146</th>\n",
       "      <td>A-2814746</td>\n",
       "      <td>2</td>\n",
       "      <td>2016-11-30 18:28:58</td>\n",
       "      <td>2016-12-01 00:28:58</td>\n",
       "      <td>33.461900</td>\n",
       "      <td>-112.092145</td>\n",
       "      <td>33.46190</td>\n",
       "      <td>-112.09904</td>\n",
       "      <td>0.397</td>\n",
       "      <td>At 19th Ave/Exit 143C - Accident.</td>\n",
       "      <td>...</td>\n",
       "      <td>False</td>\n",
       "      <td>False</td>\n",
       "      <td>False</td>\n",
       "      <td>False</td>\n",
       "      <td>False</td>\n",
       "      <td>False</td>\n",
       "      <td>Night</td>\n",
       "      <td>Night</td>\n",
       "      <td>Night</td>\n",
       "      <td>Day</td>\n",
       "    </tr>\n",
       "    <tr>\n",
       "      <th>...</th>\n",
       "      <td>...</td>\n",
       "      <td>...</td>\n",
       "      <td>...</td>\n",
       "      <td>...</td>\n",
       "      <td>...</td>\n",
       "      <td>...</td>\n",
       "      <td>...</td>\n",
       "      <td>...</td>\n",
       "      <td>...</td>\n",
       "      <td>...</td>\n",
       "      <td>...</td>\n",
       "      <td>...</td>\n",
       "      <td>...</td>\n",
       "      <td>...</td>\n",
       "      <td>...</td>\n",
       "      <td>...</td>\n",
       "      <td>...</td>\n",
       "      <td>...</td>\n",
       "      <td>...</td>\n",
       "      <td>...</td>\n",
       "      <td>...</td>\n",
       "    </tr>\n",
       "    <tr>\n",
       "      <th>1515761</th>\n",
       "      <td>A-4239104</td>\n",
       "      <td>3</td>\n",
       "      <td>2019-08-23 16:58:31</td>\n",
       "      <td>2019-08-23 17:26:11</td>\n",
       "      <td>41.815300</td>\n",
       "      <td>-87.630480</td>\n",
       "      <td>41.81212</td>\n",
       "      <td>-87.63042</td>\n",
       "      <td>0.220</td>\n",
       "      <td>At 47th St/Exit 56B - Accident.</td>\n",
       "      <td>...</td>\n",
       "      <td>False</td>\n",
       "      <td>False</td>\n",
       "      <td>False</td>\n",
       "      <td>False</td>\n",
       "      <td>False</td>\n",
       "      <td>False</td>\n",
       "      <td>Day</td>\n",
       "      <td>Day</td>\n",
       "      <td>Day</td>\n",
       "      <td>Day</td>\n",
       "    </tr>\n",
       "    <tr>\n",
       "      <th>1515762</th>\n",
       "      <td>A-4239105</td>\n",
       "      <td>3</td>\n",
       "      <td>2019-08-23 16:03:57</td>\n",
       "      <td>2019-08-23 16:33:31</td>\n",
       "      <td>41.715130</td>\n",
       "      <td>-87.630040</td>\n",
       "      <td>41.71499</td>\n",
       "      <td>-87.63090</td>\n",
       "      <td>0.045</td>\n",
       "      <td>At I-57/Exit 63 - Accident. unconfirmed report.</td>\n",
       "      <td>...</td>\n",
       "      <td>False</td>\n",
       "      <td>False</td>\n",
       "      <td>False</td>\n",
       "      <td>False</td>\n",
       "      <td>False</td>\n",
       "      <td>False</td>\n",
       "      <td>Day</td>\n",
       "      <td>Day</td>\n",
       "      <td>Day</td>\n",
       "      <td>Day</td>\n",
       "    </tr>\n",
       "    <tr>\n",
       "      <th>1515763</th>\n",
       "      <td>A-4239106</td>\n",
       "      <td>3</td>\n",
       "      <td>2019-08-23 16:03:57</td>\n",
       "      <td>2019-08-23 16:33:31</td>\n",
       "      <td>41.943350</td>\n",
       "      <td>-87.716690</td>\n",
       "      <td>41.94859</td>\n",
       "      <td>-87.72162</td>\n",
       "      <td>0.442</td>\n",
       "      <td>At Addison St/Exit 45A - Accident.</td>\n",
       "      <td>...</td>\n",
       "      <td>False</td>\n",
       "      <td>False</td>\n",
       "      <td>False</td>\n",
       "      <td>False</td>\n",
       "      <td>False</td>\n",
       "      <td>False</td>\n",
       "      <td>Day</td>\n",
       "      <td>Day</td>\n",
       "      <td>Day</td>\n",
       "      <td>Day</td>\n",
       "    </tr>\n",
       "    <tr>\n",
       "      <th>1515764</th>\n",
       "      <td>A-4239107</td>\n",
       "      <td>3</td>\n",
       "      <td>2019-08-23 16:03:57</td>\n",
       "      <td>2019-08-23 16:33:31</td>\n",
       "      <td>41.718620</td>\n",
       "      <td>-87.625210</td>\n",
       "      <td>41.71513</td>\n",
       "      <td>-87.63004</td>\n",
       "      <td>0.347</td>\n",
       "      <td>Ramp to I-57 Southbound - Accident. unconfirme...</td>\n",
       "      <td>...</td>\n",
       "      <td>False</td>\n",
       "      <td>False</td>\n",
       "      <td>False</td>\n",
       "      <td>False</td>\n",
       "      <td>False</td>\n",
       "      <td>False</td>\n",
       "      <td>Day</td>\n",
       "      <td>Day</td>\n",
       "      <td>Day</td>\n",
       "      <td>Day</td>\n",
       "    </tr>\n",
       "    <tr>\n",
       "      <th>1515776</th>\n",
       "      <td>A-4239119</td>\n",
       "      <td>3</td>\n",
       "      <td>2019-08-23 20:54:19</td>\n",
       "      <td>2019-08-23 21:23:54</td>\n",
       "      <td>41.783460</td>\n",
       "      <td>-87.630600</td>\n",
       "      <td>41.79887</td>\n",
       "      <td>-87.63087</td>\n",
       "      <td>1.065</td>\n",
       "      <td>Between 59th St/Exit 58A and Garfield Blvd/Exi...</td>\n",
       "      <td>...</td>\n",
       "      <td>False</td>\n",
       "      <td>False</td>\n",
       "      <td>False</td>\n",
       "      <td>False</td>\n",
       "      <td>False</td>\n",
       "      <td>False</td>\n",
       "      <td>Night</td>\n",
       "      <td>Night</td>\n",
       "      <td>Night</td>\n",
       "      <td>Day</td>\n",
       "    </tr>\n",
       "  </tbody>\n",
       "</table>\n",
       "<p>90421 rows × 47 columns</p>\n",
       "</div>"
      ],
      "text/plain": [
       "                ID  Severity           Start_Time             End_Time  \\\n",
       "98138    A-2814738         3  2016-11-30 15:01:56  2016-11-30 21:01:56   \n",
       "98139    A-2814739         2  2016-11-30 15:19:52  2016-11-30 21:19:52   \n",
       "98141    A-2814741         2  2016-11-30 17:05:39  2016-11-30 23:05:39   \n",
       "98142    A-2814742         2  2016-11-30 17:10:37  2016-11-30 23:10:37   \n",
       "98146    A-2814746         2  2016-11-30 18:28:58  2016-12-01 00:28:58   \n",
       "...            ...       ...                  ...                  ...   \n",
       "1515761  A-4239104         3  2019-08-23 16:58:31  2019-08-23 17:26:11   \n",
       "1515762  A-4239105         3  2019-08-23 16:03:57  2019-08-23 16:33:31   \n",
       "1515763  A-4239106         3  2019-08-23 16:03:57  2019-08-23 16:33:31   \n",
       "1515764  A-4239107         3  2019-08-23 16:03:57  2019-08-23 16:33:31   \n",
       "1515776  A-4239119         3  2019-08-23 20:54:19  2019-08-23 21:23:54   \n",
       "\n",
       "         Start_Lat   Start_Lng   End_Lat    End_Lng  Distance(mi)  \\\n",
       "98138    33.662770 -111.999580  33.66622 -111.99952         0.238   \n",
       "98139    33.668760 -112.072750  33.66898 -112.05849         0.820   \n",
       "98141    33.484250 -112.113190  33.47491 -112.11320         0.645   \n",
       "98142    33.295215 -111.972420  33.28853 -111.97132         0.466   \n",
       "98146    33.461900 -112.092145  33.46190 -112.09904         0.397   \n",
       "...            ...         ...       ...        ...           ...   \n",
       "1515761  41.815300  -87.630480  41.81212  -87.63042         0.220   \n",
       "1515762  41.715130  -87.630040  41.71499  -87.63090         0.045   \n",
       "1515763  41.943350  -87.716690  41.94859  -87.72162         0.442   \n",
       "1515764  41.718620  -87.625210  41.71513  -87.63004         0.347   \n",
       "1515776  41.783460  -87.630600  41.79887  -87.63087         1.065   \n",
       "\n",
       "                                               Description  ...  Roundabout  \\\n",
       "98138                   At AZ-101-LOOP/Exit 15 - Accident.  ...       False   \n",
       "98139                        At 7th St/Exit 26 - Accident.  ...       False   \n",
       "98141                    At Thomas Rd/Exit 201 - Accident.  ...       False   \n",
       "98142                At Chandler Blvd/Exit 160 - Accident.  ...       False   \n",
       "98146                    At 19th Ave/Exit 143C - Accident.  ...       False   \n",
       "...                                                    ...  ...         ...   \n",
       "1515761                    At 47th St/Exit 56B - Accident.  ...       False   \n",
       "1515762    At I-57/Exit 63 - Accident. unconfirmed report.  ...       False   \n",
       "1515763                 At Addison St/Exit 45A - Accident.  ...       False   \n",
       "1515764  Ramp to I-57 Southbound - Accident. unconfirme...  ...       False   \n",
       "1515776  Between 59th St/Exit 58A and Garfield Blvd/Exi...  ...       False   \n",
       "\n",
       "        Station   Stop Traffic_Calming Traffic_Signal Turning_Loop  \\\n",
       "98138     False  False           False          False        False   \n",
       "98139     False  False           False          False        False   \n",
       "98141     False  False           False          False        False   \n",
       "98142     False  False           False          False        False   \n",
       "98146     False  False           False          False        False   \n",
       "...         ...    ...             ...            ...          ...   \n",
       "1515761   False  False           False          False        False   \n",
       "1515762   False  False           False          False        False   \n",
       "1515763   False  False           False          False        False   \n",
       "1515764   False  False           False          False        False   \n",
       "1515776   False  False           False          False        False   \n",
       "\n",
       "        Sunrise_Sunset Civil_Twilight Nautical_Twilight Astronomical_Twilight  \n",
       "98138              Day            Day               Day                   Day  \n",
       "98139              Day            Day               Day                   Day  \n",
       "98141              Day            Day               Day                   Day  \n",
       "98142              Day            Day               Day                   Day  \n",
       "98146            Night          Night             Night                   Day  \n",
       "...                ...            ...               ...                   ...  \n",
       "1515761            Day            Day               Day                   Day  \n",
       "1515762            Day            Day               Day                   Day  \n",
       "1515763            Day            Day               Day                   Day  \n",
       "1515764            Day            Day               Day                   Day  \n",
       "1515776          Night          Night             Night                   Day  \n",
       "\n",
       "[90421 rows x 47 columns]"
      ]
     },
     "metadata": {},
     "output_type": "display_data"
    }
   ],
   "source": [
    "# Create a copy of the df\n",
    "accidents_df_isolated = accidents_df_original.copy()\n",
    "\n",
    "# Isolate city state\n",
    "city_list = preprocessing_config['city_list']\n",
    "state_list = preprocessing_config['state_list']\n",
    "accidents_df_isolated = pre.isolate_city_state(accidents_df_isolated, city_list, state_list)\n",
    "display(accidents_df_isolated)"
   ]
  },
  {
   "cell_type": "code",
   "execution_count": 84,
   "metadata": {
    "scrolled": true
   },
   "outputs": [
    {
     "name": "stdout",
     "output_type": "stream",
     "text": [
      "Percent of missing rows by column \n",
      "\n",
      " Weather_Timestamp        0.007985\n",
      "Temperature(F)           0.010175\n",
      "Wind_Chill(F)            0.373365\n",
      "Humidity(%)              0.010639\n",
      "Pressure(in)             0.010352\n",
      "Visibility(mi)           0.009920\n",
      "Wind_Direction           0.017584\n",
      "Wind_Speed(mph)          0.103427\n",
      "Precipitation(in)        0.376229\n",
      "Weather_Condition        0.009721\n",
      "Sunrise_Sunset           0.000000\n",
      "Civil_Twilight           0.000000\n",
      "Nautical_Twilight        0.000000\n",
      "Astronomical_Twilight    0.000000\n",
      "dtype: float64\n",
      "                                 OLS Regression Results                                \n",
      "=======================================================================================\n",
      "Dep. Variable:                      y   R-squared (uncentered):                   0.999\n",
      "Model:                            OLS   Adj. R-squared (uncentered):              0.999\n",
      "Method:                 Least Squares   F-statistic:                          2.042e+07\n",
      "Date:                Tue, 16 Nov 2021   Prob (F-statistic):                        0.00\n",
      "Time:                        20:11:31   Log-Likelihood:                     -1.2984e+05\n",
      "No. Observations:               56661   AIC:                                  2.597e+05\n",
      "Df Residuals:                   56659   BIC:                                  2.597e+05\n",
      "Df Model:                           2                                                  \n",
      "Covariance Type:            nonrobust                                                  \n",
      "===================================================================================\n",
      "                      coef    std err          t      P>|t|      [0.025      0.975]\n",
      "-----------------------------------------------------------------------------------\n",
      "Temperature(F)      1.0178      0.000   4644.886      0.000       1.017       1.018\n",
      "Wind_Speed(mph)    -0.3023      0.002   -164.445      0.000      -0.306      -0.299\n",
      "==============================================================================\n",
      "Omnibus:                    19081.525   Durbin-Watson:                   0.497\n",
      "Prob(Omnibus):                  0.000   Jarque-Bera (JB):           103607.354\n",
      "Skew:                          -1.528   Prob(JB):                         0.00\n",
      "Kurtosis:                       8.877   Cond. No.                         11.9\n",
      "==============================================================================\n",
      "\n",
      "Notes:\n",
      "[1] R² is computed without centering (uncentered) since the model does not contain a constant.\n",
      "[2] Standard Errors assume that the covariance matrix of the errors is correctly specified.\n",
      "Percent of missing rows by column \n",
      "\n",
      " Weather_Timestamp        0.007985\n",
      "Temperature(F)           0.010175\n",
      "Wind_Chill(F)            0.103969\n",
      "Humidity(%)              0.010639\n",
      "Pressure(in)             0.010352\n",
      "Visibility(mi)           0.009920\n",
      "Wind_Direction           0.017584\n",
      "Wind_Speed(mph)          0.103427\n",
      "Precipitation(in)        0.376229\n",
      "Weather_Condition        0.009721\n",
      "Sunrise_Sunset           0.000000\n",
      "Civil_Twilight           0.000000\n",
      "Nautical_Twilight        0.000000\n",
      "Astronomical_Twilight    0.000000\n",
      "dtype: float64\n",
      "Percent of missing rows by column \n",
      "\n",
      " Weather_Timestamp        0.007985\n",
      "Temperature(F)           0.000000\n",
      "Wind_Chill(F)            0.000000\n",
      "Humidity(%)              0.000000\n",
      "Pressure(in)             0.000000\n",
      "Visibility(mi)           0.000000\n",
      "Wind_Direction           0.017584\n",
      "Wind_Speed(mph)          0.000000\n",
      "Precipitation(in)        0.000000\n",
      "Weather_Condition        0.009721\n",
      "Sunrise_Sunset           0.000000\n",
      "Civil_Twilight           0.000000\n",
      "Nautical_Twilight        0.000000\n",
      "Astronomical_Twilight    0.000000\n",
      "dtype: float64\n"
     ]
    }
   ],
   "source": [
    "### --- Russ's Code --- ###\n",
    "\n",
    "# Create a copy of the df\n",
    "accidents_df_russ = accidents_df_isolated.copy()\n",
    "\n",
    "env_vars = preprocessing_config['env_vars']\n",
    "accidents_df_russ = pre.subset_df(accidents_df_russ, env_vars)\n",
    "\n",
    "print('Percent of missing rows by column', '\\n\\n', accidents_df_russ.isnull().sum()/len(accidents_df_russ))\n",
    "\n",
    "temp_wind = pre.subset_df(accidents_df_russ, ['Temperature(F)', 'Wind_Speed(mph)'])\n",
    "pre.OLS(temp_wind, np.array(accidents_df_russ['Wind_Chill(F)']))\n",
    "\n",
    "accidents_df_russ['Wind_Chill(F)'].fillna((accidents_df_russ['Temperature(F)']*1.0778 + accidents_df_russ['Wind_Speed(mph)']*-0.7083), inplace=True)\n",
    "\n",
    "print('Percent of missing rows by column', '\\n\\n', accidents_df_russ.isnull().sum()/len(accidents_df_russ))\n",
    "\n",
    "accidents_df_russ = pre.basic_impute(accidents_df_russ)\n",
    "\n",
    "print('Percent of missing rows by column', '\\n\\n', accidents_df_russ.isnull().sum()/len(accidents_df_russ))\n"
   ]
  },
  {
   "cell_type": "code",
   "execution_count": 89,
   "metadata": {},
   "outputs": [
    {
     "name": "stdout",
     "output_type": "stream",
     "text": [
      "Number of missing rows by column \n",
      " Traffic_Signal     0\n",
      "Crossing           0\n",
      "Station            0\n",
      "Amenity            0\n",
      "Bump               0\n",
      "Give_Way           0\n",
      "Junction           0\n",
      "No_Exit            0\n",
      "Railway            0\n",
      "Roundabout         0\n",
      "Stop               0\n",
      "Traffic_Calming    0\n",
      "Turning_Loop       0\n",
      "dtype: int64\n",
      "Index(['Severity', 'Start_Time', 'End_Time', 'Distance(mi)', 'Description',\n",
      "       'Start_Lat', 'Start_Lng', 'End_Lat', 'End_Lng', 'Street', 'Side',\n",
      "       'City', 'County', 'Timezone'],\n",
      "      dtype='object')\n"
     ]
    }
   ],
   "source": [
    "### --- Sanjeev's Code --- ###\n",
    "\n",
    "# Create a copy of the df\n",
    "accidents_df_sanjeev = accidents_df_isolated.copy()\n",
    "\n",
    "infra_vars = preprocessing_config['infra_vars']\n",
    "accidents_df_infra = accidents_df_isolated[infra_vars].copy()\n",
    "print('Number of missing rows by column', '\\n', accidents_df_infra.isnull().sum())\n",
    "\n",
    "\n",
    "# There is no missing value and duplicated meaing variables, all of the infra structures variables would be used. \n",
    "accidents_df_sanjeev = pre.preprocess_loc_basic_var(accidents_df_sanjeev)\n",
    "print(accidents_df_sanjeev.columns)"
   ]
  },
  {
   "cell_type": "code",
   "execution_count": null,
   "metadata": {},
   "outputs": [],
   "source": []
  },
  {
   "cell_type": "markdown",
   "metadata": {
    "id": "i_R2mcmqgSdq"
   },
   "source": [
    "## Create Model"
   ]
  },
  {
   "cell_type": "code",
   "execution_count": null,
   "metadata": {},
   "outputs": [],
   "source": [
    "from project_libs.project import models"
   ]
  },
  {
   "cell_type": "code",
   "execution_count": null,
   "metadata": {},
   "outputs": [],
   "source": []
  },
  {
   "cell_type": "markdown",
   "metadata": {
    "id": "i_R2mcmqgSdq"
   },
   "source": [
    "## Hyperparameter Tuning"
   ]
  },
  {
   "cell_type": "code",
   "execution_count": null,
   "metadata": {},
   "outputs": [],
   "source": []
  },
  {
   "cell_type": "code",
   "execution_count": null,
   "metadata": {},
   "outputs": [],
   "source": []
  },
  {
   "cell_type": "markdown",
   "metadata": {
    "id": "i_R2mcmqgSdq"
   },
   "source": [
    "## Training"
   ]
  },
  {
   "cell_type": "code",
   "execution_count": null,
   "metadata": {},
   "outputs": [],
   "source": []
  },
  {
   "cell_type": "code",
   "execution_count": null,
   "metadata": {},
   "outputs": [],
   "source": []
  },
  {
   "cell_type": "markdown",
   "metadata": {
    "id": "i_R2mcmqgSdq"
   },
   "source": [
    "## Testing"
   ]
  },
  {
   "cell_type": "code",
   "execution_count": null,
   "metadata": {},
   "outputs": [],
   "source": []
  },
  {
   "cell_type": "code",
   "execution_count": null,
   "metadata": {},
   "outputs": [],
   "source": []
  },
  {
   "cell_type": "markdown",
   "metadata": {
    "id": "i_R2mcmqgSdq"
   },
   "source": [
    "## Evaluation"
   ]
  },
  {
   "cell_type": "code",
   "execution_count": null,
   "metadata": {},
   "outputs": [],
   "source": []
  },
  {
   "cell_type": "code",
   "execution_count": null,
   "metadata": {},
   "outputs": [],
   "source": []
  },
  {
   "cell_type": "markdown",
   "metadata": {
    "id": "i_R2mcmqgSdq"
   },
   "source": [
    "## Plots"
   ]
  },
  {
   "cell_type": "code",
   "execution_count": null,
   "metadata": {},
   "outputs": [],
   "source": [
    "from project_libs.project import plotter as pl"
   ]
  },
  {
   "cell_type": "code",
   "execution_count": null,
   "metadata": {},
   "outputs": [],
   "source": []
  }
 ],
 "metadata": {
  "colab": {
   "include_colab_link": true,
   "name": "main.ipynb",
   "provenance": [],
   "toc_visible": true
  },
  "kernelspec": {
   "display_name": "Python 3 (ipykernel)",
   "language": "python",
   "name": "python3"
  },
  "language_info": {
   "codemirror_mode": {
    "name": "ipython",
    "version": 3
   },
   "file_extension": ".py",
   "mimetype": "text/x-python",
   "name": "python",
   "nbconvert_exporter": "python",
   "pygments_lexer": "ipython3",
   "version": "3.8.12"
  },
  "widgets": {
   "application/vnd.jupyter.widget-state+json": {
    "1731d42a04634fee89c2f80c12a29c88": {
     "model_module": "@jupyter-widgets/base",
     "model_module_version": "1.2.0",
     "model_name": "LayoutModel",
     "state": {
      "_model_module": "@jupyter-widgets/base",
      "_model_module_version": "1.2.0",
      "_model_name": "LayoutModel",
      "_view_count": null,
      "_view_module": "@jupyter-widgets/base",
      "_view_module_version": "1.2.0",
      "_view_name": "LayoutView",
      "align_content": null,
      "align_items": null,
      "align_self": null,
      "border": null,
      "bottom": null,
      "display": null,
      "flex": null,
      "flex_flow": null,
      "grid_area": null,
      "grid_auto_columns": null,
      "grid_auto_flow": null,
      "grid_auto_rows": null,
      "grid_column": null,
      "grid_gap": null,
      "grid_row": null,
      "grid_template_areas": null,
      "grid_template_columns": null,
      "grid_template_rows": null,
      "height": null,
      "justify_content": null,
      "justify_items": null,
      "left": null,
      "margin": null,
      "max_height": null,
      "max_width": null,
      "min_height": null,
      "min_width": null,
      "object_fit": null,
      "object_position": null,
      "order": null,
      "overflow": null,
      "overflow_x": null,
      "overflow_y": null,
      "padding": null,
      "right": null,
      "top": null,
      "visibility": null,
      "width": null
     }
    },
    "5f7a290065d24765a0bc5fa9801fd815": {
     "model_module": "@jupyter-widgets/controls",
     "model_module_version": "1.5.0",
     "model_name": "ButtonStyleModel",
     "state": {
      "_model_module": "@jupyter-widgets/controls",
      "_model_module_version": "1.5.0",
      "_model_name": "ButtonStyleModel",
      "_view_count": null,
      "_view_module": "@jupyter-widgets/base",
      "_view_module_version": "1.2.0",
      "_view_name": "StyleView",
      "button_color": null,
      "font_weight": ""
     }
    },
    "a5b00bcabdfc42c480043de40a36c486": {
     "model_module": "@jupyter-widgets/base",
     "model_module_version": "1.2.0",
     "model_name": "LayoutModel",
     "state": {
      "_model_module": "@jupyter-widgets/base",
      "_model_module_version": "1.2.0",
      "_model_name": "LayoutModel",
      "_view_count": null,
      "_view_module": "@jupyter-widgets/base",
      "_view_module_version": "1.2.0",
      "_view_name": "LayoutView",
      "align_content": null,
      "align_items": null,
      "align_self": null,
      "border": null,
      "bottom": null,
      "display": null,
      "flex": null,
      "flex_flow": null,
      "grid_area": null,
      "grid_auto_columns": null,
      "grid_auto_flow": null,
      "grid_auto_rows": null,
      "grid_column": null,
      "grid_gap": null,
      "grid_row": null,
      "grid_template_areas": null,
      "grid_template_columns": null,
      "grid_template_rows": null,
      "height": null,
      "justify_content": null,
      "justify_items": null,
      "left": null,
      "margin": null,
      "max_height": null,
      "max_width": null,
      "min_height": null,
      "min_width": null,
      "object_fit": null,
      "object_position": null,
      "order": null,
      "overflow": null,
      "overflow_x": null,
      "overflow_y": null,
      "padding": null,
      "right": null,
      "top": null,
      "visibility": null,
      "width": null
     }
    },
    "c55ebd5855ca490791c5d6b9308b6d4e": {
     "model_module": "@jupyter-widgets/controls",
     "model_module_version": "1.5.0",
     "model_name": "ButtonModel",
     "state": {
      "_dom_classes": [],
      "_model_module": "@jupyter-widgets/controls",
      "_model_module_version": "1.5.0",
      "_model_name": "ButtonModel",
      "_view_count": null,
      "_view_module": "@jupyter-widgets/controls",
      "_view_module_version": "1.5.0",
      "_view_name": "ButtonView",
      "button_style": "",
      "description": "Yes",
      "disabled": false,
      "icon": "",
      "layout": "IPY_MODEL_a5b00bcabdfc42c480043de40a36c486",
      "style": "IPY_MODEL_5f7a290065d24765a0bc5fa9801fd815",
      "tooltip": ""
     }
    },
    "e7b4d0dcb1f24d998063f877d1efbca7": {
     "model_module": "@jupyter-widgets/controls",
     "model_module_version": "1.5.0",
     "model_name": "ButtonModel",
     "state": {
      "_dom_classes": [],
      "_model_module": "@jupyter-widgets/controls",
      "_model_module_version": "1.5.0",
      "_model_name": "ButtonModel",
      "_view_count": null,
      "_view_module": "@jupyter-widgets/controls",
      "_view_module_version": "1.5.0",
      "_view_name": "ButtonView",
      "button_style": "",
      "description": "Yes, clone",
      "disabled": false,
      "icon": "",
      "layout": "IPY_MODEL_1731d42a04634fee89c2f80c12a29c88",
      "style": "IPY_MODEL_f7b19456e9b94ee09f8ed14cc1ba960b",
      "tooltip": ""
     }
    },
    "f7b19456e9b94ee09f8ed14cc1ba960b": {
     "model_module": "@jupyter-widgets/controls",
     "model_module_version": "1.5.0",
     "model_name": "ButtonStyleModel",
     "state": {
      "_model_module": "@jupyter-widgets/controls",
      "_model_module_version": "1.5.0",
      "_model_name": "ButtonStyleModel",
      "_view_count": null,
      "_view_module": "@jupyter-widgets/base",
      "_view_module_version": "1.2.0",
      "_view_name": "StyleView",
      "button_color": null,
      "font_weight": ""
     }
    }
   }
  }
 },
 "nbformat": 4,
 "nbformat_minor": 1
}
