{
 "cells": [
  {
   "cell_type": "markdown",
   "metadata": {
    "collapsed": true,
    "id": "Vt9t7-fVi8At"
   },
   "source": [
    "# Machine Learning - Final Project\n",
    "## Accident Severity Prediction\n",
    "**Team**: *Jennifer Lord, Konstantinos Georgiou, Russ Limber, Sanjeev Singh, Sara Howard*"
   ]
  },
  {
   "cell_type": "markdown",
   "metadata": {
    "id": "eiRSeV6fi8A0"
   },
   "source": [
    "## Where to put the code\n",
    "- Place the preprocessing functions/classes in [\\<project root\\>/project_libs/project/preprocessing.py](https://github.com/UTK-ML-Dream-Team/accident-severity-prediction/blob/master/project_libs/project/preprocessing.py)\n",
    "- The models in [\\<project root\\>/project_libs/project/models.py](https://github.com/UTK-ML-Dream-Team/accident-severity-prediction/blob/master/project_libs/project/models.py)\n",
    "- Any plotting related functions in [\\<project root\\>/project_libs/project/plotter.py](https://github.com/UTK-ML-Dream-Team/accident-severity-prediction/blob/master/project_libs/project/plotter.py)\n",
    "\n",
    "\n",
    "**The code is reloaded automatically. Any class object needs to reinitialized though.** \n",
    "\n",
    "## Config file\n",
    "The yml/config file is located at: [confs/prototype1.yml](https://github.com/UTK-ML-Dream-Team/accident-severity-prediction/blob/master/confs/prototype1.yml)<br>\n",
    "To load it run:\n",
    "```python\n",
    "config_path='confs/prototype1.yml'\n",
    "conf = Configuration(config_src=config_path)\n",
    "# Get the dataset loader config\n",
    "loader_config = conf.get_config('data_loader')['config']['dataset'] # type = Dict\n",
    "print(books.keys())\n",
    "print(loader_config['url'])\n",
    "```\n",
    "To reload the config just run the 2nd and 3rd command.\n",
    "\n",
    "## Libraries Overview:\n",
    "All the libraries are located under *\"\\<project root>/project_libs\"*\n",
    "- project_libs/**project**: This project's code (imported later)\n",
    "- project_libs/**configuration**: Class that creates config objects from yml files\n",
    "- project_libs/**fancy_logger**: Logger that can be used instead of prints for text formatting (color, bold, underline etc)\n",
    "\n",
    "## For more info check out:\n",
    "- the **[Project Board](https://github.com/UTK-ML-Dream-Team/accident-severity-prediction/projects/1)**\n",
    "- and the **[Current Issues](https://github.com/UTK-ML-Dream-Team/accident-severity-prediction/issues)**"
   ]
  },
  {
   "cell_type": "markdown",
   "metadata": {
    "id": "1gmuUzi6gSdg"
   },
   "source": [
    "# ------------------------------------------------------------------"
   ]
  },
  {
   "cell_type": "markdown",
   "metadata": {
    "id": "1Nl39AXjgSdg"
   },
   "source": [
    "## On Google Collab?\n",
    "- **If yes, run the two cells and press the two buttons below:**\n",
    "- Otherwise go to \"***Import the base Libraries***\""
   ]
  },
  {
   "cell_type": "code",
   "execution_count": 12,
   "metadata": {
    "colab": {
     "base_uri": "https://localhost:8080/",
     "height": 104,
     "referenced_widgets": [
      "e7b4d0dcb1f24d998063f877d1efbca7",
      "f7b19456e9b94ee09f8ed14cc1ba960b",
      "1731d42a04634fee89c2f80c12a29c88",
      "c2de90b9bdf54f6e933b76a703061497"
     ]
    },
    "id": "1SQIWYWmi8A4",
    "outputId": "9832cee7-6841-41cc-ef30-3bbf97b720d3"
   },
   "outputs": [
    {
     "name": "stdout",
     "output_type": "stream",
     "text": [
      "Clone project?\n",
      "(If you do this you will ovewrite local changes on other files e.g. configs)\n",
      "Not needed if you're not on Google Collab\n"
     ]
    },
    {
     "data": {
      "application/vnd.jupyter.widget-view+json": {
       "model_id": "7e32ede8de6a40f4a39abb7618682f0d",
       "version_major": 2,
       "version_minor": 0
      },
      "text/plain": [
       "Button(description='Yes, clone', style=ButtonStyle())"
      ]
     },
     "metadata": {},
     "output_type": "display_data"
    }
   ],
   "source": [
    "# Import Jupyter Widgets\n",
    "import os\n",
    "import ipywidgets as widgets\n",
    "from ipywidgets import interact, interact_manual\n",
    "from IPython.display import display\n",
    "# Clone the repository if you're in Google Collab\n",
    "def clone_project(is_collab: bool = False):\n",
    "    print(\"Cloning Project..\")\n",
    "    !git clone https://github.com/UTK-ML-Dream-Team/accident-severity-prediction.git\n",
    "    print(\"Project cloned.\")\n",
    "       \n",
    "print(\"Clone project?\")\n",
    "print(\"(If you do this you will ovewrite local changes on other files e.g. configs)\")\n",
    "print(\"Not needed if you're not on Google Collab\")\n",
    "btn = widgets.Button(description=\"Yes, clone\")\n",
    "btn.on_click(clone_project)\n",
    "display(btn)"
   ]
  },
  {
   "cell_type": "code",
   "execution_count": 13,
   "metadata": {
    "colab": {
     "base_uri": "https://localhost:8080/",
     "height": 67,
     "referenced_widgets": [
      "c55ebd5855ca490791c5d6b9308b6d4e",
      "5f7a290065d24765a0bc5fa9801fd815",
      "a5b00bcabdfc42c480043de40a36c486",
      "35d1878f3f4849a0975e8ffabf5d9a6d"
     ]
    },
    "id": "F_l8p4H1i8A5",
    "outputId": "8e4174bb-ba13-4f22-b2d6-f5045de58d9e"
   },
   "outputs": [
    {
     "name": "stdout",
     "output_type": "stream",
     "text": [
      "Are you on Google Collab?\n"
     ]
    },
    {
     "data": {
      "application/vnd.jupyter.widget-view+json": {
       "model_id": "8b2253ba56bb44929077bd88652d97bb",
       "version_major": 2,
       "version_minor": 0
      },
      "text/plain": [
       "Button(description='Yes', style=ButtonStyle())"
      ]
     },
     "metadata": {},
     "output_type": "display_data"
    }
   ],
   "source": [
    "# Clone the repository if you're in Google Collab\n",
    "def change_dir(is_collab: bool = False):\n",
    "    try:\n",
    "        print(\"Changing dir..\")\n",
    "        os.chdir('/content/accident-severity-prediction')\n",
    "        print('done')\n",
    "        print(\"Current dir:\")\n",
    "        print(os.getcwd())\n",
    "        print(\"Dir Contents:\")\n",
    "        print(os.listdir())\n",
    "        print(\"\\nInstalling Requirements\")\n",
    "        !pip install -r requirements.txt\n",
    "    except Exception:\n",
    "        print(\"Error: Project not cloned\")\n",
    "       \n",
    "print(\"Are you on Google Collab?\")\n",
    "btn = widgets.Button(description=\"Yes\")\n",
    "btn.on_click(change_dir)\n",
    "display(btn)"
   ]
  },
  {
   "cell_type": "markdown",
   "metadata": {
    "id": "6CpeQfTli8A6"
   },
   "source": [
    "### To commit and push Google Collab notebook to Github\n",
    "Click **File > Save a copy on Gihtub**"
   ]
  },
  {
   "cell_type": "markdown",
   "metadata": {
    "id": "reFZW6B8gSdj"
   },
   "source": [
    "# ------------------------------------------------------------------"
   ]
  },
  {
   "cell_type": "markdown",
   "metadata": {
    "id": "h54edY45gSdj"
   },
   "source": [
    "# Initializations"
   ]
  },
  {
   "cell_type": "markdown",
   "metadata": {
    "id": "H1RHGfh1i8A8",
    "pycharm": {
     "name": "#%%\n"
    }
   },
   "source": [
    "## Import the base Libraries"
   ]
  },
  {
   "cell_type": "code",
   "execution_count": 14,
   "metadata": {
    "colab": {
     "base_uri": "https://localhost:8080/"
    },
    "id": "wjKYGxzYi8A9",
    "outputId": "185d3c02-7723-4c5d-a58a-69a2eff4462f"
   },
   "outputs": [
    {
     "name": "stdout",
     "output_type": "stream",
     "text": [
      "The autoreload extension is already loaded. To reload it, use:\n",
      "  %reload_ext autoreload\n"
     ]
    }
   ],
   "source": [
    "# Imports\n",
    "%load_ext autoreload\n",
    "%autoreload 2\n",
    "from importlib import reload as reload_lib\n",
    "from typing import *\n",
    "import os\n",
    "import re\n",
    "from pprint import pprint\n",
    "import datetime \n",
    "# Numpy\n",
    "import numpy as np\n",
    "import pandas as pd\n",
    "\n",
    "# Import preprocessing lib\n",
    "from project_libs.project import *"
   ]
  },
  {
   "cell_type": "markdown",
   "metadata": {
    "id": "PYBmLhFZgSdk"
   },
   "source": [
    "## Load the YML file"
   ]
  },
  {
   "cell_type": "code",
   "execution_count": 15,
   "metadata": {
    "id": "-z773EjNgSdk"
   },
   "outputs": [],
   "source": [
    "from project_libs import Configuration"
   ]
  },
  {
   "cell_type": "code",
   "execution_count": 33,
   "metadata": {
    "colab": {
     "base_uri": "https://localhost:8080/"
    },
    "id": "XYH2o7w3i8A-",
    "outputId": "48016d05-91df-462d-9f73-87d98d66a375"
   },
   "outputs": [
    {
     "name": "stderr",
     "output_type": "stream",
     "text": [
      "2021-11-16 18:47:35 Config       INFO     \u001b[1m\u001b[37mConfiguration file loaded successfully from path: /Users/gkos/Insync/delfinas7kostas@gmail.com/Google Drive/Projects/UTK/accident-severity-detection-prediction/confs/prototype1.yml\u001b[0m\n",
      "2021-11-16 18:47:35 Config       INFO     \u001b[1m\u001b[37mConfiguration Tag: prototype_1\u001b[0m\n"
     ]
    }
   ],
   "source": [
    "# The path of configuration and log save path\n",
    "config_path = \"confs/prototype1.yml\"\n",
    "# !cat \"$config_path\"\n",
    "# Load the configuratåion\n",
    "conf = Configuration(config_src=config_path)\n",
    "# Get the books dict\n",
    "loader_config = conf.get_config('data_loader')['config']['dataset']\n",
    "preprocessing_config = conf.get_config('data_loader')['config']['preprocessing']\n",
    "# print(books.keys())\n",
    "# pprint(books)  # Pretty print the books dict"
   ]
  },
  {
   "cell_type": "markdown",
   "metadata": {
    "id": "ztSC5oWsgSdl"
   },
   "source": [
    "# ------------------------------------------------------------------"
   ]
  },
  {
   "cell_type": "markdown",
   "metadata": {
    "id": "ZyM4avEli8A_"
   },
   "source": [
    "# Start of Project Code"
   ]
  },
  {
   "cell_type": "code",
   "execution_count": 17,
   "metadata": {
    "id": "CuYpT_rqgSdl"
   },
   "outputs": [],
   "source": [
    "from project_libs import project as proj"
   ]
  },
  {
   "cell_type": "markdown",
   "metadata": {
    "id": "OhlCQKWpg4Et"
   },
   "source": [
    "## Data Loading"
   ]
  },
  {
   "cell_type": "code",
   "execution_count": 18,
   "metadata": {},
   "outputs": [
    {
     "name": "stdout",
     "output_type": "stream",
     "text": [
      "mkdir: /Users/gkos/.kaggle: File exists\n",
      "mkdir: data: File exists\n",
      "Downloading us-accidents.zip to /Users/gkos/Insync/delfinas7kostas@gmail.com/Google Drive/Projects/UTK/accident-severity-detection-prediction/data\n",
      " 99%|███████████████████████████████████████▌| 116M/117M [00:07<00:00, 18.5MB/s]\n",
      "100%|████████████████████████████████████████| 117M/117M [00:07<00:00, 16.2MB/s]\n",
      "Archive:  us-accidents.zip\n",
      "  inflating: US_Accidents_Dec20_updated.csv  \n"
     ]
    }
   ],
   "source": [
    "# Download Dataset again if requested\n",
    "should_download = loader_config['download']\n",
    "if should_download:\n",
    "    kaggle_dataset_name = loader_config['kaggle_dataset_name']\n",
    "    !mkdir ~/.kaggle\n",
    "    !cp confs/kaggle.json ~/.kaggle/\n",
    "    !chmod 600 ~/.kaggle/kaggle.json\n",
    "    !mkdir data\n",
    "    !cd data && kaggle datasets download -d $kaggle_dataset_name && unzip -o us-accidents.zip && rm us-accidents.zip"
   ]
  },
  {
   "cell_type": "code",
   "execution_count": 19,
   "metadata": {
    "id": "qpxXezwmgSdm"
   },
   "outputs": [],
   "source": [
    "# Load Dataset\n",
    "accidents_df_original = pd.read_csv (loader_config['local_dataset_name'])\n",
    "accidents_df = accidents_df_original.copy()"
   ]
  },
  {
   "cell_type": "markdown",
   "metadata": {},
   "source": [
    "## Exploration - Sampling Tests"
   ]
  },
  {
   "cell_type": "code",
   "execution_count": 20,
   "metadata": {},
   "outputs": [
    {
     "name": "stdout",
     "output_type": "stream",
     "text": [
      "Number of rows: 1516064\n",
      "Number of Columns: 47\n",
      "Columns: Index(['ID', 'Severity', 'Start_Time', 'End_Time', 'Start_Lat', 'Start_Lng',\n",
      "       'End_Lat', 'End_Lng', 'Distance(mi)', 'Description', 'Number', 'Street',\n",
      "       'Side', 'City', 'County', 'State', 'Zipcode', 'Country', 'Timezone',\n",
      "       'Airport_Code', 'Weather_Timestamp', 'Temperature(F)', 'Wind_Chill(F)',\n",
      "       'Humidity(%)', 'Pressure(in)', 'Visibility(mi)', 'Wind_Direction',\n",
      "       'Wind_Speed(mph)', 'Precipitation(in)', 'Weather_Condition', 'Amenity',\n",
      "       'Bump', 'Crossing', 'Give_Way', 'Junction', 'No_Exit', 'Railway',\n",
      "       'Roundabout', 'Station', 'Stop', 'Traffic_Calming', 'Traffic_Signal',\n",
      "       'Turning_Loop', 'Sunrise_Sunset', 'Civil_Twilight', 'Nautical_Twilight',\n",
      "       'Astronomical_Twilight'],\n",
      "      dtype='object')\n"
     ]
    }
   ],
   "source": [
    "# Print Basic Info\n",
    "print(f\"Number of rows: {accidents_df.shape[0]}\")\n",
    "print(f\"Number of Columns: {accidents_df.shape[1]}\")\n",
    "print(f\"Columns: {accidents_df.columns}\")"
   ]
  },
  {
   "cell_type": "code",
   "execution_count": 23,
   "metadata": {},
   "outputs": [
    {
     "name": "stdout",
     "output_type": "stream",
     "text": [
      "Unique Cities: \n",
      "['Dublin', 'Dayton', 'Cincinnati', 'Akron', 'Williamsburg', 'Batavia', 'Cleveland', 'Lima', 'Westerville', 'Jamestown'], ..\n",
      "Number of cities: 10658\n",
      "----------------------------------------------------\n",
      "Number of rows when only FIRST 20 were included: 28208\n",
      "Number of rows when only FIRST 50 were included: 49824\n",
      "Number of rows when only FIRST 100 were included: 62172\n",
      "Number of rows when only FIRST 500 were included: 279012\n",
      "Number of rows when only FIRST 1000 were included: 693738\n",
      "Number of rows when only FIRST 1500 were included: 775703\n",
      "Number of rows when only FIRST 2000 were included: 1037886\n"
     ]
    }
   ],
   "source": [
    "# -- Filter By Cities -- #\n",
    "print(\"Unique Cities: \")\n",
    "cities = accidents_df.City.unique().tolist()\n",
    "print(f\"{cities[:10]}, ..\")\n",
    "print(f\"Number of cities: {len(cities)}\")\n",
    "print(\"----------------------------------------------------\")\n",
    "\n",
    "# Try different number of cities filters\n",
    "for num_cities in [20, 50, 100, 500, 1000, 1500, 2000]:\n",
    "    current_num = accidents_df[accidents_df.City.isin(cities[:num_cities])].shape[0]\n",
    "    print(f\"Number of rows when only FIRST {num_cities} were included: {current_num}\")"
   ]
  },
  {
   "cell_type": "code",
   "execution_count": 25,
   "metadata": {},
   "outputs": [
    {
     "name": "stdout",
     "output_type": "stream",
     "text": [
      "Earliest date: 2016-02-08 00:37:08\n",
      "Most Recent date: 2020-12-31 23:28:56\n",
      "----------------------------------------------------\n",
      "Number of rows when only dates STARTED FROM 1/2017 were included: 1386739\n",
      "Number of rows when only dates STARTED FROM 1/2018 were included: 1216640\n",
      "Number of rows when only dates STARTED FROM 1/2019 were included: 1049704\n",
      "Number of rows when only dates STARTED FROM 1/2020 were included: 787932\n",
      "Number of rows when only dates STARTED FROM 6/2020 were included: 546313\n",
      "Number of rows when only dates STARTED FROM 9/2020 were included: 480503\n"
     ]
    }
   ],
   "source": [
    "# -- Filter By Date -- #\n",
    "accidents_df.loc[:, 'Start_Time_dt'] = pd.to_datetime(accidents_df.Start_Time)\n",
    "print(f\"Earliest date: {accidents_df.Start_Time_dt.min()}\")\n",
    "print(f\"Most Recent date: {accidents_df.Start_Time_dt.max()}\")\n",
    "print(\"----------------------------------------------------\")\n",
    "\n",
    "# Try different date filters\n",
    "dates = [(2017, 1), (2018, 1), (2019, 1), (2020, 1), (2020, 6), (2020, 9)]\n",
    "for year, month in dates:\n",
    "    condition = accidents_df.Start_Time_dt.dt.date>=datetime.date(year=year,month=month,day=1)\n",
    "    current_num = accidents_df.Start_Time_dt[condition].shape[0]\n",
    "    print(f\"Number of rows when only dates STARTED FROM {month}/{year} were included: {current_num}\")\n"
   ]
  },
  {
   "cell_type": "code",
   "execution_count": 26,
   "metadata": {},
   "outputs": [
    {
     "name": "stdout",
     "output_type": "stream",
     "text": [
      "Unique States: \n",
      "['OH', 'IN', 'KY', 'WV', 'MI', 'PA', 'CA', 'NV', 'MN', 'TX']\n",
      "Number of states: 49\n",
      "----------------------------------------------------\n",
      "Number of rows when only North Eastern states were included: 206216\n",
      "Number of rows when only dates STARTED FROM 1/2020 for the North Easter States were included: 114565\n"
     ]
    }
   ],
   "source": [
    "# -- Filter By States and Date -- #\n",
    "print(\"Unique States: \")\n",
    "states = accidents_df.State.unique().tolist()\n",
    "print(states[:10])\n",
    "print(f\"Number of states: {len(states)}\")\n",
    "print(\"----------------------------------------------------\")\n",
    "\n",
    "# Filter By NE States\n",
    "staes_of_choice =  ['PA', 'NY', 'VY', 'ME', 'NH', 'MA', 'RI', 'CT', 'NJ', 'DE', 'DC', 'MD']\n",
    "accidents_df_filtered = accidents_df[accidents_df.State.isin(staes_of_choice)].copy()\n",
    "print(f\"Number of rows when only North Eastern states were included: {accidents_df_filtered.shape[0]}\")\n",
    "\n",
    "# By Date\n",
    "year, month = 2020, 1\n",
    "condition = accidents_df_filtered.Start_Time_dt.dt.date>=datetime.date(year=year,month=month,day=1)\n",
    "current_num = accidents_df_filtered.Start_Time_dt[condition].shape[0]\n",
    "print(f\"Number of rows when only dates STARTED FROM {month}/{year} for the North Easter States were included: {current_num}\")"
   ]
  },
  {
   "cell_type": "markdown",
   "metadata": {
    "id": "i_R2mcmqgSdq"
   },
   "source": [
    "## Preprocessing"
   ]
  },
  {
   "cell_type": "code",
   "execution_count": 27,
   "metadata": {
    "id": "gRUrrWe7gSdq"
   },
   "outputs": [],
   "source": [
    "from project_libs.project import preprocessing as pre"
   ]
  },
  {
   "cell_type": "code",
   "execution_count": 31,
   "metadata": {
    "id": "jidzZ38HgSds"
   },
   "outputs": [
    {
     "data": {
      "text/html": [
       "<div>\n",
       "<style scoped>\n",
       "    .dataframe tbody tr th:only-of-type {\n",
       "        vertical-align: middle;\n",
       "    }\n",
       "\n",
       "    .dataframe tbody tr th {\n",
       "        vertical-align: top;\n",
       "    }\n",
       "\n",
       "    .dataframe thead th {\n",
       "        text-align: right;\n",
       "    }\n",
       "</style>\n",
       "<table border=\"1\" class=\"dataframe\">\n",
       "  <thead>\n",
       "    <tr style=\"text-align: right;\">\n",
       "      <th></th>\n",
       "      <th>ID</th>\n",
       "      <th>Severity</th>\n",
       "      <th>Start_Time</th>\n",
       "      <th>End_Time</th>\n",
       "      <th>Start_Lat</th>\n",
       "      <th>Start_Lng</th>\n",
       "      <th>End_Lat</th>\n",
       "      <th>End_Lng</th>\n",
       "      <th>Distance(mi)</th>\n",
       "      <th>Description</th>\n",
       "      <th>...</th>\n",
       "      <th>Roundabout</th>\n",
       "      <th>Station</th>\n",
       "      <th>Stop</th>\n",
       "      <th>Traffic_Calming</th>\n",
       "      <th>Traffic_Signal</th>\n",
       "      <th>Turning_Loop</th>\n",
       "      <th>Sunrise_Sunset</th>\n",
       "      <th>Civil_Twilight</th>\n",
       "      <th>Nautical_Twilight</th>\n",
       "      <th>Astronomical_Twilight</th>\n",
       "    </tr>\n",
       "  </thead>\n",
       "  <tbody>\n",
       "    <tr>\n",
       "      <th>32588</th>\n",
       "      <td>A-2749188</td>\n",
       "      <td>3</td>\n",
       "      <td>2016-11-30 16:33:05</td>\n",
       "      <td>2016-11-30 22:33:05</td>\n",
       "      <td>41.75033</td>\n",
       "      <td>-87.66344</td>\n",
       "      <td>41.75033</td>\n",
       "      <td>-87.66344</td>\n",
       "      <td>0.000</td>\n",
       "      <td>At Ashland Ave - Accident.</td>\n",
       "      <td>...</td>\n",
       "      <td>False</td>\n",
       "      <td>True</td>\n",
       "      <td>False</td>\n",
       "      <td>False</td>\n",
       "      <td>True</td>\n",
       "      <td>False</td>\n",
       "      <td>Night</td>\n",
       "      <td>Day</td>\n",
       "      <td>Day</td>\n",
       "      <td>Day</td>\n",
       "    </tr>\n",
       "    <tr>\n",
       "      <th>32590</th>\n",
       "      <td>A-2749190</td>\n",
       "      <td>3</td>\n",
       "      <td>2016-11-30 16:33:05</td>\n",
       "      <td>2016-11-30 22:33:05</td>\n",
       "      <td>41.75033</td>\n",
       "      <td>-87.66344</td>\n",
       "      <td>41.75033</td>\n",
       "      <td>-87.66344</td>\n",
       "      <td>0.000</td>\n",
       "      <td>At Ashland Ave - Accident.</td>\n",
       "      <td>...</td>\n",
       "      <td>False</td>\n",
       "      <td>True</td>\n",
       "      <td>False</td>\n",
       "      <td>False</td>\n",
       "      <td>True</td>\n",
       "      <td>False</td>\n",
       "      <td>Night</td>\n",
       "      <td>Day</td>\n",
       "      <td>Day</td>\n",
       "      <td>Day</td>\n",
       "    </tr>\n",
       "    <tr>\n",
       "      <th>32666</th>\n",
       "      <td>A-2749266</td>\n",
       "      <td>3</td>\n",
       "      <td>2016-11-30 19:26:19</td>\n",
       "      <td>2016-12-01 01:26:19</td>\n",
       "      <td>41.93412</td>\n",
       "      <td>-87.69956</td>\n",
       "      <td>41.93300</td>\n",
       "      <td>-87.69764</td>\n",
       "      <td>0.125</td>\n",
       "      <td>At California Ave/Exit 46A - Accident.</td>\n",
       "      <td>...</td>\n",
       "      <td>False</td>\n",
       "      <td>False</td>\n",
       "      <td>False</td>\n",
       "      <td>False</td>\n",
       "      <td>False</td>\n",
       "      <td>False</td>\n",
       "      <td>Night</td>\n",
       "      <td>Night</td>\n",
       "      <td>Night</td>\n",
       "      <td>Night</td>\n",
       "    </tr>\n",
       "    <tr>\n",
       "      <th>32710</th>\n",
       "      <td>A-2749310</td>\n",
       "      <td>2</td>\n",
       "      <td>2016-12-01 05:17:28</td>\n",
       "      <td>2016-12-01 11:17:28</td>\n",
       "      <td>41.68807</td>\n",
       "      <td>-87.60059</td>\n",
       "      <td>41.68449</td>\n",
       "      <td>-87.60194</td>\n",
       "      <td>0.257</td>\n",
       "      <td>At 115th St/Exit 66B - Accident.</td>\n",
       "      <td>...</td>\n",
       "      <td>False</td>\n",
       "      <td>False</td>\n",
       "      <td>False</td>\n",
       "      <td>False</td>\n",
       "      <td>False</td>\n",
       "      <td>False</td>\n",
       "      <td>Night</td>\n",
       "      <td>Night</td>\n",
       "      <td>Night</td>\n",
       "      <td>Night</td>\n",
       "    </tr>\n",
       "    <tr>\n",
       "      <th>32807</th>\n",
       "      <td>A-2749407</td>\n",
       "      <td>2</td>\n",
       "      <td>2016-12-01 07:48:46</td>\n",
       "      <td>2016-12-01 13:48:46</td>\n",
       "      <td>41.85090</td>\n",
       "      <td>-87.64492</td>\n",
       "      <td>41.85595</td>\n",
       "      <td>-87.64433</td>\n",
       "      <td>0.350</td>\n",
       "      <td>At Canalport Ave/Cermak Rd/Exit 53 - Accident.</td>\n",
       "      <td>...</td>\n",
       "      <td>False</td>\n",
       "      <td>False</td>\n",
       "      <td>False</td>\n",
       "      <td>False</td>\n",
       "      <td>False</td>\n",
       "      <td>False</td>\n",
       "      <td>Day</td>\n",
       "      <td>Day</td>\n",
       "      <td>Day</td>\n",
       "      <td>Day</td>\n",
       "    </tr>\n",
       "    <tr>\n",
       "      <th>...</th>\n",
       "      <td>...</td>\n",
       "      <td>...</td>\n",
       "      <td>...</td>\n",
       "      <td>...</td>\n",
       "      <td>...</td>\n",
       "      <td>...</td>\n",
       "      <td>...</td>\n",
       "      <td>...</td>\n",
       "      <td>...</td>\n",
       "      <td>...</td>\n",
       "      <td>...</td>\n",
       "      <td>...</td>\n",
       "      <td>...</td>\n",
       "      <td>...</td>\n",
       "      <td>...</td>\n",
       "      <td>...</td>\n",
       "      <td>...</td>\n",
       "      <td>...</td>\n",
       "      <td>...</td>\n",
       "      <td>...</td>\n",
       "      <td>...</td>\n",
       "    </tr>\n",
       "    <tr>\n",
       "      <th>1515761</th>\n",
       "      <td>A-4239104</td>\n",
       "      <td>3</td>\n",
       "      <td>2019-08-23 16:58:31</td>\n",
       "      <td>2019-08-23 17:26:11</td>\n",
       "      <td>41.81530</td>\n",
       "      <td>-87.63048</td>\n",
       "      <td>41.81212</td>\n",
       "      <td>-87.63042</td>\n",
       "      <td>0.220</td>\n",
       "      <td>At 47th St/Exit 56B - Accident.</td>\n",
       "      <td>...</td>\n",
       "      <td>False</td>\n",
       "      <td>False</td>\n",
       "      <td>False</td>\n",
       "      <td>False</td>\n",
       "      <td>False</td>\n",
       "      <td>False</td>\n",
       "      <td>Day</td>\n",
       "      <td>Day</td>\n",
       "      <td>Day</td>\n",
       "      <td>Day</td>\n",
       "    </tr>\n",
       "    <tr>\n",
       "      <th>1515762</th>\n",
       "      <td>A-4239105</td>\n",
       "      <td>3</td>\n",
       "      <td>2019-08-23 16:03:57</td>\n",
       "      <td>2019-08-23 16:33:31</td>\n",
       "      <td>41.71513</td>\n",
       "      <td>-87.63004</td>\n",
       "      <td>41.71499</td>\n",
       "      <td>-87.63090</td>\n",
       "      <td>0.045</td>\n",
       "      <td>At I-57/Exit 63 - Accident. unconfirmed report.</td>\n",
       "      <td>...</td>\n",
       "      <td>False</td>\n",
       "      <td>False</td>\n",
       "      <td>False</td>\n",
       "      <td>False</td>\n",
       "      <td>False</td>\n",
       "      <td>False</td>\n",
       "      <td>Day</td>\n",
       "      <td>Day</td>\n",
       "      <td>Day</td>\n",
       "      <td>Day</td>\n",
       "    </tr>\n",
       "    <tr>\n",
       "      <th>1515763</th>\n",
       "      <td>A-4239106</td>\n",
       "      <td>3</td>\n",
       "      <td>2019-08-23 16:03:57</td>\n",
       "      <td>2019-08-23 16:33:31</td>\n",
       "      <td>41.94335</td>\n",
       "      <td>-87.71669</td>\n",
       "      <td>41.94859</td>\n",
       "      <td>-87.72162</td>\n",
       "      <td>0.442</td>\n",
       "      <td>At Addison St/Exit 45A - Accident.</td>\n",
       "      <td>...</td>\n",
       "      <td>False</td>\n",
       "      <td>False</td>\n",
       "      <td>False</td>\n",
       "      <td>False</td>\n",
       "      <td>False</td>\n",
       "      <td>False</td>\n",
       "      <td>Day</td>\n",
       "      <td>Day</td>\n",
       "      <td>Day</td>\n",
       "      <td>Day</td>\n",
       "    </tr>\n",
       "    <tr>\n",
       "      <th>1515764</th>\n",
       "      <td>A-4239107</td>\n",
       "      <td>3</td>\n",
       "      <td>2019-08-23 16:03:57</td>\n",
       "      <td>2019-08-23 16:33:31</td>\n",
       "      <td>41.71862</td>\n",
       "      <td>-87.62521</td>\n",
       "      <td>41.71513</td>\n",
       "      <td>-87.63004</td>\n",
       "      <td>0.347</td>\n",
       "      <td>Ramp to I-57 Southbound - Accident. unconfirme...</td>\n",
       "      <td>...</td>\n",
       "      <td>False</td>\n",
       "      <td>False</td>\n",
       "      <td>False</td>\n",
       "      <td>False</td>\n",
       "      <td>False</td>\n",
       "      <td>False</td>\n",
       "      <td>Day</td>\n",
       "      <td>Day</td>\n",
       "      <td>Day</td>\n",
       "      <td>Day</td>\n",
       "    </tr>\n",
       "    <tr>\n",
       "      <th>1515776</th>\n",
       "      <td>A-4239119</td>\n",
       "      <td>3</td>\n",
       "      <td>2019-08-23 20:54:19</td>\n",
       "      <td>2019-08-23 21:23:54</td>\n",
       "      <td>41.78346</td>\n",
       "      <td>-87.63060</td>\n",
       "      <td>41.79887</td>\n",
       "      <td>-87.63087</td>\n",
       "      <td>1.065</td>\n",
       "      <td>Between 59th St/Exit 58A and Garfield Blvd/Exi...</td>\n",
       "      <td>...</td>\n",
       "      <td>False</td>\n",
       "      <td>False</td>\n",
       "      <td>False</td>\n",
       "      <td>False</td>\n",
       "      <td>False</td>\n",
       "      <td>False</td>\n",
       "      <td>Night</td>\n",
       "      <td>Night</td>\n",
       "      <td>Night</td>\n",
       "      <td>Day</td>\n",
       "    </tr>\n",
       "  </tbody>\n",
       "</table>\n",
       "<p>11507 rows × 47 columns</p>\n",
       "</div>"
      ],
      "text/plain": [
       "                ID  Severity           Start_Time             End_Time  \\\n",
       "32588    A-2749188         3  2016-11-30 16:33:05  2016-11-30 22:33:05   \n",
       "32590    A-2749190         3  2016-11-30 16:33:05  2016-11-30 22:33:05   \n",
       "32666    A-2749266         3  2016-11-30 19:26:19  2016-12-01 01:26:19   \n",
       "32710    A-2749310         2  2016-12-01 05:17:28  2016-12-01 11:17:28   \n",
       "32807    A-2749407         2  2016-12-01 07:48:46  2016-12-01 13:48:46   \n",
       "...            ...       ...                  ...                  ...   \n",
       "1515761  A-4239104         3  2019-08-23 16:58:31  2019-08-23 17:26:11   \n",
       "1515762  A-4239105         3  2019-08-23 16:03:57  2019-08-23 16:33:31   \n",
       "1515763  A-4239106         3  2019-08-23 16:03:57  2019-08-23 16:33:31   \n",
       "1515764  A-4239107         3  2019-08-23 16:03:57  2019-08-23 16:33:31   \n",
       "1515776  A-4239119         3  2019-08-23 20:54:19  2019-08-23 21:23:54   \n",
       "\n",
       "         Start_Lat  Start_Lng   End_Lat   End_Lng  Distance(mi)  \\\n",
       "32588     41.75033  -87.66344  41.75033 -87.66344         0.000   \n",
       "32590     41.75033  -87.66344  41.75033 -87.66344         0.000   \n",
       "32666     41.93412  -87.69956  41.93300 -87.69764         0.125   \n",
       "32710     41.68807  -87.60059  41.68449 -87.60194         0.257   \n",
       "32807     41.85090  -87.64492  41.85595 -87.64433         0.350   \n",
       "...            ...        ...       ...       ...           ...   \n",
       "1515761   41.81530  -87.63048  41.81212 -87.63042         0.220   \n",
       "1515762   41.71513  -87.63004  41.71499 -87.63090         0.045   \n",
       "1515763   41.94335  -87.71669  41.94859 -87.72162         0.442   \n",
       "1515764   41.71862  -87.62521  41.71513 -87.63004         0.347   \n",
       "1515776   41.78346  -87.63060  41.79887 -87.63087         1.065   \n",
       "\n",
       "                                               Description  ...  Roundabout  \\\n",
       "32588                           At Ashland Ave - Accident.  ...       False   \n",
       "32590                           At Ashland Ave - Accident.  ...       False   \n",
       "32666               At California Ave/Exit 46A - Accident.  ...       False   \n",
       "32710                     At 115th St/Exit 66B - Accident.  ...       False   \n",
       "32807       At Canalport Ave/Cermak Rd/Exit 53 - Accident.  ...       False   \n",
       "...                                                    ...  ...         ...   \n",
       "1515761                    At 47th St/Exit 56B - Accident.  ...       False   \n",
       "1515762    At I-57/Exit 63 - Accident. unconfirmed report.  ...       False   \n",
       "1515763                 At Addison St/Exit 45A - Accident.  ...       False   \n",
       "1515764  Ramp to I-57 Southbound - Accident. unconfirme...  ...       False   \n",
       "1515776  Between 59th St/Exit 58A and Garfield Blvd/Exi...  ...       False   \n",
       "\n",
       "        Station   Stop Traffic_Calming Traffic_Signal Turning_Loop  \\\n",
       "32588      True  False           False           True        False   \n",
       "32590      True  False           False           True        False   \n",
       "32666     False  False           False          False        False   \n",
       "32710     False  False           False          False        False   \n",
       "32807     False  False           False          False        False   \n",
       "...         ...    ...             ...            ...          ...   \n",
       "1515761   False  False           False          False        False   \n",
       "1515762   False  False           False          False        False   \n",
       "1515763   False  False           False          False        False   \n",
       "1515764   False  False           False          False        False   \n",
       "1515776   False  False           False          False        False   \n",
       "\n",
       "        Sunrise_Sunset Civil_Twilight Nautical_Twilight Astronomical_Twilight  \n",
       "32588            Night            Day               Day                   Day  \n",
       "32590            Night            Day               Day                   Day  \n",
       "32666            Night          Night             Night                 Night  \n",
       "32710            Night          Night             Night                 Night  \n",
       "32807              Day            Day               Day                   Day  \n",
       "...                ...            ...               ...                   ...  \n",
       "1515761            Day            Day               Day                   Day  \n",
       "1515762            Day            Day               Day                   Day  \n",
       "1515763            Day            Day               Day                   Day  \n",
       "1515764            Day            Day               Day                   Day  \n",
       "1515776          Night          Night             Night                   Day  \n",
       "\n",
       "[11507 rows x 47 columns]"
      ]
     },
     "metadata": {},
     "output_type": "display_data"
    }
   ],
   "source": [
    "# Create a copy of the df\n",
    "accidents_df_pre_1 = accidents_df_original.copy()\n",
    "\n",
    "# Isolate city state\n",
    "city_list = preprocessing_config['city_list']\n",
    "state_list = preprocessing_config['state_list']\n",
    "accidents_df = pre.isolate_city_state(accidents_df_pre_1, city_list, state_list)\n",
    "display(accidents_df)"
   ]
  },
  {
   "cell_type": "code",
   "execution_count": 35,
   "metadata": {},
   "outputs": [
    {
     "name": "stdout",
     "output_type": "stream",
     "text": [
      "Percent of missing rows by column \n",
      "\n",
      " Weather_Timestamp        0.019962\n",
      "Temperature(F)           0.028385\n",
      "Wind_Chill(F)            0.296370\n",
      "Humidity(%)              0.030018\n",
      "Pressure(in)             0.023926\n",
      "Visibility(mi)           0.029162\n",
      "Wind_Direction           0.027610\n",
      "Wind_Speed(mph)          0.084998\n",
      "Precipitation(in)        0.336760\n",
      "Weather_Condition        0.029027\n",
      "Sunrise_Sunset           0.000055\n",
      "Civil_Twilight           0.000055\n",
      "Nautical_Twilight        0.000055\n",
      "Astronomical_Twilight    0.000055\n",
      "dtype: float64\n",
      "                                 OLS Regression Results                                \n",
      "=======================================================================================\n",
      "Dep. Variable:                      y   R-squared (uncentered):                   0.997\n",
      "Model:                            OLS   Adj. R-squared (uncentered):              0.997\n",
      "Method:                 Least Squares   F-statistic:                          2.049e+08\n",
      "Date:                Tue, 16 Nov 2021   Prob (F-statistic):                        0.00\n",
      "Time:                        18:47:46   Log-Likelihood:                     -2.6882e+06\n",
      "No. Observations:             1066748   AIC:                                  5.376e+06\n",
      "Df Residuals:                 1066746   BIC:                                  5.376e+06\n",
      "Df Model:                           2                                                  \n",
      "Covariance Type:            nonrobust                                                  \n",
      "===================================================================================\n",
      "                      coef    std err          t      P>|t|      [0.025      0.975]\n",
      "-----------------------------------------------------------------------------------\n",
      "Temperature(F)      1.0288   7.44e-05   1.38e+04      0.000       1.029       1.029\n",
      "Wind_Speed(mph)    -0.3775      0.000   -781.104      0.000      -0.378      -0.377\n",
      "==============================================================================\n",
      "Omnibus:                   690387.922   Durbin-Watson:                   1.007\n",
      "Prob(Omnibus):                  0.000   Jarque-Bera (JB):       2524491479.037\n",
      "Skew:                           1.432   Prob(JB):                         0.00\n",
      "Kurtosis:                     241.303   Cond. No.                         10.1\n",
      "==============================================================================\n",
      "\n",
      "Notes:\n",
      "[1] R² is computed without centering (uncentered) since the model does not contain a constant.\n",
      "[2] Standard Errors assume that the covariance matrix of the errors is correctly specified.\n",
      "Percent of missing rows by column \n",
      "\n",
      " Weather_Timestamp        0.019962\n",
      "Temperature(F)           0.028385\n",
      "Wind_Chill(F)            0.088900\n",
      "Humidity(%)              0.030018\n",
      "Pressure(in)             0.023926\n",
      "Visibility(mi)           0.029162\n",
      "Wind_Direction           0.027610\n",
      "Wind_Speed(mph)          0.084998\n",
      "Precipitation(in)        0.336760\n",
      "Weather_Condition        0.029027\n",
      "Sunrise_Sunset           0.000055\n",
      "Civil_Twilight           0.000055\n",
      "Nautical_Twilight        0.000055\n",
      "Astronomical_Twilight    0.000055\n",
      "dtype: float64\n",
      "Percent of missing rows by column \n",
      "\n",
      " Weather_Timestamp        0.019962\n",
      "Temperature(F)           0.000000\n",
      "Wind_Chill(F)            0.000000\n",
      "Humidity(%)              0.000000\n",
      "Pressure(in)             0.000000\n",
      "Visibility(mi)           0.000000\n",
      "Wind_Direction           0.027610\n",
      "Wind_Speed(mph)          0.000000\n",
      "Precipitation(in)        0.000000\n",
      "Weather_Condition        0.029027\n",
      "Sunrise_Sunset           0.000055\n",
      "Civil_Twilight           0.000055\n",
      "Nautical_Twilight        0.000055\n",
      "Astronomical_Twilight    0.000055\n",
      "dtype: float64\n"
     ]
    }
   ],
   "source": [
    "# Create a copy of the df\n",
    "accidents_df_pre_2 = accidents_df_pre_1.copy()\n",
    "\n",
    "env_vars = preprocessing_config['env_vars']\n",
    "accidents_df_pre_2 = pre.subset_df(accidents_df_pre_2, env_vars)\n",
    "\n",
    "print('Percent of missing rows by column', '\\n\\n', accidents_df_pre_2.isnull().sum()/len(accidents_df_pre_2))\n",
    "\n",
    "temp_wind = pre.subset_df(accidents_df_pre_2, ['Temperature(F)', 'Wind_Speed(mph)'])\n",
    "OLS(temp_wind, np.array(accidents_df_pre_2['Wind_Chill(F)']))\n",
    "\n",
    "accidents_df_pre_2['Wind_Chill(F)'].fillna((accidents_df_pre_2['Temperature(F)']*1.0778 + accidents_df_pre_2['Wind_Speed(mph)']*-0.7083), inplace=True)\n",
    "\n",
    "print('Percent of missing rows by column', '\\n\\n', accidents_df_pre_2.isnull().sum()/len(accidents_df_pre_2))\n",
    "\n",
    "accidents_df_pre_2 = pre.basic_impute(accidents_df_pre_2)\n",
    "\n",
    "print('Percent of missing rows by column', '\\n\\n', accidents_df_pre_2.isnull().sum()/len(accidents_df_pre_2))\n"
   ]
  },
  {
   "cell_type": "markdown",
   "metadata": {
    "id": "i_R2mcmqgSdq"
   },
   "source": [
    "## Create Model"
   ]
  },
  {
   "cell_type": "code",
   "execution_count": null,
   "metadata": {},
   "outputs": [],
   "source": [
    "from project_libs.project import models"
   ]
  },
  {
   "cell_type": "code",
   "execution_count": null,
   "metadata": {},
   "outputs": [],
   "source": []
  },
  {
   "cell_type": "markdown",
   "metadata": {
    "id": "i_R2mcmqgSdq"
   },
   "source": [
    "## Hyperparameter Tuning"
   ]
  },
  {
   "cell_type": "code",
   "execution_count": null,
   "metadata": {},
   "outputs": [],
   "source": []
  },
  {
   "cell_type": "code",
   "execution_count": null,
   "metadata": {},
   "outputs": [],
   "source": []
  },
  {
   "cell_type": "markdown",
   "metadata": {
    "id": "i_R2mcmqgSdq"
   },
   "source": [
    "## Training"
   ]
  },
  {
   "cell_type": "code",
   "execution_count": null,
   "metadata": {},
   "outputs": [],
   "source": []
  },
  {
   "cell_type": "code",
   "execution_count": null,
   "metadata": {},
   "outputs": [],
   "source": []
  },
  {
   "cell_type": "markdown",
   "metadata": {
    "id": "i_R2mcmqgSdq"
   },
   "source": [
    "## Testing"
   ]
  },
  {
   "cell_type": "code",
   "execution_count": null,
   "metadata": {},
   "outputs": [],
   "source": []
  },
  {
   "cell_type": "code",
   "execution_count": null,
   "metadata": {},
   "outputs": [],
   "source": []
  },
  {
   "cell_type": "markdown",
   "metadata": {
    "id": "i_R2mcmqgSdq"
   },
   "source": [
    "## Evaluation"
   ]
  },
  {
   "cell_type": "code",
   "execution_count": null,
   "metadata": {},
   "outputs": [],
   "source": []
  },
  {
   "cell_type": "code",
   "execution_count": null,
   "metadata": {},
   "outputs": [],
   "source": []
  },
  {
   "cell_type": "markdown",
   "metadata": {
    "id": "i_R2mcmqgSdq"
   },
   "source": [
    "## Plots"
   ]
  },
  {
   "cell_type": "code",
   "execution_count": null,
   "metadata": {},
   "outputs": [],
   "source": [
    "from project_libs.project import plotter as pl"
   ]
  },
  {
   "cell_type": "code",
   "execution_count": null,
   "metadata": {},
   "outputs": [],
   "source": []
  }
 ],
 "metadata": {
  "colab": {
   "include_colab_link": true,
   "name": "main.ipynb",
   "provenance": [],
   "toc_visible": true
  },
  "kernelspec": {
   "display_name": "Python 3 (ipykernel)",
   "language": "python",
   "name": "python3"
  },
  "language_info": {
   "codemirror_mode": {
    "name": "ipython",
    "version": 3
   },
   "file_extension": ".py",
   "mimetype": "text/x-python",
   "name": "python",
   "nbconvert_exporter": "python",
   "pygments_lexer": "ipython3",
   "version": "3.8.12"
  },
  "widgets": {
   "application/vnd.jupyter.widget-state+json": {
    "1731d42a04634fee89c2f80c12a29c88": {
     "model_module": "@jupyter-widgets/base",
     "model_module_version": "1.2.0",
     "model_name": "LayoutModel",
     "state": {
      "_model_module": "@jupyter-widgets/base",
      "_model_module_version": "1.2.0",
      "_model_name": "LayoutModel",
      "_view_count": null,
      "_view_module": "@jupyter-widgets/base",
      "_view_module_version": "1.2.0",
      "_view_name": "LayoutView",
      "align_content": null,
      "align_items": null,
      "align_self": null,
      "border": null,
      "bottom": null,
      "display": null,
      "flex": null,
      "flex_flow": null,
      "grid_area": null,
      "grid_auto_columns": null,
      "grid_auto_flow": null,
      "grid_auto_rows": null,
      "grid_column": null,
      "grid_gap": null,
      "grid_row": null,
      "grid_template_areas": null,
      "grid_template_columns": null,
      "grid_template_rows": null,
      "height": null,
      "justify_content": null,
      "justify_items": null,
      "left": null,
      "margin": null,
      "max_height": null,
      "max_width": null,
      "min_height": null,
      "min_width": null,
      "object_fit": null,
      "object_position": null,
      "order": null,
      "overflow": null,
      "overflow_x": null,
      "overflow_y": null,
      "padding": null,
      "right": null,
      "top": null,
      "visibility": null,
      "width": null
     }
    },
    "5f7a290065d24765a0bc5fa9801fd815": {
     "model_module": "@jupyter-widgets/controls",
     "model_module_version": "1.5.0",
     "model_name": "ButtonStyleModel",
     "state": {
      "_model_module": "@jupyter-widgets/controls",
      "_model_module_version": "1.5.0",
      "_model_name": "ButtonStyleModel",
      "_view_count": null,
      "_view_module": "@jupyter-widgets/base",
      "_view_module_version": "1.2.0",
      "_view_name": "StyleView",
      "button_color": null,
      "font_weight": ""
     }
    },
    "a5b00bcabdfc42c480043de40a36c486": {
     "model_module": "@jupyter-widgets/base",
     "model_module_version": "1.2.0",
     "model_name": "LayoutModel",
     "state": {
      "_model_module": "@jupyter-widgets/base",
      "_model_module_version": "1.2.0",
      "_model_name": "LayoutModel",
      "_view_count": null,
      "_view_module": "@jupyter-widgets/base",
      "_view_module_version": "1.2.0",
      "_view_name": "LayoutView",
      "align_content": null,
      "align_items": null,
      "align_self": null,
      "border": null,
      "bottom": null,
      "display": null,
      "flex": null,
      "flex_flow": null,
      "grid_area": null,
      "grid_auto_columns": null,
      "grid_auto_flow": null,
      "grid_auto_rows": null,
      "grid_column": null,
      "grid_gap": null,
      "grid_row": null,
      "grid_template_areas": null,
      "grid_template_columns": null,
      "grid_template_rows": null,
      "height": null,
      "justify_content": null,
      "justify_items": null,
      "left": null,
      "margin": null,
      "max_height": null,
      "max_width": null,
      "min_height": null,
      "min_width": null,
      "object_fit": null,
      "object_position": null,
      "order": null,
      "overflow": null,
      "overflow_x": null,
      "overflow_y": null,
      "padding": null,
      "right": null,
      "top": null,
      "visibility": null,
      "width": null
     }
    },
    "c55ebd5855ca490791c5d6b9308b6d4e": {
     "model_module": "@jupyter-widgets/controls",
     "model_module_version": "1.5.0",
     "model_name": "ButtonModel",
     "state": {
      "_dom_classes": [],
      "_model_module": "@jupyter-widgets/controls",
      "_model_module_version": "1.5.0",
      "_model_name": "ButtonModel",
      "_view_count": null,
      "_view_module": "@jupyter-widgets/controls",
      "_view_module_version": "1.5.0",
      "_view_name": "ButtonView",
      "button_style": "",
      "description": "Yes",
      "disabled": false,
      "icon": "",
      "layout": "IPY_MODEL_a5b00bcabdfc42c480043de40a36c486",
      "style": "IPY_MODEL_5f7a290065d24765a0bc5fa9801fd815",
      "tooltip": ""
     }
    },
    "e7b4d0dcb1f24d998063f877d1efbca7": {
     "model_module": "@jupyter-widgets/controls",
     "model_module_version": "1.5.0",
     "model_name": "ButtonModel",
     "state": {
      "_dom_classes": [],
      "_model_module": "@jupyter-widgets/controls",
      "_model_module_version": "1.5.0",
      "_model_name": "ButtonModel",
      "_view_count": null,
      "_view_module": "@jupyter-widgets/controls",
      "_view_module_version": "1.5.0",
      "_view_name": "ButtonView",
      "button_style": "",
      "description": "Yes, clone",
      "disabled": false,
      "icon": "",
      "layout": "IPY_MODEL_1731d42a04634fee89c2f80c12a29c88",
      "style": "IPY_MODEL_f7b19456e9b94ee09f8ed14cc1ba960b",
      "tooltip": ""
     }
    },
    "f7b19456e9b94ee09f8ed14cc1ba960b": {
     "model_module": "@jupyter-widgets/controls",
     "model_module_version": "1.5.0",
     "model_name": "ButtonStyleModel",
     "state": {
      "_model_module": "@jupyter-widgets/controls",
      "_model_module_version": "1.5.0",
      "_model_name": "ButtonStyleModel",
      "_view_count": null,
      "_view_module": "@jupyter-widgets/base",
      "_view_module_version": "1.2.0",
      "_view_name": "StyleView",
      "button_color": null,
      "font_weight": ""
     }
    }
   }
  }
 },
 "nbformat": 4,
 "nbformat_minor": 1
}
