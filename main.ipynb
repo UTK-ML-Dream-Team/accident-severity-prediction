{
 "cells": [
  {
   "cell_type": "markdown",
   "metadata": {
    "collapsed": true,
    "id": "Vt9t7-fVi8At"
   },
   "source": [
    "# Machine Learning - Final Project\n",
    "## Accident Severity Prediction\n",
    "**Team**: *Jennifer Lord, Konstantinos Georgiou, Russ Limber, Sanjeev Singh, Sara Howard*"
   ]
  },
  {
   "cell_type": "markdown",
   "metadata": {
    "id": "eiRSeV6fi8A0"
   },
   "source": [
    "## Where to put the code\n",
    "- Place the preprocessing functions/classes in [\\<project root\\>/project_libs/project/preprocessing.py](https://github.com/UTK-ML-Dream-Team/accident-severity-prediction/blob/master/project_libs/project/preprocessing.py)\n",
    "- The models in [\\<project root\\>/project_libs/project/models.py](https://github.com/UTK-ML-Dream-Team/accident-severity-prediction/blob/master/project_libs/project/models.py)\n",
    "- Any plotting related functions in [\\<project root\\>/project_libs/project/plotter.py](https://github.com/UTK-ML-Dream-Team/accident-severity-prediction/blob/master/project_libs/project/plotter.py)\n",
    "\n",
    "\n",
    "**The code is reloaded automatically. Any class object needs to reinitialized though.** \n",
    "\n",
    "## Config file\n",
    "The yml/config file is located at: [confs/prototype1.yml](https://github.com/UTK-ML-Dream-Team/accident-severity-prediction/blob/master/confs/prototype1.yml)<br>\n",
    "To load it run:\n",
    "```python\n",
    "config_path='confs/prototype1.yml'\n",
    "conf = Configuration(config_src=config_path)\n",
    "# Get the dataset loader config\n",
    "loader_config = conf.get_config('data_loader')['config']['dataset'] # type = Dict\n",
    "print(books.keys())\n",
    "print(loader_config['url'])\n",
    "```\n",
    "To reload the config just run the 2nd and 3rd command.\n",
    "\n",
    "## Libraries Overview:\n",
    "All the libraries are located under *\"\\<project root>/project_libs\"*\n",
    "- project_libs/**project**: This project's code (imported later)\n",
    "- project_libs/**configuration**: Class that creates config objects from yml files\n",
    "- project_libs/**fancy_logger**: Logger that can be used instead of prints for text formatting (color, bold, underline etc)\n",
    "\n",
    "## For more info check out:\n",
    "- the **[Project Board](https://github.com/UTK-ML-Dream-Team/accident-severity-prediction/projects/1)**\n",
    "- and the **[Current Issues](https://github.com/UTK-ML-Dream-Team/accident-severity-prediction/issues)**"
   ]
  },
  {
   "cell_type": "markdown",
   "metadata": {
    "id": "1gmuUzi6gSdg"
   },
   "source": [
    "# ------------------------------------------------------------------"
   ]
  },
  {
   "cell_type": "markdown",
   "metadata": {
    "id": "1Nl39AXjgSdg"
   },
   "source": [
    "## On Google Collab?\n",
    "- **If yes, run the two cells and press the two buttons below:**\n",
    "- Otherwise go to \"***Import the base Libraries***\""
   ]
  },
  {
   "cell_type": "code",
   "execution_count": 1,
   "metadata": {
    "colab": {
     "base_uri": "https://localhost:8080/",
     "height": 104,
     "referenced_widgets": [
      "e7b4d0dcb1f24d998063f877d1efbca7",
      "f7b19456e9b94ee09f8ed14cc1ba960b",
      "1731d42a04634fee89c2f80c12a29c88",
      "c2de90b9bdf54f6e933b76a703061497"
     ]
    },
    "id": "1SQIWYWmi8A4",
    "outputId": "9832cee7-6841-41cc-ef30-3bbf97b720d3"
   },
   "outputs": [
    {
     "name": "stdout",
     "output_type": "stream",
     "text": [
      "Clone project?\n",
      "(If you do this you will ovewrite local changes on other files e.g. configs)\n",
      "Not needed if you're not on Google Collab\n"
     ]
    },
    {
     "data": {
      "application/vnd.jupyter.widget-view+json": {
       "model_id": "f31a103794dd4c4980ab166c7e2d950c",
       "version_major": 2,
       "version_minor": 0
      },
      "text/plain": [
       "Button(description='Yes, clone', style=ButtonStyle())"
      ]
     },
     "metadata": {},
     "output_type": "display_data"
    }
   ],
   "source": [
    "# Import Jupyter Widgets\n",
    "import os\n",
    "import ipywidgets as widgets\n",
    "from ipywidgets import interact, interact_manual\n",
    "from IPython.display import display\n",
    "# Clone the repository if you're in Google Collab\n",
    "def clone_project(is_collab: bool = False):\n",
    "    print(\"Cloning Project..\")\n",
    "    !git clone https://github.com/UTK-ML-Dream-Team/accident-severity-prediction.git\n",
    "    print(\"Project cloned.\")\n",
    "       \n",
    "print(\"Clone project?\")\n",
    "print(\"(If you do this you will ovewrite local changes on other files e.g. configs)\")\n",
    "print(\"Not needed if you're not on Google Collab\")\n",
    "btn = widgets.Button(description=\"Yes, clone\")\n",
    "btn.on_click(clone_project)\n",
    "display(btn)"
   ]
  },
  {
   "cell_type": "code",
   "execution_count": 2,
   "metadata": {
    "colab": {
     "base_uri": "https://localhost:8080/",
     "height": 67,
     "referenced_widgets": [
      "c55ebd5855ca490791c5d6b9308b6d4e",
      "5f7a290065d24765a0bc5fa9801fd815",
      "a5b00bcabdfc42c480043de40a36c486",
      "35d1878f3f4849a0975e8ffabf5d9a6d"
     ]
    },
    "id": "F_l8p4H1i8A5",
    "outputId": "8e4174bb-ba13-4f22-b2d6-f5045de58d9e"
   },
   "outputs": [
    {
     "name": "stdout",
     "output_type": "stream",
     "text": [
      "Are you on Google Collab?\n"
     ]
    },
    {
     "data": {
      "application/vnd.jupyter.widget-view+json": {
       "model_id": "c32b1b0f86674a47a1a1ed55bfd674a7",
       "version_major": 2,
       "version_minor": 0
      },
      "text/plain": [
       "Button(description='Yes', style=ButtonStyle())"
      ]
     },
     "metadata": {},
     "output_type": "display_data"
    }
   ],
   "source": [
    "# Clone the repository if you're in Google Collab\n",
    "def change_dir(is_collab: bool = False):\n",
    "    try:\n",
    "        print(\"Changing dir..\")\n",
    "        os.chdir('/content/accident-severity-prediction')\n",
    "        print('done')\n",
    "        print(\"Current dir:\")\n",
    "        print(os.getcwd())\n",
    "        print(\"Dir Contents:\")\n",
    "        print(os.listdir())\n",
    "        print(\"\\nInstalling Requirements\")\n",
    "        !pip install -r requirements.txt\n",
    "    except Exception:\n",
    "        print(\"Error: Project not cloned\")\n",
    "       \n",
    "print(\"Are you on Google Collab?\")\n",
    "btn = widgets.Button(description=\"Yes\")\n",
    "btn.on_click(change_dir)\n",
    "display(btn)"
   ]
  },
  {
   "cell_type": "markdown",
   "metadata": {
    "id": "6CpeQfTli8A6"
   },
   "source": [
    "### To commit and push Google Collab notebook to Github\n",
    "Click **File > Save a copy on Gihtub**"
   ]
  },
  {
   "cell_type": "markdown",
   "metadata": {
    "id": "reFZW6B8gSdj"
   },
   "source": [
    "# ------------------------------------------------------------------"
   ]
  },
  {
   "cell_type": "markdown",
   "metadata": {
    "id": "h54edY45gSdj"
   },
   "source": [
    "# Initializations"
   ]
  },
  {
   "cell_type": "markdown",
   "metadata": {
    "id": "H1RHGfh1i8A8",
    "pycharm": {
     "name": "#%%\n"
    }
   },
   "source": [
    "## Import the base Libraries"
   ]
  },
  {
   "cell_type": "code",
   "execution_count": 3,
   "metadata": {
    "colab": {
     "base_uri": "https://localhost:8080/"
    },
    "id": "wjKYGxzYi8A9",
    "outputId": "185d3c02-7723-4c5d-a58a-69a2eff4462f"
   },
   "outputs": [],
   "source": [
    "# Imports\n",
    "%load_ext autoreload\n",
    "%autoreload 2\n",
    "from importlib import reload as reload_lib\n",
    "from typing import *\n",
    "import os\n",
    "import re\n",
    "from pprint import pprint\n",
    "import datetime \n",
    "# Numpy\n",
    "import numpy as np\n",
    "import pandas as pd\n",
    "\n",
    "# Import preprocessing lib\n",
    "from project_libs.project import *"
   ]
  },
  {
   "cell_type": "markdown",
   "metadata": {
    "id": "PYBmLhFZgSdk"
   },
   "source": [
    "## Load the YML file"
   ]
  },
  {
   "cell_type": "code",
   "execution_count": 4,
   "metadata": {
    "id": "-z773EjNgSdk"
   },
   "outputs": [],
   "source": [
    "from project_libs import Configuration"
   ]
  },
  {
   "cell_type": "code",
   "execution_count": 5,
   "metadata": {
    "colab": {
     "base_uri": "https://localhost:8080/"
    },
    "id": "XYH2o7w3i8A-",
    "outputId": "48016d05-91df-462d-9f73-87d98d66a375"
   },
   "outputs": [
    {
     "name": "stderr",
     "output_type": "stream",
     "text": [
      "2021-11-05 19:03:45 Config       INFO     \u001b[1m\u001b[37mConfiguration file loaded successfully from path: /Users/gkos/Insync/delfinas7kostas@gmail.com/Google Drive/Projects/UTK/accident-severity-detection-prediction/confs/prototype1.yml\u001b[0m\n",
      "2021-11-05 19:03:45 Config       INFO     \u001b[1m\u001b[37mConfiguration Tag: prototype_1\u001b[0m\n"
     ]
    }
   ],
   "source": [
    "# The path of configuration and log save path\n",
    "config_path = \"confs/prototype1.yml\"\n",
    "# !cat \"$config_path\"\n",
    "# Load the configuratåion\n",
    "conf = Configuration(config_src=config_path)\n",
    "# Get the books dict\n",
    "loader_config = conf.get_config('data_loader')['config']['dataset']\n",
    "# print(books.keys())\n",
    "# pprint(books)  # Pretty print the books dict"
   ]
  },
  {
   "cell_type": "markdown",
   "metadata": {
    "id": "1JGDGVdVgSdl"
   },
   "source": [
    "## Setup Logger and Example"
   ]
  },
  {
   "cell_type": "code",
   "execution_count": 6,
   "metadata": {
    "id": "qud5K8LkgSdl",
    "outputId": "c6c29b9a-7dd6-4016-a608-3577d6e66cff"
   },
   "outputs": [
    {
     "name": "stderr",
     "output_type": "stream",
     "text": [
      "2021-11-05 19:03:45 FancyLogger  INFO     \u001b[1m\u001b[37mLogger is set. Log file path: /Users/gkos/Insync/delfinas7kostas@gmail.com/Google Drive/Projects/UTK/accident-severity-detection-prediction/logs/prototype1.log\u001b[0m\n",
      "2021-11-05 19:03:45 Notebook     INFO     \u001b[1m\u001b[36mLogger Examples:\u001b[0m\n",
      "\n",
      "2021-11-05 19:03:45 Notebook     WARNING  \u001b[4m\u001b[36mLogger Warning underlined\u001b[0m\n",
      "2021-11-05 19:03:45 Notebook     ERROR    \u001b[1m\u001b[41m\u001b[33mLogger Error in red&yellow\u001b[0m\n"
     ]
    }
   ],
   "source": [
    "from project_libs import ColorizedLogger\n",
    "log_path = \"logs/prototype1.log\"\n",
    "# Load and setup logger\n",
    "logger = ColorizedLogger(logger_name='Notebook', color='cyan')\n",
    "ColorizedLogger.setup_logger(log_path=log_path, debug=False, clear_log=True)\n",
    "# Examples\n",
    "logger.info(\"Logger Examples:\")\n",
    "logger.nl(num_lines=1) # New lines\n",
    "logger.warn(\"Logger Warning underlined\", attrs=['underline']) \n",
    "# Atrs:  bold, dark, underline, blink, reverse, concealed\n",
    "logger.error(\"Logger Error in red&yellow\", color=\"yellow\", on_color=\"on_red\")\n",
    "# Colors: on_grey, on_red, on_green, on_yellow, on_blue, on_magenta, on_cyan, on_white"
   ]
  },
  {
   "cell_type": "markdown",
   "metadata": {
    "id": "ztSC5oWsgSdl"
   },
   "source": [
    "# ------------------------------------------------------------------"
   ]
  },
  {
   "cell_type": "markdown",
   "metadata": {
    "id": "ZyM4avEli8A_"
   },
   "source": [
    "# Start of Project Code"
   ]
  },
  {
   "cell_type": "code",
   "execution_count": 7,
   "metadata": {
    "id": "CuYpT_rqgSdl"
   },
   "outputs": [],
   "source": [
    "from project_libs import project as proj"
   ]
  },
  {
   "cell_type": "markdown",
   "metadata": {
    "id": "OhlCQKWpg4Et"
   },
   "source": [
    "## Data Loading"
   ]
  },
  {
   "cell_type": "code",
   "execution_count": 8,
   "metadata": {},
   "outputs": [
    {
     "name": "stdout",
     "output_type": "stream",
     "text": [
      "mkdir: /Users/gkos/.kaggle: File exists\n",
      "mkdir: data: File exists\n",
      "Downloading us-accidents.zip to /Users/gkos/Insync/delfinas7kostas@gmail.com/Google Drive/Projects/UTK/accident-severity-detection-prediction/data\n",
      "100%|████████████████████████████████████████| 117M/117M [00:11<00:00, 10.7MB/s]\n",
      "100%|████████████████████████████████████████| 117M/117M [00:11<00:00, 11.0MB/s]\n",
      "Archive:  us-accidents.zip\n",
      "  inflating: US_Accidents_Dec20_updated.csv  \n"
     ]
    }
   ],
   "source": [
    "# Download Dataset again if requested\n",
    "should_download = loader_config['download']\n",
    "if should_download:\n",
    "    kaggle_dataset_name = loader_config['kaggle_dataset_name']\n",
    "    !mkdir ~/.kaggle\n",
    "    !cp confs/kaggle.json ~/.kaggle/\n",
    "    !chmod 600 ~/.kaggle/kaggle.json\n",
    "    !mkdir data\n",
    "    !cd data && kaggle datasets download -d $kaggle_dataset_name && unzip -o us-accidents.zip && rm us-accidents.zip"
   ]
  },
  {
   "cell_type": "code",
   "execution_count": 10,
   "metadata": {
    "id": "qpxXezwmgSdm"
   },
   "outputs": [],
   "source": [
    "# Load Dataset\n",
    "accidents_df_original = pd.read_csv (loader_config['local_dataset_name'])\n",
    "accidents_df = accidents_df_original.copy()"
   ]
  },
  {
   "cell_type": "markdown",
   "metadata": {},
   "source": [
    "## Exploration"
   ]
  },
  {
   "cell_type": "code",
   "execution_count": 11,
   "metadata": {},
   "outputs": [
    {
     "name": "stderr",
     "output_type": "stream",
     "text": [
      "2021-11-05 19:04:29 Notebook     INFO     \u001b[1m\u001b[36mNumber of rows: 1516064\u001b[0m\n",
      "2021-11-05 19:04:29 Notebook     INFO     \u001b[1m\u001b[36mNumber of Columns: 47\u001b[0m\n",
      "2021-11-05 19:04:29 Notebook     INFO     \u001b[1m\u001b[36mColumns: Index(['ID', 'Severity', 'Start_Time', 'End_Time', 'Start_Lat', 'Start_Lng',\n",
      "       'End_Lat', 'End_Lng', 'Distance(mi)', 'Description', 'Number', 'Street',\n",
      "       'Side', 'City', 'County', 'State', 'Zipcode', 'Country', 'Timezone',\n",
      "       'Airport_Code', 'Weather_Timestamp', 'Temperature(F)', 'Wind_Chill(F)',\n",
      "       'Humidity(%)', 'Pressure(in)', 'Visibility(mi)', 'Wind_Direction',\n",
      "       'Wind_Speed(mph)', 'Precipitation(in)', 'Weather_Condition', 'Amenity',\n",
      "       'Bump', 'Crossing', 'Give_Way', 'Junction', 'No_Exit', 'Railway',\n",
      "       'Roundabout', 'Station', 'Stop', 'Traffic_Calming', 'Traffic_Signal',\n",
      "       'Turning_Loop', 'Sunrise_Sunset', 'Civil_Twilight', 'Nautical_Twilight',\n",
      "       'Astronomical_Twilight'],\n",
      "      dtype='object')\u001b[0m\n"
     ]
    }
   ],
   "source": [
    "# Print Basic Info\n",
    "logger.info(f\"Number of rows: {accidents_df.shape[0]}\")\n",
    "logger.info(f\"Number of Columns: {accidents_df.shape[1]}\")\n",
    "logger.info(f\"Columns: {accidents_df.columns}\")"
   ]
  },
  {
   "cell_type": "code",
   "execution_count": 12,
   "metadata": {},
   "outputs": [
    {
     "name": "stderr",
     "output_type": "stream",
     "text": [
      "2021-11-05 19:04:29 Notebook     INFO     \u001b[1m\u001b[36mUnique Cities: \u001b[0m\n",
      "2021-11-05 19:04:29 Notebook     INFO     \u001b[1m\u001b[36m['Dublin', 'Dayton', 'Cincinnati', 'Akron', 'Williamsburg', 'Batavia', 'Cleveland', 'Lima', 'Westerville', 'Jamestown'], ..\u001b[0m\n",
      "2021-11-05 19:04:29 Notebook     INFO     \u001b[1m\u001b[36mNumber of cities: 10658\u001b[0m\n",
      "2021-11-05 19:04:29 Notebook     INFO     \u001b[1m\u001b[36m----------------------------------------------------\u001b[0m\n",
      "2021-11-05 19:04:29 Notebook     INFO     \u001b[1m\u001b[36mNumber of rows when only FIRST 20 were included: 28208\u001b[0m\n",
      "2021-11-05 19:04:29 Notebook     INFO     \u001b[1m\u001b[36mNumber of rows when only FIRST 50 were included: 49824\u001b[0m\n",
      "2021-11-05 19:04:29 Notebook     INFO     \u001b[1m\u001b[36mNumber of rows when only FIRST 100 were included: 62172\u001b[0m\n",
      "2021-11-05 19:04:29 Notebook     INFO     \u001b[1m\u001b[36mNumber of rows when only FIRST 500 were included: 279012\u001b[0m\n",
      "2021-11-05 19:04:29 Notebook     INFO     \u001b[1m\u001b[36mNumber of rows when only FIRST 1000 were included: 693738\u001b[0m\n",
      "2021-11-05 19:04:30 Notebook     INFO     \u001b[1m\u001b[36mNumber of rows when only FIRST 1500 were included: 775703\u001b[0m\n",
      "2021-11-05 19:04:30 Notebook     INFO     \u001b[1m\u001b[36mNumber of rows when only FIRST 2000 were included: 1037886\u001b[0m\n"
     ]
    }
   ],
   "source": [
    "# -- Filter By Cities -- #\n",
    "logger.info(\"Unique Cities: \")\n",
    "cities = accidents_df.City.unique().tolist()\n",
    "logger.info(f\"{cities[:10]}, ..\")\n",
    "logger.info(f\"Number of cities: {len(cities)}\")\n",
    "logger.info(\"----------------------------------------------------\")\n",
    "\n",
    "# Try different number of cities filters\n",
    "for num_cities in [20, 50, 100, 500, 1000, 1500, 2000]:\n",
    "    current_num = accidents_df[accidents_df.City.isin(cities[:num_cities])].shape[0]\n",
    "    logger.info(f\"Number of rows when only FIRST {num_cities} were included: {current_num}\")"
   ]
  },
  {
   "cell_type": "code",
   "execution_count": 13,
   "metadata": {},
   "outputs": [
    {
     "name": "stderr",
     "output_type": "stream",
     "text": [
      "2021-11-05 19:04:30 Notebook     INFO     \u001b[1m\u001b[36mEarliest date: 2016-02-08 00:37:08\u001b[0m\n",
      "2021-11-05 19:04:30 Notebook     INFO     \u001b[1m\u001b[36mMost Recent date: 2020-12-31 23:28:56\u001b[0m\n",
      "2021-11-05 19:04:30 Notebook     INFO     \u001b[1m\u001b[36m----------------------------------------------------\u001b[0m\n",
      "2021-11-05 19:04:30 Notebook     INFO     \u001b[1m\u001b[36mNumber of rows when only dates STARTED FROM 1/2017 were included: 1386739\u001b[0m\n",
      "2021-11-05 19:04:31 Notebook     INFO     \u001b[1m\u001b[36mNumber of rows when only dates STARTED FROM 1/2018 were included: 1216640\u001b[0m\n",
      "2021-11-05 19:04:31 Notebook     INFO     \u001b[1m\u001b[36mNumber of rows when only dates STARTED FROM 1/2019 were included: 1049704\u001b[0m\n",
      "2021-11-05 19:04:31 Notebook     INFO     \u001b[1m\u001b[36mNumber of rows when only dates STARTED FROM 1/2020 were included: 787932\u001b[0m\n",
      "2021-11-05 19:04:32 Notebook     INFO     \u001b[1m\u001b[36mNumber of rows when only dates STARTED FROM 6/2020 were included: 546313\u001b[0m\n",
      "2021-11-05 19:04:32 Notebook     INFO     \u001b[1m\u001b[36mNumber of rows when only dates STARTED FROM 9/2020 were included: 480503\u001b[0m\n"
     ]
    }
   ],
   "source": [
    "# -- Filter By Date -- #\n",
    "accidents_df.loc[:, 'Start_Time_dt'] = pd.to_datetime(accidents_df.Start_Time)\n",
    "logger.info(f\"Earliest date: {accidents_df.Start_Time_dt.min()}\")\n",
    "logger.info(f\"Most Recent date: {accidents_df.Start_Time_dt.max()}\")\n",
    "logger.info(\"----------------------------------------------------\")\n",
    "\n",
    "# Try different date filters\n",
    "dates = [(2017, 1), (2018, 1), (2019, 1), (2020, 1), (2020, 6), (2020, 9)]\n",
    "for year, month in dates:\n",
    "    condition = accidents_df.Start_Time_dt.dt.date>=datetime.date(year=year,month=month,day=1)\n",
    "    current_num = accidents_df.Start_Time_dt[condition].shape[0]\n",
    "    logger.info(f\"Number of rows when only dates STARTED FROM {month}/{year} were included: {current_num}\")\n"
   ]
  },
  {
   "cell_type": "code",
   "execution_count": 14,
   "metadata": {},
   "outputs": [
    {
     "name": "stderr",
     "output_type": "stream",
     "text": [
      "2021-11-05 19:04:32 Notebook     INFO     \u001b[1m\u001b[36mUnique States: \u001b[0m\n",
      "2021-11-05 19:04:32 Notebook     INFO     \u001b[1m\u001b[36m['OH', 'IN', 'KY', 'WV', 'MI', 'PA', 'CA', 'NV', 'MN', 'TX']\u001b[0m\n",
      "2021-11-05 19:04:32 Notebook     INFO     \u001b[1m\u001b[36mNumber of states: 49\u001b[0m\n",
      "2021-11-05 19:04:32 Notebook     INFO     \u001b[1m\u001b[36m----------------------------------------------------\u001b[0m\n",
      "2021-11-05 19:04:32 Notebook     INFO     \u001b[1m\u001b[36mNumber of rows when only North Eastern states were included: 206216\u001b[0m\n",
      "2021-11-05 19:04:32 Notebook     INFO     \u001b[1m\u001b[36mNumber of rows when only dates STARTED FROM 1/2020 for the North Easter States were included: 114565\u001b[0m\n"
     ]
    }
   ],
   "source": [
    "# -- Filter By States and Date -- #\n",
    "logger.info(\"Unique States: \")\n",
    "states = accidents_df.State.unique().tolist()\n",
    "logger.info(states[:10])\n",
    "logger.info(f\"Number of states: {len(states)}\")\n",
    "logger.info(\"----------------------------------------------------\")\n",
    "\n",
    "# Filter By NE States\n",
    "staes_of_choice =  ['PA', 'NY', 'VY', 'ME', 'NH', 'MA', 'RI', 'CT', 'NJ', 'DE', 'DC', 'MD']\n",
    "accidents_df_filtered = accidents_df[accidents_df.State.isin(staes_of_choice)].copy()\n",
    "logger.info(f\"Number of rows when only North Eastern states were included: {accidents_df_filtered.shape[0]}\")\n",
    "\n",
    "# By Date\n",
    "year, month = 2020, 1\n",
    "condition = accidents_df_filtered.Start_Time_dt.dt.date>=datetime.date(year=year,month=month,day=1)\n",
    "current_num = accidents_df_filtered.Start_Time_dt[condition].shape[0]\n",
    "logger.info(f\"Number of rows when only dates STARTED FROM {month}/{year} for the North Easter States were included: {current_num}\")"
   ]
  },
  {
   "cell_type": "markdown",
   "metadata": {
    "id": "i_R2mcmqgSdq"
   },
   "source": [
    "## Preprocessing"
   ]
  },
  {
   "cell_type": "code",
   "execution_count": 15,
   "metadata": {
    "id": "gRUrrWe7gSdq"
   },
   "outputs": [],
   "source": [
    "from project_libs.project import preprocessing as pre"
   ]
  },
  {
   "cell_type": "code",
   "execution_count": 16,
   "metadata": {},
   "outputs": [],
   "source": [
    "accidents_df = accidents_df_original.copy()"
   ]
  },
  {
   "cell_type": "code",
   "execution_count": null,
   "metadata": {
    "id": "jidzZ38HgSds"
   },
   "outputs": [],
   "source": []
  },
  {
   "cell_type": "markdown",
   "metadata": {
    "id": "i_R2mcmqgSdq"
   },
   "source": [
    "## Load Model"
   ]
  },
  {
   "cell_type": "code",
   "execution_count": null,
   "metadata": {},
   "outputs": [],
   "source": [
    "from project_libs.project import models"
   ]
  },
  {
   "cell_type": "code",
   "execution_count": null,
   "metadata": {},
   "outputs": [],
   "source": []
  },
  {
   "cell_type": "markdown",
   "metadata": {
    "id": "i_R2mcmqgSdq"
   },
   "source": [
    "## Hyperparameter Tuning"
   ]
  },
  {
   "cell_type": "code",
   "execution_count": null,
   "metadata": {},
   "outputs": [],
   "source": []
  },
  {
   "cell_type": "code",
   "execution_count": null,
   "metadata": {},
   "outputs": [],
   "source": []
  },
  {
   "cell_type": "markdown",
   "metadata": {
    "id": "i_R2mcmqgSdq"
   },
   "source": [
    "## Training"
   ]
  },
  {
   "cell_type": "code",
   "execution_count": null,
   "metadata": {},
   "outputs": [],
   "source": []
  },
  {
   "cell_type": "code",
   "execution_count": null,
   "metadata": {},
   "outputs": [],
   "source": []
  },
  {
   "cell_type": "markdown",
   "metadata": {
    "id": "i_R2mcmqgSdq"
   },
   "source": [
    "## Testing"
   ]
  },
  {
   "cell_type": "code",
   "execution_count": null,
   "metadata": {},
   "outputs": [],
   "source": []
  },
  {
   "cell_type": "code",
   "execution_count": null,
   "metadata": {},
   "outputs": [],
   "source": []
  },
  {
   "cell_type": "markdown",
   "metadata": {
    "id": "i_R2mcmqgSdq"
   },
   "source": [
    "## Evaluation"
   ]
  },
  {
   "cell_type": "code",
   "execution_count": null,
   "metadata": {},
   "outputs": [],
   "source": []
  },
  {
   "cell_type": "code",
   "execution_count": null,
   "metadata": {},
   "outputs": [],
   "source": []
  },
  {
   "cell_type": "markdown",
   "metadata": {
    "id": "i_R2mcmqgSdq"
   },
   "source": [
    "## Plots"
   ]
  },
  {
   "cell_type": "code",
   "execution_count": null,
   "metadata": {},
   "outputs": [],
   "source": [
    "from project_libs.project import plotter as pl"
   ]
  },
  {
   "cell_type": "code",
   "execution_count": null,
   "metadata": {},
   "outputs": [],
   "source": []
  }
 ],
 "metadata": {
  "colab": {
   "include_colab_link": true,
   "name": "main.ipynb",
   "provenance": [],
   "toc_visible": true
  },
  "kernelspec": {
   "display_name": "Python 3 (ipykernel)",
   "language": "python",
   "name": "python3"
  },
  "language_info": {
   "codemirror_mode": {
    "name": "ipython",
    "version": 3
   },
   "file_extension": ".py",
   "mimetype": "text/x-python",
   "name": "python",
   "nbconvert_exporter": "python",
   "pygments_lexer": "ipython3",
   "version": "3.8.12"
  },
  "widgets": {
   "application/vnd.jupyter.widget-state+json": {
    "1731d42a04634fee89c2f80c12a29c88": {
     "model_module": "@jupyter-widgets/base",
     "model_module_version": "1.2.0",
     "model_name": "LayoutModel",
     "state": {
      "_model_module": "@jupyter-widgets/base",
      "_model_module_version": "1.2.0",
      "_model_name": "LayoutModel",
      "_view_count": null,
      "_view_module": "@jupyter-widgets/base",
      "_view_module_version": "1.2.0",
      "_view_name": "LayoutView",
      "align_content": null,
      "align_items": null,
      "align_self": null,
      "border": null,
      "bottom": null,
      "display": null,
      "flex": null,
      "flex_flow": null,
      "grid_area": null,
      "grid_auto_columns": null,
      "grid_auto_flow": null,
      "grid_auto_rows": null,
      "grid_column": null,
      "grid_gap": null,
      "grid_row": null,
      "grid_template_areas": null,
      "grid_template_columns": null,
      "grid_template_rows": null,
      "height": null,
      "justify_content": null,
      "justify_items": null,
      "left": null,
      "margin": null,
      "max_height": null,
      "max_width": null,
      "min_height": null,
      "min_width": null,
      "object_fit": null,
      "object_position": null,
      "order": null,
      "overflow": null,
      "overflow_x": null,
      "overflow_y": null,
      "padding": null,
      "right": null,
      "top": null,
      "visibility": null,
      "width": null
     }
    },
    "5f7a290065d24765a0bc5fa9801fd815": {
     "model_module": "@jupyter-widgets/controls",
     "model_module_version": "1.5.0",
     "model_name": "ButtonStyleModel",
     "state": {
      "_model_module": "@jupyter-widgets/controls",
      "_model_module_version": "1.5.0",
      "_model_name": "ButtonStyleModel",
      "_view_count": null,
      "_view_module": "@jupyter-widgets/base",
      "_view_module_version": "1.2.0",
      "_view_name": "StyleView",
      "button_color": null,
      "font_weight": ""
     }
    },
    "a5b00bcabdfc42c480043de40a36c486": {
     "model_module": "@jupyter-widgets/base",
     "model_module_version": "1.2.0",
     "model_name": "LayoutModel",
     "state": {
      "_model_module": "@jupyter-widgets/base",
      "_model_module_version": "1.2.0",
      "_model_name": "LayoutModel",
      "_view_count": null,
      "_view_module": "@jupyter-widgets/base",
      "_view_module_version": "1.2.0",
      "_view_name": "LayoutView",
      "align_content": null,
      "align_items": null,
      "align_self": null,
      "border": null,
      "bottom": null,
      "display": null,
      "flex": null,
      "flex_flow": null,
      "grid_area": null,
      "grid_auto_columns": null,
      "grid_auto_flow": null,
      "grid_auto_rows": null,
      "grid_column": null,
      "grid_gap": null,
      "grid_row": null,
      "grid_template_areas": null,
      "grid_template_columns": null,
      "grid_template_rows": null,
      "height": null,
      "justify_content": null,
      "justify_items": null,
      "left": null,
      "margin": null,
      "max_height": null,
      "max_width": null,
      "min_height": null,
      "min_width": null,
      "object_fit": null,
      "object_position": null,
      "order": null,
      "overflow": null,
      "overflow_x": null,
      "overflow_y": null,
      "padding": null,
      "right": null,
      "top": null,
      "visibility": null,
      "width": null
     }
    },
    "c55ebd5855ca490791c5d6b9308b6d4e": {
     "model_module": "@jupyter-widgets/controls",
     "model_module_version": "1.5.0",
     "model_name": "ButtonModel",
     "state": {
      "_dom_classes": [],
      "_model_module": "@jupyter-widgets/controls",
      "_model_module_version": "1.5.0",
      "_model_name": "ButtonModel",
      "_view_count": null,
      "_view_module": "@jupyter-widgets/controls",
      "_view_module_version": "1.5.0",
      "_view_name": "ButtonView",
      "button_style": "",
      "description": "Yes",
      "disabled": false,
      "icon": "",
      "layout": "IPY_MODEL_a5b00bcabdfc42c480043de40a36c486",
      "style": "IPY_MODEL_5f7a290065d24765a0bc5fa9801fd815",
      "tooltip": ""
     }
    },
    "e7b4d0dcb1f24d998063f877d1efbca7": {
     "model_module": "@jupyter-widgets/controls",
     "model_module_version": "1.5.0",
     "model_name": "ButtonModel",
     "state": {
      "_dom_classes": [],
      "_model_module": "@jupyter-widgets/controls",
      "_model_module_version": "1.5.0",
      "_model_name": "ButtonModel",
      "_view_count": null,
      "_view_module": "@jupyter-widgets/controls",
      "_view_module_version": "1.5.0",
      "_view_name": "ButtonView",
      "button_style": "",
      "description": "Yes, clone",
      "disabled": false,
      "icon": "",
      "layout": "IPY_MODEL_1731d42a04634fee89c2f80c12a29c88",
      "style": "IPY_MODEL_f7b19456e9b94ee09f8ed14cc1ba960b",
      "tooltip": ""
     }
    },
    "f7b19456e9b94ee09f8ed14cc1ba960b": {
     "model_module": "@jupyter-widgets/controls",
     "model_module_version": "1.5.0",
     "model_name": "ButtonStyleModel",
     "state": {
      "_model_module": "@jupyter-widgets/controls",
      "_model_module_version": "1.5.0",
      "_model_name": "ButtonStyleModel",
      "_view_count": null,
      "_view_module": "@jupyter-widgets/base",
      "_view_module_version": "1.2.0",
      "_view_name": "StyleView",
      "button_color": null,
      "font_weight": ""
     }
    }
   }
  }
 },
 "nbformat": 4,
 "nbformat_minor": 1
}
