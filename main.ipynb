{
 "cells": [
  {
   "cell_type": "markdown",
   "metadata": {
    "collapsed": true,
    "id": "Vt9t7-fVi8At"
   },
   "source": [
    "# Machine Learning - Final Project\n",
    "## Accident Severity Prediction\n",
    "**Team**: *Jennifer Lord, Konstantinos Georgiou, Russ Limber, Sanjeev Singh, Sara Howard*"
   ]
  },
  {
   "cell_type": "markdown",
   "metadata": {
    "heading_collapsed": true,
    "id": "eiRSeV6fi8A0"
   },
   "source": [
    "## Where to put the code\n",
    "- Place the preprocessing functions/classes in [\\<project root\\>/project_libs/project/preprocessing.py](https://github.com/UTK-ML-Dream-Team/accident-severity-prediction/blob/master/project_libs/project/preprocessing.py)\n",
    "- The models in [\\<project root\\>/project_libs/project/models.py](https://github.com/UTK-ML-Dream-Team/accident-severity-prediction/blob/master/project_libs/project/models.py)\n",
    "- Any plotting related functions in [\\<project root\\>/project_libs/project/plotter.py](https://github.com/UTK-ML-Dream-Team/accident-severity-prediction/blob/master/project_libs/project/plotter.py)\n",
    "\n",
    "\n",
    "**The code is reloaded automatically. Any class object needs to reinitialized though.** \n",
    "\n",
    "## Config file\n",
    "The yml/config file is located at: [confs/prototype1.yml](https://github.com/UTK-ML-Dream-Team/accident-severity-prediction/blob/master/confs/prototype1.yml)<br>\n",
    "To load it run:\n",
    "```python\n",
    "config_path='confs/prototype1.yml'\n",
    "conf = Configuration(config_src=config_path)\n",
    "# Get the dataset loader config\n",
    "loader_config = conf.get_config('data_loader')['config']['dataset'] # type = Dict\n",
    "print(books.keys())\n",
    "print(loader_config['url'])\n",
    "```\n",
    "To reload the config just run the 2nd and 3rd command.\n",
    "\n",
    "## Libraries Overview:\n",
    "All the libraries are located under *\"\\<project root>/project_libs\"*\n",
    "- project_libs/**project**: This project's code (imported later)\n",
    "- project_libs/**configuration**: Class that creates config objects from yml files\n",
    "- project_libs/**fancy_logger**: Logger that can be used instead of prints for text formatting (color, bold, underline etc)\n",
    "\n",
    "## For more info check out:\n",
    "- the **[Project Board](https://github.com/UTK-ML-Dream-Team/accident-severity-prediction/projects/1)**\n",
    "- and the **[Current Issues](https://github.com/UTK-ML-Dream-Team/accident-severity-prediction/issues)**"
   ]
  },
  {
   "cell_type": "markdown",
   "metadata": {
    "id": "1gmuUzi6gSdg"
   },
   "source": [
    "# ------------------------------------------------------------------"
   ]
  },
  {
   "cell_type": "markdown",
   "metadata": {
    "id": "1Nl39AXjgSdg"
   },
   "source": [
    "## On Google Collab?\n",
    "- **If yes, run the two cells and press the two buttons below:**\n",
    "- Otherwise go to \"***Import the base Libraries***\""
   ]
  },
  {
   "cell_type": "code",
   "execution_count": 1,
   "metadata": {
    "ExecuteTime": {
     "end_time": "2021-12-05T04:02:18.378640Z",
     "start_time": "2021-12-05T04:02:18.316960Z"
    },
    "colab": {
     "base_uri": "https://localhost:8080/",
     "height": 153,
     "referenced_widgets": [
      "2d65dc170c354e63a69dddb0ccc326e1",
      "1c5e99e236464452adb2a0555f829db5",
      "4fbda268200f4476a9e5d0dd3368e6c1"
     ]
    },
    "executionInfo": {
     "elapsed": 431,
     "status": "ok",
     "timestamp": 1638499850560,
     "user": {
      "displayName": "Russ Limber",
      "photoUrl": "https://lh3.googleusercontent.com/a-/AOh14GjVCA_-hfKaFHpjY_rEdi0DyGLz9edk8UTTu5Dm=s64",
      "userId": "08747094657326517311"
     },
     "user_tz": 300
    },
    "id": "1SQIWYWmi8A4",
    "outputId": "7bf6b1bd-c9cf-4f8a-98ac-674a36537b46"
   },
   "outputs": [
    {
     "name": "stdout",
     "output_type": "stream",
     "text": [
      "Clone project?\n",
      "(If you do this you will ovewrite local changes on other files e.g. configs)\n",
      "Not needed if you're not on Google Collab\n"
     ]
    },
    {
     "data": {
      "application/vnd.jupyter.widget-view+json": {
       "model_id": "db2de81319264e98b87db6d186d10962",
       "version_major": 2,
       "version_minor": 0
      },
      "text/plain": [
       "Button(description='Yes, clone', style=ButtonStyle())"
      ]
     },
     "metadata": {},
     "output_type": "display_data"
    }
   ],
   "source": [
    "# Import Jupyter Widgets\n",
    "import os\n",
    "import ipywidgets as widgets\n",
    "from ipywidgets import interact, interact_manual\n",
    "from IPython.display import display\n",
    "# Clone the repository if you're in Google Collab\n",
    "def clone_project(is_collab: bool = False):\n",
    "    print(\"Cloning Project..\")\n",
    "    !git clone https://github.com/UTK-ML-Dream-Team/accident-severity-prediction.git\n",
    "    print(\"Project cloned.\")\n",
    "       \n",
    "print(\"Clone project?\")\n",
    "print(\"(If you do this you will ovewrite local changes on other files e.g. configs)\")\n",
    "print(\"Not needed if you're not on Google Collab\")\n",
    "btn = widgets.Button(description=\"Yes, clone\")\n",
    "btn.on_click(clone_project)\n",
    "display(btn)"
   ]
  },
  {
   "cell_type": "code",
   "execution_count": 2,
   "metadata": {
    "ExecuteTime": {
     "end_time": "2021-12-05T04:02:18.807670Z",
     "start_time": "2021-12-05T04:02:18.784944Z"
    },
    "colab": {
     "base_uri": "https://localhost:8080/",
     "height": 1000,
     "referenced_widgets": [
      "66a2b845980941c6bf4c86ba43d33cbf",
      "b9bfd14bf0b240c49a54aa4261aa0c5a",
      "c384c66bb2d24776a1d9768867388e7b"
     ]
    },
    "executionInfo": {
     "elapsed": 3,
     "status": "ok",
     "timestamp": 1638499851152,
     "user": {
      "displayName": "Russ Limber",
      "photoUrl": "https://lh3.googleusercontent.com/a-/AOh14GjVCA_-hfKaFHpjY_rEdi0DyGLz9edk8UTTu5Dm=s64",
      "userId": "08747094657326517311"
     },
     "user_tz": 300
    },
    "id": "F_l8p4H1i8A5",
    "outputId": "eac95da4-e29f-4f93-9e75-038b12881db7"
   },
   "outputs": [
    {
     "name": "stdout",
     "output_type": "stream",
     "text": [
      "Are you on Google Collab?\n"
     ]
    },
    {
     "data": {
      "application/vnd.jupyter.widget-view+json": {
       "model_id": "4a04fa37feae414e8c0393f3937901a4",
       "version_major": 2,
       "version_minor": 0
      },
      "text/plain": [
       "Button(description='Yes', style=ButtonStyle())"
      ]
     },
     "metadata": {},
     "output_type": "display_data"
    }
   ],
   "source": [
    "# Clone the repository if you're in Google Collab\n",
    "def change_dir(is_collab: bool = False):\n",
    "    try:\n",
    "        print(\"Changing dir..\")\n",
    "        os.chdir('/content/accident-severity-prediction')\n",
    "        print('done')\n",
    "        print(\"Current dir:\")\n",
    "        print(os.getcwd())\n",
    "        print(\"Dir Contents:\")\n",
    "        print(os.listdir())\n",
    "        print(\"\\nInstalling Requirements\")\n",
    "        !pip install -r requirements.txt\n",
    "    except Exception:\n",
    "        print(\"Error: Project not cloned\")\n",
    "       \n",
    "print(\"Are you on Google Collab?\")\n",
    "btn = widgets.Button(description=\"Yes\")\n",
    "btn.on_click(change_dir)\n",
    "display(btn)"
   ]
  },
  {
   "cell_type": "markdown",
   "metadata": {
    "id": "6CpeQfTli8A6"
   },
   "source": [
    "### To commit and push Google Collab notebook to Github\n",
    "Click **File > Save a copy on Gihtub**"
   ]
  },
  {
   "cell_type": "markdown",
   "metadata": {
    "id": "reFZW6B8gSdj"
   },
   "source": [
    "# ------------------------------------------------------------------"
   ]
  },
  {
   "cell_type": "markdown",
   "metadata": {
    "id": "h54edY45gSdj"
   },
   "source": [
    "# Initializations"
   ]
  },
  {
   "cell_type": "markdown",
   "metadata": {
    "id": "H1RHGfh1i8A8",
    "pycharm": {
     "name": "#%%\n"
    }
   },
   "source": [
    "## Import the base Libraries"
   ]
  },
  {
   "cell_type": "code",
   "execution_count": 3,
   "metadata": {
    "ExecuteTime": {
     "end_time": "2021-12-05T04:02:22.535542Z",
     "start_time": "2021-12-05T04:02:20.726495Z"
    },
    "colab": {
     "base_uri": "https://localhost:8080/"
    },
    "executionInfo": {
     "elapsed": 1643,
     "status": "ok",
     "timestamp": 1638499866135,
     "user": {
      "displayName": "Russ Limber",
      "photoUrl": "https://lh3.googleusercontent.com/a-/AOh14GjVCA_-hfKaFHpjY_rEdi0DyGLz9edk8UTTu5Dm=s64",
      "userId": "08747094657326517311"
     },
     "user_tz": 300
    },
    "id": "wjKYGxzYi8A9",
    "outputId": "0d3a03b9-e6ac-473c-8444-624857ba8511"
   },
   "outputs": [],
   "source": [
    "# Imports\n",
    "%load_ext autoreload\n",
    "%autoreload 2\n",
    "%config InlineBackend.figure_formats = ['png']\n",
    "from importlib import reload as reload_lib\n",
    "from typing import *\n",
    "import os\n",
    "import re\n",
    "from pprint import pprint\n",
    "import datetime \n",
    "import time\n",
    "from tqdm.notebook import tqdm as tqdm_nb\n",
    "from tqdm import tqdm\n",
    "# Numpy\n",
    "import numpy as np\n",
    "import pandas as pd\n",
    "# Import preprocessing lib\n",
    "from project_libs.project import *"
   ]
  },
  {
   "cell_type": "markdown",
   "metadata": {
    "id": "PYBmLhFZgSdk"
   },
   "source": [
    "## Load the YML file"
   ]
  },
  {
   "cell_type": "code",
   "execution_count": 4,
   "metadata": {
    "ExecuteTime": {
     "end_time": "2021-12-05T04:02:22.553782Z",
     "start_time": "2021-12-05T04:02:22.536742Z"
    },
    "executionInfo": {
     "elapsed": 352,
     "status": "ok",
     "timestamp": 1638499869628,
     "user": {
      "displayName": "Russ Limber",
      "photoUrl": "https://lh3.googleusercontent.com/a-/AOh14GjVCA_-hfKaFHpjY_rEdi0DyGLz9edk8UTTu5Dm=s64",
      "userId": "08747094657326517311"
     },
     "user_tz": 300
    },
    "id": "-z773EjNgSdk"
   },
   "outputs": [],
   "source": [
    "from project_libs import Configuration"
   ]
  },
  {
   "cell_type": "code",
   "execution_count": 5,
   "metadata": {
    "ExecuteTime": {
     "end_time": "2021-12-05T04:02:22.578860Z",
     "start_time": "2021-12-05T04:02:22.554693Z"
    },
    "colab": {
     "base_uri": "https://localhost:8080/"
    },
    "executionInfo": {
     "elapsed": 1123,
     "status": "ok",
     "timestamp": 1638499872265,
     "user": {
      "displayName": "Russ Limber",
      "photoUrl": "https://lh3.googleusercontent.com/a-/AOh14GjVCA_-hfKaFHpjY_rEdi0DyGLz9edk8UTTu5Dm=s64",
      "userId": "08747094657326517311"
     },
     "user_tz": 300
    },
    "id": "XYH2o7w3i8A-",
    "outputId": "a692d0fa-358e-49a2-a23a-6dace87d929f"
   },
   "outputs": [
    {
     "name": "stderr",
     "output_type": "stream",
     "text": [
      "2021-12-04 23:02:22 Config       INFO     \u001b[1m\u001b[37mConfiguration file loaded successfully from path: /Users/gkos/Insync/delfinas7kostas@gmail.com/Google Drive/Projects/UTK/accident-severity-detection-prediction/confs/prototype1.yml\u001b[0m\n",
      "2021-12-04 23:02:22 Config       INFO     \u001b[1m\u001b[37mConfiguration Tag: prototype_1\u001b[0m\n"
     ]
    }
   ],
   "source": [
    "# The path of configuration and log save path\n",
    "config_path = \"confs/prototype1.yml\"\n",
    "# !cat \"$config_path\"\n",
    "# Load the configuratåion\n",
    "conf = Configuration(config_src=config_path)\n",
    "# Get the books dict\n",
    "loader_config = conf.get_config('data_loader')['config']['dataset']\n",
    "preprocessing_config = conf.get_config('data_loader')['config']['preprocessing']\n",
    "# print(books.keys())\n",
    "# pprint(books)  # Pretty print the books dict"
   ]
  },
  {
   "cell_type": "markdown",
   "metadata": {
    "id": "ztSC5oWsgSdl"
   },
   "source": [
    "# ------------------------------------------------------------------"
   ]
  },
  {
   "cell_type": "markdown",
   "metadata": {
    "id": "ZyM4avEli8A_"
   },
   "source": [
    "# Start of Project Code"
   ]
  },
  {
   "cell_type": "code",
   "execution_count": 6,
   "metadata": {
    "ExecuteTime": {
     "end_time": "2021-12-05T04:02:24.058352Z",
     "start_time": "2021-12-05T04:02:24.018334Z"
    },
    "executionInfo": {
     "elapsed": 249,
     "status": "ok",
     "timestamp": 1638499875743,
     "user": {
      "displayName": "Russ Limber",
      "photoUrl": "https://lh3.googleusercontent.com/a-/AOh14GjVCA_-hfKaFHpjY_rEdi0DyGLz9edk8UTTu5Dm=s64",
      "userId": "08747094657326517311"
     },
     "user_tz": 300
    },
    "id": "CuYpT_rqgSdl"
   },
   "outputs": [],
   "source": [
    "from project_libs import project as proj"
   ]
  },
  {
   "cell_type": "markdown",
   "metadata": {
    "id": "OhlCQKWpg4Et"
   },
   "source": [
    "## Data Loading"
   ]
  },
  {
   "cell_type": "code",
   "execution_count": 7,
   "metadata": {
    "ExecuteTime": {
     "end_time": "2021-12-05T04:02:49.698163Z",
     "start_time": "2021-12-05T04:02:25.106686Z"
    },
    "colab": {
     "base_uri": "https://localhost:8080/"
    },
    "executionInfo": {
     "elapsed": 10228,
     "status": "ok",
     "timestamp": 1638499887851,
     "user": {
      "displayName": "Russ Limber",
      "photoUrl": "https://lh3.googleusercontent.com/a-/AOh14GjVCA_-hfKaFHpjY_rEdi0DyGLz9edk8UTTu5Dm=s64",
      "userId": "08747094657326517311"
     },
     "user_tz": 300
    },
    "id": "MVRVJ0-6_R4t",
    "outputId": "455f066a-6eab-40be-9d2d-61a0113cdede"
   },
   "outputs": [
    {
     "name": "stdout",
     "output_type": "stream",
     "text": [
      "Python 3.8.12\n",
      "Requirement already satisfied: kaggle>=1.5.12 in /Users/gkos/anaconda3/envs/accident_severity_prediction/lib/python3.8/site-packages/kaggle-1.5.12-py3.8.egg (1.5.12)\n",
      "Requirement already satisfied: six>=1.10 in /Users/gkos/anaconda3/envs/accident_severity_prediction/lib/python3.8/site-packages/six-1.16.0-py3.8.egg (from kaggle>=1.5.12) (1.16.0)\n",
      "Requirement already satisfied: certifi in /Users/gkos/anaconda3/envs/accident_severity_prediction/lib/python3.8/site-packages (from kaggle>=1.5.12) (2021.10.8)\n",
      "Requirement already satisfied: python-dateutil in /Users/gkos/anaconda3/envs/accident_severity_prediction/lib/python3.8/site-packages/python_dateutil-2.8.2-py3.8.egg (from kaggle>=1.5.12) (2.8.2)\n",
      "Requirement already satisfied: requests in /Users/gkos/anaconda3/envs/accident_severity_prediction/lib/python3.8/site-packages/requests-2.26.0-py3.8.egg (from kaggle>=1.5.12) (2.26.0)\n",
      "Requirement already satisfied: tqdm in /Users/gkos/anaconda3/envs/accident_severity_prediction/lib/python3.8/site-packages/tqdm-4.62.3-py3.8.egg (from kaggle>=1.5.12) (4.62.3)\n",
      "Requirement already satisfied: python-slugify in /Users/gkos/anaconda3/envs/accident_severity_prediction/lib/python3.8/site-packages/python_slugify-5.0.2-py3.8.egg (from kaggle>=1.5.12) (5.0.2)\n",
      "Requirement already satisfied: urllib3 in /Users/gkos/anaconda3/envs/accident_severity_prediction/lib/python3.8/site-packages/urllib3-1.26.7-py3.8.egg (from kaggle>=1.5.12) (1.26.7)\n",
      "Requirement already satisfied: text-unidecode>=1.3 in /Users/gkos/anaconda3/envs/accident_severity_prediction/lib/python3.8/site-packages/text_unidecode-1.3-py3.8.egg (from python-slugify->kaggle>=1.5.12) (1.3)\n",
      "Requirement already satisfied: charset-normalizer~=2.0.0 in /Users/gkos/anaconda3/envs/accident_severity_prediction/lib/python3.8/site-packages/charset_normalizer-2.0.9-py3.8.egg (from requests->kaggle>=1.5.12) (2.0.9)\n",
      "Requirement already satisfied: idna<4,>=2.5 in /Users/gkos/anaconda3/envs/accident_severity_prediction/lib/python3.8/site-packages/idna-3.3-py3.8.egg (from requests->kaggle>=1.5.12) (3.3)\n",
      "mkdir: /Users/gkos/.kaggle: File exists\n",
      "mkdir: data: File exists\n",
      "Downloading us-accidents.zip to /Users/gkos/Insync/delfinas7kostas@gmail.com/Google Drive/Projects/UTK/accident-severity-detection-prediction/data\n",
      "100%|███████████████████████████████████████▊| 117M/117M [00:18<00:00, 6.26MB/s]\n",
      "100%|████████████████████████████████████████| 117M/117M [00:18<00:00, 6.77MB/s]\n",
      "Archive:  us-accidents.zip\n",
      "  inflating: US_Accidents_Dec20_updated.csv  \n"
     ]
    }
   ],
   "source": [
    "# Download Dataset again if requested\n",
    "!python -V\n",
    "should_download = loader_config['download']\n",
    "if should_download:\n",
    "    kaggle_dataset_name = loader_config['kaggle_dataset_name']\n",
    "    !pip install \"kaggle>=1.5.12\"\n",
    "    !mkdir ~/.kaggle\n",
    "    !cp confs/kaggle.json ~/.kaggle/\n",
    "    !chmod 600 ~/.kaggle/kaggle.json\n",
    "    !mkdir data\n",
    "    !cd data && kaggle datasets download -d $kaggle_dataset_name && unzip -o us-accidents.zip && rm us-accidents.zip"
   ]
  },
  {
   "cell_type": "code",
   "execution_count": 8,
   "metadata": {
    "ExecuteTime": {
     "end_time": "2021-12-05T04:02:57.257206Z",
     "start_time": "2021-12-05T04:02:49.699905Z"
    },
    "executionInfo": {
     "elapsed": 15919,
     "status": "ok",
     "timestamp": 1638499908077,
     "user": {
      "displayName": "Russ Limber",
      "photoUrl": "https://lh3.googleusercontent.com/a-/AOh14GjVCA_-hfKaFHpjY_rEdi0DyGLz9edk8UTTu5Dm=s64",
      "userId": "08747094657326517311"
     },
     "user_tz": 300
    },
    "id": "qpxXezwmgSdm"
   },
   "outputs": [],
   "source": [
    "# Load Dataset\n",
    "accidents_df_original = pd.read_csv(loader_config['local_dataset_name'])\n",
    "accidents_df = accidents_df_original.copy()\n"
   ]
  },
  {
   "cell_type": "markdown",
   "metadata": {
    "id": "NZ9xyLsV_R4v"
   },
   "source": [
    "## Exploration"
   ]
  },
  {
   "cell_type": "markdown",
   "metadata": {
    "heading_collapsed": true,
    "id": "aKazCmez_R4v"
   },
   "source": [
    "### Sampling Tests"
   ]
  },
  {
   "cell_type": "code",
   "execution_count": 9,
   "metadata": {
    "ExecuteTime": {
     "end_time": "2021-12-02T02:34:04.943049Z",
     "start_time": "2021-12-02T02:34:04.910949Z"
    },
    "collapsed": true,
    "executionInfo": {
     "elapsed": 6,
     "status": "aborted",
     "timestamp": 1638499851951,
     "user": {
      "displayName": "Russ Limber",
      "photoUrl": "https://lh3.googleusercontent.com/a-/AOh14GjVCA_-hfKaFHpjY_rEdi0DyGLz9edk8UTTu5Dm=s64",
      "userId": "08747094657326517311"
     },
     "user_tz": 300
    },
    "hidden": true,
    "id": "FUhRKjPO_R4v"
   },
   "outputs": [
    {
     "name": "stdout",
     "output_type": "stream",
     "text": [
      "Number of rows: 1516064\n",
      "Number of Columns: 47\n",
      "Columns: Index(['ID', 'Severity', 'Start_Time', 'End_Time', 'Start_Lat', 'Start_Lng',\n",
      "       'End_Lat', 'End_Lng', 'Distance(mi)', 'Description', 'Number', 'Street',\n",
      "       'Side', 'City', 'County', 'State', 'Zipcode', 'Country', 'Timezone',\n",
      "       'Airport_Code', 'Weather_Timestamp', 'Temperature(F)', 'Wind_Chill(F)',\n",
      "       'Humidity(%)', 'Pressure(in)', 'Visibility(mi)', 'Wind_Direction',\n",
      "       'Wind_Speed(mph)', 'Precipitation(in)', 'Weather_Condition', 'Amenity',\n",
      "       'Bump', 'Crossing', 'Give_Way', 'Junction', 'No_Exit', 'Railway',\n",
      "       'Roundabout', 'Station', 'Stop', 'Traffic_Calming', 'Traffic_Signal',\n",
      "       'Turning_Loop', 'Sunrise_Sunset', 'Civil_Twilight', 'Nautical_Twilight',\n",
      "       'Astronomical_Twilight'],\n",
      "      dtype='object')\n"
     ]
    }
   ],
   "source": [
    "# Print Basic Info\n",
    "print(f\"Number of rows: {accidents_df.shape[0]}\")\n",
    "print(f\"Number of Columns: {accidents_df.shape[1]}\")\n",
    "print(f\"Columns: {accidents_df.columns}\")"
   ]
  },
  {
   "cell_type": "code",
   "execution_count": 10,
   "metadata": {
    "ExecuteTime": {
     "end_time": "2021-12-02T02:34:06.334732Z",
     "start_time": "2021-12-02T02:34:04.944726Z"
    },
    "collapsed": true,
    "executionInfo": {
     "elapsed": 5,
     "status": "aborted",
     "timestamp": 1638499851951,
     "user": {
      "displayName": "Russ Limber",
      "photoUrl": "https://lh3.googleusercontent.com/a-/AOh14GjVCA_-hfKaFHpjY_rEdi0DyGLz9edk8UTTu5Dm=s64",
      "userId": "08747094657326517311"
     },
     "user_tz": 300
    },
    "hidden": true,
    "id": "WXFdXiqz_R4w"
   },
   "outputs": [
    {
     "name": "stdout",
     "output_type": "stream",
     "text": [
      "Unique Cities: \n",
      "['Dublin', 'Dayton', 'Cincinnati', 'Akron', 'Williamsburg', 'Batavia', 'Cleveland', 'Lima', 'Westerville', 'Jamestown'], ..\n",
      "Number of cities: 10658\n",
      "----------------------------------------------------\n",
      "Number of rows when only FIRST 20 were included: 28208\n",
      "Number of rows when only FIRST 50 were included: 49824\n",
      "Number of rows when only FIRST 100 were included: 62172\n",
      "Number of rows when only FIRST 500 were included: 279012\n",
      "Number of rows when only FIRST 1000 were included: 693738\n",
      "Number of rows when only FIRST 1500 were included: 775703\n",
      "Number of rows when only FIRST 2000 were included: 1037886\n"
     ]
    }
   ],
   "source": [
    "# -- Filter By Cities -- #\n",
    "print(\"Unique Cities: \")\n",
    "cities = accidents_df.City.unique().tolist()\n",
    "print(f\"{cities[:10]}, ..\")\n",
    "print(f\"Number of cities: {len(cities)}\")\n",
    "print(\"----------------------------------------------------\")\n",
    "\n",
    "# Try different number of cities filters\n",
    "for num_cities in [20, 50, 100, 500, 1000, 1500, 2000]:\n",
    "    current_num = accidents_df[accidents_df.City.isin(cities[:num_cities])].shape[0]\n",
    "    print(f\"Number of rows when only FIRST {num_cities} were included: {current_num}\")"
   ]
  },
  {
   "cell_type": "code",
   "execution_count": 11,
   "metadata": {
    "ExecuteTime": {
     "end_time": "2021-12-02T02:34:08.474931Z",
     "start_time": "2021-12-02T02:34:06.335588Z"
    },
    "collapsed": true,
    "executionInfo": {
     "elapsed": 5,
     "status": "aborted",
     "timestamp": 1638499851951,
     "user": {
      "displayName": "Russ Limber",
      "photoUrl": "https://lh3.googleusercontent.com/a-/AOh14GjVCA_-hfKaFHpjY_rEdi0DyGLz9edk8UTTu5Dm=s64",
      "userId": "08747094657326517311"
     },
     "user_tz": 300
    },
    "hidden": true,
    "id": "x6vKUXk-_R4x"
   },
   "outputs": [
    {
     "name": "stdout",
     "output_type": "stream",
     "text": [
      "Earliest date: 2016-02-08 00:37:08\n",
      "Most Recent date: 2020-12-31 23:28:56\n",
      "----------------------------------------------------\n",
      "Number of rows when only dates STARTED FROM 1/2017 were included: 1386739\n",
      "Number of rows when only dates STARTED FROM 1/2018 were included: 1216640\n",
      "Number of rows when only dates STARTED FROM 1/2019 were included: 1049704\n",
      "Number of rows when only dates STARTED FROM 1/2020 were included: 787932\n",
      "Number of rows when only dates STARTED FROM 6/2020 were included: 546313\n",
      "Number of rows when only dates STARTED FROM 9/2020 were included: 480503\n"
     ]
    }
   ],
   "source": [
    "# -- Filter By Date -- #\n",
    "accidents_df.loc[:, 'Start_Time_dt'] = pd.to_datetime(accidents_df.Start_Time)\n",
    "print(f\"Earliest date: {accidents_df.Start_Time_dt.min()}\")\n",
    "print(f\"Most Recent date: {accidents_df.Start_Time_dt.max()}\")\n",
    "print(\"----------------------------------------------------\")\n",
    "\n",
    "# Try different date filters\n",
    "dates = [(2017, 1), (2018, 1), (2019, 1), (2020, 1), (2020, 6), (2020, 9)]\n",
    "for year, month in dates:\n",
    "    condition = accidents_df.Start_Time_dt.dt.date>=datetime.date(year=year,month=month,day=1)\n",
    "    current_num = accidents_df.Start_Time_dt[condition].shape[0]\n",
    "    print(f\"Number of rows when only dates STARTED FROM {month}/{year} were included: {current_num}\")\n"
   ]
  },
  {
   "cell_type": "code",
   "execution_count": 12,
   "metadata": {
    "ExecuteTime": {
     "end_time": "2021-12-02T02:34:08.757161Z",
     "start_time": "2021-12-02T02:34:08.475868Z"
    },
    "collapsed": true,
    "executionInfo": {
     "elapsed": 5,
     "status": "aborted",
     "timestamp": 1638499851951,
     "user": {
      "displayName": "Russ Limber",
      "photoUrl": "https://lh3.googleusercontent.com/a-/AOh14GjVCA_-hfKaFHpjY_rEdi0DyGLz9edk8UTTu5Dm=s64",
      "userId": "08747094657326517311"
     },
     "user_tz": 300
    },
    "hidden": true,
    "id": "N9uVOifl_R4x"
   },
   "outputs": [
    {
     "name": "stdout",
     "output_type": "stream",
     "text": [
      "Unique States: \n",
      "['OH', 'IN', 'KY', 'WV', 'MI', 'PA', 'CA', 'NV', 'MN', 'TX']\n",
      "Number of states: 49\n",
      "----------------------------------------------------\n",
      "Number of rows when only North Eastern states were included: 206216\n",
      "Number of rows when only dates STARTED FROM 1/2020 for the North Easter States were included: 114565\n"
     ]
    }
   ],
   "source": [
    "# -- Filter By States and Date -- #\n",
    "print(\"Unique States: \")\n",
    "states = accidents_df.State.unique().tolist()\n",
    "print(states[:10])\n",
    "print(f\"Number of states: {len(states)}\")\n",
    "print(\"----------------------------------------------------\")\n",
    "\n",
    "# Filter By NE States\n",
    "staes_of_choice =  ['PA', 'NY', 'VY', 'ME', 'NH', 'MA', 'RI', 'CT', 'NJ', 'DE', 'DC', 'MD']\n",
    "accidents_df_filtered = accidents_df[accidents_df.State.isin(staes_of_choice)].copy()\n",
    "print(f\"Number of rows when only North Eastern states were included: {accidents_df_filtered.shape[0]}\")\n",
    "\n",
    "# By Date\n",
    "year, month = 2020, 1\n",
    "condition = accidents_df_filtered.Start_Time_dt.dt.date>=datetime.date(year=year,month=month,day=1)\n",
    "current_num = accidents_df_filtered.Start_Time_dt[condition].shape[0]\n",
    "print(f\"Number of rows when only dates STARTED FROM {month}/{year} for the North Easter States were included: {current_num}\")"
   ]
  },
  {
   "cell_type": "markdown",
   "metadata": {
    "heading_collapsed": true,
    "id": "SJhWGaFO_R4y"
   },
   "source": [
    "### Correlation between features"
   ]
  },
  {
   "cell_type": "code",
   "execution_count": 25,
   "metadata": {
    "ExecuteTime": {
     "end_time": "2021-12-02T02:34:08.779245Z",
     "start_time": "2021-12-02T02:34:08.758077Z"
    },
    "executionInfo": {
     "elapsed": 245,
     "status": "ok",
     "timestamp": 1638499912755,
     "user": {
      "displayName": "Russ Limber",
      "photoUrl": "https://lh3.googleusercontent.com/a-/AOh14GjVCA_-hfKaFHpjY_rEdi0DyGLz9edk8UTTu5Dm=s64",
      "userId": "08747094657326517311"
     },
     "user_tz": 300
    },
    "hidden": true,
    "id": "VEwL6ac2_R4y"
   },
   "outputs": [],
   "source": [
    "from project_libs.project import plotter as pl"
   ]
  },
  {
   "cell_type": "code",
   "execution_count": 14,
   "metadata": {
    "ExecuteTime": {
     "end_time": "2021-12-02T02:34:10.773151Z",
     "start_time": "2021-12-02T02:34:08.780213Z"
    },
    "colab": {
     "base_uri": "https://localhost:8080/",
     "height": 554
    },
    "executionInfo": {
     "elapsed": 5602,
     "status": "ok",
     "timestamp": 1638499919864,
     "user": {
      "displayName": "Russ Limber",
      "photoUrl": "https://lh3.googleusercontent.com/a-/AOh14GjVCA_-hfKaFHpjY_rEdi0DyGLz9edk8UTTu5Dm=s64",
      "userId": "08747094657326517311"
     },
     "user_tz": 300
    },
    "hidden": true,
    "id": "0A9_ORtr_R4y",
    "outputId": "b364b27f-f78a-49b2-fe3e-5ea7850e6d83"
   },
   "outputs": [
    {
     "name": "stdout",
     "output_type": "stream",
     "text": [
      "['Severity', 'Start_Lat', 'Start_Lng', 'End_Lat', 'End_Lng', 'Distance(mi)', 'Number', 'Temperature(F)', 'Wind_Chill(F)', 'Humidity(%)', 'Pressure(in)', 'Visibility(mi)', 'Wind_Speed(mph)', 'Precipitation(in)']\n"
     ]
    },
    {
     "data": {
      "image/png": "[encoded data removed]",
      "text/plain": [
       "<Figure size 648x504 with 2 Axes>"
      ]
     },
     "metadata": {
      "needs_background": "light"
     },
     "output_type": "display_data"
    }
   ],
   "source": [
    "# Find Correlations between columns\n",
    "cols_to_visualize = list(accidents_df_original.describe().columns)\n",
    "print(cols_to_visualize)\n",
    "pl.viz_columns_corr(accidents_df_original, cols_to_visualize)"
   ]
  },
  {
   "cell_type": "markdown",
   "metadata": {
    "id": "i_R2mcmqgSdq"
   },
   "source": [
    "## Preprocessing"
   ]
  },
  {
   "cell_type": "code",
   "execution_count": 9,
   "metadata": {
    "ExecuteTime": {
     "end_time": "2021-12-05T04:02:57.278381Z",
     "start_time": "2021-12-05T04:02:57.258551Z"
    },
    "executionInfo": {
     "elapsed": 300,
     "status": "ok",
     "timestamp": 1638499924964,
     "user": {
      "displayName": "Russ Limber",
      "photoUrl": "https://lh3.googleusercontent.com/a-/AOh14GjVCA_-hfKaFHpjY_rEdi0DyGLz9edk8UTTu5Dm=s64",
      "userId": "08747094657326517311"
     },
     "user_tz": 300
    },
    "id": "gRUrrWe7gSdq"
   },
   "outputs": [],
   "source": [
    "from project_libs.project import preprocessing as pre"
   ]
  },
  {
   "cell_type": "code",
   "execution_count": 10,
   "metadata": {
    "ExecuteTime": {
     "end_time": "2021-12-05T04:02:58.842577Z",
     "start_time": "2021-12-05T04:02:57.280365Z"
    },
    "id": "jidzZ38HgSds"
   },
   "outputs": [
    {
     "data": {
      "text/html": [
       "<div>\n",
       "<style scoped>\n",
       "    .dataframe tbody tr th:only-of-type {\n",
       "        vertical-align: middle;\n",
       "    }\n",
       "\n",
       "    .dataframe tbody tr th {\n",
       "        vertical-align: top;\n",
       "    }\n",
       "\n",
       "    .dataframe thead th {\n",
       "        text-align: right;\n",
       "    }\n",
       "</style>\n",
       "<table border=\"1\" class=\"dataframe\">\n",
       "  <thead>\n",
       "    <tr style=\"text-align: right;\">\n",
       "      <th></th>\n",
       "      <th>ID</th>\n",
       "      <th>Severity</th>\n",
       "      <th>Start_Time</th>\n",
       "      <th>End_Time</th>\n",
       "      <th>Start_Lat</th>\n",
       "      <th>Start_Lng</th>\n",
       "      <th>End_Lat</th>\n",
       "      <th>End_Lng</th>\n",
       "      <th>Distance(mi)</th>\n",
       "      <th>Description</th>\n",
       "      <th>...</th>\n",
       "      <th>Roundabout</th>\n",
       "      <th>Station</th>\n",
       "      <th>Stop</th>\n",
       "      <th>Traffic_Calming</th>\n",
       "      <th>Traffic_Signal</th>\n",
       "      <th>Turning_Loop</th>\n",
       "      <th>Sunrise_Sunset</th>\n",
       "      <th>Civil_Twilight</th>\n",
       "      <th>Nautical_Twilight</th>\n",
       "      <th>Astronomical_Twilight</th>\n",
       "    </tr>\n",
       "  </thead>\n",
       "  <tbody>\n",
       "    <tr>\n",
       "      <th>98138</th>\n",
       "      <td>A-2814738</td>\n",
       "      <td>3</td>\n",
       "      <td>2016-11-30 15:01:56</td>\n",
       "      <td>2016-11-30 21:01:56</td>\n",
       "      <td>33.662770</td>\n",
       "      <td>-111.999580</td>\n",
       "      <td>33.66622</td>\n",
       "      <td>-111.99952</td>\n",
       "      <td>0.238</td>\n",
       "      <td>At AZ-101-LOOP/Exit 15 - Accident.</td>\n",
       "      <td>...</td>\n",
       "      <td>False</td>\n",
       "      <td>False</td>\n",
       "      <td>False</td>\n",
       "      <td>False</td>\n",
       "      <td>False</td>\n",
       "      <td>False</td>\n",
       "      <td>Day</td>\n",
       "      <td>Day</td>\n",
       "      <td>Day</td>\n",
       "      <td>Day</td>\n",
       "    </tr>\n",
       "    <tr>\n",
       "      <th>98139</th>\n",
       "      <td>A-2814739</td>\n",
       "      <td>2</td>\n",
       "      <td>2016-11-30 15:19:52</td>\n",
       "      <td>2016-11-30 21:19:52</td>\n",
       "      <td>33.668760</td>\n",
       "      <td>-112.072750</td>\n",
       "      <td>33.66898</td>\n",
       "      <td>-112.05849</td>\n",
       "      <td>0.820</td>\n",
       "      <td>At 7th St/Exit 26 - Accident.</td>\n",
       "      <td>...</td>\n",
       "      <td>False</td>\n",
       "      <td>False</td>\n",
       "      <td>False</td>\n",
       "      <td>False</td>\n",
       "      <td>False</td>\n",
       "      <td>False</td>\n",
       "      <td>Day</td>\n",
       "      <td>Day</td>\n",
       "      <td>Day</td>\n",
       "      <td>Day</td>\n",
       "    </tr>\n",
       "    <tr>\n",
       "      <th>98141</th>\n",
       "      <td>A-2814741</td>\n",
       "      <td>2</td>\n",
       "      <td>2016-11-30 17:05:39</td>\n",
       "      <td>2016-11-30 23:05:39</td>\n",
       "      <td>33.484250</td>\n",
       "      <td>-112.113190</td>\n",
       "      <td>33.47491</td>\n",
       "      <td>-112.11320</td>\n",
       "      <td>0.645</td>\n",
       "      <td>At Thomas Rd/Exit 201 - Accident.</td>\n",
       "      <td>...</td>\n",
       "      <td>False</td>\n",
       "      <td>False</td>\n",
       "      <td>False</td>\n",
       "      <td>False</td>\n",
       "      <td>False</td>\n",
       "      <td>False</td>\n",
       "      <td>Day</td>\n",
       "      <td>Day</td>\n",
       "      <td>Day</td>\n",
       "      <td>Day</td>\n",
       "    </tr>\n",
       "    <tr>\n",
       "      <th>98142</th>\n",
       "      <td>A-2814742</td>\n",
       "      <td>2</td>\n",
       "      <td>2016-11-30 17:10:37</td>\n",
       "      <td>2016-11-30 23:10:37</td>\n",
       "      <td>33.295215</td>\n",
       "      <td>-111.972420</td>\n",
       "      <td>33.28853</td>\n",
       "      <td>-111.97132</td>\n",
       "      <td>0.466</td>\n",
       "      <td>At Chandler Blvd/Exit 160 - Accident.</td>\n",
       "      <td>...</td>\n",
       "      <td>False</td>\n",
       "      <td>False</td>\n",
       "      <td>False</td>\n",
       "      <td>False</td>\n",
       "      <td>False</td>\n",
       "      <td>False</td>\n",
       "      <td>Day</td>\n",
       "      <td>Day</td>\n",
       "      <td>Day</td>\n",
       "      <td>Day</td>\n",
       "    </tr>\n",
       "    <tr>\n",
       "      <th>98146</th>\n",
       "      <td>A-2814746</td>\n",
       "      <td>2</td>\n",
       "      <td>2016-11-30 18:28:58</td>\n",
       "      <td>2016-12-01 00:28:58</td>\n",
       "      <td>33.461900</td>\n",
       "      <td>-112.092145</td>\n",
       "      <td>33.46190</td>\n",
       "      <td>-112.09904</td>\n",
       "      <td>0.397</td>\n",
       "      <td>At 19th Ave/Exit 143C - Accident.</td>\n",
       "      <td>...</td>\n",
       "      <td>False</td>\n",
       "      <td>False</td>\n",
       "      <td>False</td>\n",
       "      <td>False</td>\n",
       "      <td>False</td>\n",
       "      <td>False</td>\n",
       "      <td>Night</td>\n",
       "      <td>Night</td>\n",
       "      <td>Night</td>\n",
       "      <td>Day</td>\n",
       "    </tr>\n",
       "    <tr>\n",
       "      <th>...</th>\n",
       "      <td>...</td>\n",
       "      <td>...</td>\n",
       "      <td>...</td>\n",
       "      <td>...</td>\n",
       "      <td>...</td>\n",
       "      <td>...</td>\n",
       "      <td>...</td>\n",
       "      <td>...</td>\n",
       "      <td>...</td>\n",
       "      <td>...</td>\n",
       "      <td>...</td>\n",
       "      <td>...</td>\n",
       "      <td>...</td>\n",
       "      <td>...</td>\n",
       "      <td>...</td>\n",
       "      <td>...</td>\n",
       "      <td>...</td>\n",
       "      <td>...</td>\n",
       "      <td>...</td>\n",
       "      <td>...</td>\n",
       "      <td>...</td>\n",
       "    </tr>\n",
       "    <tr>\n",
       "      <th>1515761</th>\n",
       "      <td>A-4239104</td>\n",
       "      <td>3</td>\n",
       "      <td>2019-08-23 16:58:31</td>\n",
       "      <td>2019-08-23 17:26:11</td>\n",
       "      <td>41.815300</td>\n",
       "      <td>-87.630480</td>\n",
       "      <td>41.81212</td>\n",
       "      <td>-87.63042</td>\n",
       "      <td>0.220</td>\n",
       "      <td>At 47th St/Exit 56B - Accident.</td>\n",
       "      <td>...</td>\n",
       "      <td>False</td>\n",
       "      <td>False</td>\n",
       "      <td>False</td>\n",
       "      <td>False</td>\n",
       "      <td>False</td>\n",
       "      <td>False</td>\n",
       "      <td>Day</td>\n",
       "      <td>Day</td>\n",
       "      <td>Day</td>\n",
       "      <td>Day</td>\n",
       "    </tr>\n",
       "    <tr>\n",
       "      <th>1515762</th>\n",
       "      <td>A-4239105</td>\n",
       "      <td>3</td>\n",
       "      <td>2019-08-23 16:03:57</td>\n",
       "      <td>2019-08-23 16:33:31</td>\n",
       "      <td>41.715130</td>\n",
       "      <td>-87.630040</td>\n",
       "      <td>41.71499</td>\n",
       "      <td>-87.63090</td>\n",
       "      <td>0.045</td>\n",
       "      <td>At I-57/Exit 63 - Accident. unconfirmed report.</td>\n",
       "      <td>...</td>\n",
       "      <td>False</td>\n",
       "      <td>False</td>\n",
       "      <td>False</td>\n",
       "      <td>False</td>\n",
       "      <td>False</td>\n",
       "      <td>False</td>\n",
       "      <td>Day</td>\n",
       "      <td>Day</td>\n",
       "      <td>Day</td>\n",
       "      <td>Day</td>\n",
       "    </tr>\n",
       "    <tr>\n",
       "      <th>1515763</th>\n",
       "      <td>A-4239106</td>\n",
       "      <td>3</td>\n",
       "      <td>2019-08-23 16:03:57</td>\n",
       "      <td>2019-08-23 16:33:31</td>\n",
       "      <td>41.943350</td>\n",
       "      <td>-87.716690</td>\n",
       "      <td>41.94859</td>\n",
       "      <td>-87.72162</td>\n",
       "      <td>0.442</td>\n",
       "      <td>At Addison St/Exit 45A - Accident.</td>\n",
       "      <td>...</td>\n",
       "      <td>False</td>\n",
       "      <td>False</td>\n",
       "      <td>False</td>\n",
       "      <td>False</td>\n",
       "      <td>False</td>\n",
       "      <td>False</td>\n",
       "      <td>Day</td>\n",
       "      <td>Day</td>\n",
       "      <td>Day</td>\n",
       "      <td>Day</td>\n",
       "    </tr>\n",
       "    <tr>\n",
       "      <th>1515764</th>\n",
       "      <td>A-4239107</td>\n",
       "      <td>3</td>\n",
       "      <td>2019-08-23 16:03:57</td>\n",
       "      <td>2019-08-23 16:33:31</td>\n",
       "      <td>41.718620</td>\n",
       "      <td>-87.625210</td>\n",
       "      <td>41.71513</td>\n",
       "      <td>-87.63004</td>\n",
       "      <td>0.347</td>\n",
       "      <td>Ramp to I-57 Southbound - Accident. unconfirme...</td>\n",
       "      <td>...</td>\n",
       "      <td>False</td>\n",
       "      <td>False</td>\n",
       "      <td>False</td>\n",
       "      <td>False</td>\n",
       "      <td>False</td>\n",
       "      <td>False</td>\n",
       "      <td>Day</td>\n",
       "      <td>Day</td>\n",
       "      <td>Day</td>\n",
       "      <td>Day</td>\n",
       "    </tr>\n",
       "    <tr>\n",
       "      <th>1515776</th>\n",
       "      <td>A-4239119</td>\n",
       "      <td>3</td>\n",
       "      <td>2019-08-23 20:54:19</td>\n",
       "      <td>2019-08-23 21:23:54</td>\n",
       "      <td>41.783460</td>\n",
       "      <td>-87.630600</td>\n",
       "      <td>41.79887</td>\n",
       "      <td>-87.63087</td>\n",
       "      <td>1.065</td>\n",
       "      <td>Between 59th St/Exit 58A and Garfield Blvd/Exi...</td>\n",
       "      <td>...</td>\n",
       "      <td>False</td>\n",
       "      <td>False</td>\n",
       "      <td>False</td>\n",
       "      <td>False</td>\n",
       "      <td>False</td>\n",
       "      <td>False</td>\n",
       "      <td>Night</td>\n",
       "      <td>Night</td>\n",
       "      <td>Night</td>\n",
       "      <td>Day</td>\n",
       "    </tr>\n",
       "  </tbody>\n",
       "</table>\n",
       "<p>90421 rows × 47 columns</p>\n",
       "</div>"
      ],
      "text/plain": [
       "                ID  Severity           Start_Time             End_Time  \\\n",
       "98138    A-2814738         3  2016-11-30 15:01:56  2016-11-30 21:01:56   \n",
       "98139    A-2814739         2  2016-11-30 15:19:52  2016-11-30 21:19:52   \n",
       "98141    A-2814741         2  2016-11-30 17:05:39  2016-11-30 23:05:39   \n",
       "98142    A-2814742         2  2016-11-30 17:10:37  2016-11-30 23:10:37   \n",
       "98146    A-2814746         2  2016-11-30 18:28:58  2016-12-01 00:28:58   \n",
       "...            ...       ...                  ...                  ...   \n",
       "1515761  A-4239104         3  2019-08-23 16:58:31  2019-08-23 17:26:11   \n",
       "1515762  A-4239105         3  2019-08-23 16:03:57  2019-08-23 16:33:31   \n",
       "1515763  A-4239106         3  2019-08-23 16:03:57  2019-08-23 16:33:31   \n",
       "1515764  A-4239107         3  2019-08-23 16:03:57  2019-08-23 16:33:31   \n",
       "1515776  A-4239119         3  2019-08-23 20:54:19  2019-08-23 21:23:54   \n",
       "\n",
       "         Start_Lat   Start_Lng   End_Lat    End_Lng  Distance(mi)  \\\n",
       "98138    33.662770 -111.999580  33.66622 -111.99952         0.238   \n",
       "98139    33.668760 -112.072750  33.66898 -112.05849         0.820   \n",
       "98141    33.484250 -112.113190  33.47491 -112.11320         0.645   \n",
       "98142    33.295215 -111.972420  33.28853 -111.97132         0.466   \n",
       "98146    33.461900 -112.092145  33.46190 -112.09904         0.397   \n",
       "...            ...         ...       ...        ...           ...   \n",
       "1515761  41.815300  -87.630480  41.81212  -87.63042         0.220   \n",
       "1515762  41.715130  -87.630040  41.71499  -87.63090         0.045   \n",
       "1515763  41.943350  -87.716690  41.94859  -87.72162         0.442   \n",
       "1515764  41.718620  -87.625210  41.71513  -87.63004         0.347   \n",
       "1515776  41.783460  -87.630600  41.79887  -87.63087         1.065   \n",
       "\n",
       "                                               Description  ...  Roundabout  \\\n",
       "98138                   At AZ-101-LOOP/Exit 15 - Accident.  ...       False   \n",
       "98139                        At 7th St/Exit 26 - Accident.  ...       False   \n",
       "98141                    At Thomas Rd/Exit 201 - Accident.  ...       False   \n",
       "98142                At Chandler Blvd/Exit 160 - Accident.  ...       False   \n",
       "98146                    At 19th Ave/Exit 143C - Accident.  ...       False   \n",
       "...                                                    ...  ...         ...   \n",
       "1515761                    At 47th St/Exit 56B - Accident.  ...       False   \n",
       "1515762    At I-57/Exit 63 - Accident. unconfirmed report.  ...       False   \n",
       "1515763                 At Addison St/Exit 45A - Accident.  ...       False   \n",
       "1515764  Ramp to I-57 Southbound - Accident. unconfirme...  ...       False   \n",
       "1515776  Between 59th St/Exit 58A and Garfield Blvd/Exi...  ...       False   \n",
       "\n",
       "        Station   Stop Traffic_Calming Traffic_Signal Turning_Loop  \\\n",
       "98138     False  False           False          False        False   \n",
       "98139     False  False           False          False        False   \n",
       "98141     False  False           False          False        False   \n",
       "98142     False  False           False          False        False   \n",
       "98146     False  False           False          False        False   \n",
       "...         ...    ...             ...            ...          ...   \n",
       "1515761   False  False           False          False        False   \n",
       "1515762   False  False           False          False        False   \n",
       "1515763   False  False           False          False        False   \n",
       "1515764   False  False           False          False        False   \n",
       "1515776   False  False           False          False        False   \n",
       "\n",
       "        Sunrise_Sunset Civil_Twilight Nautical_Twilight Astronomical_Twilight  \n",
       "98138              Day            Day               Day                   Day  \n",
       "98139              Day            Day               Day                   Day  \n",
       "98141              Day            Day               Day                   Day  \n",
       "98142              Day            Day               Day                   Day  \n",
       "98146            Night          Night             Night                   Day  \n",
       "...                ...            ...               ...                   ...  \n",
       "1515761            Day            Day               Day                   Day  \n",
       "1515762            Day            Day               Day                   Day  \n",
       "1515763            Day            Day               Day                   Day  \n",
       "1515764            Day            Day               Day                   Day  \n",
       "1515776          Night          Night             Night                   Day  \n",
       "\n",
       "[90421 rows x 47 columns]"
      ]
     },
     "metadata": {},
     "output_type": "display_data"
    }
   ],
   "source": [
    "# Create a copy of the df\n",
    "accidents_df_isolated = accidents_df_original.copy()\n",
    "\n",
    "# Isolate city state\n",
    "city_list = preprocessing_config['city_list']\n",
    "state_list = preprocessing_config['state_list']\n",
    "accidents_df_isolated = pre.isolate_city_state(accidents_df_isolated, city_list, state_list)\n",
    "display(accidents_df_isolated)"
   ]
  },
  {
   "cell_type": "code",
   "execution_count": null,
   "metadata": {
    "ExecuteTime": {
     "start_time": "2021-12-05T04:02:31.847Z"
    },
    "colab": {
     "base_uri": "https://localhost:8080/"
    },
    "executionInfo": {
     "elapsed": 300512,
     "status": "ok",
     "timestamp": 1638500232408,
     "user": {
      "displayName": "Russ Limber",
      "photoUrl": "https://lh3.googleusercontent.com/a-/AOh14GjVCA_-hfKaFHpjY_rEdi0DyGLz9edk8UTTu5Dm=s64",
      "userId": "08747094657326517311"
     },
     "user_tz": 300
    },
    "id": "iRzRvtxY_R40",
    "outputId": "c500968f-15b0-460d-ddd5-555e926a5f94"
   },
   "outputs": [
    {
     "name": "stderr",
     "output_type": "stream",
     "text": [
      "2021-12-04 23:02:59 Preprocessing INFO     \u001b[1m\u001b[32m                                 OLS Regression Results                                \n",
      "=======================================================================================\n",
      "Dep. Variable:                      y   R-squared (uncentered):                   0.999\n",
      "Model:                            OLS   Adj. R-squared (uncentered):              0.999\n",
      "Method:                 Least Squares   F-statistic:                          2.042e+07\n",
      "Date:                Sat, 04 Dec 2021   Prob (F-statistic):                        0.00\n",
      "Time:                        23:02:58   Log-Likelihood:                     -1.2984e+05\n",
      "No. Observations:               56661   AIC:                                  2.597e+05\n",
      "Df Residuals:                   56659   BIC:                                  2.597e+05\n",
      "Df Model:                           2                                                  \n",
      "Covariance Type:            nonrobust                                                  \n",
      "===================================================================================\n",
      "                      coef    std err          t      P>|t|      [0.025      0.975]\n",
      "-----------------------------------------------------------------------------------\n",
      "Temperature(F)      1.0178      0.000   4644.886      0.000       1.017       1.018\n",
      "Wind_Speed(mph)    -0.3023      0.002   -164.445      0.000      -0.306      -0.299\n",
      "==============================================================================\n",
      "Omnibus:                    19081.525   Durbin-Watson:                   0.497\n",
      "Prob(Omnibus):                  0.000   Jarque-Bera (JB):           103607.354\n",
      "Skew:                          -1.528   Prob(JB):                         0.00\n",
      "Kurtosis:                       8.877   Cond. No.                         11.9\n",
      "==============================================================================\n",
      "\n",
      "Notes:\n",
      "[1] R² is computed without centering (uncentered) since the model does not contain a constant.\n",
      "[2] Standard Errors assume that the covariance matrix of the errors is correctly specified.\u001b[0m\n"
     ]
    },
    {
     "name": "stdout",
     "output_type": "stream",
     "text": [
      "Percent of missing rows by column \n",
      "\n",
      " Weather_Timestamp        0.007985\n",
      "Temperature(F)           0.010175\n",
      "Wind_Chill(F)            0.373365\n",
      "Humidity(%)              0.010639\n",
      "Pressure(in)             0.010352\n",
      "Visibility(mi)           0.009920\n",
      "Wind_Direction           0.017584\n",
      "Wind_Speed(mph)          0.103427\n",
      "Precipitation(in)        0.376229\n",
      "Weather_Condition        0.009721\n",
      "Sunrise_Sunset           0.000000\n",
      "Civil_Twilight           0.000000\n",
      "Nautical_Twilight        0.000000\n",
      "Astronomical_Twilight    0.000000\n",
      "dtype: float64\n",
      "Percent of missing rows by column \n",
      "\n",
      " Weather_Timestamp        0.007985\n",
      "Temperature(F)           0.010175\n",
      "Wind_Chill(F)            0.373365\n",
      "Humidity(%)              0.010639\n",
      "Pressure(in)             0.010352\n",
      "Visibility(mi)           0.009920\n",
      "Wind_Direction           0.017584\n",
      "Wind_Speed(mph)          0.103427\n",
      "Precipitation(in)        0.376229\n",
      "Weather_Condition        0.009721\n",
      "Sunrise_Sunset           0.000000\n",
      "Civil_Twilight           0.000000\n",
      "Nautical_Twilight        0.000000\n",
      "Astronomical_Twilight    0.000000\n",
      "Wind_Temp                0.103969\n",
      "dtype: float64\n"
     ]
    }
   ],
   "source": [
    "### --- Russ's Code --- ###\n",
    "\n",
    "# Create a copy of the df\n",
    "accidents_df_russ = accidents_df_isolated.copy()\n",
    "\n",
    "env_vars = preprocessing_config['env_vars']\n",
    "accidents_df_russ = pre.subset_df(accidents_df_russ, env_vars)\n",
    "\n",
    "print('Percent of missing rows by column', '\\n\\n', accidents_df_russ.isnull().sum()/len(accidents_df_russ))\n",
    "\n",
    "temp_wind = pre.subset_df(accidents_df_russ, ['Temperature(F)', 'Wind_Speed(mph)'])\n",
    "pre.OLS(temp_wind, np.array(accidents_df_russ['Wind_Chill(F)']))\n",
    "\n",
    "accidents_df_russ[\"Wind_Temp\"] = accidents_df_russ['Wind_Chill(F)'].fillna((accidents_df_russ['Temperature(F)']*1.0178 - accidents_df_russ['Wind_Speed(mph)']*0.3023))\n",
    "\n",
    "print('Percent of missing rows by column', '\\n\\n', accidents_df_russ.isnull().sum()/len(accidents_df_russ))\n",
    "accidents_df_russ.drop(\"Wind_Chill(F)\", axis=1)\n",
    "\n",
    "accidents_df_russ = pre.knn_imputer(accidents_df_russ, 3)\n",
    "accidents_df_russ = pre.basic_impute(accidents_df_russ)\n",
    "\n",
    "#print('Percent of missing rows by column', '\\n\\n', accidents_df_russ.isnull().sum()/len(accidents_df_russ))\n"
   ]
  },
  {
   "cell_type": "code",
   "execution_count": null,
   "metadata": {
    "ExecuteTime": {
     "start_time": "2021-12-05T04:02:32.012Z"
    },
    "colab": {
     "base_uri": "https://localhost:8080/"
    },
    "executionInfo": {
     "elapsed": 1933,
     "status": "ok",
     "timestamp": 1638500292395,
     "user": {
      "displayName": "Russ Limber",
      "photoUrl": "https://lh3.googleusercontent.com/a-/AOh14GjVCA_-hfKaFHpjY_rEdi0DyGLz9edk8UTTu5Dm=s64",
      "userId": "08747094657326517311"
     },
     "user_tz": 300
    },
    "id": "1GHd-p-6_R40",
    "outputId": "925afbc9-b2c3-4d97-8193-d71bc297c180"
   },
   "outputs": [],
   "source": [
    "### --- Sanjeev's Code --- ###\n",
    "\n",
    "# Create a copy of the df\n",
    "accidents_df_sanjeev = accidents_df_isolated.copy()\n",
    "\n",
    "# Filter the infra variables\n",
    "infra_vars = preprocessing_config['infra_vars']\n",
    "accidents_df_infra = accidents_df_isolated[infra_vars].copy()\n",
    "\n",
    "# Filter location and basic variables\n",
    "accidents_df_sanjeev = pre.filter_loc_basic_var(accidents_df_sanjeev)\n",
    "\n",
    "# Combine all Russ, Sanjeev, and Infra DF\n",
    "X_raw = pd.concat([accidents_df_russ, accidents_df_sanjeev, accidents_df_infra], axis=1)\n",
    "print('X_raw: Number of missing rows by column', '\\n', X_raw.isnull().sum())\n",
    "\n",
    "# Standardize, Encode, Extract and Split Train/Test\n",
    "X_train, X_val, X_test, y_train, y_val, y_test = encode_std_extract_split(X_raw)"
   ]
  },
  {
   "cell_type": "markdown",
   "metadata": {
    "id": "lI2avh0G_R41"
   },
   "source": [
    "\n",
    "\n",
    "\n",
    "### PCA"
   ]
  },
  {
   "cell_type": "code",
   "execution_count": null,
   "metadata": {
    "ExecuteTime": {
     "start_time": "2021-12-05T04:02:33.853Z"
    },
    "code_folding": [
     0
    ],
    "colab": {
     "base_uri": "https://localhost:8080/"
    },
    "executionInfo": {
     "elapsed": 1366,
     "status": "ok",
     "timestamp": 1638500300329,
     "user": {
      "displayName": "Russ Limber",
      "photoUrl": "https://lh3.googleusercontent.com/a-/AOh14GjVCA_-hfKaFHpjY_rEdi0DyGLz9edk8UTTu5Dm=s64",
      "userId": "08747094657326517311"
     },
     "user_tz": 300
    },
    "id": "dWT86ui6_R42",
    "outputId": "a4b013e1-a15b-4578-a3fd-fa11b286f128"
   },
   "outputs": [],
   "source": [
    "### --- Kostas's Code --- ###\n",
    "\n",
    "# Create a copy of the dfs\n",
    "X_train_PCA = X_train.copy()\n",
    "X_val_PCA = X_val.copy()\n",
    "X_test_PCA = X_test.copy()\n",
    "\n",
    "# Retrieve Numerical Columns\n",
    "numerical_cols = X_train_PCA.describe().columns\n",
    "print(\"Number of columns to reduce using PCA (only numerical ones): \", len(numerical_cols))\n",
    "\n",
    "# Check for Nulls\n",
    "print(\"\\nNull values per column:\")\n",
    "print(X_train_PCA[numerical_cols].isna().sum())\n",
    "\n",
    "# Export to Numpy\n",
    "X_train_PCA_np = X_train_PCA[numerical_cols].to_numpy()\n",
    "X_val_PCA_np = X_val_PCA[numerical_cols].to_numpy()\n",
    "X_test_PCA_np = X_test_PCA[numerical_cols].to_numpy()\n",
    "print(\"\\nType of exported Numpy array: \", X_train_PCA_np.dtype)\n",
    "\n",
    "# Run PCA\n",
    "pca = pre.PCA()\n",
    "pca.fit(data=X_train_PCA_np, max_error=0.01)\n",
    "X_train_PCA_np = pca.transform(data=X_train_PCA_np)\n",
    "X_val_PCA_np = pca.transform(data=X_val_PCA_np)\n",
    "X_test_PCA_np = pca.transform(data=X_test_PCA_np)\n",
    "\n",
    "# Drop the reduces columns from DF\n",
    "X_train_PCA = X_train_PCA.drop(numerical_cols, axis=1)\n",
    "X_val_PCA = X_val_PCA.drop(numerical_cols, axis=1)\n",
    "X_test_PCA = X_test_PCA.drop(numerical_cols, axis=1)\n",
    "\n",
    "# Add the new (reduced) columns to the Dataframe\n",
    "num_new_cols = X_train_PCA_np.shape[1]\n",
    "new_col_names = [f\"PCA_{ind}\" for ind in range(num_new_cols)]\n",
    "X_train_PCA[new_col_names] = X_train_PCA_np\n",
    "X_val_PCA[new_col_names] = X_val_PCA_np\n",
    "X_test_PCA[new_col_names] = X_test_PCA_np\n",
    "\n",
    "# Print New columns\n",
    "print(\"\\nNumber of columns (after PCA): \", len(X_train_PCA.describe().columns))\n",
    "print(\"\\nColumns: \", X_train_PCA.columns)"
   ]
  },
  {
   "cell_type": "markdown",
   "metadata": {
    "id": "LF2TpLm6_R43"
   },
   "source": [
    "## Prepare Models"
   ]
  },
  {
   "cell_type": "code",
   "execution_count": null,
   "metadata": {
    "ExecuteTime": {
     "start_time": "2021-12-05T04:02:36.064Z"
    },
    "executionInfo": {
     "elapsed": 249,
     "status": "ok",
     "timestamp": 1638500305024,
     "user": {
      "displayName": "Russ Limber",
      "photoUrl": "https://lh3.googleusercontent.com/a-/AOh14GjVCA_-hfKaFHpjY_rEdi0DyGLz9edk8UTTu5Dm=s64",
      "userId": "08747094657326517311"
     },
     "user_tz": 300
    },
    "id": "q3FaU-mm_R43"
   },
   "outputs": [],
   "source": [
    "from project_libs.project import models"
   ]
  },
  {
   "cell_type": "code",
   "execution_count": null,
   "metadata": {
    "ExecuteTime": {
     "start_time": "2021-12-05T04:02:36.739Z"
    },
    "code_folding": [],
    "executionInfo": {
     "elapsed": 6,
     "status": "aborted",
     "timestamp": 1638499851953,
     "user": {
      "displayName": "Russ Limber",
      "photoUrl": "https://lh3.googleusercontent.com/a-/AOh14GjVCA_-hfKaFHpjY_rEdi0DyGLz9edk8UTTu5Dm=s64",
      "userId": "08747094657326517311"
     },
     "user_tz": 300
    },
    "id": "HoI30maV-qiV",
    "scrolled": true
   },
   "outputs": [],
   "source": [
    "# Export to Numpy\n",
    "# Train set PCA and non-PCA\n",
    "X_train_PCA_np = X_train_PCA.to_numpy()\n",
    "X_train_PCA_TVT = X_train_PCA.loc[:, X_train_PCA.columns!='PCA_15'].copy().reset_index(drop=True)\n",
    "X_train_PCA_TVT_np = X_train_PCA_TVT.to_numpy()\n",
    "X_train_np = X_train.to_numpy()\n",
    "y_train_np = y_train.to_numpy()\n",
    "y_train_onehot_np = pre.one_hot_encode(y_train_np)\n",
    "# Test set PCA and non-PCA\n",
    "X_test_PCA_np = X_test_PCA.to_numpy()\n",
    "X_test_PCA_TVT = X_test_PCA.loc[:, X_test_PCA.columns!='PCA_15'].copy().reset_index(drop=True)\n",
    "X_test_PCA_TVT_np = X_test_PCA_TVT.to_numpy()\n",
    "X_test_np = X_test.to_numpy()\n",
    "y_test_np = y_test.to_numpy()\n",
    "y_test_onehot_np = pre.one_hot_encode(y_test_np)\n",
    "# Validation set PCA and non-PCA\n",
    "X_val_PCA_np = X_val_PCA.to_numpy()\n",
    "X_val_PCA_TVT = X_val_PCA.loc[:, X_val_PCA.columns!='PCA_15'].copy().reset_index(drop=True)\n",
    "X_val_PCA_TVT_np = X_val_PCA_TVT.to_numpy()\n",
    "X_val_np = X_val.to_numpy()\n",
    "y_val_np = y_val.to_numpy()\n",
    "y_val_onehot_np = pre.one_hot_encode(y_val_np)\n",
    "# Unique classes\n",
    "num_classes = np.unique(y_train_np).astype(int).shape[0]"
   ]
  },
  {
   "cell_type": "markdown",
   "metadata": {
    "id": "wu9ePfp3_R44"
   },
   "source": [
    "## Hyperparameter Tuning"
   ]
  },
  {
   "cell_type": "markdown",
   "metadata": {
    "heading_collapsed": true,
    "id": "77oc9Fts_R45"
   },
   "source": [
    "### 1. Tune KMeans"
   ]
  },
  {
   "cell_type": "code",
   "execution_count": null,
   "metadata": {
    "ExecuteTime": {
     "end_time": "2021-12-02T02:37:27.574832Z",
     "start_time": "2021-12-02T02:37:20.449041Z"
    },
    "executionInfo": {
     "elapsed": 6,
     "status": "aborted",
     "timestamp": 1638499851953,
     "user": {
      "displayName": "Russ Limber",
      "photoUrl": "https://lh3.googleusercontent.com/a-/AOh14GjVCA_-hfKaFHpjY_rEdi0DyGLz9edk8UTTu5Dm=s64",
      "userId": "08747094657326517311"
     },
     "user_tz": 300
    },
    "hidden": true,
    "id": "j7AggZZr-qiV"
   },
   "outputs": [],
   "source": [
    "distances = ['cityblock', 'correlation', 'cosine','euclidean']\n",
    "\n",
    "# Prepare Training Data\n",
    "X_train_PCA_TVT = X_train_PCA.loc[:, X_train_PCA.columns!='PCA_15'].copy()\n",
    "X_train_PCA_TVT.reset_index(drop=True)\n",
    "X_train_PCA_TVT = X_train_PCA_TVT.to_numpy()\n",
    "\n",
    "# Prepare Validation Data\n",
    "X_val_PCA_TVT = X_val_PCA.loc[:, X_val_PCA.columns!='PCA_15'].copy()\n",
    "X_val_PCA_TVT.reset_index(drop=True)\n",
    "X_val_PCA_TVT = X_val_PCA_TVT.to_numpy()\n",
    "\n",
    "print(\"======================================\")\n",
    "print(f\"\\033[1mKMeans Tuning Results \\033[0m\")\n",
    "print(\"======================================\")\n",
    "# Compute overall accuracy on validation dataset\n",
    "for d in distances:\n",
    "    km = models.kmeans(X_train_PCA_TVT, dist=d)\n",
    "    km.fit()\n",
    "    y_pred = km.predict(X_val_PCA_TVT, y_val)\n",
    "    score = models.accuracy_score(y_pred, y_val)\n",
    "    print(f\"Distance Function: {d} \\t Overall Accuracy: {round(100*score, 2)} %\")\n",
    "    \n",
    "# Cosine is giving the highest overall accuracy"
   ]
  },
  {
   "cell_type": "markdown",
   "metadata": {
    "heading_collapsed": true,
    "id": "mxoVy6Oc-qiV"
   },
   "source": [
    "### 2. Tune SVM"
   ]
  },
  {
   "cell_type": "code",
   "execution_count": null,
   "metadata": {
    "ExecuteTime": {
     "end_time": "2021-12-02T03:04:25.034083Z",
     "start_time": "2021-12-02T02:37:27.575819Z"
    },
    "executionInfo": {
     "elapsed": 6,
     "status": "aborted",
     "timestamp": 1638499851953,
     "user": {
      "displayName": "Russ Limber",
      "photoUrl": "https://lh3.googleusercontent.com/a-/AOh14GjVCA_-hfKaFHpjY_rEdi0DyGLz9edk8UTTu5Dm=s64",
      "userId": "08747094657326517311"
     },
     "user_tz": 300
    },
    "hidden": true,
    "id": "DCSWY7V4-qiV"
   },
   "outputs": [],
   "source": [
    "# parameters = [{'kernel': ['rbf'], 'gamma': [1e-3, 1e-4],\n",
    "#                      'C': [1, 10, 100, 1000]},\n",
    "#               {'kernel': ['linear'], 'C': [1, 10, 100, 1000]}]\n",
    "\n",
    "parameters = [{'kernel': ['linear'], 'C': [1, 10, 100, 1000], 'gamma':['NA']}]\n",
    "\n",
    "print(\"======================================\")\n",
    "print(f\"\\033[1mSVM Tuning Results \\033[0m\")\n",
    "print(\"======================================\")\n",
    "for param in parameters:\n",
    "    for k in param['kernel']:\n",
    "        for g in param['gamma']:\n",
    "            for c in param['C']:\n",
    "                if g != 'NA':\n",
    "                    clf = models.SVC(C=c, kernel=k, gamma=g)\n",
    "                else:\n",
    "                    clf = models.SVC(C=c, kernel=k)\n",
    "                    \n",
    "                clf.fit(X_train_PCA_TVT, y_train)\n",
    "                y_pred = clf.predict(X_val_PCA_TVT)\n",
    "                score = models.accuracy_score(y_pred, y_val)\n",
    "                f1_s = models.f1_score(y_true, y_val)\n",
    "                print(f\"Kernel: {k} \\t Gamma: {g} \\t C: {c} \\t Accuracy: {round(100*score, 2)}% F1 Score: {f1_s}\")\n",
    "                \n",
    "\"\"\"\n",
    "Kernel: rbf \t Gamma: 0.001 \t C: 1      Accuracy: 81.49 *\n",
    "Kernel: rbf \t Gamma: 0.001 \t C: 10     Accuracy: 81.61 *\n",
    "Kernel: rbf \t Gamma: 0.001 \t C: 100    Accuracy: 81.70 *\n",
    "Kernel: rbf \t Gamma: 0.001 \t C: 1000   Accuracy: 82.16 *\n",
    "Kernel: rbf \t Gamma: 0.0001 \t C: 1      Accuracy: 81.51 *\n",
    "Kernel: rbf \t Gamma: 0.0001 \t C: 10     Accuracy: 81.51 *\n",
    "Kernel: rbf \t Gamma: 0.0001 \t C: 100    Accuracy: 81.56 *\n",
    "Kernel: rbf \t Gamma: 0.0001 \t C: 1000   Accuracy: 81.62 *\n",
    "\"\"\"\n",
    "\n",
    "## Need to update results for Linear kernel which is taking a lot of time"
   ]
  },
  {
   "cell_type": "markdown",
   "metadata": {
    "heading_collapsed": true,
    "id": "7vkzvBGQ-qiW"
   },
   "source": [
    "### 3. Tune Bayesian"
   ]
  },
  {
   "cell_type": "code",
   "execution_count": 33,
   "metadata": {
    "ExecuteTime": {
     "end_time": "2021-12-03T22:12:30.829221Z",
     "start_time": "2021-12-03T22:10:00.918679Z"
    },
    "code_folding": [],
    "executionInfo": {
     "elapsed": 6,
     "status": "aborted",
     "timestamp": 1638499851953,
     "user": {
      "displayName": "Russ Limber",
      "photoUrl": "https://lh3.googleusercontent.com/a-/AOh14GjVCA_-hfKaFHpjY_rEdi0DyGLz9edk8UTTu5Dm=s64",
      "userId": "08747094657326517311"
     },
     "user_tz": 300
    },
    "hidden": true,
    "id": "l04HEq2G-qiW"
   },
   "outputs": [
    {
     "name": "stderr",
     "output_type": "stream",
     "text": [
      "non-PCA val dataset - priors(0.4352 , 0.5648) - quadratic:   0%|          | 0/100 [02:29<?, ?it/s]  \n"
     ]
    },
    {
     "ename": "FloatingPointError",
     "evalue": "divide by zero encountered in log",
     "output_type": "error",
     "traceback": [
      "\u001b[0;31m---------------------------------------------------------------------------\u001b[0m",
      "\u001b[0;31mFloatingPointError\u001b[0m                        Traceback (most recent call last)",
      "\u001b[0;32m~/Insync/delfinas7kostas@gmail.com/Google Drive/Projects/UTK/accident-severity-detection-prediction/project_libs/project/models.py\u001b[0m in \u001b[0;36m_build_g_quadratic\u001b[0;34m(self, sample, n_class, priors)\u001b[0m\n\u001b[1;32m    149\u001b[0m         \u001b[0;32mtry\u001b[0m\u001b[0;34m:\u001b[0m\u001b[0;34m\u001b[0m\u001b[0;34m\u001b[0m\u001b[0m\n\u001b[0;32m--> 150\u001b[0;31m             \u001b[0msecond_term\u001b[0m \u001b[0;34m=\u001b[0m \u001b[0;34m-\u001b[0m\u001b[0;34m(\u001b[0m\u001b[0;36m1\u001b[0m \u001b[0;34m/\u001b[0m \u001b[0;36m2\u001b[0m\u001b[0;34m)\u001b[0m \u001b[0;34m*\u001b[0m \u001b[0mnp\u001b[0m\u001b[0;34m.\u001b[0m\u001b[0mlog\u001b[0m\u001b[0;34m(\u001b[0m\u001b[0mnp\u001b[0m\u001b[0;34m.\u001b[0m\u001b[0mlinalg\u001b[0m\u001b[0;34m.\u001b[0m\u001b[0mdet\u001b[0m\u001b[0;34m(\u001b[0m\u001b[0mcurrent_covs\u001b[0m\u001b[0;34m)\u001b[0m\u001b[0;34m)\u001b[0m\u001b[0;34m\u001b[0m\u001b[0;34m\u001b[0m\u001b[0m\n\u001b[0m\u001b[1;32m    151\u001b[0m         \u001b[0;32mexcept\u001b[0m \u001b[0mException\u001b[0m \u001b[0;32mas\u001b[0m \u001b[0me\u001b[0m\u001b[0;34m:\u001b[0m\u001b[0;34m\u001b[0m\u001b[0;34m\u001b[0m\u001b[0m\n",
      "\u001b[0;31mFloatingPointError\u001b[0m: divide by zero encountered in log",
      "\nDuring handling of the above exception, another exception occurred:\n",
      "\u001b[0;31mFloatingPointError\u001b[0m                        Traceback (most recent call last)",
      "\u001b[0;32m/var/folders/t2/m3k1zxzn3ml89m89sc02b7_80000gn/T/ipykernel_72606/3856689133.py\u001b[0m in \u001b[0;36m<module>\u001b[0;34m\u001b[0m\n\u001b[1;32m     20\u001b[0m             \u001b[0mprint_name\u001b[0m \u001b[0;34m=\u001b[0m \u001b[0;34mf\"{data_name} - priors({priors[0]:.4f} , {priors[1]:.4f}) - {case}\"\u001b[0m\u001b[0;34m\u001b[0m\u001b[0;34m\u001b[0m\u001b[0m\n\u001b[1;32m     21\u001b[0m             \u001b[0mpriors_iter\u001b[0m\u001b[0;34m.\u001b[0m\u001b[0mset_description\u001b[0m\u001b[0;34m(\u001b[0m\u001b[0mprint_name\u001b[0m\u001b[0;34m)\u001b[0m\u001b[0;34m\u001b[0m\u001b[0;34m\u001b[0m\u001b[0m\n\u001b[0;32m---> 22\u001b[0;31m             \u001b[0mbayesian_case\u001b[0m\u001b[0;34m.\u001b[0m\u001b[0mpredict\u001b[0m\u001b[0;34m(\u001b[0m\u001b[0mmtype\u001b[0m\u001b[0;34m=\u001b[0m\u001b[0mcase\u001b[0m\u001b[0;34m,\u001b[0m \u001b[0mpriors\u001b[0m\u001b[0;34m=\u001b[0m\u001b[0mpriors\u001b[0m\u001b[0;34m)\u001b[0m\u001b[0;34m\u001b[0m\u001b[0;34m\u001b[0m\u001b[0m\n\u001b[0m\u001b[1;32m     23\u001b[0m             \u001b[0maccuracy\u001b[0m\u001b[0;34m,\u001b[0m \u001b[0mclasswise_accuracy\u001b[0m\u001b[0;34m,\u001b[0m \u001b[0mprediction_time\u001b[0m \u001b[0;34m=\u001b[0m \u001b[0mbayesian_case\u001b[0m\u001b[0;34m.\u001b[0m\u001b[0mget_statistics\u001b[0m\u001b[0;34m(\u001b[0m\u001b[0mcase\u001b[0m\u001b[0;34m)\u001b[0m\u001b[0;34m\u001b[0m\u001b[0;34m\u001b[0m\u001b[0m\n\u001b[1;32m     24\u001b[0m             \u001b[0mtp\u001b[0m\u001b[0;34m,\u001b[0m \u001b[0mfn\u001b[0m\u001b[0;34m,\u001b[0m \u001b[0mfp\u001b[0m\u001b[0;34m,\u001b[0m \u001b[0mtn\u001b[0m \u001b[0;34m=\u001b[0m \u001b[0mbayesian_case\u001b[0m\u001b[0;34m.\u001b[0m\u001b[0mget_confusion_matrix\u001b[0m\u001b[0;34m(\u001b[0m\u001b[0mcase\u001b[0m\u001b[0;34m)\u001b[0m\u001b[0;34m\u001b[0m\u001b[0;34m\u001b[0m\u001b[0m\n",
      "\u001b[0;32m~/Insync/delfinas7kostas@gmail.com/Google Drive/Projects/UTK/accident-severity-detection-prediction/project_libs/project/models.py\u001b[0m in \u001b[0;36mpredict\u001b[0;34m(self, mtype, priors, first_and_second_case_cov_type)\u001b[0m\n\u001b[1;32m    188\u001b[0m             \u001b[0;32mfor\u001b[0m \u001b[0mn_class\u001b[0m \u001b[0;32min\u001b[0m \u001b[0mself\u001b[0m\u001b[0;34m.\u001b[0m\u001b[0munique_classes\u001b[0m\u001b[0;34m:\u001b[0m\u001b[0;34m\u001b[0m\u001b[0;34m\u001b[0m\u001b[0m\n\u001b[1;32m    189\u001b[0m                 \u001b[0;31m# Calculate g for each class and append to a list\u001b[0m\u001b[0;34m\u001b[0m\u001b[0;34m\u001b[0m\u001b[0;34m\u001b[0m\u001b[0m\n\u001b[0;32m--> 190\u001b[0;31m                 \u001b[0mg\u001b[0m\u001b[0;34m[\u001b[0m\u001b[0mn_class\u001b[0m\u001b[0;34m]\u001b[0m \u001b[0;34m=\u001b[0m \u001b[0mbuild_g\u001b[0m\u001b[0;34m(\u001b[0m\u001b[0msample\u001b[0m\u001b[0;34m=\u001b[0m\u001b[0msample\u001b[0m\u001b[0;34m,\u001b[0m \u001b[0mn_class\u001b[0m\u001b[0;34m=\u001b[0m\u001b[0mn_class\u001b[0m\u001b[0;34m,\u001b[0m \u001b[0mpriors\u001b[0m\u001b[0;34m=\u001b[0m\u001b[0mpriors\u001b[0m\u001b[0;34m)\u001b[0m\u001b[0;34m\u001b[0m\u001b[0;34m\u001b[0m\u001b[0m\n\u001b[0m\u001b[1;32m    191\u001b[0m             \u001b[0m_predicted_y\u001b[0m\u001b[0;34m.\u001b[0m\u001b[0mappend\u001b[0m\u001b[0;34m(\u001b[0m\u001b[0mg\u001b[0m\u001b[0;34m.\u001b[0m\u001b[0margmax\u001b[0m\u001b[0;34m(\u001b[0m\u001b[0;34m)\u001b[0m\u001b[0;34m)\u001b[0m\u001b[0;34m\u001b[0m\u001b[0;34m\u001b[0m\u001b[0m\n\u001b[1;32m    192\u001b[0m         \u001b[0mself\u001b[0m\u001b[0;34m.\u001b[0m\u001b[0mpredicted_y\u001b[0m\u001b[0;34m[\u001b[0m\u001b[0mmtype\u001b[0m\u001b[0;34m]\u001b[0m \u001b[0;34m=\u001b[0m \u001b[0mnp\u001b[0m\u001b[0;34m.\u001b[0m\u001b[0marray\u001b[0m\u001b[0;34m(\u001b[0m\u001b[0m_predicted_y\u001b[0m\u001b[0;34m)\u001b[0m\u001b[0;34m\u001b[0m\u001b[0;34m\u001b[0m\u001b[0m\n",
      "\u001b[0;32m~/Insync/delfinas7kostas@gmail.com/Google Drive/Projects/UTK/accident-severity-detection-prediction/project_libs/project/models.py\u001b[0m in \u001b[0;36m_build_g_quadratic\u001b[0;34m(self, sample, n_class, priors)\u001b[0m\n\u001b[1;32m    151\u001b[0m         \u001b[0;32mexcept\u001b[0m \u001b[0mException\u001b[0m \u001b[0;32mas\u001b[0m \u001b[0me\u001b[0m\u001b[0;34m:\u001b[0m\u001b[0;34m\u001b[0m\u001b[0;34m\u001b[0m\u001b[0m\n\u001b[1;32m    152\u001b[0m             \u001b[0mlogger\u001b[0m\u001b[0;34m.\u001b[0m\u001b[0mdebug\u001b[0m\u001b[0;34m(\u001b[0m\u001b[0;34mf\"{e}\"\u001b[0m\u001b[0;34m)\u001b[0m\u001b[0;34m\u001b[0m\u001b[0;34m\u001b[0m\u001b[0m\n\u001b[0;32m--> 153\u001b[0;31m             \u001b[0msecond_term\u001b[0m \u001b[0;34m=\u001b[0m \u001b[0;34m-\u001b[0m\u001b[0;34m(\u001b[0m\u001b[0;36m1\u001b[0m \u001b[0;34m/\u001b[0m \u001b[0;36m2\u001b[0m\u001b[0;34m)\u001b[0m \u001b[0;34m*\u001b[0m \u001b[0mnp\u001b[0m\u001b[0;34m.\u001b[0m\u001b[0mlog\u001b[0m\u001b[0;34m(\u001b[0m\u001b[0mcurrent_covs\u001b[0m\u001b[0;34m)\u001b[0m\u001b[0;34m\u001b[0m\u001b[0;34m\u001b[0m\u001b[0m\n\u001b[0m\u001b[1;32m    154\u001b[0m         \u001b[0mthird_term\u001b[0m \u001b[0;34m=\u001b[0m \u001b[0mnp\u001b[0m\u001b[0;34m.\u001b[0m\u001b[0mlog\u001b[0m\u001b[0;34m(\u001b[0m\u001b[0mpriors\u001b[0m\u001b[0;34m[\u001b[0m\u001b[0mn_class\u001b[0m\u001b[0;34m]\u001b[0m\u001b[0;34m)\u001b[0m\u001b[0;34m\u001b[0m\u001b[0;34m\u001b[0m\u001b[0m\n\u001b[1;32m    155\u001b[0m         \u001b[0mg\u001b[0m \u001b[0;34m=\u001b[0m \u001b[0mfirst_term\u001b[0m \u001b[0;34m+\u001b[0m \u001b[0msecond_term\u001b[0m \u001b[0;34m+\u001b[0m \u001b[0mthird_term\u001b[0m\u001b[0;34m\u001b[0m\u001b[0;34m\u001b[0m\u001b[0m\n",
      "\u001b[0;31mFloatingPointError\u001b[0m: divide by zero encountered in log"
     ]
    }
   ],
   "source": [
    "# Construct Hyperparameters\n",
    "create_priors = lambda priors: (priors/priors.sum()).tolist()\n",
    "priors_list = [create_priors(np.random.uniform(0, 1, num_classes)) for _ in range(100)]\n",
    "cases = (\"euclidean\", \n",
    "         \"mahalanobis\", \"quadratic\")\n",
    "data = (#(\"PCA val dataset\", X_val_PCA_TVT_np, y_val_np),\n",
    "        (\"non-PCA val dataset\", X_val_np, y_val_np),)\n",
    "# Find optimal hyperapameters\n",
    "results_1 = {}\n",
    "results_2 = {}\n",
    "results_3 = {}\n",
    "for data_name, x_data, y_data in data:\n",
    "    # Create model\n",
    "    bayesian_case = models.BayesianCase(train_x=x_data, train_y=y_data, \n",
    "                                        test_x=x_data, test_y=y_data)\n",
    "    bayesian_case.fit()\n",
    "    priors_iter = tqdm(list(enumerate(priors_list)))\n",
    "    for ind, priors in priors_iter:\n",
    "        for i_case, case in enumerate(cases):\n",
    "            print_name = f\"{data_name} - priors({priors[0]:.4f} , {priors[1]:.4f}) - {case}\"\n",
    "            priors_iter.set_description(print_name)\n",
    "            bayesian_case.predict(mtype=case, priors=priors)\n",
    "            accuracy, classwise_accuracy, prediction_time = bayesian_case.get_statistics(case)\n",
    "            tp, fn, fp, tn = bayesian_case.get_confusion_matrix(case)\n",
    "            if i_case == 0:\n",
    "                results_1[print_name] = (accuracy, classwise_accuracy, prediction_time, tp, fn, fp, tn)\n",
    "            elif i_case == 1:\n",
    "                results_2[print_name] = (accuracy, classwise_accuracy, prediction_time, tp, fn, fp, tn)\n",
    "            elif i_case == 2:\n",
    "                results_3[print_name] = (accuracy, classwise_accuracy, prediction_time, tp, fn, fp, tn)\n",
    "\n",
    "print(f\"Tested {len(data)*len(priors_list)*len(cases)} hyperparameters.\")"
   ]
  },
  {
   "cell_type": "code",
   "execution_count": null,
   "metadata": {
    "ExecuteTime": {
     "end_time": "2021-12-03T00:06:33.326598Z",
     "start_time": "2021-12-03T00:06:33.285426Z"
    },
    "code_folding": [
     0,
     5,
     10
    ],
    "executionInfo": {
     "elapsed": 6,
     "status": "aborted",
     "timestamp": 1638499851953,
     "user": {
      "displayName": "Russ Limber",
      "photoUrl": "https://lh3.googleusercontent.com/a-/AOh14GjVCA_-hfKaFHpjY_rEdi0DyGLz9edk8UTTu5Dm=s64",
      "userId": "08747094657326517311"
     },
     "user_tz": 300
    },
    "hidden": true,
    "id": "klSUuhCN-qiW",
    "scrolled": true
   },
   "outputs": [],
   "source": [
    "for ind, data in enumerate(sorted(results_1.items(), key=lambda items: items[1][0], reverse=True)[:3]):\n",
    "    print(f\"Case 1 - Top {ind+1}: {data[0]}\")\n",
    "    print(f\"    Accuracy: {data[1][0]:.4f}, \\\n",
    "          Classwise Accs: ({data[1][1][0]:.4f} , {data[1][1][1]:.4f})\")\n",
    "    print()\n",
    "for ind, data in enumerate(sorted(results_2.items(), key=lambda items: items[1][0], reverse=True)[:3]):\n",
    "    print(f\"Case 2 - Top {ind+1}: {data[0]}\")\n",
    "    print(f\"    Accuracy: {data[1][0]:.4f}, \\\n",
    "          Classwise Accs: ({data[1][1][0]:.4f} , {data[1][1][1]:.4f})\")\n",
    "    print()\n",
    "for ind, data in enumerate(sorted(results_3.items(), key=lambda items: items[1][0], reverse=True)[:3]):\n",
    "    print(f\"Case 3 - Top {ind+1}: {data[0]}\")\n",
    "    print(f\"    Accuracy: {data[1][0]:.4f}, \\\n",
    "          Classwise Accs: ({data[1][1][0]:.4f} , {data[1][1][1]:.4f})\")\n",
    "    print()\n",
    "\n",
    "_res = \\\n",
    "\"\"\"\n",
    "Case 1 - Top 1: PCA val dataset - priors(0.9848 , 0.0152) - euclidean\n",
    "    Accuracy: 0.7768,           Classwise Accs: (0.9739 , 0.1156)\n",
    "\n",
    "Case 1 - Top 2: non-PCA val dataset - priors(0.9848 , 0.0152) - euclidean\n",
    "    Accuracy: 0.7768,           Classwise Accs: (0.9739 , 0.1156)\n",
    "\n",
    "Case 1 - Top 3: PCA val dataset - priors(0.9924 , 0.0076) - euclidean\n",
    "    Accuracy: 0.7754,           Classwise Accs: (0.9832 , 0.0780)\n",
    "\n",
    "Case 2 - Top 1: PCA val dataset - priors(0.7558 , 0.2442) - mahalanobis\n",
    "    Accuracy: 0.8162,           Classwise Accs: (0.9159 , 0.4817)\n",
    "\n",
    "Case 2 - Top 2: non-PCA val dataset - priors(0.7558 , 0.2442) - mahalanobis\n",
    "    Accuracy: 0.8162,           Classwise Accs: (0.9159 , 0.4817)\n",
    "\n",
    "Case 2 - Top 3: PCA val dataset - priors(0.7470 , 0.2530) - mahalanobis\n",
    "    Accuracy: 0.8156,           Classwise Accs: (0.9109 , 0.4961)\n",
    "\n",
    "Case 3 - Top 1: PCA val dataset - priors(0.9924 , 0.0076) - quadratic\n",
    "    Accuracy: 0.8133,           Classwise Accs: (0.9509 , 0.3516)\n",
    "\n",
    "Case 3 - Top 2: non-PCA val dataset - priors(0.9924 , 0.0076) - quadratic\n",
    "    Accuracy: 0.8133,           Classwise Accs: (0.9509 , 0.3516)\n",
    "\n",
    "Case 3 - Top 3: PCA val dataset - priors(0.9910 , 0.0090) - quadratic\n",
    "    Accuracy: 0.8132,           Classwise Accs: (0.9488 , 0.3584)\n",
    "\"\"\""
   ]
  },
  {
   "cell_type": "markdown",
   "metadata": {
    "id": "ST9Pm3vx-qiW"
   },
   "source": [
    "### 4. Tune BPNN"
   ]
  },
  {
   "cell_type": "code",
   "execution_count": 62,
   "metadata": {
    "ExecuteTime": {
     "end_time": "2021-12-03T22:34:17.057043Z",
     "start_time": "2021-12-03T22:34:17.016096Z"
    }
   },
   "outputs": [
    {
     "name": "stderr",
     "output_type": "stream",
     "text": [
      "2021-12-03 17:34:17 Models       INFO     \u001b[1m\u001b[41m\u001b[30mMax recommended number of hidden neurons to use: 2260.5\u001b[0m\n"
     ]
    },
    {
     "name": "stdout",
     "output_type": "stream",
     "text": [
      "757+757+757=2271\n",
      "160+1952+160=2272\n",
      "568+568+568+568=2272\n",
      "288+848+848+288=2272\n"
     ]
    }
   ],
   "source": [
    "# Calculate the max recommended number of neurons using the formula:\n",
    "# https://stats.stackexchange.com/questions/181/how-to-choose-the-number-of-hidden-layers-and-nodes-in-a-feedforward-neural-netw\n",
    "# 𝑁𝑖 = number of input neurons.\n",
    "# 𝑁𝑜 = number of output neurons.\n",
    "# 𝑁𝑠 = number of samples in training data set.\n",
    "# 𝛼 = an arbitrary scaling factor usually 2-10.\n",
    "Ni = int(X_train_PCA_TVT_np.shape[1] - 1)\n",
    "No = int(y_train_onehot_np.shape[1])\n",
    "Ns = X_train_PCA_TVT_np.shape[0]\n",
    "a = 2\n",
    "total_num_neurons = Ns/(a*(Ni+No))\n",
    "logger.info(f\"Max recommended number of hidden neurons to use: {total_num_neurons}\", \n",
    "            color='grey', on_color=\"on_red\")\n",
    "\n",
    "# Different hidden neuron configurations\n",
    "print(f\"{757+757+757=}\")\n",
    "print(f\"{160+1952+160=}\")\n",
    "print(f\"{568+568+568+568=}\")\n",
    "print(f\"{288+848+848+288=}\")"
   ]
  },
  {
   "cell_type": "code",
   "execution_count": null,
   "metadata": {
    "ExecuteTime": {
     "end_time": "2021-12-02T23:45:21.451411Z",
     "start_time": "2021-12-02T23:12:36.682996Z"
    },
    "executionInfo": {
     "elapsed": 6,
     "status": "aborted",
     "timestamp": 1638499851954,
     "user": {
      "displayName": "Russ Limber",
      "photoUrl": "https://lh3.googleusercontent.com/a-/AOh14GjVCA_-hfKaFHpjY_rEdi0DyGLz9edk8UTTu5Dm=s64",
      "userId": "08747094657326517311"
     },
     "user_tz": 300
    },
    "id": "PcaUjnEz-qiW"
   },
   "outputs": [],
   "source": [
    "from itertools import product\n",
    "\n",
    "# Func to create string from list (for creating names)\n",
    "def join_lst(lst): return '-'.join([str(el) for el in lst])\n",
    "\n",
    "# Static Hyperparams\n",
    "loss_functions = ['mse', 'cross_entropy']\n",
    "symmetric_weights = True\n",
    "shuffle = True\n",
    "seed = 3\n",
    "early_stopping = {\"max_accuracy\": 0.99, 'wait': 2}\n",
    "debug = {'epochs': 1, 'batches': 10**10,\n",
    "         'ff': False, 'bp': False, 'w': False, 'metrics': False}\n",
    "mlp_models = {}\n",
    "mlp_accuracies = {}\n",
    "mlp_losses = {}\n",
    "mlp_times = {}\n",
    "# Hyperparams to test\n",
    "b_size_epochs_loops = (\n",
    "    (5, 3),\n",
    "    (50, 10),\n",
    "    (500, 30)\n",
    ")\n",
    "reg_loops = (\n",
    "    0.01,\n",
    "    0.05\n",
    ")\n",
    "mom_loops = (\n",
    "    0.00007,\n",
    "    0.00012,\n",
    "    0.001,\n",
    "    0.01\n",
    ")\n",
    "lr_loops = (\n",
    "    0.1,\n",
    "    0.5,\n",
    ")\n",
    "lay_act_loops = (\n",
    "    ([756, 756, 756], [\"sigmoid\", \"sigmoid\", \"sigmoid\", \"sigmoid\"]),\n",
    "    ([128, 2048, 128], [\"sigmoid\", \"sigmoid\", \"sigmoid\", \"sigmoid\"]),\n",
    "    ([576, 576, 576, 576], [\"sigmoid\", \"sigmoid\", \"sigmoid\", \"sigmoid\", \"sigmoid\"]),\n",
    "    ([128, 704, 704, 128], [\"sigmoid\", \"sigmoid\", \"sigmoid\", \"sigmoid\", \"sigmoid\"]),\n",
    ")\n",
    "# Create product of all combinations of the hyperparameters\n",
    "params = list(product(lay_act_loops, lr_loops,\n",
    "              mom_loops, reg_loops, b_size_epochs_loops))\n",
    "logger.info(f\"Number of Hyperparamater combinations to test: {len(params)}\")\n",
    "# Train on validation set and save results\n",
    "for ind, (lay_act, lr, mom, reg, b_size_epochs) in enumerate(params):\n",
    "    logger.nl(3)\n",
    "    logger.info(f\"Hyperparam combination {ind+1}/{len(params)}\")\n",
    "    lay, act = lay_act\n",
    "    b_size, max_epochs = b_size_epochs\n",
    "    name = f\"lay.{join_lst(lay)}__act.{join_lst(act)}__lr.{lr}__b.{b_size}__mom.{mom}__reg.{reg}\"\n",
    "    mlp_models[name], mlp_accuracies[name], mlp_losses[name], mlp_times[name] = \\\n",
    "        models.train_dataset(name, X_val_PCA_TVT_np.copy(), y_val_onehot_np.copy(), lay, act,\n",
    "                             loss_functions, lr, mom, b_size, early_stopping,\n",
    "                             max_epochs, reg, shuffle, symmetric_weights, seed, debug)"
   ]
  },
  {
   "cell_type": "code",
   "execution_count": null,
   "metadata": {},
   "outputs": [],
   "source": [
    "mlp_models[name], mlp_accuracies[name], mlp_losses[name], mlp_times[name]"
   ]
  },
  {
   "cell_type": "markdown",
   "metadata": {
    "heading_collapsed": true,
    "id": "XdSmBRjsAu4q"
   },
   "source": [
    "### 5a. Tune Logistic Regression\n",
    "#### SKLearn Version"
   ]
  },
  {
   "cell_type": "code",
   "execution_count": 51,
   "metadata": {
    "colab": {
     "base_uri": "https://localhost:8080/",
     "height": 398
    },
    "executionInfo": {
     "elapsed": 8923,
     "status": "error",
     "timestamp": 1638502290370,
     "user": {
      "displayName": "Russ Limber",
      "photoUrl": "https://lh3.googleusercontent.com/a-/AOh14GjVCA_-hfKaFHpjY_rEdi0DyGLz9edk8UTTu5Dm=s64",
      "userId": "08747094657326517311"
     },
     "user_tz": 300
    },
    "hidden": true,
    "id": "RXgPsEs5A1er",
    "outputId": "0dd3bba8-f907-4e13-e911-8e5f5716e73b"
   },
   "outputs": [
    {
     "name": "stdout",
     "output_type": "stream",
     "text": [
      "Fitting 5 folds for each of 75 candidates, totalling 375 fits\n",
      "Best parameters out of 375 fits:  \n",
      "\n",
      " {'solver': 'lbfgs', 'penalty': 'none', 'fit_intercept': True, 'dual': False} Cross validation took:  73.88020300865173 ms\n"
     ]
    }
   ],
   "source": [
    "# This creates a random grid of the most common parameters to test against.\n",
    "\n",
    "random_grid = {'penalty': ['l1', 'l2', 'elasticnet', 'none'],\n",
    "               'dual': [True, False],\n",
    "               'fit_intercept': [True, False],\n",
    "               'solver': ['newton-cg', 'lbfgs', 'liblinear', 'sag', 'saga'],\n",
    "               }\n",
    "\n",
    "\n",
    "start_LR_tune = time()\n",
    "\n",
    "LR_skl = LogisticRegression(max_iter=500)\n",
    "LR_random = RandomizedSearchCV(estimator = LR_skl,\n",
    "                               param_distributions = random_grid, \n",
    "                               n_iter = 75, cv = 5, \n",
    "                               verbose=2, random_state=44, \n",
    "                               n_jobs = -1)\n",
    "\n",
    "# I combined the training and validation data because the RandomizedSearchCV\n",
    "# uses cross validation to determine optimal parameters. \n",
    "\n",
    "LR_random.fit(pd.concat([X_train_PCA.iloc[:,0:-1], X_val_PCA.iloc[:,0:-1]]), \n",
    "              pd.concat([y_train, y_val]))\n",
    "\n",
    "stop_LR_tune = time()\n",
    "\n",
    "# Many of the parameter combination won't work but that is expected:\n",
    "\n",
    "print('Best parameters out of 375 fits: ', '\\n\\n', LR_random.best_params_,\n",
    "      'Cross validation took: ', stop_LR_tune - start_LR_tune, 'ms')"
   ]
  },
  {
   "cell_type": "markdown",
   "metadata": {
    "heading_collapsed": true,
    "id": "6NWR5gd_B93a"
   },
   "source": [
    "### 5b. Tune Logistic Regression\n",
    "#### Scratch Version"
   ]
  },
  {
   "cell_type": "code",
   "execution_count": 109,
   "metadata": {
    "colab": {
     "base_uri": "https://localhost:8080/"
    },
    "executionInfo": {
     "elapsed": 31571,
     "status": "ok",
     "timestamp": 1638502567804,
     "user": {
      "displayName": "Russ Limber",
      "photoUrl": "https://lh3.googleusercontent.com/a-/AOh14GjVCA_-hfKaFHpjY_rEdi0DyGLz9edk8UTTu5Dm=s64",
      "userId": "08747094657326517311"
     },
     "user_tz": 300
    },
    "hidden": true,
    "id": "Czj1gG6gB8Oy",
    "outputId": "e8a9d76d-2be5-4f66-fff9-b9d1b53faf9c"
   },
   "outputs": [
    {
     "name": "stdout",
     "output_type": "stream",
     "text": [
      "The optimal threshold and learning rate:  [0.15, 0.1] \n",
      " The highest F1 Score:  0.5590778097982709 Tuning Logistic Regression Scratch took:  139.34579253196716 s\n"
     ]
    }
   ],
   "source": [
    "warnings.filterwarnings('ignore')\n",
    "# The warning are because exp() is blowing up but since\n",
    "# we're dividing by exp() it becomes ~0 which is what we want\n",
    "\n",
    "thresh = np.linspace(0.05, 0.95, 10)\n",
    "Lrate = np.linspace(0.05, 0.5, 10)\n",
    "results, params = [], []\n",
    "\n",
    "start_LR_scratch_tune = time()\n",
    "\n",
    "for th in thresh:\n",
    "    for lr in Lrate:\n",
    "        LR_model = Log_Reg(learning_rate=lr, iters=500)\n",
    "        LR_model.fit(X_train_PCA.iloc[:,0:-1], y_train)\n",
    "        preds = LR_model.predict(X_val_PCA.iloc[:,0:-1], threshold=th)\n",
    "        LR_model.F1_score_func(y_val, preds)\n",
    "        results.append(LR_model.F1_Score)\n",
    "        params.append([th, lr])\n",
    "\n",
    "stop_LR_scratch_tune = time()\n",
    "time_LR_scratch_tune = stop_LR_scratch_tune - start_LR_scratch_tune\n",
    "\n",
    "opt_n = results.index(max(results))\n",
    "print('The optimal threshold and learning rate: ', params[opt_n],\n",
    "      '\\n', 'The highest F1 Score: ',\n",
    "      results[opt_n], 'Tuning Logistic Regression Scratch took: ', time_LR_scratch_tune, 's')\n",
    "\n",
    "opt_params = params[opt_n]"
   ]
  },
  {
   "cell_type": "markdown",
   "metadata": {
    "id": "ftG2GlOD_R45"
   },
   "source": [
    "## Training"
   ]
  },
  {
   "cell_type": "markdown",
   "metadata": {
    "heading_collapsed": true,
    "id": "QvJwSDWV-qiW"
   },
   "source": [
    "### 1. Train KMeans"
   ]
  },
  {
   "cell_type": "code",
   "execution_count": null,
   "metadata": {
    "ExecuteTime": {
     "end_time": "2021-12-02T03:04:25.035692Z",
     "start_time": "2021-12-02T03:04:25.035684Z"
    },
    "executionInfo": {
     "elapsed": 2031,
     "status": "aborted",
     "timestamp": 1638499851955,
     "user": {
      "displayName": "Russ Limber",
      "photoUrl": "https://lh3.googleusercontent.com/a-/AOh14GjVCA_-hfKaFHpjY_rEdi0DyGLz9edk8UTTu5Dm=s64",
      "userId": "08747094657326517311"
     },
     "user_tz": 300
    },
    "hidden": true,
    "id": "DbiMCPxv_R45"
   },
   "outputs": [],
   "source": [
    "start_time = time()\n",
    "km = models.kmeans(X_train_PCA_TVT, dist='cosine')\n",
    "km.fit()\n",
    "train_time = time() - start_time\n",
    "\n",
    "\n",
    "print(\"======================================\")\n",
    "print(f\"\\033[1m1. Kmeans Train Results \\033[0m\")\n",
    "print(\"======================================\")\n",
    "print(f\"Training size {X_train_PCA_TVT.shape[0]}\")\n",
    "print(f\"Kmeans training time {train_time} secs\")\n",
    "y_pred = km.predict(X_train_PCA_TVT, y_train)\n",
    "models.kmeans.classification_report(y_train, y_pred)\n",
    "\n",
    "print(\" \")\n",
    "print(\"======================================\")\n",
    "print(f\"\\033[1m2. Kmeans Validation Results \\033[0m\")\n",
    "print(\"======================================\")\n",
    "print(f\"Validation size {X_val_PCA_TVT.shape[0]}\")\n",
    "y_pred = km.predict(X_val_PCA_TVT, y_val)\n",
    "models.kmeans.classification_report(y_val, y_pred)\n",
    "km.plot_membership_switches()"
   ]
  },
  {
   "cell_type": "markdown",
   "metadata": {
    "heading_collapsed": true,
    "id": "4e7XVFjU_R45"
   },
   "source": [
    "### 2. Train SVM"
   ]
  },
  {
   "cell_type": "code",
   "execution_count": null,
   "metadata": {
    "ExecuteTime": {
     "end_time": "2021-12-02T03:04:25.036427Z",
     "start_time": "2021-12-02T03:04:25.036419Z"
    },
    "executionInfo": {
     "elapsed": 2029,
     "status": "aborted",
     "timestamp": 1638499851955,
     "user": {
      "displayName": "Russ Limber",
      "photoUrl": "https://lh3.googleusercontent.com/a-/AOh14GjVCA_-hfKaFHpjY_rEdi0DyGLz9edk8UTTu5Dm=s64",
      "userId": "08747094657326517311"
     },
     "user_tz": 300
    },
    "hidden": true,
    "id": "nm9ugRFW-qiX"
   },
   "outputs": [],
   "source": [
    "start_time = time()\n",
    "clf = models.SVC(C=1000, kernel='rbf', gamma=0.001)\n",
    "clf.fit(X_train_PCA_TVT, y_train)\n",
    "train_time = time() - start_time\n",
    "\n",
    "print(\"======================================\")\n",
    "print(f\"\\033[1m1. SVM Train Results \\033[0m\")\n",
    "print(\"======================================\")\n",
    "print(f\"Training size {X_train_PCA_TVT.shape[0]}\")\n",
    "print(f\"SVM training time {train_time} secs\")\n",
    "y_pred = clf.predict(X_train_PCA_TVT)\n",
    "models.kmeans.classification_report(y_train, y_pred)\n",
    "\n",
    "print(\" \")\n",
    "print(\"======================================\")\n",
    "print(f\"\\033[1m2. SVM Validation Results \\033[0m\")\n",
    "print(\"======================================\")\n",
    "y_pred = clf.predict(X_val_PCA_TVT)\n",
    "models.kmeans.classification_report(y_val, y_pred)"
   ]
  },
  {
   "cell_type": "markdown",
   "metadata": {
    "hidden": true,
    "id": "QPTzgSbI-qiX"
   },
   "source": [
    " ### 3. Train Bayesian"
   ]
  },
  {
   "cell_type": "code",
   "execution_count": null,
   "metadata": {
    "ExecuteTime": {
     "end_time": "2021-12-03T01:10:26.821686Z",
     "start_time": "2021-12-03T01:10:26.764122Z"
    },
    "executionInfo": {
     "elapsed": 2027,
     "status": "aborted",
     "timestamp": 1638499851955,
     "user": {
      "displayName": "Russ Limber",
      "photoUrl": "https://lh3.googleusercontent.com/a-/AOh14GjVCA_-hfKaFHpjY_rEdi0DyGLz9edk8UTTu5Dm=s64",
      "userId": "08747094657326517311"
     },
     "user_tz": 300
    },
    "hidden": true,
    "id": "iyJhuy8T-qiX"
   },
   "outputs": [],
   "source": [
    "# Set parameters\n",
    "bayesian_case_tr = models.BayesianCase(train_x=X_train_PCA_TVT_np, train_y=y_train_np, \n",
    "                                        test_x=X_test_PCA_TVT_np, test_y=y_test_np)\n",
    "bayesian_case_tr.fit()"
   ]
  },
  {
   "cell_type": "markdown",
   "metadata": {},
   "source": [
    "### 5a. Train Logistic Regression \n",
    "##### SKLearn Version"
   ]
  },
  {
   "cell_type": "code",
   "execution_count": 70,
   "metadata": {},
   "outputs": [],
   "source": [
    "start_train_LR = time()\n",
    "LR_skl = LogisticRegression(max_iter=500, dual = False, fit_intercept = True, \n",
    "              penalty = 'none', solver = 'lbfgs')\n",
    "\n",
    "LR_skl.fit(X_train_PCA.iloc[:,0:-1], y_train)\n",
    "stop_train_LR = time()\n",
    "\n",
    "train_time_LR_skl = stop_train_LR - start_train_LR"
   ]
  },
  {
   "cell_type": "markdown",
   "metadata": {},
   "source": [
    "### 5b. Train Logistic Regression \n",
    "##### Scratch Version"
   ]
  },
  {
   "cell_type": "code",
   "execution_count": 110,
   "metadata": {
    "scrolled": true
   },
   "outputs": [
    {
     "name": "stdout",
     "output_type": "stream",
     "text": [
      "The optimal bias:  0.25879289515779547 \n",
      "\n",
      " The optimal weights:  [-8.82322788e+00 -1.69637941e+01  4.49523369e-01 -3.51379640e+00\n",
      "  2.93322391e+00 -8.17122630e-01 -9.17814143e-01 -2.18827731e+00\n",
      "  1.07171325e+00 -4.12223640e+00 -8.55086336e-01  4.93982728e+00\n",
      "  1.68368898e-01  1.11355954e+00  2.29519713e+00  9.61520292e-04] \n",
      "\n",
      " Training Log Reg Scratch took:  0.8028581142425537 s\n"
     ]
    }
   ],
   "source": [
    "start_train_LR_scratch = time()\n",
    "\n",
    "LR_scratch = Log_Reg(learning_rate=opt_params[1], iters=500) #opt_params[1]\n",
    "LR_scratch.fit(X_train_PCA, y_train)\n",
    "\n",
    "stop_train_LR_scratch = time()\n",
    "\n",
    "time_train_LR_scratch = stop_train_LR_scratch - start_train_LR_scratch\n",
    "\n",
    "print('The optimal bias: ', LR_scratch.bias, '\\n\\n', 'The optimal weights: ', LR_scratch.weights,\n",
    "     '\\n\\n', 'Training Log Reg Scratch took: ', time_train_LR_scratch, 's')"
   ]
  },
  {
   "cell_type": "markdown",
   "metadata": {
    "id": "rvKmuDdz_R45"
   },
   "source": [
    "## Testing"
   ]
  },
  {
   "cell_type": "markdown",
   "metadata": {
    "heading_collapsed": true,
    "id": "6o4JiRvk_R46"
   },
   "source": [
    "### 1. Test KMeans"
   ]
  },
  {
   "cell_type": "code",
   "execution_count": null,
   "metadata": {
    "ExecuteTime": {
     "end_time": "2021-12-02T03:04:25.037346Z",
     "start_time": "2021-12-02T03:04:25.037337Z"
    },
    "executionInfo": {
     "elapsed": 2026,
     "status": "aborted",
     "timestamp": 1638499851955,
     "user": {
      "displayName": "Russ Limber",
      "photoUrl": "https://lh3.googleusercontent.com/a-/AOh14GjVCA_-hfKaFHpjY_rEdi0DyGLz9edk8UTTu5Dm=s64",
      "userId": "08747094657326517311"
     },
     "user_tz": 300
    },
    "hidden": true,
    "id": "Gq_xEG2k_R46"
   },
   "outputs": [],
   "source": [
    "# Prepare Test Data\n",
    "X_test_PCA_TVT = X_test_PCA.loc[:, X_test_PCA.columns!='PCA_15'].copy()\n",
    "X_test_PCA_TVT.reset_index(drop=True)\n",
    "X_test_PCA_TVT = X_test_PCA_TVT.to_numpy()\n",
    "\n",
    "print(\"======================================\")\n",
    "print(f\"\\033[1m1. Kmeans Test Results \\033[0m\")\n",
    "print(\"======================================\")\n",
    "start_time = time()\n",
    "y_pred = km.predict(X_test_PCA_TVT, y_test)\n",
    "test_time = time() - start_time\n",
    "print(f\"Test data size {X_test_PCA_TVT.shape[0]}\")\n",
    "print(f\"Kmeans prediction time {test_time} secs\")\n",
    "models.kmeans.classification_report(y_test, y_pred)\n",
    "\n",
    "print(\"\")\n",
    "## Compare results from SKLearn's Kmeans\n",
    "print(\"======================================\")\n",
    "print(f\"\\033[1m2. Sklearn Kmeans Test Results \\033[0m\")\n",
    "print(\"======================================\")\n",
    "sk_km = models.KMeans(n_clusters=2, random_state=0).fit(X_train_PCA_TVT)\n",
    "y_pred = sk_km.predict(X_test_PCA_TVT)\n",
    "models.kmeans.classification_report(y_test, y_pred)"
   ]
  },
  {
   "cell_type": "markdown",
   "metadata": {
    "heading_collapsed": true,
    "id": "LoD2zfUv-qiX"
   },
   "source": [
    "### 2. Test SVM"
   ]
  },
  {
   "cell_type": "code",
   "execution_count": null,
   "metadata": {
    "ExecuteTime": {
     "end_time": "2021-12-02T03:04:25.038298Z",
     "start_time": "2021-12-02T03:04:25.038288Z"
    },
    "executionInfo": {
     "elapsed": 2025,
     "status": "aborted",
     "timestamp": 1638499851956,
     "user": {
      "displayName": "Russ Limber",
      "photoUrl": "https://lh3.googleusercontent.com/a-/AOh14GjVCA_-hfKaFHpjY_rEdi0DyGLz9edk8UTTu5Dm=s64",
      "userId": "08747094657326517311"
     },
     "user_tz": 300
    },
    "hidden": true,
    "id": "_K7TCtvp-qiX"
   },
   "outputs": [],
   "source": [
    "print(\"======================================\")\n",
    "print(f\"\\033[1mSVM Test Results \\033[0m\")\n",
    "print(\"======================================\")\n",
    "start_time = time()\n",
    "y_pred = clf.predict(X_test_PCA_TVT)\n",
    "test_time = time() - start_time\n",
    "print(f\"Test data size {X_test_PCA_TVT.shape[0]}\")\n",
    "print(f\"SVM prediction time {test_time} secs\")\n",
    "models.kmeans.classification_report(y_test, y_pred)"
   ]
  },
  {
   "cell_type": "markdown",
   "metadata": {
    "id": "fqRrjWZp-qiX"
   },
   "source": [
    "### 3. Test Bayesian"
   ]
  },
  {
   "cell_type": "code",
   "execution_count": null,
   "metadata": {
    "ExecuteTime": {
     "end_time": "2021-12-03T01:12:45.445973Z",
     "start_time": "2021-12-03T01:12:40.933838Z"
    },
    "executionInfo": {
     "elapsed": 2024,
     "status": "aborted",
     "timestamp": 1638499851956,
     "user": {
      "displayName": "Russ Limber",
      "photoUrl": "https://lh3.googleusercontent.com/a-/AOh14GjVCA_-hfKaFHpjY_rEdi0DyGLz9edk8UTTu5Dm=s64",
      "userId": "08747094657326517311"
     },
     "user_tz": 300
    },
    "id": "KTNpAQ5d-qiX"
   },
   "outputs": [],
   "source": [
    "### -- Case 1 -- ###\n",
    "bay_case = 'euclidean'\n",
    "bay_priors = (0.9848 , 0.0152)\n",
    "bayesian_case_tr.predict(mtype=bay_case, priors=bay_priors)\n",
    "# Retrieve statisics\n",
    "accuracy, classwise_accuracy, prediction_time = bayesian_case_tr.get_statistics(bay_case)\n",
    "tp, fn, fp, tn = bayesian_case_tr.get_confusion_matrix(bay_case)\n",
    "bay_results = (accuracy, classwise_accuracy, prediction_time, tp, fn, fp, tn)\n",
    "bayesian_case_tr.print_statistics(name=\"Case 1\", mtype=bay_case)\n",
    "### -- Case 2 -- ###\n",
    "bay_case = 'mahalanobis'\n",
    "bay_priors = (0.7558 , 0.2442)\n",
    "bayesian_case_tr.predict(mtype=bay_case, priors=bay_priors)\n",
    "# Retrieve statisics\n",
    "accuracy, classwise_accuracy, prediction_time = bayesian_case_tr.get_statistics(bay_case)\n",
    "tp, fn, fp, tn = bayesian_case_tr.get_confusion_matrix(bay_case)\n",
    "bay_results = (accuracy, classwise_accuracy, prediction_time, tp, fn, fp, tn)\n",
    "bayesian_case_tr.print_statistics(name=\"Case 2\", mtype=bay_case)\n",
    "### -- Case 3 -- ###\n",
    "bay_case = 'quadratic'\n",
    "bay_priors = (0.9924 , 0.0076)\n",
    "bayesian_case_tr.predict(mtype=bay_case, priors=bay_priors)\n",
    "# Retrieve statisics\n",
    "accuracy, classwise_accuracy, prediction_time = bayesian_case_tr.get_statistics(bay_case)\n",
    "tp, fn, fp, tn = bayesian_case_tr.get_confusion_matrix(bay_case)\n",
    "bay_results = (accuracy, classwise_accuracy, prediction_time, tp, fn, fp, tn)\n",
    "bayesian_case_tr.print_statistics(name=\"Case 3\", mtype=bay_case)\n"
   ]
  },
  {
   "cell_type": "markdown",
   "metadata": {},
   "source": [
    "### 5a. Test Logistic Regression\n",
    "#### SKLearn Version"
   ]
  },
  {
   "cell_type": "code",
   "execution_count": 87,
   "metadata": {},
   "outputs": [
    {
     "name": "stdout",
     "output_type": "stream",
     "text": [
      "accuracy:  0.8076965608758155 precision:  0.6487676056338029 sensitivity:  0.3548387096774194 specificity:  0.9427217915590008 f1_score:  0.45876128229069413\n"
     ]
    }
   ],
   "source": [
    "start_test_LR_skl = time()\n",
    "preds_LR_skl = LR_skl.predict(X_test_PCA.iloc[:,0:-1])\n",
    "stop_test_LR_skl = time()\n",
    "\n",
    "time_test_LR_skl = stop_test_LR_skl - start_test_LR_skl\n",
    "cm_LR_sk = confusion_matrix(y_test, preds_LR_skl)\n",
    "\n",
    "models.evaluate_cm(cm_LR_sk, 'PRINT')            "
   ]
  },
  {
   "cell_type": "markdown",
   "metadata": {},
   "source": [
    "### 5b. Test Logistic Regression \n",
    "##### Scratch Version"
   ]
  },
  {
   "cell_type": "code",
   "execution_count": 111,
   "metadata": {},
   "outputs": [
    {
     "name": "stdout",
     "output_type": "stream",
     "text": [
      "accuracy:  0.7708471577084716 precision:  0.545 sensitivity:  0.013123043582952083 specificity:  0.9967339028066902 f1_score:  0.025628967787444154\n"
     ]
    }
   ],
   "source": [
    "start_LR_test_scratch = time()\n",
    "\n",
    "preds_LR_scratch = LR_scratch.predict(X_train_PCA, threshold=params[opt_n][0]) #params[opt_n][0]\n",
    "\n",
    "stop_LR_test_scratch = time()\n",
    "\n",
    "time_LR_test_scratch = stop_LR_test_scratch - start_LR_test_scratch\n",
    "\n",
    "cm_LR_scratch = confusion_matrix(y_train, preds_LR_scratch)\n",
    "models.evaluate_cm(cm_LR_scratch, 'PRINT')            "
   ]
  },
  {
   "cell_type": "markdown",
   "metadata": {
    "heading_collapsed": true,
    "id": "JEE1AbzV_R46"
   },
   "source": [
    "## Evaluation"
   ]
  },
  {
   "cell_type": "markdown",
   "metadata": {
    "executionInfo": {
     "elapsed": 2022,
     "status": "aborted",
     "timestamp": 1638499851956,
     "user": {
      "displayName": "Russ Limber",
      "photoUrl": "https://lh3.googleusercontent.com/a-/AOh14GjVCA_-hfKaFHpjY_rEdi0DyGLz9edk8UTTu5Dm=s64",
      "userId": "08747094657326517311"
     },
     "user_tz": 300
    },
    "hidden": true,
    "id": "3Ke-n6PF_R46"
   },
   "source": [
    "### 5a. Evaluate Logistic Regression\n",
    "#### SKLearn Version"
   ]
  },
  {
   "cell_type": "code",
   "execution_count": null,
   "metadata": {
    "hidden": true
   },
   "outputs": [],
   "source": []
  },
  {
   "cell_type": "markdown",
   "metadata": {
    "hidden": true
   },
   "source": [
    "### 5b. Evaluate Logistic Regression \n",
    "##### Scratch Version"
   ]
  },
  {
   "cell_type": "code",
   "execution_count": null,
   "metadata": {
    "executionInfo": {
     "elapsed": 2021,
     "status": "aborted",
     "timestamp": 1638499851956,
     "user": {
      "displayName": "Russ Limber",
      "photoUrl": "https://lh3.googleusercontent.com/a-/AOh14GjVCA_-hfKaFHpjY_rEdi0DyGLz9edk8UTTu5Dm=s64",
      "userId": "08747094657326517311"
     },
     "user_tz": 300
    },
    "hidden": true,
    "id": "sO3j0tXh_R46"
   },
   "outputs": [],
   "source": []
  },
  {
   "cell_type": "markdown",
   "metadata": {
    "id": "GESxdsoM_R47"
   },
   "source": [
    "## Plots"
   ]
  },
  {
   "cell_type": "code",
   "execution_count": null,
   "metadata": {
    "executionInfo": {
     "elapsed": 2019,
     "status": "aborted",
     "timestamp": 1638499851956,
     "user": {
      "displayName": "Russ Limber",
      "photoUrl": "https://lh3.googleusercontent.com/a-/AOh14GjVCA_-hfKaFHpjY_rEdi0DyGLz9edk8UTTu5Dm=s64",
      "userId": "08747094657326517311"
     },
     "user_tz": 300
    },
    "id": "u0puX5EV_R47"
   },
   "outputs": [],
   "source": [
    "from project_libs.project import plotter as pl"
   ]
  },
  {
   "cell_type": "code",
   "execution_count": null,
   "metadata": {
    "executionInfo": {
     "elapsed": 2018,
     "status": "aborted",
     "timestamp": 1638499851956,
     "user": {
      "displayName": "Russ Limber",
      "photoUrl": "https://lh3.googleusercontent.com/a-/AOh14GjVCA_-hfKaFHpjY_rEdi0DyGLz9edk8UTTu5Dm=s64",
      "userId": "08747094657326517311"
     },
     "user_tz": 300
    },
    "id": "wbJIRBHY_R47"
   },
   "outputs": [],
   "source": []
  }
 ],
 "metadata": {
  "colab": {
   "collapsed_sections": [
    "aKazCmez_R4v"
   ],
   "name": "main.ipynb",
   "provenance": []
  },
  "kernelspec": {
   "display_name": "Python 3 (ipykernel)",
   "language": "python",
   "name": "python3"
  },
  "language_info": {
   "codemirror_mode": {
    "name": "ipython",
    "version": 3
   },
   "file_extension": ".py",
   "mimetype": "text/x-python",
   "name": "python",
   "nbconvert_exporter": "python",
   "pygments_lexer": "ipython3",
   "version": "3.8.12"
  },
  "notify_time": "30",
  "toc": {
   "base_numbering": 1,
   "nav_menu": {},
   "number_sections": true,
   "sideBar": true,
   "skip_h1_title": false,
   "title_cell": "Table of Contents",
   "title_sidebar": "Contents",
   "toc_cell": false,
   "toc_position": {},
   "toc_section_display": true,
   "toc_window_display": false
  },
  "widgets": {
   "application/vnd.jupyter.widget-state+json": {
    "1c5e99e236464452adb2a0555f829db5": {
     "model_module": "@jupyter-widgets/controls",
     "model_module_version": "1.5.0",
     "model_name": "ButtonStyleModel",
     "state": {
      "_model_module": "@jupyter-widgets/controls",
      "_model_module_version": "1.5.0",
      "_model_name": "ButtonStyleModel",
      "_view_count": null,
      "_view_module": "@jupyter-widgets/base",
      "_view_module_version": "1.2.0",
      "_view_name": "StyleView",
      "button_color": null,
      "font_weight": ""
     }
    },
    "2d65dc170c354e63a69dddb0ccc326e1": {
     "model_module": "@jupyter-widgets/controls",
     "model_module_version": "1.5.0",
     "model_name": "ButtonModel",
     "state": {
      "_dom_classes": [],
      "_model_module": "@jupyter-widgets/controls",
      "_model_module_version": "1.5.0",
      "_model_name": "ButtonModel",
      "_view_count": null,
      "_view_module": "@jupyter-widgets/controls",
      "_view_module_version": "1.5.0",
      "_view_name": "ButtonView",
      "button_style": "",
      "description": "Yes, clone",
      "disabled": false,
      "icon": "",
      "layout": "IPY_MODEL_4fbda268200f4476a9e5d0dd3368e6c1",
      "style": "IPY_MODEL_1c5e99e236464452adb2a0555f829db5",
      "tooltip": ""
     }
    },
    "4fbda268200f4476a9e5d0dd3368e6c1": {
     "model_module": "@jupyter-widgets/base",
     "model_module_version": "1.2.0",
     "model_name": "LayoutModel",
     "state": {
      "_model_module": "@jupyter-widgets/base",
      "_model_module_version": "1.2.0",
      "_model_name": "LayoutModel",
      "_view_count": null,
      "_view_module": "@jupyter-widgets/base",
      "_view_module_version": "1.2.0",
      "_view_name": "LayoutView",
      "align_content": null,
      "align_items": null,
      "align_self": null,
      "border": null,
      "bottom": null,
      "display": null,
      "flex": null,
      "flex_flow": null,
      "grid_area": null,
      "grid_auto_columns": null,
      "grid_auto_flow": null,
      "grid_auto_rows": null,
      "grid_column": null,
      "grid_gap": null,
      "grid_row": null,
      "grid_template_areas": null,
      "grid_template_columns": null,
      "grid_template_rows": null,
      "height": null,
      "justify_content": null,
      "justify_items": null,
      "left": null,
      "margin": null,
      "max_height": null,
      "max_width": null,
      "min_height": null,
      "min_width": null,
      "object_fit": null,
      "object_position": null,
      "order": null,
      "overflow": null,
      "overflow_x": null,
      "overflow_y": null,
      "padding": null,
      "right": null,
      "top": null,
      "visibility": null,
      "width": null
     }
    },
    "66a2b845980941c6bf4c86ba43d33cbf": {
     "model_module": "@jupyter-widgets/controls",
     "model_module_version": "1.5.0",
     "model_name": "ButtonModel",
     "state": {
      "_dom_classes": [],
      "_model_module": "@jupyter-widgets/controls",
      "_model_module_version": "1.5.0",
      "_model_name": "ButtonModel",
      "_view_count": null,
      "_view_module": "@jupyter-widgets/controls",
      "_view_module_version": "1.5.0",
      "_view_name": "ButtonView",
      "button_style": "",
      "description": "Yes",
      "disabled": false,
      "icon": "",
      "layout": "IPY_MODEL_c384c66bb2d24776a1d9768867388e7b",
      "style": "IPY_MODEL_b9bfd14bf0b240c49a54aa4261aa0c5a",
      "tooltip": ""
     }
    },
    "b9bfd14bf0b240c49a54aa4261aa0c5a": {
     "model_module": "@jupyter-widgets/controls",
     "model_module_version": "1.5.0",
     "model_name": "ButtonStyleModel",
     "state": {
      "_model_module": "@jupyter-widgets/controls",
      "_model_module_version": "1.5.0",
      "_model_name": "ButtonStyleModel",
      "_view_count": null,
      "_view_module": "@jupyter-widgets/base",
      "_view_module_version": "1.2.0",
      "_view_name": "StyleView",
      "button_color": null,
      "font_weight": ""
     }
    },
    "c384c66bb2d24776a1d9768867388e7b": {
     "model_module": "@jupyter-widgets/base",
     "model_module_version": "1.2.0",
     "model_name": "LayoutModel",
     "state": {
      "_model_module": "@jupyter-widgets/base",
      "_model_module_version": "1.2.0",
      "_model_name": "LayoutModel",
      "_view_count": null,
      "_view_module": "@jupyter-widgets/base",
      "_view_module_version": "1.2.0",
      "_view_name": "LayoutView",
      "align_content": null,
      "align_items": null,
      "align_self": null,
      "border": null,
      "bottom": null,
      "display": null,
      "flex": null,
      "flex_flow": null,
      "grid_area": null,
      "grid_auto_columns": null,
      "grid_auto_flow": null,
      "grid_auto_rows": null,
      "grid_column": null,
      "grid_gap": null,
      "grid_row": null,
      "grid_template_areas": null,
      "grid_template_columns": null,
      "grid_template_rows": null,
      "height": null,
      "justify_content": null,
      "justify_items": null,
      "left": null,
      "margin": null,
      "max_height": null,
      "max_width": null,
      "min_height": null,
      "min_width": null,
      "object_fit": null,
      "object_position": null,
      "order": null,
      "overflow": null,
      "overflow_x": null,
      "overflow_y": null,
      "padding": null,
      "right": null,
      "top": null,
      "visibility": null,
      "width": null
     }
    }
   }
  }
 },
 "nbformat": 4,
 "nbformat_minor": 1
}
